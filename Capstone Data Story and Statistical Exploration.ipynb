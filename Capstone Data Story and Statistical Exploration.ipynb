{
 "cells": [
  {
   "cell_type": "code",
   "execution_count": 3,
   "metadata": {
    "collapsed": true
   },
   "outputs": [],
   "source": [
    "df = pd.read_csv('final.csv',header=0,index_col=0).copy()\n",
    "# see a little story\n",
    "# basically throw out some comments about what is happening\n",
    "# potentially use the dataset before the dummy variables for the data visualization\n"
   ]
  },
  {
   "cell_type": "code",
   "execution_count": 15,
   "metadata": {},
   "outputs": [
    {
     "data": {
      "text/html": [
       "<div>\n",
       "<style>\n",
       "    .dataframe thead tr:only-child th {\n",
       "        text-align: right;\n",
       "    }\n",
       "\n",
       "    .dataframe thead th {\n",
       "        text-align: left;\n",
       "    }\n",
       "\n",
       "    .dataframe tbody tr th {\n",
       "        vertical-align: top;\n",
       "    }\n",
       "</style>\n",
       "<table border=\"1\" class=\"dataframe\">\n",
       "  <thead>\n",
       "    <tr style=\"text-align: right;\">\n",
       "      <th></th>\n",
       "      <th>call</th>\n",
       "      <th>call_connect</th>\n",
       "      <th>email</th>\n",
       "      <th>marketing_email</th>\n",
       "      <th>site_visit</th>\n",
       "      <th>is_won</th>\n",
       "      <th>region_Africa</th>\n",
       "      <th>region_Australia</th>\n",
       "      <th>region_Australia/New Zealand</th>\n",
       "      <th>region_Belgium</th>\n",
       "      <th>...</th>\n",
       "      <th>region_US (West Coast &amp; Southwest)</th>\n",
       "      <th>region_United Kingdom</th>\n",
       "      <th>region_Western Europe (France and Germany)</th>\n",
       "      <th>tier_1</th>\n",
       "      <th>tier_2</th>\n",
       "      <th>tier_3</th>\n",
       "      <th>tier_4</th>\n",
       "      <th>tier_5</th>\n",
       "      <th>has_inbound</th>\n",
       "      <th>has_outbound</th>\n",
       "    </tr>\n",
       "  </thead>\n",
       "  <tbody>\n",
       "    <tr>\n",
       "      <th>001C000000nUgF7IAK006C0000013XgDcIAK</th>\n",
       "      <td>1.0</td>\n",
       "      <td>0.0</td>\n",
       "      <td>0.0</td>\n",
       "      <td>3.0</td>\n",
       "      <td>0.0</td>\n",
       "      <td>False</td>\n",
       "      <td>0</td>\n",
       "      <td>0</td>\n",
       "      <td>0</td>\n",
       "      <td>0</td>\n",
       "      <td>...</td>\n",
       "      <td>0</td>\n",
       "      <td>0</td>\n",
       "      <td>0</td>\n",
       "      <td>0</td>\n",
       "      <td>0</td>\n",
       "      <td>0</td>\n",
       "      <td>1</td>\n",
       "      <td>0</td>\n",
       "      <td>0</td>\n",
       "      <td>1</td>\n",
       "    </tr>\n",
       "    <tr>\n",
       "      <th>001C000000nUgF7IAK006C0000014LxSPIA0</th>\n",
       "      <td>6.0</td>\n",
       "      <td>0.0</td>\n",
       "      <td>11.0</td>\n",
       "      <td>3.0</td>\n",
       "      <td>0.0</td>\n",
       "      <td>True</td>\n",
       "      <td>0</td>\n",
       "      <td>0</td>\n",
       "      <td>0</td>\n",
       "      <td>0</td>\n",
       "      <td>...</td>\n",
       "      <td>0</td>\n",
       "      <td>0</td>\n",
       "      <td>0</td>\n",
       "      <td>0</td>\n",
       "      <td>0</td>\n",
       "      <td>0</td>\n",
       "      <td>1</td>\n",
       "      <td>0</td>\n",
       "      <td>0</td>\n",
       "      <td>1</td>\n",
       "    </tr>\n",
       "    <tr>\n",
       "      <th>001C000000nUgF8IAK006C00000175waIIAQ</th>\n",
       "      <td>3.0</td>\n",
       "      <td>1.0</td>\n",
       "      <td>0.0</td>\n",
       "      <td>9.0</td>\n",
       "      <td>0.0</td>\n",
       "      <td>False</td>\n",
       "      <td>0</td>\n",
       "      <td>0</td>\n",
       "      <td>0</td>\n",
       "      <td>0</td>\n",
       "      <td>...</td>\n",
       "      <td>0</td>\n",
       "      <td>0</td>\n",
       "      <td>0</td>\n",
       "      <td>0</td>\n",
       "      <td>0</td>\n",
       "      <td>1</td>\n",
       "      <td>0</td>\n",
       "      <td>0</td>\n",
       "      <td>0</td>\n",
       "      <td>1</td>\n",
       "    </tr>\n",
       "    <tr>\n",
       "      <th>001C000000nUgFAIA0006C000000ssBTQIA2</th>\n",
       "      <td>0.0</td>\n",
       "      <td>0.0</td>\n",
       "      <td>1.0</td>\n",
       "      <td>0.0</td>\n",
       "      <td>0.0</td>\n",
       "      <td>True</td>\n",
       "      <td>0</td>\n",
       "      <td>0</td>\n",
       "      <td>0</td>\n",
       "      <td>0</td>\n",
       "      <td>...</td>\n",
       "      <td>0</td>\n",
       "      <td>0</td>\n",
       "      <td>0</td>\n",
       "      <td>0</td>\n",
       "      <td>0</td>\n",
       "      <td>1</td>\n",
       "      <td>0</td>\n",
       "      <td>0</td>\n",
       "      <td>0</td>\n",
       "      <td>1</td>\n",
       "    </tr>\n",
       "    <tr>\n",
       "      <th>001C000000nUgFBIA0006C0000011BPgIIAW</th>\n",
       "      <td>0.0</td>\n",
       "      <td>0.0</td>\n",
       "      <td>4.0</td>\n",
       "      <td>0.0</td>\n",
       "      <td>0.0</td>\n",
       "      <td>False</td>\n",
       "      <td>0</td>\n",
       "      <td>0</td>\n",
       "      <td>0</td>\n",
       "      <td>0</td>\n",
       "      <td>...</td>\n",
       "      <td>0</td>\n",
       "      <td>0</td>\n",
       "      <td>0</td>\n",
       "      <td>0</td>\n",
       "      <td>0</td>\n",
       "      <td>1</td>\n",
       "      <td>0</td>\n",
       "      <td>0</td>\n",
       "      <td>0</td>\n",
       "      <td>1</td>\n",
       "    </tr>\n",
       "  </tbody>\n",
       "</table>\n",
       "<p>5 rows × 52 columns</p>\n",
       "</div>"
      ],
      "text/plain": [
       "                                      call  call_connect  email  \\\n",
       "001C000000nUgF7IAK006C0000013XgDcIAK   1.0           0.0    0.0   \n",
       "001C000000nUgF7IAK006C0000014LxSPIA0   6.0           0.0   11.0   \n",
       "001C000000nUgF8IAK006C00000175waIIAQ   3.0           1.0    0.0   \n",
       "001C000000nUgFAIA0006C000000ssBTQIA2   0.0           0.0    1.0   \n",
       "001C000000nUgFBIA0006C0000011BPgIIAW   0.0           0.0    4.0   \n",
       "\n",
       "                                      marketing_email  site_visit  is_won  \\\n",
       "001C000000nUgF7IAK006C0000013XgDcIAK              3.0         0.0   False   \n",
       "001C000000nUgF7IAK006C0000014LxSPIA0              3.0         0.0    True   \n",
       "001C000000nUgF8IAK006C00000175waIIAQ              9.0         0.0   False   \n",
       "001C000000nUgFAIA0006C000000ssBTQIA2              0.0         0.0    True   \n",
       "001C000000nUgFBIA0006C0000011BPgIIAW              0.0         0.0   False   \n",
       "\n",
       "                                      region_Africa  region_Australia  \\\n",
       "001C000000nUgF7IAK006C0000013XgDcIAK              0                 0   \n",
       "001C000000nUgF7IAK006C0000014LxSPIA0              0                 0   \n",
       "001C000000nUgF8IAK006C00000175waIIAQ              0                 0   \n",
       "001C000000nUgFAIA0006C000000ssBTQIA2              0                 0   \n",
       "001C000000nUgFBIA0006C0000011BPgIIAW              0                 0   \n",
       "\n",
       "                                      region_Australia/New Zealand  \\\n",
       "001C000000nUgF7IAK006C0000013XgDcIAK                             0   \n",
       "001C000000nUgF7IAK006C0000014LxSPIA0                             0   \n",
       "001C000000nUgF8IAK006C00000175waIIAQ                             0   \n",
       "001C000000nUgFAIA0006C000000ssBTQIA2                             0   \n",
       "001C000000nUgFBIA0006C0000011BPgIIAW                             0   \n",
       "\n",
       "                                      region_Belgium      ...       \\\n",
       "001C000000nUgF7IAK006C0000013XgDcIAK               0      ...        \n",
       "001C000000nUgF7IAK006C0000014LxSPIA0               0      ...        \n",
       "001C000000nUgF8IAK006C00000175waIIAQ               0      ...        \n",
       "001C000000nUgFAIA0006C000000ssBTQIA2               0      ...        \n",
       "001C000000nUgFBIA0006C0000011BPgIIAW               0      ...        \n",
       "\n",
       "                                      region_US (West Coast & Southwest)  \\\n",
       "001C000000nUgF7IAK006C0000013XgDcIAK                                   0   \n",
       "001C000000nUgF7IAK006C0000014LxSPIA0                                   0   \n",
       "001C000000nUgF8IAK006C00000175waIIAQ                                   0   \n",
       "001C000000nUgFAIA0006C000000ssBTQIA2                                   0   \n",
       "001C000000nUgFBIA0006C0000011BPgIIAW                                   0   \n",
       "\n",
       "                                      region_United Kingdom  \\\n",
       "001C000000nUgF7IAK006C0000013XgDcIAK                      0   \n",
       "001C000000nUgF7IAK006C0000014LxSPIA0                      0   \n",
       "001C000000nUgF8IAK006C00000175waIIAQ                      0   \n",
       "001C000000nUgFAIA0006C000000ssBTQIA2                      0   \n",
       "001C000000nUgFBIA0006C0000011BPgIIAW                      0   \n",
       "\n",
       "                                      region_Western Europe (France and Germany)  \\\n",
       "001C000000nUgF7IAK006C0000013XgDcIAK                                           0   \n",
       "001C000000nUgF7IAK006C0000014LxSPIA0                                           0   \n",
       "001C000000nUgF8IAK006C00000175waIIAQ                                           0   \n",
       "001C000000nUgFAIA0006C000000ssBTQIA2                                           0   \n",
       "001C000000nUgFBIA0006C0000011BPgIIAW                                           0   \n",
       "\n",
       "                                      tier_1  tier_2  tier_3  tier_4  tier_5  \\\n",
       "001C000000nUgF7IAK006C0000013XgDcIAK       0       0       0       1       0   \n",
       "001C000000nUgF7IAK006C0000014LxSPIA0       0       0       0       1       0   \n",
       "001C000000nUgF8IAK006C00000175waIIAQ       0       0       1       0       0   \n",
       "001C000000nUgFAIA0006C000000ssBTQIA2       0       0       1       0       0   \n",
       "001C000000nUgFBIA0006C0000011BPgIIAW       0       0       1       0       0   \n",
       "\n",
       "                                      has_inbound  has_outbound  \n",
       "001C000000nUgF7IAK006C0000013XgDcIAK            0             1  \n",
       "001C000000nUgF7IAK006C0000014LxSPIA0            0             1  \n",
       "001C000000nUgF8IAK006C00000175waIIAQ            0             1  \n",
       "001C000000nUgFAIA0006C000000ssBTQIA2            0             1  \n",
       "001C000000nUgFBIA0006C0000011BPgIIAW            0             1  \n",
       "\n",
       "[5 rows x 52 columns]"
      ]
     },
     "execution_count": 15,
     "metadata": {},
     "output_type": "execute_result"
    }
   ],
   "source": [
    "df.head()"
   ]
  },
  {
   "cell_type": "markdown",
   "metadata": {},
   "source": [
    "What buckets make the most sense for calls, emails, marketing, and site visits?"
   ]
  },
  {
   "cell_type": "code",
   "execution_count": 16,
   "metadata": {
    "scrolled": true
   },
   "outputs": [
    {
     "data": {
      "text/plain": [
       "<matplotlib.axes._subplots.AxesSubplot at 0x10b3e3128>"
      ]
     },
     "execution_count": 16,
     "metadata": {},
     "output_type": "execute_result"
    },
    {
     "data": {
      "image/png": "[encoded data removed]",
      "text/plain": [
       "<matplotlib.figure.Figure at 0x10b0c7550>"
      ]
     },
     "metadata": {},
     "output_type": "display_data"
    }
   ],
   "source": [
    "df['call'].hist()"
   ]
  },
  {
   "cell_type": "code",
   "execution_count": 20,
   "metadata": {},
   "outputs": [
    {
     "data": {
      "text/html": [
       "<div>\n",
       "<style>\n",
       "    .dataframe thead tr:only-child th {\n",
       "        text-align: right;\n",
       "    }\n",
       "\n",
       "    .dataframe thead th {\n",
       "        text-align: left;\n",
       "    }\n",
       "\n",
       "    .dataframe tbody tr th {\n",
       "        vertical-align: top;\n",
       "    }\n",
       "</style>\n",
       "<table border=\"1\" class=\"dataframe\">\n",
       "  <thead>\n",
       "    <tr style=\"text-align: right;\">\n",
       "      <th></th>\n",
       "      <th>mean</th>\n",
       "      <th>size</th>\n",
       "    </tr>\n",
       "    <tr>\n",
       "      <th>call</th>\n",
       "      <th></th>\n",
       "      <th></th>\n",
       "    </tr>\n",
       "  </thead>\n",
       "  <tbody>\n",
       "    <tr>\n",
       "      <th>(-0.012, 2.4]</th>\n",
       "      <td>0.229749</td>\n",
       "      <td>7012</td>\n",
       "    </tr>\n",
       "    <tr>\n",
       "      <th>(2.4, 4.8]</th>\n",
       "      <td>0.226721</td>\n",
       "      <td>741</td>\n",
       "    </tr>\n",
       "    <tr>\n",
       "      <th>(4.8, 7.2]</th>\n",
       "      <td>0.214286</td>\n",
       "      <td>308</td>\n",
       "    </tr>\n",
       "    <tr>\n",
       "      <th>(7.2, 9.6]</th>\n",
       "      <td>0.200000</td>\n",
       "      <td>80</td>\n",
       "    </tr>\n",
       "    <tr>\n",
       "      <th>(9.6, 12.0]</th>\n",
       "      <td>0.181818</td>\n",
       "      <td>33</td>\n",
       "    </tr>\n",
       "  </tbody>\n",
       "</table>\n",
       "</div>"
      ],
      "text/plain": [
       "                   mean  size\n",
       "call                         \n",
       "(-0.012, 2.4]  0.229749  7012\n",
       "(2.4, 4.8]     0.226721   741\n",
       "(4.8, 7.2]     0.214286   308\n",
       "(7.2, 9.6]     0.200000    80\n",
       "(9.6, 12.0]    0.181818    33"
      ]
     },
     "execution_count": 20,
     "metadata": {},
     "output_type": "execute_result"
    }
   ],
   "source": [
    "df1 = df[df.call <= 12].copy()\n",
    "pd.DataFrame(df1.groupby(pd.cut(df1.call,bins=5)).is_won.agg(['mean','size']))"
   ]
  },
  {
   "cell_type": "code",
   "execution_count": 5,
   "metadata": {},
   "outputs": [
    {
     "data": {
      "text/html": [
       "<div>\n",
       "<style>\n",
       "    .dataframe thead tr:only-child th {\n",
       "        text-align: right;\n",
       "    }\n",
       "\n",
       "    .dataframe thead th {\n",
       "        text-align: left;\n",
       "    }\n",
       "\n",
       "    .dataframe tbody tr th {\n",
       "        vertical-align: top;\n",
       "    }\n",
       "</style>\n",
       "<table border=\"1\" class=\"dataframe\">\n",
       "  <thead>\n",
       "    <tr style=\"text-align: right;\">\n",
       "      <th></th>\n",
       "      <th>mean</th>\n",
       "      <th>size</th>\n",
       "    </tr>\n",
       "    <tr>\n",
       "      <th>call</th>\n",
       "      <th></th>\n",
       "      <th></th>\n",
       "    </tr>\n",
       "  </thead>\n",
       "  <tbody>\n",
       "    <tr>\n",
       "      <th>(-0.012, 2.4]</th>\n",
       "      <td>0.285922</td>\n",
       "      <td>3445</td>\n",
       "    </tr>\n",
       "    <tr>\n",
       "      <th>(2.4, 4.8]</th>\n",
       "      <td>0.291971</td>\n",
       "      <td>274</td>\n",
       "    </tr>\n",
       "    <tr>\n",
       "      <th>(4.8, 7.2]</th>\n",
       "      <td>0.323944</td>\n",
       "      <td>71</td>\n",
       "    </tr>\n",
       "    <tr>\n",
       "      <th>(7.2, 9.6]</th>\n",
       "      <td>0.117647</td>\n",
       "      <td>17</td>\n",
       "    </tr>\n",
       "    <tr>\n",
       "      <th>(9.6, 12.0]</th>\n",
       "      <td>0.200000</td>\n",
       "      <td>5</td>\n",
       "    </tr>\n",
       "  </tbody>\n",
       "</table>\n",
       "</div>"
      ],
      "text/plain": [
       "                   mean  size\n",
       "call                         \n",
       "(-0.012, 2.4]  0.285922  3445\n",
       "(2.4, 4.8]     0.291971   274\n",
       "(4.8, 7.2]     0.323944    71\n",
       "(7.2, 9.6]     0.117647    17\n",
       "(9.6, 12.0]    0.200000     5"
      ]
     },
     "execution_count": 5,
     "metadata": {},
     "output_type": "execute_result"
    }
   ],
   "source": [
    "inbound = df1[df1['has_inbound'] == 1].copy()\n",
    "pd.DataFrame(inbound.groupby(pd.cut(inbound.call,bins=5)).is_won.agg(['mean','size']))"
   ]
  },
  {
   "cell_type": "code",
   "execution_count": 6,
   "metadata": {},
   "outputs": [
    {
     "data": {
      "text/plain": [
       "(-0.001, 1.0]    6258\n",
       "(1.0, 2.0]        754\n",
       "(3.0, 21.0]       706\n",
       "(2.0, 3.0]        477\n",
       "Name: call, dtype: int64"
      ]
     },
     "execution_count": 6,
     "metadata": {},
     "output_type": "execute_result"
    }
   ],
   "source": [
    "pd.qcut(df.call,10,duplicates='drop').value_counts()"
   ]
  },
  {
   "cell_type": "code",
   "execution_count": 7,
   "metadata": {},
   "outputs": [
    {
     "data": {
      "text/plain": [
       "<matplotlib.axes._subplots.AxesSubplot at 0x10b079470>"
      ]
     },
     "execution_count": 7,
     "metadata": {},
     "output_type": "execute_result"
    },
    {
     "data": {
      "image/png": "[encoded data removed]",
      "text/plain": [
       "<matplotlib.figure.Figure at 0x10b0462e8>"
      ]
     },
     "metadata": {},
     "output_type": "display_data"
    }
   ],
   "source": [
    "df['email'].hist()"
   ]
  },
  {
   "cell_type": "code",
   "execution_count": 8,
   "metadata": {},
   "outputs": [
    {
     "data": {
      "text/html": [
       "<div>\n",
       "<style>\n",
       "    .dataframe thead tr:only-child th {\n",
       "        text-align: right;\n",
       "    }\n",
       "\n",
       "    .dataframe thead th {\n",
       "        text-align: left;\n",
       "    }\n",
       "\n",
       "    .dataframe tbody tr th {\n",
       "        vertical-align: top;\n",
       "    }\n",
       "</style>\n",
       "<table border=\"1\" class=\"dataframe\">\n",
       "  <thead>\n",
       "    <tr style=\"text-align: right;\">\n",
       "      <th></th>\n",
       "      <th>mean</th>\n",
       "      <th>size</th>\n",
       "    </tr>\n",
       "    <tr>\n",
       "      <th>email</th>\n",
       "      <th></th>\n",
       "      <th></th>\n",
       "    </tr>\n",
       "  </thead>\n",
       "  <tbody>\n",
       "    <tr>\n",
       "      <th>(-0.016, 2.0]</th>\n",
       "      <td>0.188060</td>\n",
       "      <td>5360</td>\n",
       "    </tr>\n",
       "    <tr>\n",
       "      <th>(2.0, 4.0]</th>\n",
       "      <td>0.270214</td>\n",
       "      <td>1447</td>\n",
       "    </tr>\n",
       "    <tr>\n",
       "      <th>(4.0, 6.0]</th>\n",
       "      <td>0.273361</td>\n",
       "      <td>717</td>\n",
       "    </tr>\n",
       "    <tr>\n",
       "      <th>(6.0, 8.0]</th>\n",
       "      <td>0.362460</td>\n",
       "      <td>309</td>\n",
       "    </tr>\n",
       "    <tr>\n",
       "      <th>(8.0, 10.0]</th>\n",
       "      <td>0.391304</td>\n",
       "      <td>161</td>\n",
       "    </tr>\n",
       "    <tr>\n",
       "      <th>(10.0, 12.0]</th>\n",
       "      <td>0.409639</td>\n",
       "      <td>83</td>\n",
       "    </tr>\n",
       "    <tr>\n",
       "      <th>(12.0, 14.0]</th>\n",
       "      <td>0.595238</td>\n",
       "      <td>42</td>\n",
       "    </tr>\n",
       "    <tr>\n",
       "      <th>(14.0, 16.0]</th>\n",
       "      <td>0.518519</td>\n",
       "      <td>27</td>\n",
       "    </tr>\n",
       "  </tbody>\n",
       "</table>\n",
       "</div>"
      ],
      "text/plain": [
       "                   mean  size\n",
       "email                        \n",
       "(-0.016, 2.0]  0.188060  5360\n",
       "(2.0, 4.0]     0.270214  1447\n",
       "(4.0, 6.0]     0.273361   717\n",
       "(6.0, 8.0]     0.362460   309\n",
       "(8.0, 10.0]    0.391304   161\n",
       "(10.0, 12.0]   0.409639    83\n",
       "(12.0, 14.0]   0.595238    42\n",
       "(14.0, 16.0]   0.518519    27"
      ]
     },
     "execution_count": 8,
     "metadata": {},
     "output_type": "execute_result"
    }
   ],
   "source": [
    "df2 = df[df.email <= 16].copy()\n",
    "pd.DataFrame(df2.groupby(pd.cut(df2.email,bins=8)).is_won.agg(['mean','size']))"
   ]
  },
  {
   "cell_type": "code",
   "execution_count": null,
   "metadata": {
    "collapsed": true
   },
   "outputs": [],
   "source": []
  },
  {
   "cell_type": "code",
   "execution_count": 9,
   "metadata": {},
   "outputs": [
    {
     "data": {
      "text/plain": [
       "<matplotlib.axes._subplots.AxesSubplot at 0x10b241be0>"
      ]
     },
     "execution_count": 9,
     "metadata": {},
     "output_type": "execute_result"
    },
    {
     "data": {
      "image/png": "[encoded data removed]",
      "text/plain": [
       "<matplotlib.figure.Figure at 0x10b403f98>"
      ]
     },
     "metadata": {},
     "output_type": "display_data"
    }
   ],
   "source": [
    "df['marketing_email'].hist()"
   ]
  },
  {
   "cell_type": "code",
   "execution_count": 10,
   "metadata": {},
   "outputs": [
    {
     "data": {
      "text/html": [
       "<div>\n",
       "<style>\n",
       "    .dataframe thead tr:only-child th {\n",
       "        text-align: right;\n",
       "    }\n",
       "\n",
       "    .dataframe thead th {\n",
       "        text-align: left;\n",
       "    }\n",
       "\n",
       "    .dataframe tbody tr th {\n",
       "        vertical-align: top;\n",
       "    }\n",
       "</style>\n",
       "<table border=\"1\" class=\"dataframe\">\n",
       "  <thead>\n",
       "    <tr style=\"text-align: right;\">\n",
       "      <th></th>\n",
       "      <th>mean</th>\n",
       "      <th>size</th>\n",
       "    </tr>\n",
       "    <tr>\n",
       "      <th>marketing_email</th>\n",
       "      <th></th>\n",
       "      <th></th>\n",
       "    </tr>\n",
       "  </thead>\n",
       "  <tbody>\n",
       "    <tr>\n",
       "      <th>(-0.05, 6.25]</th>\n",
       "      <td>0.236314</td>\n",
       "      <td>6284</td>\n",
       "    </tr>\n",
       "    <tr>\n",
       "      <th>(6.25, 12.5]</th>\n",
       "      <td>0.207585</td>\n",
       "      <td>1002</td>\n",
       "    </tr>\n",
       "    <tr>\n",
       "      <th>(12.5, 18.75]</th>\n",
       "      <td>0.219626</td>\n",
       "      <td>428</td>\n",
       "    </tr>\n",
       "    <tr>\n",
       "      <th>(18.75, 25.0]</th>\n",
       "      <td>0.163347</td>\n",
       "      <td>251</td>\n",
       "    </tr>\n",
       "    <tr>\n",
       "      <th>(25.0, 31.25]</th>\n",
       "      <td>0.237500</td>\n",
       "      <td>80</td>\n",
       "    </tr>\n",
       "    <tr>\n",
       "      <th>(31.25, 37.5]</th>\n",
       "      <td>0.235294</td>\n",
       "      <td>51</td>\n",
       "    </tr>\n",
       "    <tr>\n",
       "      <th>(37.5, 43.75]</th>\n",
       "      <td>0.083333</td>\n",
       "      <td>24</td>\n",
       "    </tr>\n",
       "    <tr>\n",
       "      <th>(43.75, 50.0]</th>\n",
       "      <td>0.178571</td>\n",
       "      <td>28</td>\n",
       "    </tr>\n",
       "  </tbody>\n",
       "</table>\n",
       "</div>"
      ],
      "text/plain": [
       "                     mean  size\n",
       "marketing_email                \n",
       "(-0.05, 6.25]    0.236314  6284\n",
       "(6.25, 12.5]     0.207585  1002\n",
       "(12.5, 18.75]    0.219626   428\n",
       "(18.75, 25.0]    0.163347   251\n",
       "(25.0, 31.25]    0.237500    80\n",
       "(31.25, 37.5]    0.235294    51\n",
       "(37.5, 43.75]    0.083333    24\n",
       "(43.75, 50.0]    0.178571    28"
      ]
     },
     "execution_count": 10,
     "metadata": {},
     "output_type": "execute_result"
    }
   ],
   "source": [
    "df3 = df[df.marketing_email <= 50].copy()\n",
    "pd.DataFrame(df3.groupby(pd.cut(df3.marketing_email,bins=8)).is_won.agg(['mean','size']))"
   ]
  },
  {
   "cell_type": "code",
   "execution_count": null,
   "metadata": {
    "collapsed": true
   },
   "outputs": [],
   "source": []
  },
  {
   "cell_type": "code",
   "execution_count": 11,
   "metadata": {},
   "outputs": [
    {
     "data": {
      "text/plain": [
       "<matplotlib.axes._subplots.AxesSubplot at 0x10b43ab00>"
      ]
     },
     "execution_count": 11,
     "metadata": {},
     "output_type": "execute_result"
    },
    {
     "data": {
      "image/png": "[encoded data removed]",
      "text/plain": [
       "<matplotlib.figure.Figure at 0x10bd636a0>"
      ]
     },
     "metadata": {},
     "output_type": "display_data"
    }
   ],
   "source": [
    "df['site_visit'].hist()"
   ]
  },
  {
   "cell_type": "code",
   "execution_count": 12,
   "metadata": {},
   "outputs": [
    {
     "data": {
      "text/html": [
       "<div>\n",
       "<style>\n",
       "    .dataframe thead tr:only-child th {\n",
       "        text-align: right;\n",
       "    }\n",
       "\n",
       "    .dataframe thead th {\n",
       "        text-align: left;\n",
       "    }\n",
       "\n",
       "    .dataframe tbody tr th {\n",
       "        vertical-align: top;\n",
       "    }\n",
       "</style>\n",
       "<table border=\"1\" class=\"dataframe\">\n",
       "  <thead>\n",
       "    <tr style=\"text-align: right;\">\n",
       "      <th></th>\n",
       "      <th>is_won</th>\n",
       "    </tr>\n",
       "    <tr>\n",
       "      <th>site_visit</th>\n",
       "      <th></th>\n",
       "    </tr>\n",
       "  </thead>\n",
       "  <tbody>\n",
       "    <tr>\n",
       "      <th>(-0.228, 22.8]</th>\n",
       "      <td>7792</td>\n",
       "    </tr>\n",
       "    <tr>\n",
       "      <th>(22.8, 45.6]</th>\n",
       "      <td>264</td>\n",
       "    </tr>\n",
       "    <tr>\n",
       "      <th>(45.6, 68.4]</th>\n",
       "      <td>70</td>\n",
       "    </tr>\n",
       "    <tr>\n",
       "      <th>(68.4, 91.2]</th>\n",
       "      <td>35</td>\n",
       "    </tr>\n",
       "    <tr>\n",
       "      <th>(91.2, 114.0]</th>\n",
       "      <td>17</td>\n",
       "    </tr>\n",
       "    <tr>\n",
       "      <th>(114.0, 136.8]</th>\n",
       "      <td>1</td>\n",
       "    </tr>\n",
       "    <tr>\n",
       "      <th>(136.8, 159.6]</th>\n",
       "      <td>7</td>\n",
       "    </tr>\n",
       "    <tr>\n",
       "      <th>(159.6, 182.4]</th>\n",
       "      <td>5</td>\n",
       "    </tr>\n",
       "    <tr>\n",
       "      <th>(182.4, 205.2]</th>\n",
       "      <td>1</td>\n",
       "    </tr>\n",
       "    <tr>\n",
       "      <th>(205.2, 228.0]</th>\n",
       "      <td>3</td>\n",
       "    </tr>\n",
       "  </tbody>\n",
       "</table>\n",
       "</div>"
      ],
      "text/plain": [
       "                is_won\n",
       "site_visit            \n",
       "(-0.228, 22.8]    7792\n",
       "(22.8, 45.6]       264\n",
       "(45.6, 68.4]        70\n",
       "(68.4, 91.2]        35\n",
       "(91.2, 114.0]       17\n",
       "(114.0, 136.8]       1\n",
       "(136.8, 159.6]       7\n",
       "(159.6, 182.4]       5\n",
       "(182.4, 205.2]       1\n",
       "(205.2, 228.0]       3"
      ]
     },
     "execution_count": 12,
     "metadata": {},
     "output_type": "execute_result"
    }
   ],
   "source": [
    "pd.DataFrame(df.groupby(pd.cut(df.site_visit,bins=10)).is_won.count())"
   ]
  },
  {
   "cell_type": "code",
   "execution_count": 6,
   "metadata": {},
   "outputs": [
    {
     "data": {
      "text/plain": [
       "<matplotlib.axes._subplots.AxesSubplot at 0x114c80320>"
      ]
     },
     "execution_count": 6,
     "metadata": {},
     "output_type": "execute_result"
    },
    {
     "data": {
      "image/png": "[encoded data removed]",
      "text/plain": [
       "<matplotlib.figure.Figure at 0x1148fdf60>"
      ]
     },
     "metadata": {},
     "output_type": "display_data"
    }
   ],
   "source": [
    "import seaborn as sns\n",
    "# Compute the correlation matrix\n",
    "corr = df.corr()\n",
    "\n",
    "# Generate a mask for the upper triangle\n",
    "mask = np.zeros_like(corr, dtype=np.bool)\n",
    "mask[np.triu_indices_from(mask)] = True\n",
    "\n",
    "# Set up the matplotlib figure\n",
    "f, ax = plt.subplots(figsize=(11, 9))\n",
    "\n",
    "# Generate a custom diverging colormap\n",
    "cmap = sns.diverging_palette(220, 10, as_cmap=True)\n",
    "\n",
    "# Draw the heatmap with the mask and correct aspect ratio\n",
    "sns.heatmap(corr, mask=mask, cmap=cmap, vmax=.3, center=0,\n",
    "            square=True, linewidths=.5, cbar_kws={\"shrink\": .5})"
   ]
  },
  {
   "cell_type": "code",
   "execution_count": null,
   "metadata": {
    "collapsed": true
   },
   "outputs": [],
   "source": []
  },
  {
   "cell_type": "code",
   "execution_count": null,
   "metadata": {
    "collapsed": true
   },
   "outputs": [],
   "source": []
  },
  {
   "cell_type": "code",
   "execution_count": null,
   "metadata": {
    "collapsed": true
   },
   "outputs": [],
   "source": []
  },
  {
   "cell_type": "code",
   "execution_count": null,
   "metadata": {
    "collapsed": true
   },
   "outputs": [],
   "source": []
  },
  {
   "cell_type": "code",
   "execution_count": null,
   "metadata": {
    "collapsed": true
   },
   "outputs": [],
   "source": []
  },
  {
   "cell_type": "code",
   "execution_count": null,
   "metadata": {
    "collapsed": true
   },
   "outputs": [],
   "source": []
  },
  {
   "cell_type": "code",
   "execution_count": null,
   "metadata": {
    "collapsed": true
   },
   "outputs": [],
   "source": []
  },
  {
   "cell_type": "code",
   "execution_count": null,
   "metadata": {
    "collapsed": true
   },
   "outputs": [],
   "source": []
  },
  {
   "cell_type": "code",
   "execution_count": null,
   "metadata": {
    "collapsed": true
   },
   "outputs": [],
   "source": []
  },
  {
   "cell_type": "code",
   "execution_count": null,
   "metadata": {
    "collapsed": true
   },
   "outputs": [],
   "source": []
  }
 ],
 "metadata": {
  "kernelspec": {
   "display_name": "Python 3",
   "language": "python",
   "name": "python3"
  },
  "language_info": {
   "codemirror_mode": {
    "name": "ipython",
    "version": 3
   },
   "file_extension": ".py",
   "mimetype": "text/x-python",
   "name": "python",
   "nbconvert_exporter": "python",
   "pygments_lexer": "ipython3",
   "version": "3.6.3"
  }
 },
 "nbformat": 4,
 "nbformat_minor": 2
}
