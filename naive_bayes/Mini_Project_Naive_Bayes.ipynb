{
 "cells": [
  {
   "cell_type": "markdown",
   "metadata": {},
   "source": [
    "# Basic Text Classification with Naive Bayes\n",
    "***\n",
    "In the mini-project, you'll learn the basics of text analysis using a subset of movie reviews from the rotten tomatoes database. You'll also use a fundamental technique in Bayesian inference, called Naive Bayes. This mini-project is based on [Lab 10 of Harvard's CS109](https://github.com/cs109/2015lab10) class.  Please free to go to the original lab for additional exercises and solutions."
   ]
  },
  {
   "cell_type": "code",
   "execution_count": 2,
<<<<<<< HEAD
   "metadata": {
    "collapsed": true
   },
=======
   "metadata": {},
>>>>>>> 5bbc9b15926c614117c9cc345967bcfd0b7c27c6
   "outputs": [],
   "source": [
    "%matplotlib inline\n",
    "import numpy as np\n",
    "import scipy as sp\n",
    "import matplotlib as mpl\n",
    "import matplotlib.cm as cm\n",
    "import matplotlib.pyplot as plt\n",
    "import pandas as pd\n",
    "import seaborn as sns\n",
    "from six.moves import range\n",
    "\n",
    "# Setup Pandas\n",
    "pd.set_option('display.width', 500)\n",
    "pd.set_option('display.max_columns', 100)\n",
    "pd.set_option('display.notebook_repr_html', True)\n",
    "\n",
    "# Setup Seaborn\n",
    "sns.set_style(\"whitegrid\")\n",
    "sns.set_context(\"poster\")\n",
    "\n",
    "from sklearn.linear_model import LogisticRegression\n",
    "from sklearn.neighbors import KNeighborsClassifier\n",
    "from sklearn.ensemble import RandomForestClassifier\n",
    "from sklearn.preprocessing import MinMaxScaler, StandardScaler, scale\n",
    "from sklearn.model_selection import train_test_split, cross_val_score, GridSearchCV, RandomizedSearchCV\n",
    "from sklearn.metrics import classification_report, confusion_matrix, roc_curve, roc_auc_score\n",
    "from scipy.stats import randint\n",
    "from sklearn.tree import DecisionTreeClassifier\n",
    "from sklearn.pipeline import Pipeline\n",
    "from sklearn.naive_bayes import MultinomialNB\n"
   ]
  },
  {
   "cell_type": "markdown",
   "metadata": {},
   "source": [
    "# Table of Contents\n",
    "\n",
    "* [Rotten Tomatoes Dataset](#Rotten-Tomatoes-Dataset)\n",
    "    * [Explore](#Explore)\n",
    "* [The Vector Space Model and a Search Engine](#The-Vector-Space-Model-and-a-Search-Engine)\n",
    "    * [In Code](#In-Code)\n",
    "* [Naive Bayes](#Naive-Bayes)\n",
    "    * [Multinomial Naive Bayes and Other Likelihood Functions](#Multinomial-Naive-Bayes-and-Other-Likelihood-Functions)\n",
    "    * [Picking Hyperparameters for Naive Bayes and Text Maintenance](#Picking-Hyperparameters-for-Naive-Bayes-and-Text-Maintenance)\n",
    "* [Interpretation](#Interpretation)\n"
   ]
  },
  {
   "cell_type": "markdown",
   "metadata": {},
   "source": [
    "## Rotten Tomatoes Dataset"
   ]
  },
  {
   "cell_type": "code",
   "execution_count": 3,
   "metadata": {},
   "outputs": [
    {
     "data": {
      "text/html": [
       "<div>\n",
<<<<<<< HEAD
       "<style>\n",
       "    .dataframe thead tr:only-child th {\n",
       "        text-align: right;\n",
       "    }\n",
       "\n",
       "    .dataframe thead th {\n",
       "        text-align: left;\n",
=======
       "<style scoped>\n",
       "    .dataframe tbody tr th:only-of-type {\n",
       "        vertical-align: middle;\n",
>>>>>>> 5bbc9b15926c614117c9cc345967bcfd0b7c27c6
       "    }\n",
       "\n",
       "    .dataframe tbody tr th {\n",
       "        vertical-align: top;\n",
       "    }\n",
<<<<<<< HEAD
=======
       "\n",
       "    .dataframe thead th {\n",
       "        text-align: right;\n",
       "    }\n",
>>>>>>> 5bbc9b15926c614117c9cc345967bcfd0b7c27c6
       "</style>\n",
       "<table border=\"1\" class=\"dataframe\">\n",
       "  <thead>\n",
       "    <tr style=\"text-align: right;\">\n",
       "      <th></th>\n",
       "      <th>critic</th>\n",
       "      <th>fresh</th>\n",
       "      <th>imdb</th>\n",
       "      <th>publication</th>\n",
       "      <th>quote</th>\n",
       "      <th>review_date</th>\n",
       "      <th>rtid</th>\n",
       "      <th>title</th>\n",
       "    </tr>\n",
       "  </thead>\n",
       "  <tbody>\n",
       "    <tr>\n",
       "      <th>1</th>\n",
       "      <td>Derek Adams</td>\n",
       "      <td>fresh</td>\n",
       "      <td>114709</td>\n",
       "      <td>Time Out</td>\n",
       "      <td>So ingenious in concept, design and execution ...</td>\n",
       "      <td>2009-10-04</td>\n",
       "      <td>9559</td>\n",
       "      <td>Toy story</td>\n",
       "    </tr>\n",
       "    <tr>\n",
       "      <th>2</th>\n",
       "      <td>Richard Corliss</td>\n",
       "      <td>fresh</td>\n",
       "      <td>114709</td>\n",
       "      <td>TIME Magazine</td>\n",
       "      <td>The year's most inventive comedy.</td>\n",
       "      <td>2008-08-31</td>\n",
       "      <td>9559</td>\n",
       "      <td>Toy story</td>\n",
       "    </tr>\n",
       "    <tr>\n",
       "      <th>3</th>\n",
       "      <td>David Ansen</td>\n",
       "      <td>fresh</td>\n",
       "      <td>114709</td>\n",
       "      <td>Newsweek</td>\n",
       "      <td>A winning animated feature that has something ...</td>\n",
       "      <td>2008-08-18</td>\n",
       "      <td>9559</td>\n",
       "      <td>Toy story</td>\n",
       "    </tr>\n",
       "    <tr>\n",
       "      <th>4</th>\n",
       "      <td>Leonard Klady</td>\n",
       "      <td>fresh</td>\n",
       "      <td>114709</td>\n",
       "      <td>Variety</td>\n",
       "      <td>The film sports a provocative and appealing st...</td>\n",
       "      <td>2008-06-09</td>\n",
       "      <td>9559</td>\n",
       "      <td>Toy story</td>\n",
       "    </tr>\n",
       "    <tr>\n",
       "      <th>5</th>\n",
       "      <td>Jonathan Rosenbaum</td>\n",
       "      <td>fresh</td>\n",
       "      <td>114709</td>\n",
       "      <td>Chicago Reader</td>\n",
       "      <td>An entertaining computer-generated, hyperreali...</td>\n",
       "      <td>2008-03-10</td>\n",
       "      <td>9559</td>\n",
       "      <td>Toy story</td>\n",
       "    </tr>\n",
       "  </tbody>\n",
       "</table>\n",
       "</div>"
      ],
      "text/plain": [
       "               critic  fresh    imdb     publication                                              quote review_date  rtid      title\n",
       "1         Derek Adams  fresh  114709        Time Out  So ingenious in concept, design and execution ...  2009-10-04  9559  Toy story\n",
       "2     Richard Corliss  fresh  114709   TIME Magazine                  The year's most inventive comedy.  2008-08-31  9559  Toy story\n",
       "3         David Ansen  fresh  114709        Newsweek  A winning animated feature that has something ...  2008-08-18  9559  Toy story\n",
       "4       Leonard Klady  fresh  114709         Variety  The film sports a provocative and appealing st...  2008-06-09  9559  Toy story\n",
       "5  Jonathan Rosenbaum  fresh  114709  Chicago Reader  An entertaining computer-generated, hyperreali...  2008-03-10  9559  Toy story"
      ]
     },
     "execution_count": 3,
     "metadata": {},
     "output_type": "execute_result"
    }
   ],
   "source": [
    "critics = pd.read_csv('./critics.csv')\n",
    "#let's drop rows with missing quotes\n",
    "critics = critics[~critics.quote.isnull()]\n",
    "critics.head()"
   ]
  },
  {
   "cell_type": "markdown",
   "metadata": {},
   "source": [
    "### Explore"
   ]
  },
  {
   "cell_type": "code",
   "execution_count": 4,
   "metadata": {},
   "outputs": [
    {
     "name": "stdout",
     "output_type": "stream",
     "text": [
      "Number of reviews: 15561\n",
      "Number of critics: 623\n",
      "Number of movies:  1921\n"
     ]
    }
   ],
   "source": [
    "n_reviews = len(critics)\n",
    "n_movies = critics.rtid.unique().size\n",
    "n_critics = critics.critic.unique().size\n",
    "\n",
    "\n",
    "print(\"Number of reviews: {:d}\".format(n_reviews))\n",
    "print(\"Number of critics: {:d}\".format(n_critics))\n",
    "print(\"Number of movies:  {:d}\".format(n_movies))"
   ]
  },
  {
   "cell_type": "code",
<<<<<<< HEAD
   "execution_count": 5,
=======
   "execution_count": 8,
>>>>>>> 5bbc9b15926c614117c9cc345967bcfd0b7c27c6
   "metadata": {
    "scrolled": true
   },
   "outputs": [
    {
     "data": {
<<<<<<< HEAD
      "image/png": "iVBORw0KGgoAAAANSUhEUgAAAZAAAAEYCAYAAAByXKB5AAAABHNCSVQICAgIfAhkiAAAAAlwSFlz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\nCBERScIAISIiSf4fZyH4K3T+JikAAAAASUVORK5CYII=\n",
      "text/plain": [
       "<matplotlib.figure.Figure at 0x10da2ec50>"
=======
      "image/png": "iVBORw0KGgoAAAANSUhEUgAAAZAAAAEYCAYAAAByXKB5AAAABHNCSVQICAgIfAhkiAAAAAlwSFlzAAALEgAACxIB0t1+/AAAADl0RVh0U29mdHdhcmUAbWF0cGxvdGxpYiB2ZXJzaW9uIDIuMS4wLCBodHRwOi8vbWF0cGxvdGxpYi5vcmcvpW3flQAAIABJREFUeJzt3XecXHX1//FXEkJoARGCSA1BPQQE0aA0kSpdBBGkaEABAWlSE0ILICECItJEpBtAyg9pCWCkivQVEL8uBzCEIChNQMoCIezvj3MnuZnMzO69O3Xn/Xw88pide+/MPfvZyT3zuZ82oLu7GxERkawGNjoAERFpTUogIiKSixKIiIjkogQiIiK5KIGIiEguSiAiIpLLfI0OoF46OjrUX1lEJIdRo0YNKLW9bRIIwKhRoxodQlmdnZ0AjBw5ssGRNAeVx9xUHnOoLOZW6/Lo6Ogou0+3sEREJBclEBERyUUJREREclECERGRXJRAREQkFyUQERHJRQlERERyUQIREZFclEBERCSXthqJLtKsPpg5iwUGDyq7v1ajjHs6r0glSiAiTWCBwYMYPnZy3c87feI2dT+n9B+6hSUiIrkogYiISC5KICIikosSiIiI5KIEIiIiuSiBiIhILkogIiKSixKIiIjkogQiIiK5KIGIiEguTTOViZltB1zp7kNT2wYA44B9gSWBvwAHufvTjYlSREQKmqIGYmbrAZOAAUW7jgeOBc4AdgEWA+40s8XqG6GIiBRraA3EzIYAhwAnA+8B86f2DQWOAMa7+9nJtj8DLwB7AWfWPWAREZmt0TWQrYCjgSOBc4r2rQMsAtxc2ODubwL3AlvWK0ARESmt0QnkUWClpIbRXbTvC8njP4u2T0vtExGRBmnoLSx3f6nC7kWBD939o6Lt7yT7Muvs7Mzzsrro6uoCmjvGemq38qjVglG90Wpl3G6fjZ40sjwaXQOpZADz1koKPqlnICIiMq+m6cZbwtvAEDMb7O4zU9uHJvsya+S3vJ4Uvj00c4z1pPKon1YrY3025lbr8ujo6Ci7r5lrIM8StZCViraPALz+4YiISFozJ5AHgA+A7QsbzGxxYEPgzkYFJSIioWlvYbn7u2Z2DnCymX0CPAMcA/wPuKihwYmISPMmkMQ4osH8CGJMyAPAHu6eqw1ERESqp2kSiLuPB8YXbfsYGJv8ExGRJtLMbSAiItLElEBERCQXJRAREclFCURERHJRAhERkVyUQEREJJfM3XjNbDl3/1fy88rAD4GZwO/cfVqV4xMRkSbV6wRiZssBtwMfAV8xs6WJ9Tw+lRxymJlt6O5PVD9MERFpNlluYZ0KLA+cmzzfm0ge3wWGAy8SS9OKiEgbyJJANgfOdPdLkuc7ANPd/QZ3n0HMT/X1agcoIiLNKUsCGUrUMjCzZYEvA7el9n+Q8f1ERKSFZbngTwPWTX7eg1gt8CYAMxsA7Eis4SEiIm0gSy+sC4CzzexrwKpAJzDVzFYDrgDWBEZXP0QREWlGva6BuPu5RIL4F3AJsKW7F9YsHwTs6e5XVj9EERFpRpnGgbj7JDO7HvgwlTzeB9Zz9/erHp2IiDStXtdAzGyAmU0AXgM+n9p1EvCGmY2pdnAiItK8sjSiH0Es7HQD8FZq+1nAJGCCme1TxdhERKSJZbmFtTdwsbvPlSTcvQPYx8wGAwcDv61ifCIi0qSy1ECWBx6rsP9BYOW+hSMiIq0iSwKZDmxcYf/6wMt9ikZERFpGlltYFwOnm9m/gPPc/XkAM1sB+DGwO3Bs9UMUEZFmlCWBnAmsAhwGHGpmnyTbBwIDgMuAiVWNTkREmlavE0gy7mMfMzsb2ApYgRhA+CIwRdO4i4i0l8wLSrn7U8BTNYhFRERaSNkEYmZHAbe4e2fqeU+63f30agUnIiLNq1INZCIx71Vn6nlPuoGqJhAzGwQcTjTULw38H3C0u99VzfOIiEg2lRLISsS0JennjXAk8DPgeOAR4EfA7Wa2trs/3qCYRETaXtkE4u4vFG3aELjP3aeXOt7MRgLbAT+vWnRhD+Aqd5+QnOduYuXDvYADq3wuERHppSwDCS9lzoJSpXwTGN+naEobAvyv8MTdZwFvA5+uwblERKSXKjWirwTcwpwkM4AYSHhcicMHAsOJ0erVdh5wvJn9gZhKZU9gNeCYGpxLRER6qdItrOfN7Bpgk2TTKkRN4JUSh88CHgfOqHqE8Oskhj+lth3r7jdnfaPOzs6eD2qQrq4uoLljrKd2K4+RI0c27NytVsbt9tnoSSPLo+I4EHc/GTgZwMyeB8bmuXDnlay1fgexhO5PiB5hmwEnmNlb7n5evWIREZG5ZRmJ3oheWOsTDeY7u/t1ybZ7zGw+4DQzu9zd3+3tmzXyW15PCt8emjnGelJ51E+rlbE+G3OrdXl0dHSU3VepDWQKcJq735N63pNud98ma4AVLJ88PlS0/X5gDNHu8vcqnk9ERHqpUg1kJLBo6vmqxEDBSnran9UzyeP6wO9T29cGPiYGOoqISANUakQvvmW1rrv/u8bxFMfQYWaTgfPN7NNEG8hGRO3jV+7+VqXXi4hI7WQZB/JomS68tbYTMQblGGAKsAOxdO6RDYhFREQSWWbjXZzSXXhryt27iLmwDq/3uUVEpLwsNZALgIOSKUtERKTNZamBjCDp9WRmbxETLX5SdEy3u69WpdhERKSJZUkgnyKmEhEREck0kHDjWgYiIiKtpVdtIGY2tMz2NcxsxeqGJCIiraBiAjGzhczsIuAlM1u4xCGnAM+Z2eVmtlhNIhQRkaZUNoGY2ULA3cQKgI8CpRLEFcBdwA+AO81sSC2CFBGR5lOpBjIWGAXs6u6buvvLxQe4+3XuvgUxU+5XgCNqE6aIiDSbSglkZ2Ip2Wt6ehN3vwC4FditWoGJiEhzq5RAhgN/yfBeU4mxIiIi0gYqJZD/MvdsvD0ZRGrtchER6d8qJZAnga0yvNe2wHN9C0dERFpFpQRyAbCRmR3S05uY2YHAxsAl1QpMRGrvg5mz2uq8Ul2V1gO5ycyuBM40sy2Ai4BHiBl5BwFLAesAPwQ2J9Yuv7zmEYtI1SwweBDDx06u+3mnT6zmwqXSKD1NZfIj4EWie+4WJfYPAD4EfgEc7+4fVzc8ERFpVhUTiLvPBMaZ2dnAjsRYj88As4D/AA8AU9z9tVoHKiIizaVXkym6+3+A82oci4iItJAsC0qJiIjMpgQiIiK5KIGIiEguSiAiIpJLpencnzWznVPPR5vZ8LpEJSIiTa9SDWQ5ostuwaXAurUNR0REWkWlbrydwElm9lXgXWLQ4I/MbIMKr+l29wOqGaCIiDSnSglkL2L6ku8Bg4FuYNPkXzndgBKIiEgbqDQX1uPEioQAmNknwPfd/ap6BJZmZpsCE4A1gFeBy4CT3F0zsomINEiWXlg/JKYuqSszWx+4jbiltg1wLjAGOLbesYiIyBy9msoEwN0vN7OBZvZD4NvACsBHwEvEcraXu/snNYhxIvBHd98zeX6XmS1BTB9/Yg3OJyIivdDrBGJmCwJTgA2JlQf/CSwAbAZsTzSwb+buH1YrODMbBqyfvP9s7j62WucQEZF8ep1AgBOAbwCHA+cmM/ViZoOJhvNfAMcAx1cxvtWJ3l/vmdktwDeJ5HU+0QZSixqPiIj0QpYEsgtwsbv/Mr0xSSRnmdlqwG5UN4EMSx6vAK4CziRqQMcCXcDPs7xZZ2dnFUOrrq6uLqC5Y6yndiuPkSNHNjqEusv7t223z0ZPGlkeWRLIZ4G/VtjfAXy/b+HMY3DyeIe7H5n8fLeZLQkca2ZnqCeWiEhjZEkgM4D1iLXSS/k60aBeTe8mj7cXbZ9K3DYbTrTF9Eozf8srfHto5hjrSeXR/+X92+qzMbdal0dHR0fZfVkSyGXEyPTngTPc/R0AMxsKHAnsCpyUP8ySnkse5y/aXqiZdFf5fCIi0ktZEshEYmDhccAxZvZKsv0zxHiSW4FTqhse/yBqNTsBk1LbtwFeBqZX+XwiItJLWcaBzAK+Y2ZbA9sSt48GEBfxW919crWDc/dPzGwccLmZ/Rq4nug2vAewv3phiYg0TpYaCADuPoUYD1IX7n6Fmc0ExhGj4V8E9nP3C+sVg4iIzCtzAmkEd78auLrRcYiIyBxakVBERHJRAhERkVyUQEREJJdeJxAzuzeZiVdERCRTDWRt5gzgExGRNpclgdwLbGVmuu0lIiKZuvH+BTgCeNHMHgJeA4oH8nW7u9ZEFxFpA1kSyPjkcRFghzLHdBOTHIqISD+XZSoT3boSEZHZco1EN7NFgGWJaUU+1JocIiLtJ1Otwsy+bGZ3A28SM+WuA2xsZm5m29YiQBERaU5ZxoF8GfgzsCLwm9Sud4AFgT+Y2TerG56IiDSrLDWQU4lbVl8kGtQHALj7w8DqQCexVoiIiLSBLAlkfeBid3+fopUA3f1t4EIikYiISBvIkkA+AT6usH8RklqJiIj0f1kSyP3AnmY2T88tM1sC2A94oFqBiYhIc8vSjXcckUT+SqxI2E1MbbIpsDewKLF2uYiItIFe10Dc/UngG8DbwFHE7arDgaOBl4At3P3RWgQpIiLNJ9NAQnd/HNgguWU1AhgEzHD3l2sRnIiINK+805MsC3wWWIK4dSUiIm0mUw3EzHYjxoMsV7T9WeAgd59axdhERKSJZRmJviswCXiPaPvYnpiVdwxxK2ty0qAuIiJtIEsN5GjgYWBDd/8ovcPMziPWC5lArFwoIiL9XJY2kM8Dk4qTB4C7dwGXoJHoIiJtI0sN5BlgjQr7lwWm9ymaCsxsCPAE8LC771mr84iISO9kSSAHA7ea2QzgLHd/D8DM5gd+AOwP7FL9EGc7AViFuI0mIiINVjaBmFkXRZMmAvMDJwHjzezfxPxYSwFDiMb1s4EvVDvIZCr5g4HXq/3eIiKST6UayDXMm0DqLpl76xLgdMqvxS4iInVWNoE0UTvDGKLmcypKICIiTSPzmuhmNhj4DGV6cLn7jL4GlTrXSOAYYFN3/8jM+vR+nZ2dVYmrFrq6uoDmjrGe2q08Ro4c2egQ6i7v37bdPhs9aWR59DqBmNlKxK2kDai87segvgaVnG8gcBGxiNWD1XhPEWkOH8yc1bCk+V7Xh8yYPq0h5+5vstRALgTWBS4Fngdm1SSiOQ4CVgC2KVqDZICZzefulRa3KqmZv+UVvj00c4z1pPLo3xYYPIjhYyc35NzTJ27Trz5Xtf6/0tHRUXZflgSyNnCKu5/c54h6Zwdizq03i7Z/CRhtZiu5+/Q6xSIiIkWyJJBXgHdrFUgJ+wJDi7ZdSQxoPBHQFPIiIg2UJYFMBI43s8nu/kytAipwdy/eloxNecPdH6v1+UVEpLIsCeQyYsnavyfTt7/KvONEut1dM/KKiLSBLAnkNGBzoIsYl7F0TSKqwN3XrPc5RUSktCwJZA/gVmAXd3+/RvGIiEiLyDKd+3zALUoeIiIC2RLILcC2tQpERERaS5ZbWL8FrjSzPxG3sl4F5hnM5+7XVik2ERFpYlkSyD3J47LAJmWO6QaUQERE2kCWBLJxzaIQEZGW0+sE4u731jIQERFpLVlm4925N8epDUREpD1kuYX1e6KNo9RU7ukR6UogIiJtoK9tIIOINdF3AlYDtqtGUCIi0vyq1QbyezO7iVg9cI8+RyUiIk0vy0DCntyCaiAiIm0j85roFazJvLPzSov6YOYsFhhcldWJc527ESvGNfJ3lvpp1N+5P36+svTCOqrMriHEKoE7AJOqEZQ0XqOXHG3EuadP3Kbu55T6a9Rnuz9+vrIuKFXOx8ANwKF9C0dERFpFlgSyUpnts4hVAruqEI+IiLSILL2wXqhlICIi0lrKJpDejjwvppHoIiLtoVINpNLI87TinldKICIibaBSAunN7LvzAT8FCt0LrutzRCIi0hLKJpCeZt81s/WBs4HVgWeAA939T9UNT0REmlXmgYRmtiRwOjAa+AA4DjjN3WdWOTYREWlimRKIme0HnAIsTkxdcrB6Z4mItKdeJRAzGwX8GhgFvADs4e631jIwERFpbhUTiJktBpwK7EMMGJwAnOLuH9QhNhERaWKVxoHsAfwcGAZMJRrJn6tXYKk4BgGHEElsBaIGdD5wnrtr8kYRkQapVAO5NPXzN4C/mVlP79ft7gv3Oaq5HQeMBU4GHgI2AM4CFgJOq/K5RESklyolkCto8PTsSe3jMOB0dz8l2XynmQ0DjkAJRESkYSqNA9mzjnGUsyiRyG4o2u7AMDNb2N3fq39YIiJSzQWlqs7d3wQOLLHrW8C/lDxERBqnqRNIKWa2N7AZcHDW13Z2dlY/oCrp6orZ8JslxkasCNgMGlX+7Vre7aYWn69GXjtaKoGY2e7ABcD1wLkNDqcuVhg+goUXHNLoMESkjxq1VDPAe10fMmP6tKq/b8skEDM7DDgDuBnYPU8X3mb+llf49lAqRi2/WT/N/BmR1tboZaLzfrY7OjrK7huYN6B6MrMJwC+A3wHfdfePGhySiEjba/oEYmaHAEcDvwL2dPePGxySiIjQ5LewzOyzxGj4p4gFrtYuGsz4mBKKiEhjNHUCAbYAhhBrjjxYYv8w4PW6RiQiIkCTJxB3vwy4rMFhiIhICU3fBiIiIs1JCURERHJRAhERkVyUQEREJBclEBERyUUJREREclECERGRXJRAREQkFyUQERHJRQlERERyUQIREZFclEBERCSXpp5MsVl8MHMWCwweVNNzaCW8xqvH31mkP1EC6YVGL0Up9aG/s0g2uoUlIiK5KIGIiEguSiAiIpKLEoiIiOSiBCIiIrkogYiISC5KICIikosSiIiI5KIEIiIiuSiBiIhILkogIiKSS0vMhWVm+wBHAcsBTwCHufuDjY1KRKS9NX0NxMz2AC4AJgE7Am8Bd5jZSg0NTESkzTV1AjGzAcCJwIXufqK7TwG2A14HDm1ocCIiba6pEwjwOWBF4ObCBnefCUwGtmxUUCIi0vwJ5AvJ43NF26cBK5uZVv8REWmQZm9EXzR5fKdo+ztE8lsY+F9v36yzszNXEFotUERaXd7rXyUDuru7q/6m1WJmuwFXAku7+yup7XsDvwWGuvu7vXmvjo6O5v1FRUSa2KhRowaU2t7sNZC3k8ehwCup7UOBWb1NHlC+AEREJJ9mbwN5NnkcUbR9BPBMnWMREZGUVkggLwLbFzaY2WBgG+DORgUlIiJN3gYCYGY/Ac4FTgX+AhwIfB1Y092nNTI2EZF21vQJBMDMDgcOAZYkpjI5XFOZiIg0VkskEBERaT7N3gYiIiJNSglERERyUQIREZFclEBERCSXZh+J3q/0ZWEsMzsBGO/u/WJEfdayMLNbgG1L7Or1dDbNLEd5DAN+QZTJQOA+4FB3/2cdwq25LOVhZtOJWbtLGe/uJ9YixnrK8flYDzgN+BLwGnA5MCGZzbxqVAOpk74sjGVmXwTG1TbC+slZFl8CfgWsW/Tv/dpGW3tZyyMZTDsV+BqwD7AnsDIwxczmr0fMtZTj87ED834urgPeBX5f84BrLMfnY2Xgj8TvvyPwS2AMMZauqtSNtw6ShbGeB25z9/2TbYMBB25194MrvHYQ8CCwDLBsq9dA8pSFmX0KeBPYyt1vr2e8tZazPPYCzgFWcfcZybY1gSnAt9y9o17xV1tf/q+k3mMt4v/Mj9390lrGW2s5Px9jgPHAku7+XrJtAjEIezF3r9pFXzWQ+ujLwliHEpNHnlOz6OorT1mskTz+rbahNUSe8tgBuL2QPJLXPOHuy7Ry8khUYxG5s4FHgMuqHVwD5CmPIcBMoCu17Q1gkWRf1SiB1EeuhbHM7HPEkr77AB/WLry6ylMWaxC//8/M7A0ze9/MrjOzpWsZaJ3kLY+nzewEM/uPmX1oZpPNbIWaRloffVpEzsy+TdzCOqKa37QbKE95XAnMAk41s0+b2VeBnwJ/cPcPqhmcEkh99GZhrLkkVdeLgCvc/f7ahldXmcuCuGAOSY7ZAfgJcZG4y8yq+o2qAfKUxzDgh8Q30L2AHwCrApPNrNU7xuQpj7RDgfv70VRHmcsj6UhxRPLvDaI29irxmamqVv+wtYpCu0W5b0SflNi2L1F93a4mETVOnrI4E7ja3e9Ont9nZp3AQ8DOwO+qG2Jd5SmPwcD8RJvQWwBmNg14FPgOcG21g6yjPOUBgJkZsCGwU7WDaqDM5ZFacO9C4Bqi/fQk4gvGZu5etbsZqoHUR3phrLSSC2OZ2fJEF7xDgPeTb5UDk33zmVkr/90ylQWAuz+dSh6FbQ8TvVG+VJMo6ydzeRC9ax4uJA8Ad3+MKI/VaxJl/eQpj4JvE2Vzay0Ca5A85TEWmOLu+7r7Xe4+CdiamMV892oG18oXolaSdWGsTYkPyPVEY9hMos8/yc/H1yDGesm8SJiZ7WJm3yjaNoC4rfV61SOsrzyLpj1H1ECKzUf5b6qtoi+LyG1J9Faq6n3+BstTHssTtfPZ3P1p4nbWqtUMTgmkPrIujHUL8NWif2cm+75KVE1bVZ5FwvYHflVU89oaWJAYQNfK8pTHH4H1zWyZ1Gs2JHrZPFC7UOsi1yJyyReKtSi6cPYDecrjGWC99IakQ84SRJfgqlEbSB24e7eZTQTONbM3mbMw1pLEIJ/C4J9h7v6Qu79BfFuYzcy+nrzXY3UNvsqylkXysgnAbcAkM7uU6JlyMvD/3L2lL5g5y+OXwI+A25IZChYCTieSxx/r/CtUVc7ygOjqOpQYH9Fv5CyPk4Brzewi4GpgaWJcyHTgimrGpxpInbj7+cCRRI+Z64FPAVukVlU8jhj81O9lLQt3v4PoTPA54EbgGOCS5PUtL0d5vAasT3yb/B2xYudUYBt3L9vI3Cpy/l9ZKnl8i34mx+fjOmIE+leIwaWnEjX1td29uDdXn2gkuoiI5KIaiIiI5KIEIiIiuSiBiIhILkogIiKSixKIiIjkogQiIiK5aCChlGRmuxCDkJ5w9y83Op5GMrNSfd27gf8BTwPnuXuuCR3NbDFgkLv/N3l+D7C0u6+SM9x+z8z2BC4F1i0MnktmZV7C3V9Onl8G7OLuCzQqznagGoiUsyvwHrBmsqRuu/szMZCr8G9P4CxgOHCFme2a9Q3NbBSRgL6Q2nwKMWhMyruP+Bs8B2BmKwJPAen50n5DDaYvl7mpBiLzSJaQ3ZJY2e1wYA90UZuWzGo6l2RqlU5iNPDVGd9zdWKaidncfWruCNtEMgJ7WmrTSsDni455kDaZ2aGRVAORUnYkZnu9AXgM2L2nleDalbu/ANwLjDSzRXs6XqQ/UQ1EStmVWFehA7gJ+BnwTeB2ADN7FnjN3Ytn/NwXuABY092fTNYxGUPcSlgeeIlYp3qCu3+cvGY8sdzmT4gaz3zAaHe/2cy2IFZVW4tYee0lYrGk49z9o9R5NyAmXPwK8Boxc/EawGbuPjx13EbEEsFrAR8Rs5mOSVZw64v3ksfC4j+Y2deIObvWBxYjVoS7FTjK3d9Ofu8TksMfNLN73X2j4jYQM5tOzP/1D6I2uCJx6+bEZM6jwvkGEmW9D/BZIvEflDz+zN3Hlwo81Z4wipgzaQOiDC8CTknPrWVmKyXHbA4sADwOHO/ud6aOmU6s1/0p4ovIDGD1cosYJec/BLCkjH6f/G5dyd/rbqIGPC753c8iJky8lFiVcpXkZ4CrzWyiuw8v1QZiZqsRn+UNk00PEn//v5eKTXqmGojMJVlnfCPg9uQifVOya3TqsKuBdcxs2aKX7wR0uvuTyfMriFlA/0hcJO5KnhffClqYmFn0VOB84AEz24qYgRfi4nEYMXngUaTWQzGzdYiJBJdkzm2kicTSt+nfa+vkuIHEgjtnElNeP9iXtcTNbCHi3vvz7v52su1LxH36wkpwBxHTjP8YOC956Q3MmZZ/PNH2Uc53iAvf74hbiQsC15jZyNQxZxJJ9BEi6b5FXHx7+3/8RqLWeRTwcBJ3IdbCImcPAesQi52NI1ZGvMPMti16rz2Ii/0hwAUVkscxxMX/9eT3+gORJC8pOvQ8IvkeQ/IlJuU+4vcuHPfTMudahUgY6xBr65xIrI1xl5ktV+o10jPVQKTYzsAg4j8z7v53M3sO2N7MFnX3/xEX6eOIb5hnA5jZMCLxnJg835SoyYxO91Ays8eJqal/k1plcD7gZHc/N3XcwcS6Blulaiu/JpLI5sCxyaE/Jy6W66Qu4PcTF5x3kueDiIvLPcDm7t6dbL+YaL84mbjoVTLEzJZMPR9MLOpzPLFG+WGpffsBXcAmqdlPLzCzB5LYcfe/mdmDRFK5o2hq8mLLAKu6+zNJ3I8QF/OdgJOS6bwPBH7j7vslrznPzK6l98u7Pk/U2GYRf5/LgR+b2Znu/ixzLtJrufvrSRznEbfvzjazKanaymBgu0LPslLMbAniM3QD8N3U3+Qd4DgzOzp1+B3ufkTqtSsVfnb3aWY2lUho97v7jWVO+TOi59zX3P3F5H2mEJ0Y9iaSuGSkGogU24VY9XByatuNxLfenQDcvRN4Evhu6pjvEImn0JC8PfAxMNXMliz8S963m1gQJ+3PRc+/BaxXSB6JZYglPhcBMLNPE8t0XlZIHkl8k4nEULAm0VvqJmCJVCwfEd9gi2MpZRfi1k7h38vA/cAKwK5FDewHAJ9PT52dJNh3C7Fn9FQheSSeSB4/kzx+iyj7s4ped0aGc/wiSR4FZxHXh62S22PbETVIUuW3GHAz0YidXunuH5WSR2JTYkXJ8wvJI1G4/fhSalvxZyOTJP4tgZsLyQMgSYxrAb/qy/u3M9VAZDYzG07cV34IWNzMFk92FRaxGg1cnPx8NTDBzJZ29/8QyaXD3Z9L9q9MfL7+XeZ0yxc9fy39xN0/NrMvJPfIv0h0dR1W2J08jiAucs8xLwcK41dWTh7PSf7Nw8wWdPeuMrFC3IY7Pfl5OeJWz+LA/u5+T1Hsn5jZUmZ2LLFmuxHtEgAlb+f0oLhsPjQziKQBsU5KN3P3TIJsiyt1Fj0vlOlw4vbgokQS3aXM65cHCm0Jr5U5Jm3F5PHZ9MZknfe3AJLfsbfvV8kSxG3SZ4t3uPvjfXzvtqYEImmFi8M6lF6LOJ/MAAAE/0lEQVT6cgMzG+7u04kEciqwY3KrZCOiEbdgEHFvu9z4iFeLns+1EJKZjU3e/+/EKmxXJY/nMGfxoMLn9yPmlV4Xu3ChHQP8tUw8M8tsL/i3u/8pFd+NRFvBbWa2SdJttLBvN6K9Yjpx2+wmIikfQO9vKaX1tEhUYS304t8hy9rgxWVYKLOPUz9fxZwG62JPpn7uzaJWWXr19XWRLPUgrBElEEnblbhg7M68F5TtiXaCHxDtFTOSe/rbJccOBK5JHT+DuE3xgLu/X9hoZgsA36bC2szJMccTDaZzrbJnZkulDi18455rDECJbTOSx7fTSSB5v02AT4pulfXI3d9KBg8+TPT++aK7v5vsPoVIfGu7++yLeNLzqhamEeU/Akj3KCtVLuWMAF5IPf9c8vhPogbQBQwsUX5fJG7jVaq9lVK4lTSCOX+fQmP96cStrGp5nYhvRPEOMzuN+HLwyyqer22oDUQAMLNViXvPU9z9Wne/Mf2PaGTsZt7eWBsSiefP7v6v1L5biW9+xQMQ9ye6aq5HeQsRbS5elDy+SdwOmo/Y+SrxzX53MxuaOm4doktvwaNEjecQM1swddzyxD384yrEUpa7/5W42K3InEZmiFsmzxclj9WJskp/aSu0OfT1/+HNxN9m/6LtB2R4j+JjDyVpC0uS6x3ADmY2e9S8mQ0maiRXJ+fP4k/J++9TtH008D2yLU1bsRyT+KcC25lZod0IMxtB9BQbVup10jPVQKSgcKup5C0Kd5+e9HbZ3MzWc/cHgOuIBsiNmffidTPRDXd8ctG5j2jL2I/oTnltuUDc/b9JT6N9zex94hv2V4C9iNsyQ1OHH0l0V33IzC4i2iV+SrQ1dCfv95GZHUp0H34kGSMwgOi5NAhI9/jJ6mSi59oBZjbJ3R9Jfu+dzOxs4tbOKkRvK4BBqfaWwr39A8xsSXe/OU8A7v60mf0GONzMPkvc6tuEOZ0DenNx3za5LTcV2IyocZ6U+lIwlvg7P2hm5wCvALsRjdAHu/t7Jd6zUsyvmNkpxOdjUWLt7pHE5+i37v6MmS3Ty7crlONoM8PdrypxzDjiy8bDSW++mcDBRO1EtY+cVAORgkIvo8kVjimMWxgNs2sAdxK3va5PH5j0rNmBuMCuQ3T3/RbRnXabcmMDUnYmbmHtS/TbX5foKjsGWKowBsLd7we2Bt4n2kxGEw3cj5G6DZdcVLYhenGdRFxQHNgouejnkiSC/Yj/S7+1GDy5PzEG5ntEgt2a6BH1/eRlGyWPdxHdWL+TxN4XBzFnkNyZxLfqQptWqTaiYqOJwX9nEBfy/dy9MNARd3fi73g3ceE9g6gpft/dS3ZM6Im7n0iU1cpEr6+tiZrugRnf52ng10SPvHPNbP4Sx/xfsr+T6AJ+NDFQdgN372sjfdsa0N2dteYp0jzM7DPu/kqJ7U8Bb7n7Bg0Iq67MbGGA4lqAxWSNjwF7u/vFZV67J0Uz24r0lmog0uoeMbM/pDck7TmrEd8w28HXgHfNbPui7YUeX+1SDlJnagORVjcJGJe0a9xPDK77CfAmc8Zt9HcPEL3aLkwa6/9NJJW9gGvc/YlKLxbJSwlEWt3xRA+rfYh2k3eJtoVj3P2lSi/sL5KBhRsSbTv7EgP/ZhCTNU5sZGzSv6kNREREclEbiIiI5KIEIiIiuSiBiIhILkogIiKSixKIiIjkogQiIiK5/H9i7vpVmLxSWgAAAABJRU5ErkJggg==\n",
      "text/plain": [
       "<matplotlib.figure.Figure at 0x1124aa470>"
>>>>>>> 5bbc9b15926c614117c9cc345967bcfd0b7c27c6
      ]
     },
     "metadata": {},
     "output_type": "display_data"
    }
   ],
   "source": [
    "df = critics.copy()\n",
    "df['fresh'] = df.fresh == 'fresh'\n",
    "grp = df.groupby('critic')\n",
    "counts = grp.critic.count()  # number of reviews by each critic\n",
    "means = grp.fresh.mean()     # average freshness for each critic\n",
    "\n",
    "means[counts > 100].hist(bins=10, edgecolor='w', lw=1)\n",
    "plt.xlabel(\"Average Rating per critic\")\n",
    "plt.ylabel(\"Number of Critics\")\n",
    "plt.yticks([0, 2, 4, 6, 8, 10]);"
   ]
  },
  {
   "cell_type": "markdown",
   "metadata": {},
   "source": [
    "<div class=\"span5 alert alert-info\">\n",
    "<h3>Exercise Set I</h3>\n",
    "<br/>\n",
    "<b>Exercise:</b> Look at the histogram above. Tell a story about the average ratings per critic. What shape does the distribution look like? What is interesting about the distribution? What might explain these interesting things?\n",
    "</div>"
   ]
  },
  {
   "cell_type": "markdown",
   "metadata": {},
   "source": [
    "The histogram shows non-normal distribution. It also shows that critics tend to gravitate towards the mean."
   ]
  },
  {
   "cell_type": "code",
   "execution_count": null,
   "metadata": {},
   "outputs": [],
   "source": []
  },
  {
   "cell_type": "markdown",
   "metadata": {},
   "source": [
    "## The Vector Space Model and a Search Engine"
   ]
  },
  {
   "cell_type": "markdown",
   "metadata": {},
   "source": [
    "All the diagrams here are snipped from [*Introduction to Information Retrieval* by Manning et. al.]( http://nlp.stanford.edu/IR-book/) which is a great resource on text processing. For additional information on text mining and natural language processing, see [*Foundations of Statistical Natural Language Processing* by Manning and Schutze](http://nlp.stanford.edu/fsnlp/).\n",
    "\n",
    "Also check out Python packages [`nltk`](http://www.nltk.org/), [`spaCy`](https://spacy.io/), [`pattern`](http://www.clips.ua.ac.be/pattern), and their associated resources. Also see [`word2vec`](https://en.wikipedia.org/wiki/Word2vec).\n",
    "\n",
    "Let us define the vector derived from document $d$ by $\\bar V(d)$. What does this mean? Each document is treated as a vector containing information about the words contained in it. Each vector has the same length and each entry \"slot\" in the vector contains some kind of data about the words that appear in the document such as presence/absence (1/0), count (an integer) or some other statistic. Each vector has the same length because each document shared the same vocabulary across the full collection of documents -- this collection is called a *corpus*.\n",
    "\n",
    "To define the vocabulary, we take a union of all words we have seen in all documents. We then just associate an array index with them. So \"hello\" may be at index 5 and \"world\" at index 99.\n",
    "\n",
    "Suppose we have the following corpus:\n",
    "\n",
    "`A Fox one day spied a beautiful bunch of ripe grapes hanging from a vine trained along the branches of a tree. The grapes seemed ready to burst with juice, and the Fox's mouth watered as he gazed longingly at them.`\n",
    "\n",
    "Suppose we treat each sentence as a document $d$. The vocabulary (often called the *lexicon*) is the following:\n",
    "\n",
    "$V = \\left\\{\\right.$ `a, along, and, as, at, beautiful, branches, bunch, burst, day, fox, fox's, from, gazed, grapes, hanging, he, juice, longingly, mouth, of, one, ready, ripe, seemed, spied, the, them, to, trained, tree, vine, watered, with`$\\left.\\right\\}$\n",
    "\n",
    "Then the document\n",
    "\n",
    "`A Fox one day spied a beautiful bunch of ripe grapes hanging from a vine trained along the branches of a tree`\n",
    "\n",
    "may be represented as the following sparse vector of word counts:\n",
    "\n",
    "$$\\bar V(d) = \\left( 4,1,0,0,0,1,1,1,0,1,1,0,1,0,1,1,0,0,0,0,2,1,0,1,0,0,1,0,0,0,1,1,0,0 \\right)$$\n",
    "\n",
    "or more succinctly as\n",
    "\n",
    "`[(0, 4), (1, 1), (5, 1), (6, 1), (7, 1), (9, 1), (10, 1), (12, 1), (14, 1), (15, 1), (20, 2), (21, 1), (23, 1),`\n",
    "`(26, 1), (30, 1), (31, 1)]`\n",
    "\n",
    "along with a dictionary\n",
    "\n",
    "``\n",
    "{\n",
    "    0: a, 1: along, 5: beautiful, 6: branches, 7: bunch, 9: day, 10: fox, 12: from, 14: grapes, \n",
    "    15: hanging, 19: mouth, 20: of, 21: one, 23: ripe, 24: seemed, 25: spied, 26: the, \n",
    "    30: tree, 31: vine, \n",
    "}\n",
    "``\n",
    "\n",
    "Then, a set of documents becomes, in the usual `sklearn` style, a sparse matrix with rows being sparse arrays representing documents and columns representing the features/words in the vocabulary.\n",
    "\n",
    "Notice that this representation loses the relative ordering of the terms in the document. That is \"cat ate rat\" and \"rat ate cat\" are the same. Thus, this representation is also known as the Bag-Of-Words representation.\n",
    "\n",
    "Here is another example, from the book quoted above, although the matrix is transposed here so that documents are columns:\n",
    "\n",
    "![novel terms](terms.png)\n",
    "\n",
    "Such a matrix is also catted a Term-Document Matrix. Here, the terms being indexed could be stemmed before indexing; for instance, `jealous` and `jealousy` after stemming are the same feature. One could also make use of other \"Natural Language Processing\" transformations in constructing the vocabulary. We could use Lemmatization, which reduces words to lemmas: work, working, worked would all reduce to work. We could remove \"stopwords\" from our vocabulary, such as common words like \"the\". We could look for particular parts of speech, such as adjectives. This is often done in Sentiment Analysis. And so on. It all depends on our application.\n",
    "\n",
    "From the book:\n",
    ">The standard way of quantifying the similarity between two documents $d_1$ and $d_2$  is to compute the cosine similarity of their vector representations $\\bar V(d_1)$ and $\\bar V(d_2)$:\n",
    "\n",
    "$$S_{12} = \\frac{\\bar V(d_1) \\cdot \\bar V(d_2)}{|\\bar V(d_1)| \\times |\\bar V(d_2)|}$$\n",
    "\n",
    "![Vector Space Model](vsm.png)\n",
    "\n",
    "\n",
    ">There is a far more compelling reason to represent documents as vectors: we can also view a query as a vector. Consider the query q = jealous gossip. This query turns into the unit vector $\\bar V(q)$ = (0, 0.707, 0.707) on the three coordinates below. \n",
    "\n",
    "![novel terms](terms2.png)\n",
    "\n",
    ">The key idea now: to assign to each document d a score equal to the dot product:\n",
    "\n",
    "$$\\bar V(q) \\cdot \\bar V(d)$$\n",
    "\n",
    "Then we can use this simple Vector Model as a Search engine."
   ]
  },
  {
   "cell_type": "markdown",
   "metadata": {},
   "source": [
    "### In Code"
   ]
  },
  {
   "cell_type": "code",
<<<<<<< HEAD
   "execution_count": 6,
=======
   "execution_count": 9,
>>>>>>> 5bbc9b15926c614117c9cc345967bcfd0b7c27c6
   "metadata": {},
   "outputs": [
    {
     "name": "stdout",
     "output_type": "stream",
     "text": [
      "Original text is\n",
      "Hop on pop\n",
      "Hop off pop\n",
      "Hop Hop hop\n",
      "\n",
      "Transformed text vector is \n",
      "[[1 0 1 1]\n",
      " [1 1 0 1]\n",
      " [3 0 0 0]]\n",
      "\n",
      "Words for each feature:\n",
      "['hop', 'off', 'on', 'pop']\n"
     ]
    }
   ],
   "source": [
    "from sklearn.feature_extraction.text import CountVectorizer\n",
    "\n",
    "text = ['Hop on pop', 'Hop off pop', 'Hop Hop hop']\n",
    "print(\"Original text is\\n{}\".format('\\n'.join(text)))\n",
    "\n",
    "vectorizer = CountVectorizer(min_df=0)\n",
    "\n",
    "# call `fit` to build the vocabulary\n",
    "vectorizer.fit(text)\n",
    "\n",
    "# call `transform` to convert text to a bag of words\n",
    "x = vectorizer.transform(text)\n",
    "\n",
    "# CountVectorizer uses a sparse array to save memory, but it's easier in this assignment to \n",
    "# convert back to a \"normal\" numpy array\n",
    "x = x.toarray()\n",
    "\n",
    "print(\"\")\n",
    "print(\"Transformed text vector is \\n{}\".format(x))\n",
    "\n",
    "# `get_feature_names` tracks which word is associated with each column of the transformed x\n",
    "print(\"\")\n",
    "print(\"Words for each feature:\")\n",
    "print(vectorizer.get_feature_names())\n",
    "\n",
    "# Notice that the bag of words treatment doesn't preserve information about the *order* of words, \n",
    "# just their frequency"
   ]
  },
  {
   "cell_type": "code",
<<<<<<< HEAD
   "execution_count": 7,
   "metadata": {
    "collapsed": true
   },
=======
   "execution_count": 10,
   "metadata": {},
>>>>>>> 5bbc9b15926c614117c9cc345967bcfd0b7c27c6
   "outputs": [],
   "source": [
    "def make_xy(critics, vectorizer=None):\n",
    "    #Your code here    \n",
    "    if vectorizer is None:\n",
    "        vectorizer = CountVectorizer()\n",
    "    X = vectorizer.fit_transform(critics.quote)\n",
    "    X = X.tocsc()  # some versions of sklearn return COO format\n",
    "    y = (critics.fresh == 'fresh').values.astype(np.int)\n",
    "    return X, y\n",
    "X, y = make_xy(critics)"
   ]
  },
  {
   "cell_type": "markdown",
   "metadata": {},
   "source": [
    "## Naive Bayes"
   ]
  },
  {
   "cell_type": "markdown",
   "metadata": {},
   "source": [
    "From Bayes' Theorem, we have that\n",
    "\n",
    "$$P(c \\vert f) = \\frac{P(c \\cap f)}{P(f)}$$\n",
    "\n",
    "where $c$ represents a *class* or category, and $f$ represents a feature vector, such as $\\bar V(d)$ as above. **We are computing the probability that a document (or whatever we are classifying) belongs to category *c* given the features in the document.** $P(f)$ is really just a normalization constant, so the literature usually writes Bayes' Theorem in context of Naive Bayes as\n",
    "\n",
    "$$P(c \\vert f) \\propto P(f \\vert c) P(c) $$\n",
    "\n",
    "$P(c)$ is called the *prior* and is simply the probability of seeing class $c$. But what is $P(f \\vert c)$? This is the probability that we see feature set $f$ given that this document is actually in class $c$. This is called the *likelihood* and comes from the data. One of the major assumptions of the Naive Bayes model is that the features are *conditionally independent* given the class. While the presence of a particular discriminative word may uniquely identify the document as being part of class $c$ and thus violate general feature independence, conditional independence means that the presence of that term is independent of all the other words that appear *within that class*. This is a very important distinction. Recall that if two events are independent, then:\n",
    "\n",
    "$$P(A \\cap B) = P(A) \\cdot P(B)$$\n",
    "\n",
    "Thus, conditional independence implies\n",
    "\n",
    "$$P(f \\vert c)  = \\prod_i P(f_i | c) $$\n",
    "\n",
    "where $f_i$ is an individual feature (a word in this example).\n",
    "\n",
    "To make a classification, we then choose the class $c$ such that $P(c \\vert f)$ is maximal.\n",
    "\n",
    "There is a small caveat when computing these probabilities. For [floating point underflow](http://nlp.stanford.edu/IR-book/html/htmledition/naive-bayes-text-classification-1.html) we change the product into a sum by going into log space. This is called the LogSumExp trick. So:\n",
    "\n",
    "$$\\log P(f \\vert c)  = \\sum_i \\log P(f_i \\vert c) $$\n",
    "\n",
    "There is another caveat. What if we see a term that didn't exist in the training data? This means that $P(f_i \\vert c) = 0$ for that term, and thus $P(f \\vert c)  = \\prod_i P(f_i | c) = 0$, which doesn't help us at all. Instead of using zeros, we add a small negligible value called $\\alpha$ to each count. This is called Laplace Smoothing.\n",
    "\n",
    "$$P(f_i \\vert c) = \\frac{N_{ic}+\\alpha}{N_c + \\alpha N_i}$$\n",
    "\n",
    "where $N_{ic}$ is the number of times feature $i$ was seen in class $c$, $N_c$ is the number of times class $c$ was seen and $N_i$ is the number of times feature $i$ was seen globally. $\\alpha$ is sometimes called a regularization parameter."
   ]
  },
  {
   "cell_type": "markdown",
   "metadata": {},
   "source": [
    "### Multinomial Naive Bayes and Other Likelihood Functions\n",
    "\n",
    "Since we are modeling word counts, we are using variation of Naive Bayes called Multinomial Naive Bayes. This is because the likelihood function actually takes the form of the multinomial distribution.\n",
    "\n",
    "$$P(f \\vert c) = \\frac{\\left( \\sum_i f_i \\right)!}{\\prod_i f_i!} \\prod_{f_i} P(f_i \\vert c)^{f_i} \\propto \\prod_{i} P(f_i \\vert c)$$\n",
    "\n",
    "where the nasty term out front is absorbed as a normalization constant such that probabilities sum to 1.\n",
    "\n",
    "There are many other variations of Naive Bayes, all which depend on what type of value $f_i$ takes. If $f_i$ is continuous, we may be able to use *Gaussian Naive Bayes*. First compute the mean and variance for each class $c$. Then the likelihood, $P(f \\vert c)$ is given as follows\n",
    "\n",
    "$$P(f_i = v \\vert c) = \\frac{1}{\\sqrt{2\\pi \\sigma^2_c}} e^{- \\frac{\\left( v - \\mu_c \\right)^2}{2 \\sigma^2_c}}$$"
   ]
  },
  {
   "cell_type": "markdown",
   "metadata": {},
   "source": [
    "<div class=\"span5 alert alert-info\">\n",
    "<h3>Exercise Set II</h3>\n",
    "\n",
    "<p><b>Exercise:</b> Implement a simple Naive Bayes classifier:</p>\n",
    "\n",
    "<ol>\n",
    "<li> split the data set into a training and test set\n",
    "<li> Use `scikit-learn`'s `MultinomialNB()` classifier with default parameters.\n",
    "<li> train the classifier over the training set and test on the test set\n",
    "<li> print the accuracy scores for both the training and the test sets\n",
    "</ol>\n",
    "\n",
    "What do you notice? Is this a good classifier? If not, why not?\n",
    "</div>"
   ]
  },
  {
   "cell_type": "code",
   "execution_count": 8,
   "metadata": {},
   "outputs": [
    {
     "name": "stdout",
     "output_type": "stream",
     "text": [
      "[[1433  970]\n",
      " [ 520 3302]]\n",
      "             precision    recall  f1-score   support\n",
      "\n",
      "          0       0.73      0.60      0.66      2403\n",
      "          1       0.77      0.86      0.82      3822\n",
      "\n",
      "avg / total       0.76      0.76      0.75      6225\n",
      "\n"
     ]
    }
   ],
   "source": [
    "# Create training and test sets\n",
    "X_train, X_test, y_train, y_test = train_test_split(X, y, test_size = 0.4, random_state=42)\n",
    "\n",
    "\n",
    "# Create the classifier: MultinomialNB\n",
    "multi = MultinomialNB()\n",
    "\n",
    "# Fit the classifier to the training data\n",
    "multi.fit(X_train,y_train)\n",
    "\n",
    "# Predict the labels of the test set: y_pred\n",
    "y_pred = multi.predict(X_test)\n",
    "\n",
    "\n",
    "print(confusion_matrix(y_test, y_pred))\n",
    "print(classification_report(y_test, y_pred))\n",
    "\n",
    "# This is a pretty good classifier that is very good at predicting if a review is fresh"
   ]
  },
  {
   "cell_type": "markdown",
   "metadata": {},
   "source": [
    "### Picking Hyperparameters for Naive Bayes and Text Maintenance"
   ]
  },
  {
   "cell_type": "markdown",
   "metadata": {},
   "source": [
    "We need to know what value to use for $\\alpha$, and we also need to know which words to include in the vocabulary. As mentioned earlier, some words are obvious stopwords. Other words appear so infrequently that they serve as noise, and other words in addition to stopwords appear so frequently that they may also serve as noise."
   ]
  },
  {
   "cell_type": "markdown",
   "metadata": {},
   "source": [
    "First, let's find an appropriate value for `min_df` for the `CountVectorizer`. `min_df` can be either an integer or a float/decimal. If it is an integer, `min_df` represents the minimum number of documents a word must appear in for it to be included in the vocabulary. If it is a float, it represents the minimum *percentage* of documents a word must appear in to be included in the vocabulary. From the documentation:"
   ]
  },
  {
   "cell_type": "markdown",
   "metadata": {},
   "source": [
    ">min_df: When building the vocabulary ignore terms that have a document frequency strictly lower than the given threshold. This value is also called cut-off in the literature. If float, the parameter represents a proportion of documents, integer absolute counts. This parameter is ignored if vocabulary is not None."
   ]
  },
  {
   "cell_type": "markdown",
   "metadata": {},
   "source": [
    "<div class=\"span5 alert alert-info\">\n",
    "<h3>Exercise Set III</h3>\n",
    "\n",
    "<p><b>Exercise:</b> Construct the cumulative distribution of document frequencies (df). The $x$-axis is a document count $x_i$ and the $y$-axis is the percentage of words that appear less than $x_i$ times. For example, at $x=5$, plot a point representing the percentage or number of words that appear in 5 or fewer documents.</p>\n",
    "\n",
    "<p><b>Exercise:</b> Look for the point at which the curve begins climbing steeply. This may be a good value for `min_df`. If we were interested in also picking `max_df`, we would likely pick the value where the curve starts to plateau. What value did you choose?</p>\n",
    "</div>"
   ]
  },
  {
   "cell_type": "code",
<<<<<<< HEAD
   "execution_count": 9,
=======
   "execution_count": 19,
>>>>>>> 5bbc9b15926c614117c9cc345967bcfd0b7c27c6
   "metadata": {},
   "outputs": [
    {
     "data": {
      "text/plain": [
       "<matplotlib.text.Text at 0x10dc0b350>"
      ]
     },
     "execution_count": 9,
     "metadata": {},
     "output_type": "execute_result"
    },
    {
     "data": {
      "image/png": "iVBORw0KGgoAAAANSUhEUgAAAaEAAAEYCAYAAAD1bUl/AAAABHNCSVQICAgIfAhkiAAAAAlwSFlz\nAAALEgAACxIB0t1+/AAAIABJREFUeJzt3X9YlXWe//HXAfEXHLGGTFTkZDXBog5oNkLOJVox5pR2\nXZsypRnKwHTNum6bGzajG+NyzcRUlnUcUdQEo6tZpolsdiZnLiwnZ7FtQnNmjbS8Ao6u0+4EVBxI\nzoH7+wdfDh5BRDzwQc7zcV1dl3zuz33f7/t9ES/uH+fGZlmWJQAADAgxXQAAIHgRQgAAYwghAIAx\nhBAAwBhCCABgDCEEADBmmOkCTKqsrDRdAgBccWbOnBmwbQV1CEmBbeaVqqqqSpIUHx9vuBLz6EUn\netGJXrSrqqpSU1NTQLfJ5TgAgDGEEADAmEETQvv371dSUtJF5504cUIPPvigkpKSlJqaqsLCQvHm\nIQC4Mg2Ke0KHDx/Wo48+etF5n332mVauXKkbb7xRmzdv1rFjx7R582aFhoYqMzNzACoFAASS0RBq\naWlRcXGxnnvuOY0ePVoej6fH+S+99JK8Xq8KCgo0atQozZ07Vy0tLSosLNSKFSsUFhY2QJUDAALB\n6OW4t99+W4WFhcrJydHy5csvOr+iokLJyckaNWqUb+z2229XQ0OD/vKXv/RnqQCAfmA0hKZNm6b9\n+/drxYoVstlsF51fXV2t2NhYv7GYmBjfMgDAlcXo5bhrr732kuY3NjYqPDzcb6zj68bGxj7V0PH8\nfzBrbm6WRC8kenEuetGJXrTr6EMgDZqn4y5XSMiQORQACBqD4um43oqIiJDb7fYb6/g6IiKiT9sM\n9k9AS3wa/Fz0ohO96EQv2gX9GxMcDodOnTrlN+ZyuSRJU6ZMMVESAOAyXFEhNHv2bFVUVPglcXl5\nucaOHau4uDiDlQEA+mJQh1Btba3ef/9939f333+/PB6PsrOz9dZbb6mgoECFhYXKzs7W8OHDDVYK\nAOiLQR1CW7duVXp6uu/rcePGaffu3fJ6vVqzZo1KS0v18MMP87YEALhC2awgfvFaZWUlf8pB3HQ9\nF73oRC860Yt2HQ8mBPLn5qA+EwIADG2EEADAGEIIAGAMIQQAMIYQAgAYQwgBAIwhhAAAxhBCAABj\nCCEAgDGEEADAGEIIAGAMIQQAMIYQAgAYQwgBAIwhhAAAxhBCAABjCCEAgDGEEADAGEIIAGAMIQQA\nMIYQAgAYQwgBAIwhhAAAxhBCAABjCCEAgDGEEADAGEIIAGCM8RAqLS1VWlqapk+frvT0dB05cqTH\n+YcPH9Z9992npKQk3XbbbdqyZYs8Hs8AVQsACCSjIVRWVqbc3FwtWrRITqdTdrtdmZmZcrlc3c6v\nra1VZmamRo8eLafTqYyMDO3YsUPPPPPMAFcOAAgEYyFkWZacTqeWLl2q1atXa+7cuSooKNBVV12l\n4uLibtfZt2+fWltb5XQ6NWfOHD3wwAN68MEH9e///u+yLGuAjwAAcLmMhVBNTY1Onz6t+fPn+8bC\nwsKUmpqqgwcPdrtOS0uLhg0bppEjR/rGxo4dq6amJrW0tPR7zQCAwDIWQtXV1ZKk2NhYv/GYmBjV\n1taqtbW1yzqLFi1SaGioNm3apIaGBv35z39WcXGx7rjjDo0YMWIgygYABNAwUztubGyUJIWHh/uN\nh4eHq62tTc3NzYqIiPBbNnnyZOXk5Ojxxx/Xzp07JUkJCQl64okn+lxHVVVVn9cdKpqbmyXRC4le\nnItedKIX7Tr6EEhG7wlJks1m63Z5d+O//OUvtWHDBi1ZskRFRUV68skn9fnnnys7O5vLcQBwBTJ2\nJmS32yVJbrdbUVFRvnG3263Q0NAuZ0iSVFhYqLlz5+rf/u3ffGNTp07VwoUL9frrr+vee++95Dri\n4+P7UP3Q0vHbHb2gF+eiF53oRbuqqio1NTUFdJvGzoQ67gWd/zi2y+WSw+Hodp0zZ87oG9/4ht/Y\n9ddfr7Fjx+rkyZP9UicAoP8YCyGHw6Ho6GiVl5f7xjwejw4cOKDk5ORu17nuuuu6fJi1pqZGDQ0N\nmjRpUr/WCwAIPGOX42w2m7KyspSXl6fIyEjNmDFDJSUlqq+vV0ZGhqT2D6fW1dUpMTFRkvSDH/xA\nDz/8sNavX6+77rpL//d//6ctW7Zo4sSJWrx4salDAQD0kbEQkqRly5bp7Nmz2rNnj4qKihQfH69d\nu3YpJiZGkrR161aVlZXp+PHjkqQ777xToaGhKigo0N69exUVFaWUlBStXbu2y5N0AIDBz2YF8asG\nKisrNXPmTNNlGMdN1070ohO96EQv2nU8mBDIn5vGX2AKAAhehBAAwBhCCABgDCEEADCGEAIAGEMI\nAQCMIYQAAMYQQgAAYwghAIAxhBAAwBhCCABgDCEEADCGEAIAGEMIAQCMIYQAAMYQQgAAYwghAIAx\nhBAAwBhCCABgDCEEADCGEAIAGEMIAQCMIYQAAMYQQgAAYwghAIAxhBAAwBjjIVRaWqq0tDRNnz5d\n6enpOnLkSI/z6+rqlJOTo1tuuUU333yzHnroIdXW1g5QtQCAQDIaQmVlZcrNzdWiRYvkdDplt9uV\nmZkpl8vV7XyPx6OVK1fqz3/+s/Ly8pSfny+Xy6WsrCy1tLQMcPUAgMs1zNSOLcuS0+nU0qVLtXr1\naklSSkqKFixYoOLiYm3YsKHLOq+99pqqq6v1xhtvaMKECZKkiRMnKisrSydOnNDUqVMH9BgAAJfH\nWAjV1NTo9OnTmj9/vm8sLCxMqampOnjwYLfrlJeX61vf+pYvgCQpPj5ef/zjH/u9XgBA4Bm7HFdd\nXS1Jio2N9RuPiYlRbW2tWltbu6xz/PhxTZkyRVu2bNGtt96qqVOnKjs7W//zP/8zECUDAALM2JlQ\nY2OjJCk8PNxvPDw8XG1tbWpublZERITfsrq6Or366quaOHGifvKTn6ipqUlPP/20vv/976usrEzD\nhl364VRVVfX9IIaI5uZmSfRCohfnohed6EW7jj4EktF7QpJks9m6Xd7duNfrlcfj0Y4dOzRmzBhJ\n7WdO9957r37/+99r4cKF/VcwACDgjIWQ3W6XJLndbkVFRfnG3W63QkNDu5whSdLo0aM1ffp0XwBJ\n0rRp0zRmzBidOHGiTyEUHx/fh+qHlo7f7ugFvTgXvehEL9pVVVWpqakpoNs0dk+o417Q+Y9ju1wu\nORyObteZPHmyPB5Pl3Gv13vBMyoAwOBlLIQcDoeio6NVXl7uG/N4PDpw4ICSk5O7XWfOnDk6fPiw\nPv30U9/Yu+++q6amJiUlJfV7zQCAwOoxhH74wx/q6NGj/bJjm82mrKws/eIXv9Czzz6rP/zhD/rB\nD36g+vp6ZWRkSJJqa2v1/vvv+9bJyMiQ3W5XVlaWysvL9etf/1pr165VUlKS5syZ0y91AgD6T48h\nVFZW1uWVOG63W6tXr9aJEycue+fLli1TTk6O9u7dqzVr1ujLL7/Url27FBMTI0naunWr0tPTffOv\nvvpqvfzyy5o0aZIeffRR5eXl6dZbb1VhYaFCQoy/gQgAcIku+cGElpYWlZeXa9myZQEpYNWqVVq1\nalW3y/Lz85Wfn+83NnnyZG3dujUg+wYAmMXpAwDAGEIIAGAMIQQAMOaiIXQpbzQAAOBSXPTBhIKC\nApWWlvq+7vhgaH5+vt+bCzrYbDYVFxcHtkoAwJDUYwhNmDBBzc3NOnXqlN94dHS0vvjiC33xxRf9\nWhwAYGjrMYTefPPNgaoDABCEeDABAGBMrz+sWl9fr//6r//Shx9+qIaGBtlsNl199dWKi4tTSkpK\nt2+9BgCgJxcNoa+++ko/+9nP9Oqrr6qlpcX3d4A62Gw2DR8+XOnp6XrkkUc0cuTIfisWADC09BhC\nX331le6//3598MEHSklJ0V133aUbb7xRkZGR8ng8amho0AcffKB9+/Zpz549ev/99/Xiiy9qxIgR\nA1U/AOAK1mMI7dy5Ux988IHy8vK0ZMmSbufMnDlTDzzwgF577TX98Ic/VHFxsbKzs/ulWADA0NLj\ngwn79u3Tt7/97QsG0Lnuuece3XHHHdq3b1/AigMADG09htDp06c1a9asXm9s1qxZqq6uvtyaAABB\noscQ+uqrr2S323u9sTFjxqi5ufmyiwIABIceQ8iyrEv6Y3G8Tw4AcCn6/AJTAAAu1yW/wLQnn332\n2WUXBAAIHn16gWlPoqOjL7soAEBw4AWmAABjevXUwXvvvad169Z1u2zjxo3KyMjQoUOHAloYAGDo\nu2gI7dixQ8uXL9d//Md/6JNPPumy3O12609/+pNWrVqlLVu29EuRAIChqccQKi8v16ZNmzR37lz9\n/ve/13XXXddlzpNPPqn9+/dr1qxZ+vnPf66DBw/2W7EAgKGlxxAqLi5WXFyctm3bpokTJ15w3vjx\n47Vjxw5NmjRJRUVFga4RADBE9RhCH3zwge6+++5efVZoxIgRWrx4sY4ePRqw4gAAQ9tF35hwKX+s\n7pprrlFra+tlFwUACA49hlBMTIyqqqp6vbGqqipNmDDhsosCAASHHkNo4cKF2rt3b6/ejF1dXa29\ne/dqzpw5l1RAaWmp0tLSNH36dKWnp+vIkSO9XnfLli266aabLml/AIDBo8cQuv/++/W1r31Ny5cv\n129/+9suf9pbktra2vTb3/5WDz74oIYPH66VK1f2eudlZWXKzc3VokWL5HQ6ZbfblZmZKZfLddF1\nT5w4oW3btvV6XwCAwafHNybY7XZt27ZN//AP/6C1a9cqNzdXCQkJ+trXvqa2tjZ99tlnOnbsmJqa\nmjR+/Hjt2rVL48eP79WOLcuS0+nU0qVLtXr1aklSSkqKFixYoOLiYm3YsOGC67a2tupHP/qRrr76\nan366aeXcLgAgMHkoi8wvfHGG/X666+rpKREb7zxht577z15vV5JUlhYmBITE5WWlqb09HQNHz68\n1zuuqanR6dOnNX/+fN9YWFiYUlNTL/pZo6KiIrndbi1fvlybNm3q9T4BAIPLRUNIkkaOHKnvfe97\n+t73vifLslRfX6/Q0FBFRkb2eccd95liY2P9xmNiYlRbW6vW1laFhoZ2Wa+mpkZOp1M7d+7Uf//3\nf/d5/wAA83oVQuey2Wy6+uqrL3vHjY2NktTlEfDw8HC1tbWpublZERERfsssy9KGDRu0ePFi3Xzz\nzQEJoUt5+m+o6vhruPSCXpyLXnSiF+364y9nX3IIBUrHQw4X+iBsd+O/+MUvVFNTo4KCgn6tDQAw\nMIyFkN1ul9T+AtSoqCjfuNvtVmhoaJczpDNnzuipp57SE088oZEjR8rr9fqCzOv1KiQk5JL+FHmH\n+Pj4yziKoaHjtzt6QS/ORS860Yt2VVVVampqCug2jYVQx70gl8vld1/I5XLJ4XB0mX/o0CG53W6t\nWbOmy7KEhAStXr1a//iP/9hv9QIAAs9YCDkcDkVHR6u8vNz3AVePx6MDBw4oNTW1y/x58+bplVde\n8Rv7zW9+o927d+uVV17RuHHjBqJsAEAAGQshm82mrKws5eXlKTIyUjNmzFBJSYnq6+uVkZEhSaqt\nrVVdXZ0SExN11VVX6aqrrvLbRmVlpSRp2rRpA10+ACAAjIWQJC1btkxnz57Vnj17VFRUpPj4eO3a\ntUsxMTGSpK1bt6qsrEzHjx83WSYAoJ/YrO7exRMkKisrNXPmTNNlGMdN1070ohO96EQv2nU8mBDI\nn5uX/jgZAAABQggBAIwhhAAAxhBCAABjCCEAgDGEEADAGEIIAGAMIQQAMIYQAgAYQwgBAIwhhAAA\nxhBCAABjCCEAgDGEEADAGEIIAGAMIQQAMIYQAgAYQwgBAIwhhAAAxhBCAABjCCEAgDGEEADAGEII\nAGAMIQQAMIYQAgAYQwgBAIwxHkKlpaVKS0vT9OnTlZ6eriNHjvQ4//Dhw3rggQd08803a86cOcrJ\nydHf/va3AaoWABBIRkOorKxMubm5WrRokZxOp+x2uzIzM+Vyubqdf/LkSWVkZCg8PFybNm3SunXr\ndPjwYWVmZsrj8Qxw9QCAyzXM1I4ty5LT6dTSpUu1evVqSVJKSooWLFig4uJibdiwocs6JSUluuaa\na+R0OhUWFiZJio2N1ZIlS1RRUaG5c+cO6DEAAC6PsRCqqanR6dOnNX/+fN9YWFiYUlNTdfDgwW7X\nueGGG3TDDTf4AkiSpkyZIkk6depU/xYMAAg4YyFUXV0tqf1M5lwxMTGqra1Va2urQkND/ZYtW7as\ny3befPNNSZ1hBAC4chgLocbGRklSeHi433h4eLja2trU3NysiIiIHrdx5swZPfnkk5o6dapmz57d\npzqqqqr6tN5Q0tzcLIleSPTiXPSiE71o19GHQDL2YIJlWZIkm83W7fILjXc4c+aMMjIy1NbWpmef\nffai8wEAg4+xMyG73S5JcrvdioqK8o273W6FhoZ2OUM614kTJ5SVlSWv16sXXnhBkydP7nMd8fHx\nfV53qOj47Y5e0Itz0YtO9KJdVVWVmpqaArpNY2dCHfeCzn8c2+VyyeFwXHC9o0ePatmyZQoNDdVL\nL72kuLi4/iwTANCPjIWQw+FQdHS0ysvLfWMej0cHDhxQcnJyt+u4XC5lZWUpKipKL7/8co9hBQAY\n/IxdjrPZbMrKylJeXp4iIyM1Y8YMlZSUqL6+XhkZGZKk2tpa1dXVKTExUZL005/+VI2NjXr88cd1\n5swZnTlzxre9CRMmaNy4cSYOBQDQR8ZCSGp/5Prs2bPas2ePioqKFB8fr127dikmJkaStHXrVpWV\nlen48ePyeDx6++231draqrVr13bZVk5OjjIzMwf6EAAAl8FoCEnSqlWrtGrVqm6X5efnKz8/X1L7\nB1mPHTs2kKUBAPqZ8ReYAgCCFyEEADCGEAIAGEMIAQCMIYQAAMYQQgAAYwghAIAxhBAAwBhCCABg\nDCEEADCGEAIAGEMIAQCMIYQAAMYQQgAAYwghAIAxhBAAwBhCCABgDCEEADCGEAIAGEMIAQCMIYQA\nAMYQQgAAYwghAIAxhBAAwBhCCABgDCEEADCGEAIAGGM8hEpLS5WWlqbp06crPT1dR44c6XH+iRMn\n9OCDDyopKUmpqakqLCyUZVkDVC0AIJCMhlBZWZlyc3O1aNEiOZ1O2e12ZWZmyuVydTv/s88+08qV\nK2Wz2bR582YtXbpUmzdv1gsvvDDAlQMAAmGYqR1bliWn06mlS5dq9erVkqSUlBQtWLBAxcXF2rBh\nQ5d1XnrpJXm9XhUUFGjUqFGaO3euWlpaVFhYqBUrVigsLGygDwMAcBmMnQnV1NTo9OnTmj9/vm8s\nLCxMqampOnjwYLfrVFRUKDk5WaNGjfKN3X777WpoaNBf/vKXfq8ZABBYxkKourpakhQbG+s3HhMT\no9raWrW2tna7Tnfzz90eAODKYexyXGNjoyQpPDzcbzw8PFxtbW1qbm5WREREl3W6m3/u9i7VjI37\n+rTeUNLxYIfNVmO4EvPoRSd60YletLMsSzvvHhfQbRq9JyRJNput2+UXGr+QkJC+ndTVNXc94wIA\nDAxjIWS32yVJbrdbUVFRvnG3263Q0NAuZzySFBERIbfb7TfW8fX5Z029Nc4+ok/rDSVer1eSNGyY\nsW+HQYNedKIXnehFu44+BJKxjnbc23G5XH73eVwulxwOR7frOBwOnTp1ym+s43HuKVOm9KmOd9ff\n3qf1hpKqqipJUnx8vOFKzKMXnehFJ3rRrqqqSk1NTQHdprEHExwOh6Kjo1VeXu4b83g8OnDggJKT\nk7tdZ/bs2aqoqPBrQnl5ucaOHau4uLh+rxkAEFjGzoRsNpuysrKUl5enyMhIzZgxQyUlJaqvr1dG\nRoYkqba2VnV1dUpMTJQk3X///SopKVF2drYyMzP14YcfqrCwUGvXrtXw4cNNHQoAoI+MvjFh2bJl\nysnJ0d69e7VmzRp9+eWX2rVrl++x661btyo9Pd03f9y4cdq9e7e8Xq/WrFmj0tJSPfzww8rMzDR1\nCACAy2CzgvjFa5WVlZo5c6bpMozjencnetGJXnSiF+067gkF8uem8ReYAgCCFyEEADCGEAIAGBP0\n94QAAJcmkPeEgjqEAABmcTkOAGAMIQQAMIYQAgAYQwgBAIwhhAAAxhBCAABjCCEAgDGEEADAGEII\nAGBMUIZQaWmp0tLSNH36dKWnp+vIkSOmSxoQra2t2r17t+68804lJiZq4cKFKikpUcdLMyzLUkFB\ngVJTU/WNb3xDK1eu1MmTJw1X3b9aWlp055136rHHHvONBVsfDh06pCVLlmj69OmaN2+enn/+ebW2\ntkoKrl60trZqx44duuOOO5SUlKQlS5bo0KFDvuXB0ov9+/crKSnJb6w3x97S0qKf/vSnuvXWW5WU\nlKQ1a9bo008/vfgOrSDz6quvWnFxcZbT6bQOHDhgZWZmWklJSVZtba3p0vrd888/b02dOtXaunWr\nVVFRYT3//PNWfHy8VVhYaFmWZTmdTmvatGlWcXGxVV5ebv393/+9NWfOHOuLL74wXHn/2bRpk/X1\nr3/dWrdunW8smPrw3nvvWQkJCda6deusiooKa8eOHdbUqVMtp9NpWVZw9WL79u1WfHy8VVBQYP3n\nf/6n9cgjj1gJCQnWsWPHLMsKjl5UVlZaSUlJVmJiot94b479scces2655RbrV7/6lfXGG29Yd9xx\nh7Vo0SLL6/X2uM+gCqG2tjZr3rx51uOPP+4ba2lpsebPn2/l5eUZrKz/eb1eKykpyXr22Wf9xn/8\n4x9bs2fPtr788ksrMTHR2r59u29ZQ0ODlZSUZL3wwgsDXe6AOHbsmJWYmGh985vf9IVQsPXhvvvu\ns7Kzs/3GnnrqKWv58uVB14sFCxZYjz76qO9rr9drzZ0719q4ceOQ78XZs2etwsJCKyEhwZo1a5Zf\nCPXm2Gtqaqy4uDjrN7/5jW/OJ598Yt10003W7373ux73HVSX42pqanT69GnNnz/fNxYWFqbU1FQd\nPHjQYGX9r7GxUffcc4/S0tL8xq+77jrV1dXpnXfeUVNTk2677TbfssjISN1yyy1Dsjder1c/+tGP\nlJmZqWuvvdY3fvTo0aDpQ11dnQ4fPqylS5f6jf/Lv/yLXnzxxaDqhdR+OSkiIsL3dWhoqOx2uz7/\n/PMh34u3335bhYWFysnJ0fLly/2W9ebY33nnHUlSamqqb47D4dCNN9540f4EVQhVV1dLkmJjY/3G\nY2JiVFtb67sOPhRFRkbq8ccf19/93d/5jb/11lsaP36879ptTEyM3/JJkyb5+jaU7NixQx6PR9nZ\n2X7jHccaDH04fvy4LMvS6NGj9dBDD2natGlKTk6W0+lUW1tbUPVCkpYtW6a9e/fq0KFD+vLLL1Vc\nXKyPPvpICxcuHPK9mDZtmvbv368VK1bIZrP5LevNsX/yySeKiorS6NGjLzjnQoZdVuVXmMbGRklS\neHi433h4eLja2trU3Nzs95vQUPfLX/5SFRUV2rBhgxobGzV8+HANHz7cb054eLivb0PFyZMntW3b\nNhUVFXU53mDqQ319vSQpJydHd911lzIyMvSnP/1JBQUFGjFihCzLCppeSNJ9992nd955RxkZGb6x\nhx9+WLfddpu2b98+pHtx7tWA8/Xm/wm3293l52rHnL/+9a897juoQsj6/0+BnZ/0HS40PhS9/vrr\nys3N1be//W0tX75c27dvD4q+tLW1af369br33nu7PAEktX+PBEMfJMnj8UiS5syZo3Xr1kmSZs+e\nrfr6ehUUFCg7OztoemFZljIzM3Xy5Enl5ubq+uuvV0VFhX7+859rzJgxQfV9cb7eHPvl9CeoQshu\nt0tqT+2oqCjfuNvtVmhoaLdJPhTt3r1bP/vZzzR//nw9/fTTstlsstvtamlpkcfjUVhYmG+u2+32\n9W0oePHFF3XmzBkVFhbK6/X6xi3LktfrDZo+SJ1XBL71rW/5jaekpOill17SmDFjgqYXlZWVqqys\n1ObNm3XnnXdKkr75zW+qtbVVTz31lP75n/85aHpxvt78PxERESG3291l3d70J6juCXXcC3K5XH7j\nLpdLDofDQEUD75lnnlF+fr4WL16s559/3neKHRsbK8uydOrUKb/5p06d0nXXXWei1H5RXl6uv/71\nr5o1a5YSEhKUkJCgDz/8UK+99poSEhI0bNiwoOiDJE2ePFlS5xlRh45wDqZedFwySkxM9BufOXOm\nmpubZbPZgqYX5+vNzwaHw6G//e1v+uqrry4450KCKoQcDoeio6NVXl7uG/N4PDpw4ICSk5MNVjYw\niouLtX37dq1YsUL5+fkaNqzzRDgpKUkjRozw683nn3+ud999d0j1ZuPGjXrllVf8/nM4HJo3b55e\neeUVfec73wmKPkjSDTfcoGuvvVb79u3zG//DH/6gcePGBVUvOn4JPXz4sN/40aNHNWzYMKWlpQVN\nL87Xm58NycnJam1t1ZtvvumbU11drY8++uii/Qmqy3E2m01ZWVnKy8tTZGSkZsyYoZKSEtXX1/vd\njByK/vd//1dPP/20vv71r+s73/mOjh496rd86tSpWr58uZ577jmFhITI4XBo27ZtioiI0JIlSwxV\nHXhTpkzpMjZy5EiNHTtW06ZNk6Sg6IMkhYSE6JFHHtG6deuUm5urBQsWqKKiQmVlZfrxj3+siIiI\noOnF1KlTlZqaqo0bN6qhoUHXX3+93n33Xe3cuVMrVqzQ+PHjg6YX5wsPD7/osU+ePFkLFizQv/7r\nv6qxsVFjxozRM888o5tuukm33357j9sPqhCS2h/DPHv2rPbs2aOioiLFx8dr165dXR4/HGr++Mc/\nqqWlRSdOnFB6enqX5YcOHdIjjzyikJAQvfDCC2pqalJSUpLy8/OH/DXv8wVTH+655x4NGzZM27dv\n16uvvqro6Ght3LjR9z0STL147rnntHnzZm3btk2ff/65YmNjtX79en33u9+VFFy9OF9vjv2JJ57Q\nE088oaefflptbW1KSUnR+vXrFRoa2uO2bVbHI2MAAAywoLonBAAYXAghAIAxhBAAwBhCCABgDCEE\nADCGEAJvM21YAAAB2klEQVQAGBN0nxMCTHrsscdUVlbmNzZ8+HBdc801SklJ0UMPPaRJkyb1OP9c\nEydO9PuUOnClIYQAA5588knfv5uamvTRRx/pV7/6lX73u9/p5Zdf1g033HDB+ecKlpfuYugihAAD\nFi9e3GVsyZIl+u53v6t/+qd/0q9//WuFhIT0OB8YCrgnBAwS8fHx+v73v6+PP/5Yb731lulygAFB\nCAGDyN133y1JOnjwoOFKgIHB5ThgEImJidGoUaP04Ycf+o3X1dV1mRsSEqKxY8cOVGlAvyCEgEFm\nzJgxamho8Bvr7m+y2O12vffeewNVFtAvCCFgkPF6vbLZbH5ju3fv7jLv3D9KCFyp+C4GBpHW1lZ9\n8cUXXf4kckpKiqGKgP7FgwnAIPLxxx/L4/EoLi7OdCnAgCCEgEFk3759kqR58+YZrgQYGIQQMEh8\n/PHHKioqUlxcnG699VbT5QADgntCgAF79+71/bupqUnHjx/X3r17NWLECG3atKnLgwnAUEUIAQbk\n5OT4/h0WFqYJEybonnvuUXZ2tqKjow1WBgwsm2VZlukiAADBiXtCAABjCCEAgDGEEADAGEIIAGAM\nIQQAMIYQAgAYQwgBAIwhhAAAxhBCAABjCCEAgDH/D+uPjBq/WygdAAAAAElFTkSuQmCC\n",
      "text/plain": [
       "<matplotlib.figure.Figure at 0x10f0d2450>"
      ]
     },
     "metadata": {},
     "output_type": "display_data"
    }
   ],
   "source": [
<<<<<<< HEAD
    "# Your turn.\n",
    "df = list(sorted((X > 0).sum(axis=0).reshape(-1).tolist()[0]))\n",
    "rows, features = X.shape\n",
    "height, axis = np.histogram(df, bins=len(np.unique(df)))\n",
    "cumhist = np.cumsum(height * 1, axis=0) / features\n",
    "axis = np.insert(axis, 0, 0)\n",
    "cumhist = np.insert(cumhist, 0, 0)\n",
    "plt.plot(axis[:-1], cumhist)\n",
    "plt.xlim(-.1, 100)\n",
    "plt.xlabel(\"DF\")\n",
    "plt.ylabel(\"CDF\")\n",
    "\n",
    "\n",
    "#point of exc is to see what elbow point is for tuning, which you can also find using cross validation\n"
=======
    "\"\"\"\n",
    "Function\n",
    "--------\n",
    "calibration_plot\n",
    "\n",
    "Builds a plot like the one above, from a classifier and review data\n",
    "\n",
    "Inputs\n",
    "-------\n",
    "clf : Classifier object\n",
    "    A MultinomialNB classifier\n",
    "X : (Nexample, Nfeature) array\n",
    "    The bag-of-words data\n",
    "Y : (Nexample) integer array\n",
    "    1 if a review is Fresh\n",
    "\"\"\"    \n",
    "#your code here\n",
    "\n",
    "def calibration_plot(clf, xtest, ytest):\n",
    "    prob = clf.predict_proba(xtest)[:, 1]\n",
    "    outcome = ytest\n",
    "    data = pd.DataFrame(dict(prob=prob, outcome=outcome))\n",
    "\n",
    "    #group outcomes into bins of similar probability\n",
    "    bins = np.linspace(0, 1, 20)\n",
    "    cuts = pd.cut(prob, bins)\n",
    "    binwidth = bins[1] - bins[0]\n",
    "    \n",
    "    #freshness ratio and number of examples in each bin\n",
    "    cal = data.groupby(cuts).outcome.agg(['mean', 'count'])\n",
    "    cal['pmid'] = (bins[:-1] + bins[1:]) / 2\n",
    "    cal['sig'] = np.sqrt(cal.pmid * (1 - cal.pmid) / cal['count'])\n",
    "        \n",
    "    #the calibration plot\n",
    "    ax = plt.subplot2grid((3, 1), (0, 0), rowspan=2)\n",
    "    p = plt.errorbar(cal.pmid, cal['mean'], cal['sig'])\n",
    "    plt.plot(cal.pmid, cal.pmid, linestyle='--', lw=1, color='k')\n",
    "    plt.ylabel(\"Empirical P(Fresh)\")\n",
    "    \n",
    "    #the distribution of P(fresh)\n",
    "    ax = plt.subplot2grid((3, 1), (2, 0), sharex=ax)\n",
    "    \n",
    "    plt.bar(left=cal.pmid - binwidth / 2, height=cal['count'],\n",
    "            width=.95 * (bins[1] - bins[0]),\n",
    "            fc=p[0].get_color())\n",
    "    \n",
    "    plt.xlabel(\"Predicted P(Fresh)\")\n",
    "    plt.ylabel(\"Number\")"
   ]
  },
  {
   "cell_type": "code",
   "execution_count": 23,
   "metadata": {},
   "outputs": [
    {
     "name": "stderr",
     "output_type": "stream",
     "text": [
      "/usr/local/lib/python3.6/site-packages/matplotlib/__init__.py:1710: MatplotlibDeprecationWarning: The *left* kwarg to `bar` is deprecated use *x* instead. Support for *left* will be removed in Matplotlib 3.0\n",
      "  return func(ax, *args, **kwargs)\n"
     ]
    },
    {
     "data": {
      "image/png": "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\n",
      "text/plain": [
       "<matplotlib.figure.Figure at 0x111a645c0>"
      ]
     },
     "metadata": {},
     "output_type": "display_data"
    }
   ],
   "source": [
    "calibration_plot(multi, X_test, y_test)\n"
>>>>>>> 5bbc9b15926c614117c9cc345967bcfd0b7c27c6
   ]
  },
  {
   "cell_type": "markdown",
   "metadata": {},
   "source": [
    "The parameter $\\alpha$ is chosen to be a small value that simply avoids having zeros in the probability computations. This value can sometimes be chosen arbitrarily with domain expertise, but we will use K-fold cross validation. In K-fold cross-validation, we divide the data into $K$ non-overlapping parts. We train on $K-1$ of the folds and test on the remaining fold. We then iterate, so that each fold serves as the test fold exactly once. The function `cv_score` performs the K-fold cross-validation algorithm for us, but we need to pass a function that measures the performance of the algorithm on each fold. "
   ]
  },
  {
   "cell_type": "code",
<<<<<<< HEAD
   "execution_count": 10,
   "metadata": {
    "collapsed": true
   },
=======
   "execution_count": 24,
   "metadata": {},
>>>>>>> 5bbc9b15926c614117c9cc345967bcfd0b7c27c6
   "outputs": [],
   "source": [
    "from sklearn.model_selection import KFold\n",
    "def cv_score(clf, X, y, scorefunc):\n",
    "    result = 0.\n",
    "    nfold = 5\n",
    "    for train, test in KFold(nfold).split(X): # split data into train/test groups, 5 times\n",
    "        clf.fit(X[train], y[train]) # fit the classifier, passed is as clf.\n",
    "        result += scorefunc(clf, X[test], y[test]) # evaluate score function on held-out data\n",
    "    return result / nfold # average"
   ]
  },
  {
   "cell_type": "markdown",
   "metadata": {},
   "source": [
    "We use the log-likelihood as the score here in `scorefunc`. The higher the log-likelihood, the better. Indeed, what we do in `cv_score` above is to implement the cross-validation part of `GridSearchCV`.\n",
    "\n",
    "The custom scoring function `scorefunc` allows us to use different metrics depending on the decision risk we care about (precision, accuracy, profit etc.) directly on the validation set. You will often find people using `roc_auc`, precision, recall, or `F1-score` as the scoring function."
   ]
  },
  {
   "cell_type": "code",
<<<<<<< HEAD
   "execution_count": 11,
   "metadata": {
    "collapsed": true
   },
=======
   "execution_count": 25,
   "metadata": {},
>>>>>>> 5bbc9b15926c614117c9cc345967bcfd0b7c27c6
   "outputs": [],
   "source": [
    "def log_likelihood(clf, x, y):\n",
    "    prob = clf.predict_log_proba(x)\n",
    "    rotten = y == 0\n",
    "    fresh = ~rotten\n",
    "    return prob[rotten, 0].sum() + prob[fresh, 1].sum()"
   ]
  },
  {
   "cell_type": "markdown",
   "metadata": {},
   "source": [
    "We'll cross-validate over the regularization parameter $\\alpha$."
   ]
  },
  {
   "cell_type": "markdown",
   "metadata": {},
   "source": [
    "Let's set up the train and test masks first, and then we can run the cross-validation procedure."
   ]
  },
  {
   "cell_type": "code",
   "execution_count": 12,
   "metadata": {
    "collapsed": true
   },
   "outputs": [],
   "source": [
    "from sklearn.model_selection import train_test_split\n",
    "_, itest = train_test_split(range(critics.shape[0]), test_size=0.3)\n",
    "mask = np.zeros(critics.shape[0], dtype=np.bool)\n",
    "mask[itest] = True"
   ]
  },
  {
   "cell_type": "markdown",
   "metadata": {},
   "source": [
    "<div class=\"span5 alert alert-info\">\n",
    "<h3>Exercise Set IV</h3>\n",
    "\n",
    "<p><b>Exercise:</b> What does using the function `log_likelihood` as the score mean? What are we trying to optimize for?</p>\n",
    "\n",
    "<p><b>Exercise:</b> Without writing any code, what do you think would happen if you choose a value of $\\alpha$ that is too high?</p>\n",
    "\n",
    "<p><b>Exercise:</b> Using the skeleton code below, find the best values of the parameter `alpha`, and use the value of `min_df` you chose in the previous exercise set. Use the `cv_score` function above with the `log_likelihood` function for scoring.</p>\n",
    "</div>"
   ]
  },
  {
   "cell_type": "code",
<<<<<<< HEAD
   "execution_count": 14,
   "metadata": {},
   "outputs": [
    {
     "ename": "ValueError",
     "evalue": "negative value for max_df or min_df",
     "output_type": "error",
     "traceback": [
      "\u001b[0;31m---------------------------------------------------------------------------\u001b[0m",
      "\u001b[0;31mValueError\u001b[0m                                Traceback (most recent call last)",
      "\u001b[0;32m<ipython-input-14-f4a1bd7f0c66>\u001b[0m in \u001b[0;36m<module>\u001b[0;34m()\u001b[0m\n\u001b[1;32m      9\u001b[0m \u001b[0mmaxscore\u001b[0m\u001b[0;34m=\u001b[0m\u001b[0;34m-\u001b[0m\u001b[0mnp\u001b[0m\u001b[0;34m.\u001b[0m\u001b[0minf\u001b[0m\u001b[0;34m\u001b[0m\u001b[0m\n\u001b[1;32m     10\u001b[0m \u001b[0;32mfor\u001b[0m \u001b[0malpha\u001b[0m \u001b[0;32min\u001b[0m \u001b[0malphas\u001b[0m\u001b[0;34m:\u001b[0m\u001b[0;34m\u001b[0m\u001b[0m\n\u001b[0;32m---> 11\u001b[0;31m     \u001b[0mvectorizer\u001b[0m \u001b[0;34m=\u001b[0m \u001b[0mCountVectorizer\u001b[0m\u001b[0;34m(\u001b[0m\u001b[0mmin_df\u001b[0m\u001b[0;34m=\u001b[0m\u001b[0mbest_min_df\u001b[0m\u001b[0;34m)\u001b[0m\u001b[0;34m\u001b[0m\u001b[0m\n\u001b[0m\u001b[1;32m     12\u001b[0m     \u001b[0mXthis\u001b[0m\u001b[0;34m,\u001b[0m \u001b[0mythis\u001b[0m \u001b[0;34m=\u001b[0m \u001b[0mmake_xy\u001b[0m\u001b[0;34m(\u001b[0m\u001b[0mcritics\u001b[0m\u001b[0;34m,\u001b[0m \u001b[0mvectorizer\u001b[0m\u001b[0;34m)\u001b[0m\u001b[0;34m\u001b[0m\u001b[0m\n\u001b[1;32m     13\u001b[0m     \u001b[0mXtrainthis\u001b[0m \u001b[0;34m=\u001b[0m \u001b[0mXthis\u001b[0m\u001b[0;34m[\u001b[0m\u001b[0mmask\u001b[0m\u001b[0;34m]\u001b[0m\u001b[0;34m\u001b[0m\u001b[0m\n",
      "\u001b[0;32m/usr/local/lib/python2.7/site-packages/sklearn/feature_extraction/text.pyc\u001b[0m in \u001b[0;36m__init__\u001b[0;34m(self, input, encoding, decode_error, strip_accents, lowercase, preprocessor, tokenizer, stop_words, token_pattern, ngram_range, analyzer, max_df, min_df, max_features, vocabulary, binary, dtype)\u001b[0m\n\u001b[1;32m    675\u001b[0m         \u001b[0mself\u001b[0m\u001b[0;34m.\u001b[0m\u001b[0mmin_df\u001b[0m \u001b[0;34m=\u001b[0m \u001b[0mmin_df\u001b[0m\u001b[0;34m\u001b[0m\u001b[0m\n\u001b[1;32m    676\u001b[0m         \u001b[0;32mif\u001b[0m \u001b[0mmax_df\u001b[0m \u001b[0;34m<\u001b[0m \u001b[0;36m0\u001b[0m \u001b[0;32mor\u001b[0m \u001b[0mmin_df\u001b[0m \u001b[0;34m<\u001b[0m \u001b[0;36m0\u001b[0m\u001b[0;34m:\u001b[0m\u001b[0;34m\u001b[0m\u001b[0m\n\u001b[0;32m--> 677\u001b[0;31m             \u001b[0;32mraise\u001b[0m \u001b[0mValueError\u001b[0m\u001b[0;34m(\u001b[0m\u001b[0;34m\"negative value for max_df or min_df\"\u001b[0m\u001b[0;34m)\u001b[0m\u001b[0;34m\u001b[0m\u001b[0m\n\u001b[0m\u001b[1;32m    678\u001b[0m         \u001b[0mself\u001b[0m\u001b[0;34m.\u001b[0m\u001b[0mmax_features\u001b[0m \u001b[0;34m=\u001b[0m \u001b[0mmax_features\u001b[0m\u001b[0;34m\u001b[0m\u001b[0m\n\u001b[1;32m    679\u001b[0m         \u001b[0;32mif\u001b[0m \u001b[0mmax_features\u001b[0m \u001b[0;32mis\u001b[0m \u001b[0;32mnot\u001b[0m \u001b[0mNone\u001b[0m\u001b[0;34m:\u001b[0m\u001b[0;34m\u001b[0m\u001b[0m\n",
      "\u001b[0;31mValueError\u001b[0m: negative value for max_df or min_df"
=======
   "execution_count": 27,
   "metadata": {},
   "outputs": [
    {
     "ename": "TypeError",
     "evalue": "'<' not supported between instances of 'NoneType' and 'int'",
     "output_type": "error",
     "traceback": [
      "\u001b[0;31m---------------------------------------------------------------------------\u001b[0m",
      "\u001b[0;31mTypeError\u001b[0m                                 Traceback (most recent call last)",
      "\u001b[0;32m<ipython-input-27-b25de11d517f>\u001b[0m in \u001b[0;36m<module>\u001b[0;34m()\u001b[0m\n\u001b[1;32m      9\u001b[0m \u001b[0mmaxscore\u001b[0m\u001b[0;34m=\u001b[0m\u001b[0;34m-\u001b[0m\u001b[0mnp\u001b[0m\u001b[0;34m.\u001b[0m\u001b[0minf\u001b[0m\u001b[0;34m\u001b[0m\u001b[0m\n\u001b[1;32m     10\u001b[0m \u001b[0;32mfor\u001b[0m \u001b[0malpha\u001b[0m \u001b[0;32min\u001b[0m \u001b[0malphas\u001b[0m\u001b[0;34m:\u001b[0m\u001b[0;34m\u001b[0m\u001b[0m\n\u001b[0;32m---> 11\u001b[0;31m     \u001b[0mvectorizer\u001b[0m \u001b[0;34m=\u001b[0m \u001b[0mCountVectorizer\u001b[0m\u001b[0;34m(\u001b[0m\u001b[0mmin_df\u001b[0m\u001b[0;34m=\u001b[0m\u001b[0mbest_min_df\u001b[0m\u001b[0;34m)\u001b[0m\u001b[0;34m\u001b[0m\u001b[0m\n\u001b[0m\u001b[1;32m     12\u001b[0m     \u001b[0mXthis\u001b[0m\u001b[0;34m,\u001b[0m \u001b[0mythis\u001b[0m \u001b[0;34m=\u001b[0m \u001b[0mmake_xy\u001b[0m\u001b[0;34m(\u001b[0m\u001b[0mcritics\u001b[0m\u001b[0;34m,\u001b[0m \u001b[0mvectorizer\u001b[0m\u001b[0;34m)\u001b[0m\u001b[0;34m\u001b[0m\u001b[0m\n\u001b[1;32m     13\u001b[0m     \u001b[0mXtrainthis\u001b[0m \u001b[0;34m=\u001b[0m \u001b[0mXthis\u001b[0m\u001b[0;34m[\u001b[0m\u001b[0mmask\u001b[0m\u001b[0;34m]\u001b[0m\u001b[0;34m\u001b[0m\u001b[0m\n",
      "\u001b[0;32m/usr/local/lib/python3.6/site-packages/sklearn/feature_extraction/text.py\u001b[0m in \u001b[0;36m__init__\u001b[0;34m(self, input, encoding, decode_error, strip_accents, lowercase, preprocessor, tokenizer, stop_words, token_pattern, ngram_range, analyzer, max_df, min_df, max_features, vocabulary, binary, dtype)\u001b[0m\n\u001b[1;32m    704\u001b[0m         \u001b[0mself\u001b[0m\u001b[0;34m.\u001b[0m\u001b[0mmax_df\u001b[0m \u001b[0;34m=\u001b[0m \u001b[0mmax_df\u001b[0m\u001b[0;34m\u001b[0m\u001b[0m\n\u001b[1;32m    705\u001b[0m         \u001b[0mself\u001b[0m\u001b[0;34m.\u001b[0m\u001b[0mmin_df\u001b[0m \u001b[0;34m=\u001b[0m \u001b[0mmin_df\u001b[0m\u001b[0;34m\u001b[0m\u001b[0m\n\u001b[0;32m--> 706\u001b[0;31m         \u001b[0;32mif\u001b[0m \u001b[0mmax_df\u001b[0m \u001b[0;34m<\u001b[0m \u001b[0;36m0\u001b[0m \u001b[0;32mor\u001b[0m \u001b[0mmin_df\u001b[0m \u001b[0;34m<\u001b[0m \u001b[0;36m0\u001b[0m\u001b[0;34m:\u001b[0m\u001b[0;34m\u001b[0m\u001b[0m\n\u001b[0m\u001b[1;32m    707\u001b[0m             \u001b[0;32mraise\u001b[0m \u001b[0mValueError\u001b[0m\u001b[0;34m(\u001b[0m\u001b[0;34m\"negative value for max_df or min_df\"\u001b[0m\u001b[0;34m)\u001b[0m\u001b[0;34m\u001b[0m\u001b[0m\n\u001b[1;32m    708\u001b[0m         \u001b[0mself\u001b[0m\u001b[0;34m.\u001b[0m\u001b[0mmax_features\u001b[0m \u001b[0;34m=\u001b[0m \u001b[0mmax_features\u001b[0m\u001b[0;34m\u001b[0m\u001b[0m\n",
      "\u001b[0;31mTypeError\u001b[0m: '<' not supported between instances of 'NoneType' and 'int'"
>>>>>>> 5bbc9b15926c614117c9cc345967bcfd0b7c27c6
     ]
    }
   ],
   "source": [
    "from sklearn.naive_bayes import MultinomialNB\n",
    "\n",
    "#the grid of parameters to search over\n",
    "alphas = [.1, 1, 5, 10, 50]\n",
    "best_min_df = None # YOUR TURN: put your value of min_df here.\n",
    "\n",
    "#Find the best value for alpha and min_df, and the best classifier\n",
    "best_alpha = None\n",
    "maxscore=-np.inf\n",
    "for alpha in alphas:        \n",
    "    vectorizer = CountVectorizer(min_df=best_min_df)       \n",
    "    Xthis, ythis = make_xy(critics, vectorizer)\n",
    "    Xtrainthis = Xthis[mask]\n",
    "    ytrainthis = ythis[mask]\n",
    "    # your turn"
   ]
  },
  {
   "cell_type": "code",
   "execution_count": null,
   "metadata": {
    "collapsed": true
   },
   "outputs": [],
   "source": [
    "print(\"alpha: {}\".format(best_alpha))"
   ]
  },
  {
   "cell_type": "markdown",
   "metadata": {},
   "source": [
    "<div class=\"span5 alert alert-info\">\n",
    "<h3>Exercise Set V: Working with the Best Parameters</h3>\n",
    "\n",
    "<p><b>Exercise:</b> Using the best value of  `alpha` you just found, calculate the accuracy on the training and test sets. Is this classifier better? Why (not)?</p>\n",
    "\n",
    "</div>"
   ]
  },
  {
   "cell_type": "code",
   "execution_count": null,
   "metadata": {
    "collapsed": true
   },
   "outputs": [],
   "source": [
    "vectorizer = CountVectorizer(min_df=best_min_df)\n",
    "X, y = make_xy(critics, vectorizer)\n",
    "xtrain=X[mask]\n",
    "ytrain=y[mask]\n",
    "xtest=X[~mask]\n",
    "ytest=y[~mask]\n",
    "\n",
    "clf = MultinomialNB(alpha=best_alpha).fit(xtrain, ytrain)\n",
    "\n",
    "#your turn. Print the accuracy on the test and training dataset\n",
    "training_accuracy = clf.score(xtrain, ytrain)\n",
    "test_accuracy = clf.score(xtest, ytest)\n",
    "\n",
    "print(\"Accuracy on training data: {:2f}\".format(training_accuracy))\n",
    "print(\"Accuracy on test data:     {:2f}\".format(test_accuracy))"
   ]
  },
  {
   "cell_type": "code",
   "execution_count": null,
   "metadata": {
    "collapsed": true
   },
   "outputs": [],
   "source": [
    "from sklearn.metrics import confusion_matrix\n",
    "print(confusion_matrix(ytest, clf.predict(xtest)))"
   ]
  },
  {
   "cell_type": "markdown",
   "metadata": {},
   "source": [
    "## Interpretation"
   ]
  },
  {
   "cell_type": "markdown",
   "metadata": {},
   "source": [
    "### What are the strongly predictive features?\n",
    "\n",
    "We use a neat trick to identify strongly predictive features (i.e. words). \n",
    "\n",
    "* first, create a data set such that each row has exactly one feature. This is represented by the identity matrix.\n",
    "* use the trained classifier to make predictions on this matrix\n",
    "* sort the rows by predicted probabilities, and pick the top and bottom $K$ rows"
   ]
  },
  {
   "cell_type": "code",
   "execution_count": null,
   "metadata": {
    "collapsed": true
   },
   "outputs": [],
   "source": [
    "words = np.array(vectorizer.get_feature_names())\n",
    "\n",
    "x = np.eye(xtest.shape[1])\n",
    "probs = clf.predict_log_proba(x)[:, 0]\n",
    "ind = np.argsort(probs)\n",
    "\n",
    "good_words = words[ind[:10]]\n",
    "bad_words = words[ind[-10:]]\n",
    "\n",
    "good_prob = probs[ind[:10]]\n",
    "bad_prob = probs[ind[-10:]]\n",
    "\n",
    "print(\"Good words\\t     P(fresh | word)\")\n",
    "for w, p in zip(good_words, good_prob):\n",
    "    print(\"{:>20}\".format(w), \"{:.2f}\".format(1 - np.exp(p)))\n",
    "    \n",
    "print(\"Bad words\\t     P(fresh | word)\")\n",
    "for w, p in zip(bad_words, bad_prob):\n",
    "    print(\"{:>20}\".format(w), \"{:.2f}\".format(1 - np.exp(p)))"
   ]
  },
  {
   "cell_type": "markdown",
   "metadata": {},
   "source": [
    "<div class=\"span5 alert alert-info\">\n",
    "<h3>Exercise Set VI</h3>\n",
    "\n",
    "<p><b>Exercise:</b> Why does this method work? What does the probability for each row in the identity matrix represent</p>\n",
    "\n",
    "</div>"
   ]
  },
  {
   "cell_type": "markdown",
   "metadata": {},
   "source": [
    "The above exercise is an example of *feature selection*. There are many other feature selection methods. A list of feature selection methods available in `sklearn` is [here](http://scikit-learn.org/stable/modules/classes.html#module-sklearn.feature_selection). The most common feature selection technique for text mining is the chi-squared $\\left( \\chi^2 \\right)$ [method](http://nlp.stanford.edu/IR-book/html/htmledition/feature-selectionchi2-feature-selection-1.html)."
   ]
  },
  {
   "cell_type": "markdown",
   "metadata": {},
   "source": [
    "### Prediction Errors\n",
    "\n",
    "We can see mis-predictions as well."
   ]
  },
  {
   "cell_type": "code",
   "execution_count": null,
   "metadata": {
    "collapsed": true
   },
   "outputs": [],
   "source": [
    "x, y = make_xy(critics, vectorizer)\n",
    "\n",
    "prob = clf.predict_proba(x)[:, 0]\n",
    "predict = clf.predict(x)\n",
    "\n",
    "bad_rotten = np.argsort(prob[y == 0])[:5]\n",
    "bad_fresh = np.argsort(prob[y == 1])[-5:]\n",
    "\n",
    "print(\"Mis-predicted Rotten quotes\")\n",
    "print('---------------------------')\n",
    "for row in bad_rotten:\n",
    "    print(critics[y == 0].quote.iloc[row])\n",
    "    print(\"\")\n",
    "\n",
    "print(\"Mis-predicted Fresh quotes\")\n",
    "print('--------------------------')\n",
    "for row in bad_fresh:\n",
    "    print(critics[y == 1].quote.iloc[row])\n",
    "    print(\"\")"
   ]
  },
  {
   "cell_type": "markdown",
   "metadata": {},
   "source": [
    "<div class=\"span5 alert alert-info\">\n",
    "<h3>Exercise Set VII: Predicting the Freshness for a New Review</h3>\n",
    "<br/>\n",
    "<div>\n",
    "<b>Exercise:</b>\n",
    "<ul>\n",
    "<li> Using your best trained classifier, predict the freshness of the following sentence: *'This movie is not remarkable, touching, or superb in any way'*\n",
    "<li> Is the result what you'd expect? Why (not)?\n",
    "</ul>\n",
    "</div>\n",
    "</div>"
   ]
  },
  {
   "cell_type": "code",
   "execution_count": null,
   "metadata": {
    "collapsed": true
   },
   "outputs": [],
   "source": [
    "#your turn"
   ]
  },
  {
   "cell_type": "markdown",
   "metadata": {},
   "source": [
    "### Aside: TF-IDF Weighting for Term Importance\n",
    "\n",
    "TF-IDF stands for \n",
    "\n",
    "`Term-Frequency X Inverse Document Frequency`.\n",
    "\n",
    "In the standard `CountVectorizer` model above, we used just the term frequency in a document of words in our vocabulary. In TF-IDF, we weight this term frequency by the inverse of its popularity in all documents. For example, if the word \"movie\" showed up in all the documents, it would not have much predictive value. It could actually be considered a stopword. By weighing its counts by 1 divided by its overall frequency, we downweight it. We can then use this TF-IDF weighted features as inputs to any classifier. **TF-IDF is essentially a measure of term importance, and of how discriminative a word is in a corpus.** There are a variety of nuances involved in computing TF-IDF, mainly involving where to add the smoothing term to avoid division by 0, or log of 0 errors. The formula for TF-IDF in `scikit-learn` differs from that of most textbooks: \n",
    "\n",
    "$$\\mbox{TF-IDF}(t, d) = \\mbox{TF}(t, d)\\times \\mbox{IDF}(t) = n_{td} \\log{\\left( \\frac{\\vert D \\vert}{\\vert d : t \\in d \\vert} + 1 \\right)}$$\n",
    "\n",
    "where $n_{td}$ is the number of times term $t$ occurs in document $d$, $\\vert D \\vert$ is the number of documents, and $\\vert d : t \\in d \\vert$ is the number of documents that contain $t$"
   ]
  },
  {
   "cell_type": "code",
   "execution_count": null,
   "metadata": {
    "collapsed": true
   },
   "outputs": [],
   "source": [
    "# http://scikit-learn.org/dev/modules/feature_extraction.html#text-feature-extraction\n",
    "# http://scikit-learn.org/dev/modules/classes.html#text-feature-extraction-ref\n",
    "from sklearn.feature_extraction.text import TfidfVectorizer\n",
    "tfidfvectorizer = TfidfVectorizer(min_df=1, stop_words='english')\n",
    "Xtfidf=tfidfvectorizer.fit_transform(critics.quote)"
   ]
  },
  {
   "cell_type": "markdown",
   "metadata": {},
   "source": [
    "<div class=\"span5 alert alert-info\">\n",
    "<h3>Exercise Set VIII: Enrichment</h3>\n",
    "\n",
    "<p>\n",
    "There are several additional things we could try. Try some of these as exercises:\n",
    "<ol>\n",
    "<li> Build a Naive Bayes model where the features are n-grams instead of words. N-grams are phrases containing n words next to each other: a bigram contains 2 words, a trigram contains 3 words, and 6-gram contains 6 words. This is useful because \"not good\" and \"so good\" mean very different things. On the other hand, as n increases, the model does not scale well since the feature set becomes more sparse.\n",
    "<li> Try a model besides Naive Bayes, one that would allow for interactions between words -- for example, a Random Forest classifier.\n",
    "<li> Try adding supplemental features -- information about genre, director, cast, etc.\n",
    "<li> Use word2vec or [Latent Dirichlet Allocation](https://en.wikipedia.org/wiki/Latent_Dirichlet_allocation) to group words into topics and use those topics for prediction.\n",
    "<li> Use TF-IDF weighting instead of word counts.\n",
    "</ol>\n",
    "</p>\n",
    "\n",
    "<b>Exercise:</b> Try a few of these ideas to improve the model (or any other ideas of your own). Implement here and report on the result.\n",
    "</div>"
   ]
  },
  {
   "cell_type": "code",
   "execution_count": null,
   "metadata": {
    "collapsed": true
   },
   "outputs": [],
   "source": [
    "# Your turn"
   ]
  }
 ],
 "metadata": {
  "kernelspec": {
   "display_name": "Python 3",
   "language": "python",
   "name": "python3"
  },
  "language_info": {
   "codemirror_mode": {
    "name": "ipython",
    "version": 3
   },
   "file_extension": ".py",
   "mimetype": "text/x-python",
   "name": "python",
   "nbconvert_exporter": "python",
   "pygments_lexer": "ipython3",
   "version": "3.6.3"
  }
 },
 "nbformat": 4,
 "nbformat_minor": 1
}
