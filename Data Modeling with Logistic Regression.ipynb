{
 "cells": [
  {
   "cell_type": "code",
   "execution_count": 6,
   "metadata": {
    "collapsed": true
   },
   "outputs": [],
   "source": [
    "import sys, os\n",
    "sys.path.append(os.environ['minotaur'])\n",
    "\n",
    "import datetime\n",
    "import seaborn as sns\n",
    "import sklearn\n",
    "from sklearn.model_selection import cross_val_score\n",
    "\n",
    "\n",
    "import yaml\n",
    "\n",
    "%matplotlib inline\n",
    "from matplotlib import pyplot as plt\n",
    "\n",
    "import pandas as pd\n",
    "import numpy as np\n",
    "import patsy\n",
    "import statsmodels.api as sm\n",
    "\n",
    "from pylab import rcParams\n",
    "rcParams['figure.figsize'] = 14,3\n",
    "\n",
    "from dbs import redshift\n",
    "redshift.connect()\n",
    "\n",
    "from __future__ import division\n",
    "\n",
    "from sklearn.linear_model import SGDRegressor, LinearRegression, Ridge, Lasso, LogisticRegression\n",
    "from sklearn.preprocessing import MinMaxScaler\n",
    "from sklearn.model_selection import train_test_split\n",
    "\n"
   ]
  },
  {
   "cell_type": "markdown",
   "metadata": {},
   "source": [
    "### Import data"
   ]
  },
  {
   "cell_type": "markdown",
   "metadata": {
    "collapsed": true
   },
   "source": [
    "class Regression(object):\n",
    "    def _init_(self, X):\n",
    "        self.X = pd.read_csv('final.csv',header=0,index_col=0).copy()\n",
    "        self.y = X['is_won'].copy()\n",
    "        del self.X['is_won']\n",
    "        \n",
    "    def train(self):\n",
    "        X_train, X_test, y_train, y_test = train_test_split(self.X, self.y)\n",
    "    \n",
    "    \n"
   ]
  },
  {
   "cell_type": "code",
   "execution_count": 2,
   "metadata": {},
   "outputs": [
    {
     "data": {
      "text/html": [
       "<div>\n",
       "<style>\n",
       "    .dataframe thead tr:only-child th {\n",
       "        text-align: right;\n",
       "    }\n",
       "\n",
       "    .dataframe thead th {\n",
       "        text-align: left;\n",
       "    }\n",
       "\n",
       "    .dataframe tbody tr th {\n",
       "        vertical-align: top;\n",
       "    }\n",
       "</style>\n",
       "<table border=\"1\" class=\"dataframe\">\n",
       "  <thead>\n",
       "    <tr style=\"text-align: right;\">\n",
       "      <th></th>\n",
       "      <th>call</th>\n",
       "      <th>call_connect</th>\n",
       "      <th>email</th>\n",
       "      <th>marketing_email</th>\n",
       "      <th>site_visit</th>\n",
       "      <th>is_won</th>\n",
       "      <th>region_Africa</th>\n",
       "      <th>region_Australia</th>\n",
       "      <th>region_Australia/New Zealand</th>\n",
       "      <th>region_Belgium</th>\n",
       "      <th>...</th>\n",
       "      <th>region_US (West Coast &amp; Southwest)</th>\n",
       "      <th>region_United Kingdom</th>\n",
       "      <th>region_Western Europe (France and Germany)</th>\n",
       "      <th>tier_1</th>\n",
       "      <th>tier_2</th>\n",
       "      <th>tier_3</th>\n",
       "      <th>tier_4</th>\n",
       "      <th>tier_5</th>\n",
       "      <th>has_inbound</th>\n",
       "      <th>has_outbound</th>\n",
       "    </tr>\n",
       "  </thead>\n",
       "  <tbody>\n",
       "    <tr>\n",
       "      <th>001C000000nUgF7IAK006C0000013XgDcIAK</th>\n",
       "      <td>1.0</td>\n",
       "      <td>0.0</td>\n",
       "      <td>0.0</td>\n",
       "      <td>1.0</td>\n",
       "      <td>0.0</td>\n",
       "      <td>False</td>\n",
       "      <td>0</td>\n",
       "      <td>0</td>\n",
       "      <td>0</td>\n",
       "      <td>0</td>\n",
       "      <td>...</td>\n",
       "      <td>0</td>\n",
       "      <td>0</td>\n",
       "      <td>0</td>\n",
       "      <td>0</td>\n",
       "      <td>0</td>\n",
       "      <td>0</td>\n",
       "      <td>1</td>\n",
       "      <td>0</td>\n",
       "      <td>0</td>\n",
       "      <td>1</td>\n",
       "    </tr>\n",
       "    <tr>\n",
       "      <th>001C000000nUgF7IAK006C0000014LxSPIA0</th>\n",
       "      <td>3.0</td>\n",
       "      <td>0.0</td>\n",
       "      <td>4.0</td>\n",
       "      <td>2.0</td>\n",
       "      <td>0.0</td>\n",
       "      <td>True</td>\n",
       "      <td>0</td>\n",
       "      <td>0</td>\n",
       "      <td>0</td>\n",
       "      <td>0</td>\n",
       "      <td>...</td>\n",
       "      <td>0</td>\n",
       "      <td>0</td>\n",
       "      <td>0</td>\n",
       "      <td>0</td>\n",
       "      <td>0</td>\n",
       "      <td>0</td>\n",
       "      <td>1</td>\n",
       "      <td>0</td>\n",
       "      <td>0</td>\n",
       "      <td>1</td>\n",
       "    </tr>\n",
       "    <tr>\n",
       "      <th>001C000000nUgF8IAK006C00000175waIIAQ</th>\n",
       "      <td>3.0</td>\n",
       "      <td>1.0</td>\n",
       "      <td>0.0</td>\n",
       "      <td>3.0</td>\n",
       "      <td>0.0</td>\n",
       "      <td>False</td>\n",
       "      <td>0</td>\n",
       "      <td>0</td>\n",
       "      <td>0</td>\n",
       "      <td>0</td>\n",
       "      <td>...</td>\n",
       "      <td>0</td>\n",
       "      <td>0</td>\n",
       "      <td>0</td>\n",
       "      <td>0</td>\n",
       "      <td>0</td>\n",
       "      <td>1</td>\n",
       "      <td>0</td>\n",
       "      <td>0</td>\n",
       "      <td>0</td>\n",
       "      <td>1</td>\n",
       "    </tr>\n",
       "    <tr>\n",
       "      <th>001C000000nUgFAIA0006C000000ssBTQIA2</th>\n",
       "      <td>0.0</td>\n",
       "      <td>0.0</td>\n",
       "      <td>1.0</td>\n",
       "      <td>0.0</td>\n",
       "      <td>0.0</td>\n",
       "      <td>True</td>\n",
       "      <td>0</td>\n",
       "      <td>0</td>\n",
       "      <td>0</td>\n",
       "      <td>0</td>\n",
       "      <td>...</td>\n",
       "      <td>0</td>\n",
       "      <td>0</td>\n",
       "      <td>0</td>\n",
       "      <td>0</td>\n",
       "      <td>0</td>\n",
       "      <td>1</td>\n",
       "      <td>0</td>\n",
       "      <td>0</td>\n",
       "      <td>0</td>\n",
       "      <td>1</td>\n",
       "    </tr>\n",
       "    <tr>\n",
       "      <th>001C000000nUgFBIA0006C0000011BPgIIAW</th>\n",
       "      <td>0.0</td>\n",
       "      <td>0.0</td>\n",
       "      <td>3.0</td>\n",
       "      <td>0.0</td>\n",
       "      <td>0.0</td>\n",
       "      <td>False</td>\n",
       "      <td>0</td>\n",
       "      <td>0</td>\n",
       "      <td>0</td>\n",
       "      <td>0</td>\n",
       "      <td>...</td>\n",
       "      <td>0</td>\n",
       "      <td>0</td>\n",
       "      <td>0</td>\n",
       "      <td>0</td>\n",
       "      <td>0</td>\n",
       "      <td>1</td>\n",
       "      <td>0</td>\n",
       "      <td>0</td>\n",
       "      <td>0</td>\n",
       "      <td>1</td>\n",
       "    </tr>\n",
       "  </tbody>\n",
       "</table>\n",
       "<p>5 rows × 52 columns</p>\n",
       "</div>"
      ],
      "text/plain": [
       "                                      call  call_connect  email  \\\n",
       "001C000000nUgF7IAK006C0000013XgDcIAK   1.0           0.0    0.0   \n",
       "001C000000nUgF7IAK006C0000014LxSPIA0   3.0           0.0    4.0   \n",
       "001C000000nUgF8IAK006C00000175waIIAQ   3.0           1.0    0.0   \n",
       "001C000000nUgFAIA0006C000000ssBTQIA2   0.0           0.0    1.0   \n",
       "001C000000nUgFBIA0006C0000011BPgIIAW   0.0           0.0    3.0   \n",
       "\n",
       "                                      marketing_email  site_visit  is_won  \\\n",
       "001C000000nUgF7IAK006C0000013XgDcIAK              1.0         0.0   False   \n",
       "001C000000nUgF7IAK006C0000014LxSPIA0              2.0         0.0    True   \n",
       "001C000000nUgF8IAK006C00000175waIIAQ              3.0         0.0   False   \n",
       "001C000000nUgFAIA0006C000000ssBTQIA2              0.0         0.0    True   \n",
       "001C000000nUgFBIA0006C0000011BPgIIAW              0.0         0.0   False   \n",
       "\n",
       "                                      region_Africa  region_Australia  \\\n",
       "001C000000nUgF7IAK006C0000013XgDcIAK              0                 0   \n",
       "001C000000nUgF7IAK006C0000014LxSPIA0              0                 0   \n",
       "001C000000nUgF8IAK006C00000175waIIAQ              0                 0   \n",
       "001C000000nUgFAIA0006C000000ssBTQIA2              0                 0   \n",
       "001C000000nUgFBIA0006C0000011BPgIIAW              0                 0   \n",
       "\n",
       "                                      region_Australia/New Zealand  \\\n",
       "001C000000nUgF7IAK006C0000013XgDcIAK                             0   \n",
       "001C000000nUgF7IAK006C0000014LxSPIA0                             0   \n",
       "001C000000nUgF8IAK006C00000175waIIAQ                             0   \n",
       "001C000000nUgFAIA0006C000000ssBTQIA2                             0   \n",
       "001C000000nUgFBIA0006C0000011BPgIIAW                             0   \n",
       "\n",
       "                                      region_Belgium      ...       \\\n",
       "001C000000nUgF7IAK006C0000013XgDcIAK               0      ...        \n",
       "001C000000nUgF7IAK006C0000014LxSPIA0               0      ...        \n",
       "001C000000nUgF8IAK006C00000175waIIAQ               0      ...        \n",
       "001C000000nUgFAIA0006C000000ssBTQIA2               0      ...        \n",
       "001C000000nUgFBIA0006C0000011BPgIIAW               0      ...        \n",
       "\n",
       "                                      region_US (West Coast & Southwest)  \\\n",
       "001C000000nUgF7IAK006C0000013XgDcIAK                                   0   \n",
       "001C000000nUgF7IAK006C0000014LxSPIA0                                   0   \n",
       "001C000000nUgF8IAK006C00000175waIIAQ                                   0   \n",
       "001C000000nUgFAIA0006C000000ssBTQIA2                                   0   \n",
       "001C000000nUgFBIA0006C0000011BPgIIAW                                   0   \n",
       "\n",
       "                                      region_United Kingdom  \\\n",
       "001C000000nUgF7IAK006C0000013XgDcIAK                      0   \n",
       "001C000000nUgF7IAK006C0000014LxSPIA0                      0   \n",
       "001C000000nUgF8IAK006C00000175waIIAQ                      0   \n",
       "001C000000nUgFAIA0006C000000ssBTQIA2                      0   \n",
       "001C000000nUgFBIA0006C0000011BPgIIAW                      0   \n",
       "\n",
       "                                      region_Western Europe (France and Germany)  \\\n",
       "001C000000nUgF7IAK006C0000013XgDcIAK                                           0   \n",
       "001C000000nUgF7IAK006C0000014LxSPIA0                                           0   \n",
       "001C000000nUgF8IAK006C00000175waIIAQ                                           0   \n",
       "001C000000nUgFAIA0006C000000ssBTQIA2                                           0   \n",
       "001C000000nUgFBIA0006C0000011BPgIIAW                                           0   \n",
       "\n",
       "                                      tier_1  tier_2  tier_3  tier_4  tier_5  \\\n",
       "001C000000nUgF7IAK006C0000013XgDcIAK       0       0       0       1       0   \n",
       "001C000000nUgF7IAK006C0000014LxSPIA0       0       0       0       1       0   \n",
       "001C000000nUgF8IAK006C00000175waIIAQ       0       0       1       0       0   \n",
       "001C000000nUgFAIA0006C000000ssBTQIA2       0       0       1       0       0   \n",
       "001C000000nUgFBIA0006C0000011BPgIIAW       0       0       1       0       0   \n",
       "\n",
       "                                      has_inbound  has_outbound  \n",
       "001C000000nUgF7IAK006C0000013XgDcIAK            0             1  \n",
       "001C000000nUgF7IAK006C0000014LxSPIA0            0             1  \n",
       "001C000000nUgF8IAK006C00000175waIIAQ            0             1  \n",
       "001C000000nUgFAIA0006C000000ssBTQIA2            0             1  \n",
       "001C000000nUgFBIA0006C0000011BPgIIAW            0             1  \n",
       "\n",
       "[5 rows x 52 columns]"
      ]
     },
     "execution_count": 2,
     "metadata": {},
     "output_type": "execute_result"
    }
   ],
   "source": [
    "#final is not normalized. need to import finalnorm for normalized activity dataframe\n",
    "X = pd.read_csv('final.csv',header=0,index_col=0).copy()\n",
    "X.head()"
   ]
  },
  {
   "cell_type": "code",
   "execution_count": 3,
   "metadata": {
    "collapsed": true
   },
   "outputs": [],
   "source": [
    "y = X['is_won'].copy()\n",
    "del X['is_won']\n",
    "X_train, X_test, y_train, y_test = train_test_split(X, y)"
   ]
  },
  {
   "cell_type": "code",
   "execution_count": 4,
   "metadata": {
    "collapsed": true,
    "scrolled": true
   },
   "outputs": [],
   "source": [
    "#calculate statistics on below \n",
    "# this is where error lies, further y is from y_pred. look into calculating error\n",
    "# abs(y_pred - y).mean()\n",
    "\n",
    "# calculating maximum absolute difference\n",
    "# mean abs dif is .32 and max is 1.24. on average we are 30% away from the truth\n",
    "# this is quite a bad model. need to train. a good model is closer to .1 std. 60% of answer will be in 40% of correct answer\n",
    "# cross validation score. going to matter to us the most. its going to tell us whether there was a stasitcally sig differenece between email, call\n",
    "\n",
    "\n",
    "# try to run log reg \n",
    "# it wouldn't be too bad to gain from log reg a basic sense of what to expect\n",
    "# not be shocked if you run a tree based alg and it outperforms the others signifc\n",
    "# in most cased tree based algorithms tend to do a really good job\n",
    "# tree based ....\n",
    "    #"
   ]
  },
  {
   "cell_type": "markdown",
   "metadata": {
    "collapsed": true
   },
   "source": [
    "### Create training set"
   ]
  },
  {
   "cell_type": "code",
   "execution_count": null,
   "metadata": {
    "collapsed": true
   },
   "outputs": [],
   "source": []
  },
  {
   "cell_type": "markdown",
   "metadata": {},
   "source": [
    "### Train model"
   ]
  },
  {
   "cell_type": "code",
   "execution_count": 7,
   "metadata": {
    "collapsed": true
   },
   "outputs": [],
   "source": [
    "log = LogisticRegression()\n",
    "log = log.fit(X_train,y_train)\n",
    "y_predtrain = log.predict(X_test)"
   ]
  },
  {
   "cell_type": "code",
   "execution_count": 8,
   "metadata": {},
   "outputs": [
    {
     "name": "stdout",
     "output_type": "stream",
     "text": [
      "regression score:\n",
      "0.7609903991915109\n",
      "sqrt mean squared error:\n",
      "0.48888608162688485\n",
      "standard deviation between predicted and test:\n",
      "0.42647861790464464\n",
      "intercept:\n",
      "[ 0.43149793]\n",
      "coeficient:\n",
      "[[-0.02493372 -0.05080185  0.11319756 -0.01255302  0.03816151 -0.31220943\n",
      "   0.         -1.15843405 -0.64652992 -0.45989147  0.11136223  0.23134687\n",
      "  -0.02072864 -0.15564507 -0.35402545 -0.26082667 -0.09285972 -0.49028057\n",
      "  -0.46860501 -0.48543456 -0.81637557 -0.131937   -0.4043737  -0.25247481\n",
      "  -0.8044695  -0.70258579 -0.47579441  0.14147333 -0.4400523  -0.26872919\n",
      "  -0.34069848 -0.66647594  0.51084196  0.30498244  0.215202    0.4158395\n",
      "   0.46254677  0.66665776  0.55875354  0.56225845  0.40799347 -0.62231252\n",
      "  -0.14234815 -0.39321318 -0.12365041 -0.38806477 -0.35339201 -0.62875287\n",
      "  -1.71774314 -1.13486059 -1.63313624]]\n"
     ]
    },
    {
     "name": "stderr",
     "output_type": "stream",
     "text": [
      "/usr/local/lib/python3.6/site-packages/sklearn/metrics/regression.py:232: DeprecationWarning: numpy boolean subtract, the `-` operator, is deprecated, use the bitwise_xor, the `^` operator, or the logical_xor function instead.\n",
      "  output_errors = np.average((y_true - y_pred) ** 2, axis=0,\n",
      "/usr/local/lib/python3.6/site-packages/pandas/core/computation/expressions.py:183: UserWarning: evaluating in Python space because the '-' operator is not supported by numexpr for the bool dtype, use '^' instead\n",
      "  unsupported[op_str]))\n"
     ]
    }
   ],
   "source": [
    "# This looks to be like the best model when it comes to prediction\n",
    "# can't use mse for classification \n",
    "# metrics for classification would usually be accuracy precision and recall\n",
    "# need to look at the metrics submodule in scikit learn to see what to use for classification\n",
    "\n",
    "mse = sklearn.metrics.mean_squared_error(y_test, y_predtrain)\n",
    "print('classification score:\\n{}'\n",
    "     .format(log.score(X_test,y_test)))\n",
    "\n",
    "print('standard deviation between predicted and test:\\n{}'\n",
    "     .format(np.std(y_predtrain - y_test)))\n",
    "print('intercept:\\n{}'\n",
    "     .format(log.intercept_))\n",
    "print('coeficient:\\n{}'\n",
    "     .format(log.coef_))"
   ]
  },
  {
   "cell_type": "code",
   "execution_count": 51,
   "metadata": {
    "collapsed": true
   },
   "outputs": [],
   "source": [
    "sgd = SGDRegressor(n_iter=100000, eta0=.001)\n",
    "sgd = sgd.fit(X_train,y_train)\n",
    "y_predtrain = sgd.predict(X_test)"
   ]
  },
  {
   "cell_type": "code",
   "execution_count": 52,
   "metadata": {},
   "outputs": [
    {
     "name": "stdout",
     "output_type": "stream",
     "text": [
      "regression score:\n",
      "0.08653183192333047\n",
      "sqrt mean squared error:\n",
      "0.39877807528040426\n",
      "standard deviation between predicted and test:\n",
      "0.3987677621748045\n",
      "intercept:\n",
      "[ 0.62027828]\n",
      "coeficient:\n",
      "[-0.00730749 -0.00502487  0.02371149 -0.00360362  0.00634413 -0.10157257\n",
      " -0.16819146 -0.20659486 -0.15704391 -0.2241356  -0.04989972  0.06506618\n",
      " -0.04421896 -0.0896196  -0.08797783  0.         -0.06213647 -0.12581416\n",
      " -0.13641663 -0.13987223 -0.16175407 -0.04049207 -0.0737324  -0.11118955\n",
      " -0.24208288 -0.18335178 -0.13228822 -0.01856615 -0.10298998 -0.08876873\n",
      " -0.0424064  -0.11430524  0.04046541  0.07996187 -0.0050805   0.01828288\n",
      "  0.02247721  0.120929    0.02924236  0.05375098  0.05466915 -0.10354552\n",
      " -0.08667022 -0.10054563 -0.03605202 -0.05537326 -0.03530105 -0.08436579\n",
      " -0.24452003 -0.26813433 -0.34442953]\n"
     ]
    }
   ],
   "source": [
    "# This looks to be like the best model when it comes to prediction\n",
    "mse = sklearn.metrics.mean_squared_error(y_test, y_predtrain)\n",
    "print('regression score:\\n{}'\n",
    "     .format(sgd.score(X_test,y_test)))\n",
    "print('sqrt mean squared error:\\n{}'\n",
    "     .format(np.sqrt((mse))))\n",
    "print('standard deviation between predicted and test:\\n{}'\n",
    "     .format(np.std(y_predtrain - y_test)))\n",
    "print('intercept:\\n{}'\n",
    "     .format(sgd.intercept_))\n",
    "print('coeficient:\\n{}'\n",
    "     .format(sgd.coef_))"
   ]
  },
  {
   "cell_type": "code",
   "execution_count": null,
   "metadata": {
    "collapsed": true
   },
   "outputs": [],
   "source": [
    "plt.scatter(X_test.call,y_predtrain)"
   ]
  },
  {
   "cell_type": "code",
   "execution_count": null,
   "metadata": {
    "collapsed": true
   },
   "outputs": [],
   "source": []
  },
  {
   "cell_type": "markdown",
   "metadata": {
    "collapsed": true
   },
   "source": [
    "###  Cross Validate the Models"
   ]
  },
  {
   "cell_type": "code",
   "execution_count": null,
   "metadata": {
    "collapsed": true
   },
   "outputs": [],
   "source": [
    "# a good score is close to 1\n",
    "cv = cross_val_score(SGDRegressor(n_iter=1000), X, y, cv=10)\n",
    "cv.mean()"
   ]
  },
  {
   "cell_type": "code",
   "execution_count": null,
   "metadata": {
    "collapsed": true,
    "scrolled": true
   },
   "outputs": [],
   "source": [
    "X1, X2, y1, y2 = train_test_split(X, y, test_size=0.5, random_state=0)\n",
    "\n",
    "# a good score is close to 1\n",
    "print(SGDRegressor(n_iter=1000).fit(X2, y2).score(X1, y1))\n",
    "print(SGDRegressor(n_iter=1000).fit(X1, y1).score(X2, y2))"
   ]
  },
  {
   "cell_type": "code",
   "execution_count": null,
   "metadata": {
    "collapsed": true
   },
   "outputs": [],
   "source": []
  },
  {
   "cell_type": "code",
   "execution_count": null,
   "metadata": {
    "collapsed": true
   },
   "outputs": [],
   "source": [
    "# a good score is close to 1\n",
    "cv = cross_val_score(sgd, X, y, cv=10)\n",
    "cv.mean()"
   ]
  },
  {
   "cell_type": "code",
   "execution_count": null,
   "metadata": {
    "collapsed": true,
    "scrolled": true
   },
   "outputs": [],
   "source": [
    "# Why is this score different than the one above????\n",
    "print(sgd.fit(X2, y2).score(X1, y1))\n",
    "print(sgd.fit(X1, y1).score(X2, y2))"
   ]
  },
  {
   "cell_type": "code",
   "execution_count": null,
   "metadata": {
    "collapsed": true
   },
   "outputs": [],
   "source": [
    "# look at regression by channel, tier\n",
    "# need to record data better, so like keep record of progression in analysis\n",
    "# for columns in column_lists\n",
    "# so you run through column combinations\n",
    "# append lists of lists \n",
    "# have two columns in list of lists. one member of inner list the other is string representation of model itself, and then two more columns of test and score\n"
   ]
  },
  {
   "cell_type": "code",
   "execution_count": null,
   "metadata": {
    "collapsed": true
   },
   "outputs": [],
   "source": []
  },
  {
   "cell_type": "code",
   "execution_count": 53,
   "metadata": {
    "collapsed": true
   },
   "outputs": [],
   "source": [
    "column_lists = [\n",
    "    list(X_train.columns),\n",
    "    [c for c in X_train.columns if c.startswith('region')],\n",
    "    [c for c in X_train.columns if c.startswith('tier')],\n",
    "    [c for c in X_train.columns if c.startswith('has')],\n",
    "    [c for c in X_train.columns if not c[:3] in ['reg','tie', 'has']]\n",
    "]\n",
    "hyperparams = []\n",
    "for cols in column_lists:\n",
    "    #training and scoring the model\n",
    "    #instantiate\n",
    "   \n",
    "    X_train_ = X_train[cols]\n",
    "    X_test_ = X_test[cols]\n",
    "    sgd = sgd.fit(X_train_,y_train)\n",
    "    y_predtrain = sgd.predict(X_test_)\n",
    "    hyperparams.append([cols, str(sgd), sgd.score(X_test_,y_test), sgd.score(X_train_,y_train)])\n",
    "\n",
    "hype = pd.DataFrame(hyperparams)\n",
    "hype.columns = ['columns', 'model', 'test_score', 'train_score']\n",
    "#hype.to_csv('hype.csv')"
   ]
  },
  {
   "cell_type": "code",
   "execution_count": 54,
   "metadata": {},
   "outputs": [
    {
     "data": {
      "text/html": [
       "<div>\n",
       "<style>\n",
       "    .dataframe thead tr:only-child th {\n",
       "        text-align: right;\n",
       "    }\n",
       "\n",
       "    .dataframe thead th {\n",
       "        text-align: left;\n",
       "    }\n",
       "\n",
       "    .dataframe tbody tr th {\n",
       "        vertical-align: top;\n",
       "    }\n",
       "</style>\n",
       "<table border=\"1\" class=\"dataframe\">\n",
       "  <thead>\n",
       "    <tr style=\"text-align: right;\">\n",
       "      <th></th>\n",
       "      <th>columns</th>\n",
       "      <th>model</th>\n",
       "      <th>test_score</th>\n",
       "      <th>train_score</th>\n",
       "    </tr>\n",
       "  </thead>\n",
       "  <tbody>\n",
       "    <tr>\n",
       "      <th>0</th>\n",
       "      <td>[call, call_connect, email, marketing_email, s...</td>\n",
       "      <td>SGDRegressor(alpha=0.0001, average=False, epsi...</td>\n",
       "      <td>0.086833</td>\n",
       "      <td>0.087838</td>\n",
       "    </tr>\n",
       "    <tr>\n",
       "      <th>1</th>\n",
       "      <td>[region_Africa, region_Australia, region_Austr...</td>\n",
       "      <td>SGDRegressor(alpha=0.0001, average=False, epsi...</td>\n",
       "      <td>0.024940</td>\n",
       "      <td>0.036787</td>\n",
       "    </tr>\n",
       "    <tr>\n",
       "      <th>2</th>\n",
       "      <td>[tier_1, tier_2, tier_3, tier_4, tier_5]</td>\n",
       "      <td>SGDRegressor(alpha=0.0001, average=False, epsi...</td>\n",
       "      <td>0.003444</td>\n",
       "      <td>0.003574</td>\n",
       "    </tr>\n",
       "    <tr>\n",
       "      <th>3</th>\n",
       "      <td>[has_inbound, has_outbound]</td>\n",
       "      <td>SGDRegressor(alpha=0.0001, average=False, epsi...</td>\n",
       "      <td>0.025238</td>\n",
       "      <td>0.020771</td>\n",
       "    </tr>\n",
       "    <tr>\n",
       "      <th>4</th>\n",
       "      <td>[call, call_connect, email, marketing_email, s...</td>\n",
       "      <td>SGDRegressor(alpha=0.0001, average=False, epsi...</td>\n",
       "      <td>0.047427</td>\n",
       "      <td>0.041817</td>\n",
       "    </tr>\n",
       "  </tbody>\n",
       "</table>\n",
       "</div>"
      ],
      "text/plain": [
       "                                             columns  \\\n",
       "0  [call, call_connect, email, marketing_email, s...   \n",
       "1  [region_Africa, region_Australia, region_Austr...   \n",
       "2           [tier_1, tier_2, tier_3, tier_4, tier_5]   \n",
       "3                        [has_inbound, has_outbound]   \n",
       "4  [call, call_connect, email, marketing_email, s...   \n",
       "\n",
       "                                               model  test_score  train_score  \n",
       "0  SGDRegressor(alpha=0.0001, average=False, epsi...    0.086833     0.087838  \n",
       "1  SGDRegressor(alpha=0.0001, average=False, epsi...    0.024940     0.036787  \n",
       "2  SGDRegressor(alpha=0.0001, average=False, epsi...    0.003444     0.003574  \n",
       "3  SGDRegressor(alpha=0.0001, average=False, epsi...    0.025238     0.020771  \n",
       "4  SGDRegressor(alpha=0.0001, average=False, epsi...    0.047427     0.041817  "
      ]
     },
     "execution_count": 54,
     "metadata": {},
     "output_type": "execute_result"
    }
   ],
   "source": [
    "hype"
   ]
  },
  {
   "cell_type": "code",
   "execution_count": null,
   "metadata": {
    "collapsed": true
   },
   "outputs": [],
   "source": [
    "#explore data and models. change the models, sgd.coef_ attributes of  "
   ]
  },
  {
   "cell_type": "code",
   "execution_count": null,
   "metadata": {
    "collapsed": true
   },
   "outputs": [],
   "source": [
    "sgd = sgd.fit(X_train,y_train)\n",
    "#confirm that this is a safe mapping\n",
    "col = pd.DataFrame(sgd.coef_,X_train.columns)"
   ]
  },
  {
   "cell_type": "code",
   "execution_count": null,
   "metadata": {
    "collapsed": true
   },
   "outputs": [],
   "source": [
    "#scatterplot normalized email and site_visits relative to cvr\n",
    "#are we doing anything continuos such as days to close\n",
    "#will be confounding because longer means more email\n",
    "#pair of overlaid histograms of site_visits and emails\n",
    "#bodyplot exercise\n",
    "#degree of separation between those 2 \n",
    "#two histograms for email. one is won, one is lost\n",
    "#bimodal distribution because it has two modes/peaks\n",
    "#separation between those modes/peaks should be reflexive of the slopes\n",
    "# subtraction of the means of difference\n",
    "col.sort_values(0,ascending=False)"
   ]
  },
  {
   "cell_type": "code",
   "execution_count": null,
   "metadata": {
    "collapsed": true
   },
   "outputs": [],
   "source": [
    "# only way to sus out inbound/outbound move back to one columns. it would show that slope being more meaningful\n",
    "# subtract inbound from outbound slope and try to anticipate what the model is going to find for this new combined single value\n",
    "# assuming outbound to 1\n",
    "# -0.07209099999999996 is what it should be after combining\n",
    "-0.394433 - -0.322342\n"
   ]
  },
  {
   "cell_type": "code",
   "execution_count": null,
   "metadata": {
    "collapsed": true
   },
   "outputs": [],
   "source": [
    "activity = X.loc[:,['marketing_email','email','call','call_connect','site_visit']]\n",
    "un = activity.unstack()\n",
    "un = pd.DataFrame(un)\n",
    "un = un.reset_index(level=1,drop=True)\n",
    "un['type'] = un.index\n",
    "un = un.rename(columns={0: 'coef'})\n",
    "un.head()\n",
    "print()"
   ]
  },
  {
   "cell_type": "code",
   "execution_count": null,
   "metadata": {
    "collapsed": true
   },
   "outputs": [],
   "source": [
    "_ = sns.boxplot(x='type',y='coef',data=un)\n",
    "_ = plt.xlabel('type')\n",
    "_ = plt.ylabel('coef')\n",
    "plt.show()"
   ]
  },
  {
   "cell_type": "code",
   "execution_count": null,
   "metadata": {
    "collapsed": true
   },
   "outputs": [],
   "source": []
  }
 ],
 "metadata": {
  "kernelspec": {
   "display_name": "Python 3",
   "language": "python",
   "name": "python3"
  },
  "language_info": {
   "codemirror_mode": {
    "name": "ipython",
    "version": 3
   },
   "file_extension": ".py",
   "mimetype": "text/x-python",
   "name": "python",
   "nbconvert_exporter": "python",
   "pygments_lexer": "ipython3",
   "version": "3.6.1"
  }
 },
 "nbformat": 4,
 "nbformat_minor": 2
}
