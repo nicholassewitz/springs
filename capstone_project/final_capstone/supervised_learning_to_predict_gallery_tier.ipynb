{
 "cells": [
  {
   "cell_type": "markdown",
   "metadata": {},
   "source": [
    "## Data Exploration to Predict Gallery Tier\n",
    "### First step towards building an objective Gallery Qualification Score\n",
    "**Author: Nicholas Sewitz  \n",
    "Contributors: Anil Bawa-Cavia, Will Goldstein**\n",
    "\n",
    "This notebook processes certain predetermined features that we believe are predictive of the qualitative gallery tier score applied by the GFI team. The goal is to identify what features and models should be used to build a more ambitious objective qualification score."
   ]
  },
  {
   "cell_type": "code",
   "execution_count": 1,
   "metadata": {
    "collapsed": true
   },
   "outputs": [],
   "source": [
    "import sys, os\n",
    "import datetime\n",
    "sys.path.append(os.environ['minotaur'])\n",
    "\n",
    "import os.path\n",
    "import http\n",
    "import urllib.request \n",
    "from urllib.request import urlopen\n",
    "from bs4 import BeautifulSoup\n",
    "from socket import timeout\n",
    "import boto3\n",
    "import gzip\n",
    "import io\n",
    "\n",
    "\n",
    "from __future__ import print_function\n",
    "\n",
    "from pprint import pprint\n",
    "from time import time\n",
    "import logging\n",
    "\n",
    "\n",
    "import yaml\n",
    "\n",
    "%matplotlib inline\n",
    "from matplotlib import pyplot as plt\n",
    "from mpl_toolkits.mplot3d import Axes3D\n",
    "import seaborn as sns\n",
    "\n",
    "import pandas as pd\n",
    "import numpy as np\n",
    "\n",
    "from pylab import rcParams\n",
    "rcParams['figure.figsize'] = 14,3\n",
    "\n",
    "from dbs import redshift\n",
    "redshift.connect()\n",
    "\n",
    "from __future__ import division\n",
    "\n",
    "from pygeocoder import Geocoder\n",
    "from geopy.distance import vincenty\n",
    "\n",
    "from slugify import slugify\n",
    "\n",
    "from sklearn.linear_model import LogisticRegression, LinearRegression, SGDRegressor, SGDClassifier\n",
    "from sklearn.cluster import KMeans\n",
    "from sklearn.neighbors import KNeighborsClassifier\n",
    "from sklearn.ensemble import RandomForestClassifier\n",
    "from sklearn.preprocessing import MinMaxScaler, StandardScaler, scale\n",
    "from sklearn.model_selection import train_test_split, cross_val_score, GridSearchCV, RandomizedSearchCV\n",
    "from sklearn.metrics import classification_report, confusion_matrix, roc_curve, roc_auc_score, accuracy_score\n",
    "from scipy.stats import randint\n",
    "from sklearn.pipeline import Pipeline\n",
    "from scipy.cluster.hierarchy import linkage, dendrogram\n",
    "from sklearn.decomposition import PCA\n",
    "from sklearn.pipeline import make_pipeline\n",
    "from sklearn.tree import DecisionTreeClassifier\n",
    "from sklearn.feature_extraction.text import CountVectorizer, TfidfTransformer\n",
    "from sklearn.naive_bayes import MultinomialNB, GaussianNB\n",
    "from gensim.models import doc2vec\n",
    "from collections import namedtuple\n"
   ]
  },
  {
   "cell_type": "code",
   "execution_count": null,
   "metadata": {
    "collapsed": true
   },
   "outputs": [],
   "source": []
  },
  {
   "cell_type": "markdown",
   "metadata": {},
   "source": [
    "#### Run Wrangling Script"
   ]
  },
  {
   "cell_type": "code",
   "execution_count": null,
   "metadata": {
    "collapsed": true
   },
   "outputs": [],
   "source": [
    "%run ./data_wrangling_to_predict_qualification.py"
   ]
  },
  {
   "cell_type": "code",
   "execution_count": 2,
   "metadata": {
    "collapsed": true
   },
   "outputs": [],
   "source": [
    "if sys.version_info[0] < 3: \n",
    "    from StringIO import StringIO # Python 2.x\n",
    "else:\n",
    "    from io import StringIO # Python 3.x\n",
    "\n",
    "# get your credentials from environment variables\n",
    "aws_id = os.environ['AWS_ID']\n",
    "aws_secret = os.environ['AWS_SECRET']\n",
    "\n",
    "s3 = boto3.client('s3', aws_access_key_id=aws_id,\n",
    "        aws_secret_access_key=aws_secret)\n",
    "\n",
    "bucket_name = 'artsy-data'\n"
   ]
  },
  {
   "cell_type": "code",
   "execution_count": 3,
   "metadata": {
    "collapsed": true
   },
   "outputs": [],
   "source": [
    "object_key = 'temp/df_with_less_text.csv'\n",
    "csv_obj = s3.get_object(Bucket=bucket_name, Key=object_key)\n",
    "body = csv_obj['Body']\n",
    "csv_string = body.read().decode('utf-8')\n",
    "\n",
    "df_with_less_text = pd.read_csv(StringIO(csv_string))\n",
    "del df_with_less_text['Unnamed: 0']"
   ]
  },
  {
   "cell_type": "code",
   "execution_count": 4,
   "metadata": {
    "collapsed": true
   },
   "outputs": [],
   "source": [
    "object_key = 'temp/df_with_many_text.csv'\n",
    "csv_obj = s3.get_object(Bucket=bucket_name, Key=object_key)\n",
    "body = csv_obj['Body']\n",
    "csv_string = body.read().decode('utf-8')\n",
    "\n",
    "df_with_many_text = pd.read_csv(StringIO(csv_string))\n",
    "del df_with_many_text['Unnamed: 0']"
   ]
  },
  {
   "cell_type": "markdown",
   "metadata": {},
   "source": [
    "#### Supervised Learning for Text Analysis"
   ]
  },
  {
   "cell_type": "code",
   "execution_count": null,
   "metadata": {
    "collapsed": true
   },
   "outputs": [],
   "source": []
  },
  {
   "cell_type": "code",
   "execution_count": null,
   "metadata": {
    "collapsed": true
   },
   "outputs": [],
   "source": []
  },
  {
   "cell_type": "code",
   "execution_count": 5,
   "metadata": {
    "collapsed": true
   },
   "outputs": [],
   "source": [
    "# # Stemming performed worse\n",
    "\n",
    "# from nltk.stem.snowball import SnowballStemmer\n",
    "# stemmer = SnowballStemmer(\"english\")\n",
    "\n",
    "# potentially look at this regionally"
   ]
  },
  {
   "cell_type": "code",
   "execution_count": 6,
   "metadata": {
    "collapsed": true
   },
   "outputs": [],
   "source": [
    "  \n",
    "# # for df in df_with_many_features, df_with_many_text_not_on_artsy:    \n",
    "# #     texts = [[c for c in df.columns if c == 'stemmed'],\n",
    "# #              [c for c in df.columns if c == 'text_parse']]\n",
    "             \n",
    "# #     for text in texts:        \n",
    "# #         X = df[text]\n",
    "\n",
    "\n",
    "\n",
    "# # Define a pipeline combining a text feature extractor with a simple\n",
    "# # classifier\n",
    "# pipeline = Pipeline([\n",
    "#     ('vect', CountVectorizer()),\n",
    "#     ('tfidf', TfidfTransformer()),\n",
    "#     ('clf', LogisticRegression(class_weight='balanced')),\n",
    "#     #('log', LogisticRegression()),\n",
    "# ])\n",
    "\n",
    "# # uncommenting more parameters will give better exploring power but will\n",
    "# # increase processing time in a combinatorial way\n",
    "# parameters = {        \n",
    "#     'vect__max_df': (0.5, 0.75, 1.0),\n",
    "#     #'vect__max_features': (None, 5000, 10000, 50000),\n",
    "#     'vect__ngram_range': ((1, 1), (1, 2)),  # unigrams or bigrams\n",
    "#     #'tfidf__use_idf': (True, False),\n",
    "#     #'tfidf__norm': ('l1', 'l2'),\n",
    "#     'clf__alpha': (0.00001, 0.000001),\n",
    "#     'clf__penalty': ('l2', 'elasticnet'),\n",
    "#     'clf__n_iter': (10, 50, 80),\n",
    "# #     'log__C': np.logspace(-5, 8, 15, 50, 100), \n",
    "# #      'log__penalty': ['l1', 'l2'],\n",
    "# #      'log__class_weight': ['balanced']\n",
    "# }\n",
    "\n",
    "# if __name__ == \"__main__\":\n",
    "#     # multiprocessing requires the fork to happen in a __main__ protected\n",
    "#     # block\n",
    "\n",
    "#     # find the best parameters for both the feature extraction and the\n",
    "#     # classifier\n",
    "#     #grid_search = GridSearchCV(pipeline, parameters)\n",
    "\n",
    "#     print(\"Performing grid search...\")\n",
    "#     print(\"pipeline:\", [name for name, _ in pipeline.steps])\n",
    "#     print(\"parameters:\")\n",
    "#     pprint(parameters)\n",
    "#     t0 = time()\n",
    "#     X_train, X_test, y_train, y_test = train_test_split(df_open_with_less_text.text_parse, df_open_with_less_text.gallery_tier, test_size=0.3, random_state=42)\n",
    "#     pipeline.fit(X_train, y_train)\n",
    "#     print(\"done in %0.3fs\" % (time() - t0))\n",
    "#     print()\n",
    "\n",
    "\n",
    "#     y_pred = pipeline.predict(X_test)\n",
    "\n",
    "\n",
    "# #     print(\"Best score: %0.3f\" % grid_search.best_score_)\n",
    "# #     print(\"Best parameters set:\")\n",
    "# #     best_parameters = grid_search.best_estimator_.get_params()\n",
    "# #     for param_name in sorted(parameters.keys()):\n",
    "# #         print(\"\\t%s: %r\" % (param_name, best_parameters[param_name]))\n",
    "\n",
    "#     print(\"Classification report for classifier %s:\\n\"\n",
    "#       % classification_report(y_test, y_pred))\n",
    "#     print(\"Confusion Matrix for classifier %s:\\n\"\n",
    "#       % confusion_matrix(y_test, y_pred))   \n",
    "#     #df_with_less_text['text_log_results'] = grid_search.predict(df_with_less_text.text_parse)\n"
   ]
  },
  {
   "cell_type": "markdown",
   "metadata": {},
   "source": [
    "### Data and Classification Exploration"
   ]
  },
  {
   "cell_type": "code",
   "execution_count": null,
   "metadata": {
    "collapsed": true
   },
   "outputs": [],
   "source": []
  },
  {
   "cell_type": "code",
   "execution_count": 7,
   "metadata": {},
   "outputs": [
    {
     "data": {
      "text/html": [
       "<div>\n",
       "<style>\n",
       "    .dataframe thead tr:only-child th {\n",
       "        text-align: right;\n",
       "    }\n",
       "\n",
       "    .dataframe thead th {\n",
       "        text-align: left;\n",
       "    }\n",
       "\n",
       "    .dataframe tbody tr th {\n",
       "        vertical-align: top;\n",
       "    }\n",
       "</style>\n",
       "<table border=\"1\" class=\"dataframe\">\n",
       "  <thead>\n",
       "    <tr style=\"text-align: right;\">\n",
       "      <th></th>\n",
       "      <th>domain</th>\n",
       "      <th>gallery_tier</th>\n",
       "      <th>Clicks</th>\n",
       "      <th>Impressions</th>\n",
       "      <th>inquiry_requests_count</th>\n",
       "      <th>bid_count</th>\n",
       "      <th>on_artsy</th>\n",
       "      <th>search_volume</th>\n",
       "      <th>artist_slug</th>\n",
       "      <th>min_distance_to_art_city</th>\n",
       "      <th>disqualified_reason</th>\n",
       "      <th>is_closed</th>\n",
       "      <th>partner_on_artsy</th>\n",
       "      <th>text_parse</th>\n",
       "    </tr>\n",
       "    <tr>\n",
       "      <th>qualified</th>\n",
       "      <th></th>\n",
       "      <th></th>\n",
       "      <th></th>\n",
       "      <th></th>\n",
       "      <th></th>\n",
       "      <th></th>\n",
       "      <th></th>\n",
       "      <th></th>\n",
       "      <th></th>\n",
       "      <th></th>\n",
       "      <th></th>\n",
       "      <th></th>\n",
       "      <th></th>\n",
       "      <th></th>\n",
       "    </tr>\n",
       "  </thead>\n",
       "  <tbody>\n",
       "    <tr>\n",
       "      <th>not_qualified</th>\n",
       "      <td>3180</td>\n",
       "      <td>3181</td>\n",
       "      <td>172</td>\n",
       "      <td>172</td>\n",
       "      <td>295</td>\n",
       "      <td>295</td>\n",
       "      <td>804</td>\n",
       "      <td>349</td>\n",
       "      <td>804</td>\n",
       "      <td>718</td>\n",
       "      <td>3181</td>\n",
       "      <td>3181</td>\n",
       "      <td>3181</td>\n",
       "      <td>2567</td>\n",
       "    </tr>\n",
       "    <tr>\n",
       "      <th>qualified</th>\n",
       "      <td>97283</td>\n",
       "      <td>97283</td>\n",
       "      <td>1711</td>\n",
       "      <td>1711</td>\n",
       "      <td>2852</td>\n",
       "      <td>2852</td>\n",
       "      <td>5430</td>\n",
       "      <td>3373</td>\n",
       "      <td>5430</td>\n",
       "      <td>29621</td>\n",
       "      <td>97283</td>\n",
       "      <td>97283</td>\n",
       "      <td>97283</td>\n",
       "      <td>95293</td>\n",
       "    </tr>\n",
       "    <tr>\n",
       "      <th>very_qualified</th>\n",
       "      <td>1652</td>\n",
       "      <td>1652</td>\n",
       "      <td>888</td>\n",
       "      <td>888</td>\n",
       "      <td>1130</td>\n",
       "      <td>1130</td>\n",
       "      <td>1291</td>\n",
       "      <td>1149</td>\n",
       "      <td>1291</td>\n",
       "      <td>863</td>\n",
       "      <td>1652</td>\n",
       "      <td>1652</td>\n",
       "      <td>1652</td>\n",
       "      <td>1493</td>\n",
       "    </tr>\n",
       "  </tbody>\n",
       "</table>\n",
       "</div>"
      ],
      "text/plain": [
       "                domain  gallery_tier  Clicks  Impressions  \\\n",
       "qualified                                                   \n",
       "not_qualified     3180          3181     172          172   \n",
       "qualified        97283         97283    1711         1711   \n",
       "very_qualified    1652          1652     888          888   \n",
       "\n",
       "                inquiry_requests_count  bid_count  on_artsy  search_volume  \\\n",
       "qualified                                                                    \n",
       "not_qualified                      295        295       804            349   \n",
       "qualified                         2852       2852      5430           3373   \n",
       "very_qualified                    1130       1130      1291           1149   \n",
       "\n",
       "                artist_slug  min_distance_to_art_city  disqualified_reason  \\\n",
       "qualified                                                                    \n",
       "not_qualified           804                       718                 3181   \n",
       "qualified              5430                     29621                97283   \n",
       "very_qualified         1291                       863                 1652   \n",
       "\n",
       "                is_closed  partner_on_artsy  text_parse  \n",
       "qualified                                                \n",
       "not_qualified        3181              3181        2567  \n",
       "qualified           97283             97283       95293  \n",
       "very_qualified       1652              1652        1493  "
      ]
     },
     "execution_count": 7,
     "metadata": {},
     "output_type": "execute_result"
    }
   ],
   "source": [
    "df_with_less_text.groupby('qualified').count()"
   ]
  },
  {
   "cell_type": "code",
   "execution_count": 12,
   "metadata": {},
   "outputs": [
    {
     "name": "stdout",
     "output_type": "stream",
     "text": [
      "(3123, 5)\n",
      "(3123, 5)\n"
     ]
    }
   ],
   "source": [
    "# remove most artists features because they are strongly correlated and have low coverage\n",
    "\n",
    "X = df_with_less_text.copy()\n",
    "del X['gallery_tier']\n",
    "del X['domain']\n",
    "del X['Clicks']\n",
    "del X['disqualified_reason']\n",
    "del X['is_closed']\n",
    "del X['bid_count']\n",
    "del X['inquiry_requests_count']\n",
    "del X['Impressions']\n",
    "del X['text_parse']\n",
    "#del X['stemmed']\n",
    "del X['partner_on_artsy']\n",
    "\n",
    "str_cols = ['on_artsy','search_volume']\n",
    "X[str_cols] = X[str_cols].fillna(0)\n",
    "X = X.dropna()\n",
    "X.reset_index(inplace=True,drop=True)\n",
    "print(X.shape)\n",
    "#X = X[(X.qualified == 'not_qualified') | (X.qualified == 'very_qualified')]\n",
    "y = X.qualified\n",
    "\n",
    "print(X.shape)"
   ]
  },
  {
   "cell_type": "code",
   "execution_count": 14,
   "metadata": {},
   "outputs": [
    {
     "data": {
      "text/html": [
       "<div>\n",
       "<style>\n",
       "    .dataframe thead tr:only-child th {\n",
       "        text-align: right;\n",
       "    }\n",
       "\n",
       "    .dataframe thead th {\n",
       "        text-align: left;\n",
       "    }\n",
       "\n",
       "    .dataframe tbody tr th {\n",
       "        vertical-align: top;\n",
       "    }\n",
       "</style>\n",
       "<table border=\"1\" class=\"dataframe\">\n",
       "  <thead>\n",
       "    <tr style=\"text-align: right;\">\n",
       "      <th></th>\n",
       "      <th>on_artsy</th>\n",
       "      <th>search_volume</th>\n",
       "      <th>artist_slug</th>\n",
       "      <th>min_distance_to_art_city</th>\n",
       "    </tr>\n",
       "    <tr>\n",
       "      <th>qualified</th>\n",
       "      <th></th>\n",
       "      <th></th>\n",
       "      <th></th>\n",
       "      <th></th>\n",
       "    </tr>\n",
       "  </thead>\n",
       "  <tbody>\n",
       "    <tr>\n",
       "      <th>not_qualified</th>\n",
       "      <td>262</td>\n",
       "      <td>262</td>\n",
       "      <td>262</td>\n",
       "      <td>262</td>\n",
       "    </tr>\n",
       "    <tr>\n",
       "      <th>qualified</th>\n",
       "      <td>2115</td>\n",
       "      <td>2115</td>\n",
       "      <td>2115</td>\n",
       "      <td>2115</td>\n",
       "    </tr>\n",
       "    <tr>\n",
       "      <th>very_qualified</th>\n",
       "      <td>746</td>\n",
       "      <td>746</td>\n",
       "      <td>746</td>\n",
       "      <td>746</td>\n",
       "    </tr>\n",
       "  </tbody>\n",
       "</table>\n",
       "</div>"
      ],
      "text/plain": [
       "                on_artsy  search_volume  artist_slug  min_distance_to_art_city\n",
       "qualified                                                                     \n",
       "not_qualified        262            262          262                       262\n",
       "qualified           2115           2115         2115                      2115\n",
       "very_qualified       746            746          746                       746"
      ]
     },
     "execution_count": 14,
     "metadata": {},
     "output_type": "execute_result"
    }
   ],
   "source": [
    "X.groupby('qualified').count()"
   ]
  },
  {
   "cell_type": "markdown",
   "metadata": {},
   "source": [
    "#### Logistic Regression Exploration"
   ]
  },
  {
   "cell_type": "code",
   "execution_count": 9,
   "metadata": {
    "collapsed": true
   },
   "outputs": [],
   "source": [
    "del X['qualified']"
   ]
  },
  {
   "cell_type": "code",
   "execution_count": 10,
   "metadata": {},
   "outputs": [
    {
     "name": "stdout",
     "output_type": "stream",
     "text": [
      "Accuracy with Scaling: 0.6894343649946638\n",
      "Accuracy without Scaling: 0.7001067235859125\n"
     ]
    }
   ],
   "source": [
    "# Setup the pipeline\n",
    "steps = [('scaler', StandardScaler()),\n",
    "        ('dec', LogisticRegression())]\n",
    "        \n",
    "# Create the pipeline: pipeline\n",
    "pipeline = Pipeline(steps)\n",
    "\n",
    "# Create train and test sets\n",
    "X_train, X_test, y_train, y_test = train_test_split(X, y, test_size=0.3, random_state=42)\n",
    "\n",
    "# Fit the pipeline to the training set: knn_scaled\n",
    "log_scaled = pipeline.fit(X_train, y_train)\n",
    "\n",
    "# Instantiate and fit a Log classifier to the unscaled data\n",
    "log_unscaled = LogisticRegression().fit(X_train, y_train)\n",
    "\n",
    "# Compute and print metrics\n",
    "print('Accuracy with Scaling: {}'.format(log_scaled.score(X_test, y_test)))\n",
    "print('Accuracy without Scaling: {}'.format(log_unscaled.score(X_test, y_test)))\n"
   ]
  },
  {
   "cell_type": "code",
   "execution_count": 11,
   "metadata": {},
   "outputs": [
    {
     "name": "stdout",
     "output_type": "stream",
     "text": [
      "{'C': 0.19306977288832536, 'class_weight': 'balanced', 'penalty': 'l2'}\n",
      "0.711846318036\n",
      "0.271077908218\n",
      "Classification report for classifier                 precision    recall  f1-score   support\n",
      "\n",
      " not_qualified       0.12      0.49      0.19        72\n",
      "     qualified       0.00      0.00      0.00       623\n",
      "very_qualified       0.34      0.90      0.49       242\n",
      "\n",
      "   avg / total       0.10      0.27      0.14       937\n",
      ":\n",
      "\n",
      "Confusion Matrix for classifier [[ 35   0  37]\n",
      " [229   0 394]\n",
      " [ 23   0 219]]:\n",
      "\n"
     ]
    },
    {
     "name": "stderr",
     "output_type": "stream",
     "text": [
      "/usr/local/lib/python3.6/site-packages/sklearn/metrics/classification.py:1113: UndefinedMetricWarning: Precision and F-score are ill-defined and being set to 0.0 in labels with no predicted samples.\n",
      "  'precision', 'predicted', average, warn_for)\n"
     ]
    }
   ],
   "source": [
    "# Create the hyperparameter grid\n",
    "c_space = np.logspace(-5, 8, 15, 50, 100)\n",
    "\n",
    "param_grid = {'C': c_space, \n",
    "              'penalty': ['l1', 'l2'],\n",
    "              'class_weight': ['balanced']}\n",
    "\n",
    "# Instantiate the logistic regression classifier: logreg\n",
    "logreg = LogisticRegression(class_weight=\"balanced\")\n",
    "\n",
    "# Create train and test sets\n",
    "X_train, X_test, y_train, y_test = train_test_split(X,y,test_size=.3,random_state=42)\n",
    "\n",
    "logreg = LogisticRegression()\n",
    "\n",
    "# Instantiate the GridSearchCV object: logreg_cv\n",
    "logreg_cv = GridSearchCV(logreg,param_grid,cv=5)\n",
    "\n",
    "# Fit the classifier to the training data\n",
    "logreg_cv.fit(X_train,y_train)\n",
    "\n",
    "############\n",
    "\n",
    "print(logreg_cv.best_params_)\n",
    "print(logreg_cv.score(X_test, y_test))\n",
    "\n",
    "\n",
    "logreg = LogisticRegression(class_weight='balanced',penalty='l1', C=5.1794746792312125e-07)\n",
    "logreg.fit(X_train,y_train)\n",
    "\n",
    "############\n",
    "\n",
    "print(logreg.score(X_test, y_test))\n",
    "\n",
    "# Predict the labels of the test set: y_pred\n",
    "y_pred = logreg.predict(X_test)\n",
    "\n",
    "print(\"Classification report for classifier %s:\\n\"\n",
    "      % classification_report(y_test, y_pred))\n",
    "print(\"Confusion Matrix for classifier %s:\\n\"\n",
    "      % confusion_matrix(y_test, y_pred))"
   ]
  },
  {
   "cell_type": "code",
   "execution_count": null,
   "metadata": {
    "collapsed": true
   },
   "outputs": [],
   "source": []
  },
  {
   "cell_type": "markdown",
   "metadata": {},
   "source": [
    "#### ROC Curve"
   ]
  },
  {
   "cell_type": "code",
   "execution_count": 65,
   "metadata": {
    "collapsed": true
   },
   "outputs": [],
   "source": [
    "# # won't work right now for multi-class classifier\n",
    "\n",
    "# # Import necessary modules\n",
    "# from sklearn.metrics import roc_curve\n",
    "\n",
    "# # Compute predicted probabilities: y_pred_prob\n",
    "# y_pred_prob = logreg.predict_proba(X_test)[:,1]\n",
    "\n",
    "# # Generate ROC curve values: fpr, tpr, thresholds\n",
    "# fpr, tpr, thresholds = roc_curve(y_test, y_pred_prob)\n",
    "\n",
    "# # Plot ROC curve\n",
    "# plt.plot([0, 1], [0, 1], 'k--')\n",
    "# plt.plot(fpr, tpr)\n",
    "# plt.xlabel('False Positive Rate')\n",
    "# plt.ylabel('True Positive Rate')\n",
    "# plt.title('ROC Curve')\n",
    "# plt.show()"
   ]
  },
  {
   "cell_type": "markdown",
   "metadata": {},
   "source": [
    "#### Feature Importance"
   ]
  },
  {
   "cell_type": "code",
   "execution_count": 113,
   "metadata": {},
   "outputs": [
    {
     "data": {
      "image/png": "[encoded data removed]",
      "text/plain": [
       "<matplotlib.figure.Figure at 0x10ec325c0>"
      ]
     },
     "metadata": {},
     "output_type": "display_data"
    }
   ],
   "source": [
    "feature_importance = abs(logreg.coef_[0])\n",
    "feature_importance = 100.0 * (feature_importance / feature_importance.max())\n",
    "sorted_idx = np.argsort(feature_importance)\n",
    "pos = np.arange(sorted_idx.shape[0]) + .5\n",
    "\n",
    "\n",
    "featfig = plt.figure()\n",
    "featax = featfig.add_subplot(1, 1, 1)\n",
    "featax.barh(pos, feature_importance[sorted_idx], align='center')\n",
    "featax.set_yticks(pos)\n",
    "featax.set_yticklabels(np.array(X.columns)[sorted_idx], fontsize=8)\n",
    "featax.set_xlabel('Relative Feature Importance')\n",
    "\n",
    "plt.tight_layout()   \n",
    "plt.show()"
   ]
  },
  {
   "cell_type": "markdown",
   "metadata": {},
   "source": [
    "#### Decision Tree Regression Exploration"
   ]
  },
  {
   "cell_type": "code",
   "execution_count": null,
   "metadata": {
    "collapsed": true
   },
   "outputs": [],
   "source": []
  },
  {
   "cell_type": "code",
   "execution_count": 114,
   "metadata": {},
   "outputs": [
    {
     "name": "stdout",
     "output_type": "stream",
     "text": [
      "Accuracy with Scaling: 0.7986798679867987\n",
      "Accuracy without Scaling: 0.8085808580858086\n"
     ]
    }
   ],
   "source": [
    "from sklearn.tree import DecisionTreeClassifier\n",
    "\n",
    "# Setup the pipeline\n",
    "steps = [('scaler', StandardScaler()),\n",
    "        ('dec', DecisionTreeClassifier())]\n",
    "        \n",
    "# Create the pipeline: pipeline\n",
    "pipeline = Pipeline(steps)\n",
    "\n",
    "# Create train and test sets\n",
    "X_train, X_test, y_train, y_test = train_test_split(X, y, test_size=0.3, random_state=42)\n",
    "\n",
    "# Fit the pipeline to the training set: dec_scaled\n",
    "dec_scaled = pipeline.fit(X_train, y_train)\n",
    "\n",
    "# Instantiate and fit a Decision Tree classifier to the unscaled data\n",
    "dec_unscaled = DecisionTreeClassifier().fit(X_train, y_train)\n",
    "\n",
    "# Compute and print metrics\n",
    "print('Accuracy with Scaling: {}'.format(dec_scaled.score(X_test, y_test)))\n",
    "print('Accuracy without Scaling: {}'.format(dec_unscaled.score(X_test, y_test)))\n"
   ]
  },
  {
   "cell_type": "code",
   "execution_count": 115,
   "metadata": {},
   "outputs": [
    {
     "name": "stdout",
     "output_type": "stream",
     "text": [
      "{'class_weight': 'balanced', 'criterion': 'gini', 'max_depth': 10, 'max_features': 1, 'min_samples_leaf': 4}\n",
      "0.819858156028\n",
      "Classification report for classifier                 precision    recall  f1-score   support\n",
      "\n",
      " not_qualified       0.53      0.66      0.59        76\n",
      "very_qualified       0.88      0.81      0.84       227\n",
      "\n",
      "   avg / total       0.79      0.77      0.78       303\n",
      ":\n",
      "\n",
      "Confusion Matrix for classifier [[ 50  26]\n",
      " [ 44 183]]:\n",
      "\n"
     ]
    }
   ],
   "source": [
    "from sklearn.tree import DecisionTreeClassifier\n",
    "\n",
    "\n",
    "X_train, X_test, y_train, y_test = train_test_split(X, y, test_size = 0.3, random_state=42)\n",
    "\n",
    "\n",
    "# Setup the hyperparameter grid\n",
    "param_dist = {\"max_depth\": [3,5,10,20,50,100],\n",
    "              \"max_features\": [1,3,4],\n",
    "              \"min_samples_leaf\": [1,3,4],\n",
    "              \"criterion\": [\"gini\", \"entropy\"],\n",
    "              \"class_weight\": [\"balanced\"]}\n",
    "\n",
    "# Instantiate a Decision Tree classifier: tree\n",
    "tree = DecisionTreeClassifier()\n",
    "\n",
    "# Instantiate the RandomizedSearchCV object: tree_cv\n",
    "tree_cv = GridSearchCV(tree, param_dist, cv=5)\n",
    "\n",
    "# Fit it to the data\n",
    "tree_cv.fit(X_train, y_train)    \n",
    "\n",
    "y_pred = tree_cv.predict(X_test)\n",
    "\n",
    "print(tree_cv.best_params_)\n",
    "print(tree_cv.best_score_)\n",
    "print(\"Classification report for classifier %s:\\n\"\n",
    "      % classification_report(y_test, y_pred))\n",
    "print(\"Confusion Matrix for classifier %s:\\n\"\n",
    "      % confusion_matrix(y_test, y_pred))"
   ]
  },
  {
   "cell_type": "code",
   "execution_count": 195,
   "metadata": {},
   "outputs": [
    {
     "name": "stdout",
     "output_type": "stream",
     "text": [
      "Classification report for classifier              precision    recall  f1-score   support\n",
      "\n",
      "          0       0.57      0.43      0.49        65\n",
      "        100       0.50      0.64      0.56        58\n",
      "\n",
      "avg / total       0.54      0.53      0.52       123\n",
      ":\n",
      "\n",
      "Confusion Matrix for classifier [[28 37]\n",
      " [21 37]]:\n",
      "\n"
     ]
    }
   ],
   "source": [
    "X_train, X_test, y_train, y_test = train_test_split(X, y, test_size = 0.3, random_state=42)\n",
    "\n",
    "# Instantiate a Decision Tree classifier: tree\n",
    "tree = DecisionTreeClassifier(class_weight= 'balanced', criterion= 'gini', max_depth= 3, max_features= 7, min_samples_leaf= 3)\n",
    "\n",
    "# Fit it to the data\n",
    "tree.fit(X_train, y_train)    \n",
    "\n",
    "y_pred = tree.predict(X_test)\n",
    "\n",
    "print(\"Classification report for classifier %s:\\n\"\n",
    "      % classification_report(y_test, y_pred))\n",
    "print(\"Confusion Matrix for classifier %s:\\n\"\n",
    "      % confusion_matrix(y_test, y_pred))"
   ]
  },
  {
   "cell_type": "markdown",
   "metadata": {},
   "source": [
    "#### Random Forest Classifier"
   ]
  },
  {
   "cell_type": "code",
   "execution_count": 116,
   "metadata": {},
   "outputs": [
    {
     "name": "stdout",
     "output_type": "stream",
     "text": [
      "{'class_weight': 'balanced', 'max_depth': 5, 'max_features': 'sqrt', 'n_estimators': 100, 'n_jobs': -1}\n",
      "0.85390070922\n",
      "Classification report for classifier                 precision    recall  f1-score   support\n",
      "\n",
      " not_qualified       0.59      0.71      0.65        76\n",
      "very_qualified       0.90      0.84      0.87       227\n",
      "\n",
      "   avg / total       0.82      0.81      0.81       303\n",
      ":\n",
      "\n",
      "Confusion Matrix for classifier [[ 54  22]\n",
      " [ 37 190]]:\n",
      "\n"
     ]
    }
   ],
   "source": [
    "X_train, X_test, y_train, y_test = train_test_split(X, y, test_size = 0.3, random_state=42)\n",
    "\n",
    "\n",
    "# Setup the hyperparameter grid\n",
    "param_dist = {\"n_estimators\": [1,5,10,100,200],\n",
    "              \"max_features\": ['auto', 'sqrt', 'log2'],\n",
    "              \"max_depth\": [1,5,10,50,100],\n",
    "              \"n_jobs\": [-1,1,5,10],\n",
    "              \"class_weight\": [\"balanced\"] }\n",
    "\n",
    "# Instantiate a Random Forest classifier: tree\n",
    "forest = RandomForestClassifier(class_weight='balanced')\n",
    "\n",
    "# Instantiate the RandomizedSearchCV object: tree_cv\n",
    "forest_cv = GridSearchCV(forest, param_dist, cv=5)\n",
    "\n",
    "# Fit it to the data\n",
    "forest_cv.fit(X_train, y_train)\n",
    "\n",
    "y_pred = forest_cv.predict(X_test)\n",
    "\n",
    "print(forest_cv.best_params_)\n",
    "print(forest_cv.best_score_)\n",
    "\n",
    "print(\"Classification report for classifier %s:\\n\"\n",
    "      % classification_report(y_test, y_pred))\n",
    "print(\"Confusion Matrix for classifier %s:\\n\"\n",
    "      % confusion_matrix(y_test, y_pred))"
   ]
  },
  {
   "cell_type": "code",
   "execution_count": 197,
   "metadata": {
    "scrolled": true
   },
   "outputs": [
    {
     "name": "stdout",
     "output_type": "stream",
     "text": [
      "Non CV Forest\n",
      "Classification report for classifier              precision    recall  f1-score   support\n",
      "\n",
      "          0       0.57      0.43      0.49        65\n",
      "        100       0.50      0.64      0.56        58\n",
      "\n",
      "avg / total       0.54      0.53      0.52       123\n",
      ":\n",
      "\n",
      "Confusion Matrix for classifier [[28 37]\n",
      " [21 37]]:\n",
      "\n"
     ]
    }
   ],
   "source": [
    "X_train, X_test, y_train, y_test = train_test_split(X, y, test_size = 0.3, random_state=42)\n",
    "\n",
    "forest = RandomForestClassifier(class_weight='balanced', max_depth= 5, max_features= 'auto', n_estimators= 200, n_jobs= 1)\n",
    "\n",
    "# Fit it to the data\n",
    "forest.fit(X_train, y_train)\n",
    "\n",
    "#can change to predict_proba to get the probabilities\n",
    "y_pred = forest.predict(X_test)\n",
    "\n",
    "print(\"Non CV Forest\")\n",
    "print(\"Classification report for classifier %s:\\n\"\n",
    "      % classification_report(y_test, y_pred))\n",
    "print(\"Confusion Matrix for classifier %s:\\n\"\n",
    "      % confusion_matrix(y_test, y_pred))"
   ]
  },
  {
   "cell_type": "code",
   "execution_count": 117,
   "metadata": {
    "scrolled": true
   },
   "outputs": [
    {
     "data": {
      "image/png": "[encoded data removed]",
      "text/plain": [
       "<matplotlib.figure.Figure at 0x1148f9748>"
      ]
     },
     "metadata": {},
     "output_type": "display_data"
    }
   ],
   "source": [
    "forest.fit(X,y)\n",
    "\n",
    "imp = forest.feature_importances_\n",
    "names = X.columns\n",
    "\n",
    "imp, names = zip(*sorted(zip(imp,names)))\n",
    "\n",
    "plt.barh(range(len(names)), imp, align = 'center')\n",
    "plt.yticks(range(len(names)), names)\n",
    "\n",
    "plt.xlabel('Feature Importance')\n",
    "plt.ylabel('Features')\n",
    "plt.title('Importance of each Feature')\n",
    "plt.show()"
   ]
  },
  {
   "cell_type": "code",
   "execution_count": null,
   "metadata": {
    "collapsed": true
   },
   "outputs": [],
   "source": [
    "#http://bigdata-madesimple.com/dealing-with-unbalanced-class-svm-random-forest-and-decision-tree-in-python/"
   ]
  },
  {
   "cell_type": "code",
   "execution_count": null,
   "metadata": {
    "collapsed": true
   },
   "outputs": [],
   "source": []
  },
  {
   "cell_type": "markdown",
   "metadata": {},
   "source": [
    "#### Undersample"
   ]
  },
  {
   "cell_type": "code",
   "execution_count": null,
   "metadata": {
    "collapsed": true
   },
   "outputs": [],
   "source": [
    "df_open_with_many_text_not_on_artsy_undersample = pd.concat([df_open_with_many_text_not_on_artsy[df_open_with_many_text_not_on_artsy.gallery_tier == 0],\n",
    "                                                             df_open_with_many_text_not_on_artsy[df_open_with_many_text_not_on_artsy.gallery_tier == 100].head(204)])\n",
    "\n",
    "df_open_with_many_features_undersample = pd.concat([df_open_with_many_features[df_open_with_many_features.gallery_tier == 0], \n",
    "                                                    df_open_with_many_features[df_open_with_many_features.gallery_tier == 100].head(240)])df_open_with_many_text_not_on_artsy_undersample = pd.concat([df_open_with_many_text_not_on_artsy[df_open_with_many_text_not_on_artsy.gallery_tier == 0],\n",
    "                                                             df_open_with_many_text_not_on_artsy[df_open_with_many_text_not_on_artsy.gallery_tier == 100].head(204)])\n",
    "\n",
    "df_open_with_many_features_undersample = pd.concat([df_open_with_many_features[df_open_with_many_features.gallery_tier == 0], \n",
    "                                                    df_open_with_many_features[df_open_with_many_features.gallery_tier == 100].head(240)])"
   ]
  },
  {
   "cell_type": "code",
   "execution_count": null,
   "metadata": {
    "collapsed": true
   },
   "outputs": [],
   "source": []
  },
  {
   "cell_type": "code",
   "execution_count": null,
   "metadata": {
    "collapsed": true
   },
   "outputs": [],
   "source": []
  },
  {
   "cell_type": "code",
   "execution_count": null,
   "metadata": {
    "collapsed": true
   },
   "outputs": [],
   "source": []
  },
  {
   "cell_type": "markdown",
   "metadata": {},
   "source": [
    "### Notes"
   ]
  },
  {
   "cell_type": "markdown",
   "metadata": {},
   "source": [
    "Features: Artists on Artsy, Artists Inquiries, Artists Bids, Fairs Participated In, Location, Google Search Score for Artist Name \n",
    "Optional: Structured data from website scrape (looking for keywords such Fair, Artists, Exhibitions, Current Exhibition, Past Exhibitions, Represented, Works Available, Services (negative), Submissions (negative) ) \n",
    "\n",
    "Take a list of orgs in bearden that have been tiered and have scraped artists. Score those galleries both computationally and by hand, and compare.\n",
    "\n",
    "Another potential todo: Score a group of artsy partners, observe the distribution of scores-- giving a us a cutoff.\n",
    "\n",
    "Final step, score the whole list of scraped artist galleries in bearden and see how much of distribution falls above cutoff giving a sense of TAM.\n",
    "\n",
    "Heuristic models, combine linearly, set coefficients. once have heuristic model can compare to other models\n",
    "eg. inquiries more important than fairs by 5x\n",
    "still need pos and neg\n",
    "\n",
    "will have to deal with biased positives\n",
    "could normalize by amount of time been on the platform\n",
    "\n",
    "pos = sub with artist roster\n",
    "neg = tier 5 with artist roster\n"
   ]
  },
  {
   "cell_type": "markdown",
   "metadata": {},
   "source": [
    "Features: Artists on Artsy, Artists Inquiries, Artists Bids, Fairs Participated In, Location, Google Search Score for Artist Name \n",
    "Optional: Structured data from website scrape (looking for keywords such Fair, Artists, Exhibitions, Current Exhibition, Past Exhibitions, Represented, Works Available, Services (negative), Submissions (negative) ) \n",
    "\n",
    "Other information from website beyond keywords: don't even know \n",
    "\n",
    "---------\n",
    "\n",
    "artists_table = on_artsy, artist_inquries_count, artist_bid_count, google_search_score  \n",
    "org_table = website, bearden_id, partner_id, location  \n",
    "org_fairs = website, fair_name, fair_tier  \n",
    "\n",
    "---------\n",
    "\n",
    "Take a list of orgs in bearden that have been tiered and have scraped artists. Score those galleries both computationally and by hand, and compare.\n",
    "\n",
    "Another potential todo: Score a group of artsy partners, observe the distribution of scores-- giving a us a cutoff.\n",
    "\n",
    "Final step, score the whole list of scraped artist galleries in bearden and see how much of distribution falls above cutoff giving a sense of TAM.\n",
    "\n",
    "---------\n",
    "\n",
    "Could be interesting to look at galleries that we have only tier but not artist roster.\n",
    "\n",
    "---------\n",
    "\n",
    "if you have thousands of human scored galleries\n",
    "you might want to see how many of those have, say, three or more of the features you're looking to use.\n",
    "\n",
    "if you have a few hundred or more you could do a logistic regression on those scores\n",
    "like that you don't have to worry about classes, positives or negatives, as long as you have a good range of scores in there.\n",
    "\n",
    "that regression will give you a basic sense of the importance of each of those features in determining the score\n",
    "as you can reason about the model by just looking at the coefficients it outputs for each feature\n",
    "\n",
    "it would be good to try and leverage those scores if we have some faith in their consistency\n",
    "\n"
   ]
  },
  {
   "cell_type": "code",
   "execution_count": null,
   "metadata": {
    "collapsed": true
   },
   "outputs": [],
   "source": []
  },
  {
   "cell_type": "markdown",
   "metadata": {
    "collapsed": true
   },
   "source": [
    "**notes from meeting 11/30**\n",
    "\n",
    "- *Decision Tree to small, Change to RandomForest Classifier*\n",
    "- Normalize for how long artist has been on the platform maybe?\n",
    "- *pass in class weights for logreg*\n",
    "- *translate tier into #'s*\n",
    "- *redundency between Impressions and Search Volume, remove one*\n",
    "- include target in correlation and scatter matrix (new type of matrix)\n",
    "    - Pair wise plots\n",
    "- *Use either region or distance from art center *\n",
    "- Look into how well artist slug match works, otherwise use Artsy Artist Name Match API\n",
    "- Too much class imbalance\n",
    "    - ie only predicting certain tiers\n",
    "    - class weights might help\n",
    "        - not all tiers are equal\n",
    "\n",
    " "
   ]
  },
  {
   "cell_type": "code",
   "execution_count": null,
   "metadata": {
    "collapsed": true
   },
   "outputs": [],
   "source": []
  }
 ],
 "metadata": {
  "kernelspec": {
   "display_name": "Python 3",
   "language": "python",
   "name": "python3"
  },
  "language_info": {
   "codemirror_mode": {
    "name": "ipython",
    "version": 3
   },
   "file_extension": ".py",
   "mimetype": "text/x-python",
   "name": "python",
   "nbconvert_exporter": "python",
   "pygments_lexer": "ipython3",
   "version": "3.6.2"
  }
 },
 "nbformat": 4,
 "nbformat_minor": 2
}
