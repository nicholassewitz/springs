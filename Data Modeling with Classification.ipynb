{
 "cells": [
  {
   "cell_type": "markdown",
   "metadata": {
    "collapsed": true
   },
   "source": [
    "### Sales Activity Analysis using Classification \n",
    "\n",
    "Take a wrangled data set that includes sales team activity, prospect activity, prospect firmographic information, and a manually applied prospect score to predict sales opportunity outcomes."
   ]
  },
  {
   "cell_type": "code",
   "execution_count": 5,
   "metadata": {},
   "outputs": [],
   "source": [
    "import sys, os\n",
    "sys.path.append(os.environ['minotaur'])\n",
    "\n",
    "import seaborn as sns\n",
    "import sklearn\n",
    "from sklearn.model_selection import cross_val_score\n",
    "\n",
    "\n",
    "import yaml\n",
    "\n",
    "%matplotlib inline\n",
    "from matplotlib import pyplot as plt\n",
    "\n",
    "import pandas as pd\n",
    "import numpy as np\n",
    "import patsy\n",
    "import statsmodels.api as sm\n",
    "\n",
    "from pylab import rcParams\n",
    "rcParams['figure.figsize'] = 14,3\n",
    "\n",
    "from dbs import redshift\n",
    "redshift.connect()\n",
    "\n",
    "from __future__ import division\n",
    "\n",
    "from sklearn.linear_model import LogisticRegression\n",
    "from sklearn.neighbors import KNeighborsClassifier\n",
    "from sklearn.ensemble import RandomForestClassifier\n",
    "from sklearn.preprocessing import MinMaxScaler, StandardScaler, scale\n",
    "from sklearn.model_selection import train_test_split, cross_val_score, GridSearchCV, RandomizedSearchCV\n",
    "from sklearn.metrics import classification_report, confusion_matrix, roc_curve, roc_auc_score\n",
    "from scipy.stats import randint\n",
    "from sklearn.tree import DecisionTreeClassifier\n",
    "from sklearn.pipeline import Pipeline\n",
    "\n"
   ]
  },
  {
   "cell_type": "markdown",
   "metadata": {},
   "source": [
    "### Import data"
   ]
  },
  {
   "cell_type": "markdown",
   "metadata": {
    "collapsed": true
   },
   "source": []
  },
  {
   "cell_type": "code",
   "execution_count": 7,
   "metadata": {},
   "outputs": [],
   "source": [
    "#final is not normalized. need to import finalnorm for normalized activity dataframe\n",
    "X = pd.read_csv('final.csv',header=0,index_col=0).copy()\n",
    "X.head()\n",
    "\n",
    "y = X['is_won'].copy()\n",
    "del X['is_won']\n"
   ]
  },
  {
   "cell_type": "code",
   "execution_count": 8,
   "metadata": {
    "collapsed": true,
    "scrolled": true
   },
   "outputs": [],
   "source": [
    "#calculate statistics on below \n",
    "# this is where error lies, further y is from y_pred. look into calculating error\n",
    "# abs(y_pred - y).mean()\n",
    "\n",
    "# calculating maximum absolute difference\n",
    "# mean abs dif is .32 and max is 1.24. on average we are 30% away from the truth\n",
    "# this is quite a bad model. need to train. a good model is closer to .1 std. 60% of answer will be in 40% of correct answer\n",
    "# cross validation score. going to matter to us the most. its going to tell us whether there was a stasitcally sig differenece between email, call\n",
    "\n",
    "\n",
    "# try to run log reg \n",
    "# it wouldn't be too bad to gain from log reg a basic sense of what to expect\n",
    "# not be shocked if you run a tree based alg and it outperforms the others signifc\n",
    "# in most cased tree based algorithms tend to do a really good job\n",
    "# tree based ....\n",
    "    #"
   ]
  },
  {
   "cell_type": "code",
   "execution_count": null,
   "metadata": {
    "collapsed": true
   },
   "outputs": [],
   "source": []
  },
  {
   "cell_type": "markdown",
   "metadata": {},
   "source": [
    "### Logistic Regression Exploration"
   ]
  },
  {
   "cell_type": "code",
   "execution_count": null,
   "metadata": {
    "collapsed": true
   },
   "outputs": [],
   "source": []
  },
  {
   "cell_type": "code",
   "execution_count": 9,
   "metadata": {},
   "outputs": [
    {
     "name": "stdout",
     "output_type": "stream",
     "text": [
      "Accuracy with Scaling: 0.774705164701098\n",
      "Accuracy without Scaling: 0.7759251728344856\n"
     ]
    }
   ],
   "source": [
    "# Setup the pipeline\n",
    "steps = [('scaler', StandardScaler()),\n",
    "        ('dec', LogisticRegression())]\n",
    "        \n",
    "# Create the pipeline: pipeline\n",
    "pipeline = Pipeline(steps)\n",
    "\n",
    "# Create train and test sets\n",
    "X_train, X_test, y_train, y_test = train_test_split(X, y, test_size=0.3, random_state=42)\n",
    "\n",
    "# Fit the pipeline to the training set: knn_scaled\n",
    "log_scaled = pipeline.fit(X_train, y_train)\n",
    "\n",
    "# Instantiate and fit a Log classifier to the unscaled data\n",
    "log_unscaled = LogisticRegression().fit(X_train, y_train)\n",
    "\n",
    "# Compute and print metrics\n",
    "print('Accuracy with Scaling: {}'.format(log_scaled.score(X_test, y_test)))\n",
    "print('Accuracy without Scaling: {}'.format(log_unscaled.score(X_test, y_test)))"
   ]
  },
  {
   "cell_type": "code",
   "execution_count": 14,
   "metadata": {},
   "outputs": [
    {
     "name": "stdout",
     "output_type": "stream",
     "text": [
      "Tuned Logistic Regression Parameter: {'C': 3.7275937203149381, 'penalty': 'l2'}\n",
      "Tuned Logistic Regression Accuracy: 0.7787656903765691\n"
     ]
    }
   ],
   "source": [
    "#Scale X\n",
    "scaler = StandardScaler()\n",
    "X_scaled = pd.DataFrame(scaler.fit_transform(X),columns = X.columns)\n",
    "\n",
    "# Create the hyperparameter grid\n",
    "c_space = np.logspace(-5, 8, 15)\n",
    "weights = {}\n",
    "param_grid = {'C': c_space, \n",
    "              'penalty': ['l1', 'l2']\n",
    "              #'class_weight': ['balanced']\n",
    "             }\n",
    "\n",
    "# Instantiate the logistic regression classifier: logreg\n",
    "logreg = LogisticRegression()\n",
    "\n",
    "# Create train and test sets\n",
    "X_train, X_test, y_train, y_test = train_test_split(X_scaled,y,test_size=.3,random_state=42)\n",
    "\n",
    "# Instantiate the GridSearchCV object: logreg_cv\n",
    "logreg_cv = GridSearchCV(logreg,param_grid,cv=5)\n",
    "\n",
    "# Fit it to the training data\n",
    "logreg_cv.fit(X_train,y_train)\n",
    "\n",
    "# Print the optimal parameters and best score\n",
    "print(\"Tuned Logistic Regression Parameter: {}\".format(logreg_cv.best_params_))\n",
    "print(\"Tuned Logistic Regression Accuracy: {}\".format(logreg_cv.best_score_))\n"
   ]
  },
  {
   "cell_type": "code",
   "execution_count": 15,
   "metadata": {},
   "outputs": [
    {
     "name": "stdout",
     "output_type": "stream",
     "text": [
      "[[1841   53]\n",
      " [ 498   67]]\n",
      "             precision    recall  f1-score   support\n",
      "\n",
      "      False       0.79      0.97      0.87      1894\n",
      "       True       0.56      0.12      0.20       565\n",
      "\n",
      "avg / total       0.73      0.78      0.71      2459\n",
      "\n"
     ]
    }
   ],
   "source": [
    "# looks like logistic regression is giving us the best accuracy and coverage across targets\n",
    "#\n",
    "\n",
    "# Create training and test sets\n",
    "X_train, X_test, y_train, y_test = train_test_split(X, y, test_size = 0.3, random_state=42)\n",
    "\n",
    "\n",
    "# Create the classifier: Logistic Regression\n",
    "logreg = LogisticRegression(C= 3.7275937203149381, penalty= 'l2')\n",
    "\n",
    "# Fit the classifier to the training data\n",
    "logreg.fit(X_train,y_train)\n",
    "\n",
    "# Predict the labels of the test set: y_pred\n",
    "y_pred = logreg.predict(X_test)\n",
    "\n",
    "\n",
    "print(confusion_matrix(y_test, y_pred))\n",
    "print(classification_report(y_test, y_pred))"
   ]
  },
  {
   "cell_type": "code",
   "execution_count": 16,
   "metadata": {},
   "outputs": [
    {
     "data": {
      "image/png": "[encoded data removed]",
      "text/plain": [
       "<matplotlib.figure.Figure at 0x118e9eb70>"
      ]
     },
     "metadata": {},
     "output_type": "display_data"
    }
   ],
   "source": [
    "# Feature Importance\n",
    "\n",
    "feature_importance = abs(logreg.coef_[0])\n",
    "feature_importance = 100.0 * (feature_importance / feature_importance.max())\n",
    "sorted_idx = np.argsort(feature_importance)\n",
    "pos = np.arange(sorted_idx.shape[0]) + .5\n",
    "\n",
    "\n",
    "featfig = plt.figure()\n",
    "featax = featfig.add_subplot(1, 1, 1)\n",
    "featax.barh(pos, feature_importance[sorted_idx], align='center')\n",
    "featax.set_yticks(pos)\n",
    "featax.set_yticklabels(np.array(X.columns)[sorted_idx], fontsize=8)\n",
    "featax.set_xlabel('Relative Feature Importance')\n",
    "\n",
    "plt.tight_layout()   \n",
    "plt.show()"
   ]
  },
  {
   "cell_type": "code",
   "execution_count": null,
   "metadata": {
    "collapsed": true
   },
   "outputs": [],
   "source": []
  },
  {
   "cell_type": "markdown",
   "metadata": {},
   "source": [
    "#### Decision Tree Classifier"
   ]
  },
  {
   "cell_type": "code",
   "execution_count": null,
   "metadata": {
    "collapsed": true
   },
   "outputs": [],
   "source": []
  },
  {
   "cell_type": "code",
   "execution_count": 17,
   "metadata": {},
   "outputs": [
    {
     "name": "stdout",
     "output_type": "stream",
     "text": [
      "Accuracy with Scaling: 0.6897112647417649\n",
      "Accuracy without Scaling: 0.6905246034973567\n"
     ]
    }
   ],
   "source": [
    "# Setup the pipeline\n",
    "steps = [('scaler', StandardScaler()),\n",
    "        ('dec', DecisionTreeClassifier())]\n",
    "        \n",
    "# Create the pipeline: pipeline\n",
    "pipeline = Pipeline(steps)\n",
    "\n",
    "# Create train and test sets\n",
    "X_train, X_test, y_train, y_test = train_test_split(X, y, test_size=0.3, random_state=42)\n",
    "\n",
    "# Fit the pipeline to the training set: knn_scaled\n",
    "dec_scaled = pipeline.fit(X_train, y_train)\n",
    "\n",
    "# Instantiate and fit a k-NN classifier to the unscaled data\n",
    "dec_unscaled = DecisionTreeClassifier().fit(X_train, y_train)\n",
    "\n",
    "# Compute and print metrics\n",
    "print('Accuracy with Scaling: {}'.format(dec_scaled.score(X_test, y_test)))\n",
    "print('Accuracy without Scaling: {}'.format(dec_unscaled.score(X_test, y_test)))"
   ]
  },
  {
   "cell_type": "code",
   "execution_count": 23,
   "metadata": {},
   "outputs": [
    {
     "name": "stdout",
     "output_type": "stream",
     "text": [
      "Tuned Decision Tree Parameters: {'class_weight': 'balanced', 'criterion': 'gini', 'max_depth': 10, 'max_features': 15, 'min_samples_leaf': 19}\n",
      "Best score is 0.6063453325198291\n"
     ]
    }
   ],
   "source": [
    "# Setup the hyperparameter grid\n",
    "param_dist = {\"max_depth\": [3,5,10,20,50],\n",
    "              \"max_features\": randint(1, 20),\n",
    "              \"min_samples_leaf\": randint(1, 20),\n",
    "              \"criterion\": [\"gini\", \"entropy\"],\n",
    "              \"class_weight\": ['balanced']}\n",
    "\n",
    "# Instantiate a Decision Tree classifier: tree\n",
    "tree = DecisionTreeClassifier()\n",
    "\n",
    "# Instantiate the RandomizedSearchCV object: tree_cv\n",
    "tree_cv = RandomizedSearchCV(tree, param_dist, cv=5)\n",
    "\n",
    "# Fit it to the data\n",
    "tree_cv.fit(X, y)\n",
    "\n",
    "# Print the tuned parameters and score\n",
    "print(\"Tuned Decision Tree Parameters: {}\".format(tree_cv.best_params_))\n",
    "print(\"Best score is {}\".format(tree_cv.best_score_))"
   ]
  },
  {
   "cell_type": "code",
   "execution_count": 25,
   "metadata": {},
   "outputs": [
    {
     "name": "stdout",
     "output_type": "stream",
     "text": [
      "[[1573  949]\n",
      " [ 308  448]]\n",
      "             precision    recall  f1-score   support\n",
      "\n",
      "      False       0.84      0.62      0.71      2522\n",
      "       True       0.32      0.59      0.42       756\n",
      "\n",
      "avg / total       0.72      0.62      0.65      3278\n",
      "\n"
     ]
    }
   ],
   "source": [
    "# Create training and test sets\n",
    "X_train, X_test, y_train, y_test = train_test_split(X, y, test_size = 0.4, random_state=42)\n",
    "\n",
    "\n",
    "# Create the classifier: tree\n",
    "tree = DecisionTreeClassifier(criterion= 'gini', max_depth= 10, max_features= 15, min_samples_leaf= 19, class_weight=\"balanced\")\n",
    "\n",
    "# Fit the classifier to the training data\n",
    "tree.fit(X_train,y_train)\n",
    "\n",
    "# Predict the labels of the test set: y_pred\n",
    "y_pred = tree.predict(X_test)\n",
    "\n",
    "\n",
    "print(confusion_matrix(y_test, y_pred))\n",
    "print(classification_report(y_test, y_pred))"
   ]
  },
  {
   "cell_type": "code",
   "execution_count": null,
   "metadata": {
    "collapsed": true
   },
   "outputs": [],
   "source": []
  },
  {
   "cell_type": "markdown",
   "metadata": {},
   "source": [
    "#### Random Forest Classifier"
   ]
  },
  {
   "cell_type": "code",
   "execution_count": null,
   "metadata": {
    "collapsed": true
   },
   "outputs": [],
   "source": []
  },
  {
   "cell_type": "code",
   "execution_count": 26,
   "metadata": {},
   "outputs": [
    {
     "name": "stdout",
     "output_type": "stream",
     "text": [
      "Accuracy with Scaling: 0.7539650264335096\n",
      "Accuracy without Scaling: 0.7519316795445303\n"
     ]
    }
   ],
   "source": [
    "# Setup the pipeline\n",
    "steps = [('scaler', StandardScaler()),\n",
    "        ('dec', RandomForestClassifier())]\n",
    "        \n",
    "# Create the pipeline: pipeline\n",
    "pipeline = Pipeline(steps)\n",
    "\n",
    "# Create train and test sets\n",
    "X_train, X_test, y_train, y_test = train_test_split(X, y, test_size=0.3, random_state=42)\n",
    "\n",
    "# Fit the pipeline to the training set: knn_scaled\n",
    "dec_scaled = pipeline.fit(X_train, y_train)\n",
    "\n",
    "# Instantiate and fit a k-NN classifier to the unscaled data\n",
    "dec_unscaled = RandomForestClassifier().fit(X_train, y_train)\n",
    "\n",
    "# Compute and print metrics\n",
    "print('Accuracy with Scaling: {}'.format(dec_scaled.score(X_test, y_test)))\n",
    "print('Accuracy without Scaling: {}'.format(dec_unscaled.score(X_test, y_test)))"
   ]
  },
  {
   "cell_type": "code",
   "execution_count": 27,
   "metadata": {},
   "outputs": [
    {
     "name": "stdout",
     "output_type": "stream",
     "text": [
      "Tuned Decision Tree Parameters: {'class_weight': 'balanced', 'max_features': 'log2', 'n_estimators': 1000, 'n_jobs': -1}\n",
      "Best score is 0.7266625991458207\n"
     ]
    }
   ],
   "source": [
    "# Setup the hyperparameter grid\n",
    "param_dist = {\"n_estimators\": [100,200,500,700,1000],\n",
    "              \"max_features\": ['auto', 'sqrt', 'log2'],\n",
    "              \"n_jobs\": [-1,1,5,10],\n",
    "              \"class_weight\": ['balanced']}\n",
    "\n",
    "# Instantiate a Decision Tree classifier: tree\n",
    "forest = RandomForestClassifier()\n",
    "\n",
    "# Instantiate the RandomizedSearchCV object: tree_cv\n",
    "forest_cv = GridSearchCV(forest, param_dist, cv=5)\n",
    "\n",
    "# Fit it to the data\n",
    "forest_cv.fit(X, y)\n",
    "\n",
    "# Print the tuned parameters and score\n",
    "print(\"Tuned Decision Tree Parameters: {}\".format(forest_cv.best_params_))\n",
    "print(\"Best score is {}\".format(forest_cv.best_score_))"
   ]
  },
  {
   "cell_type": "code",
   "execution_count": 28,
   "metadata": {},
   "outputs": [
    {
     "name": "stdout",
     "output_type": "stream",
     "text": [
      "[[2256  266]\n",
      " [ 602  154]]\n",
      "             precision    recall  f1-score   support\n",
      "\n",
      "      False       0.79      0.89      0.84      2522\n",
      "       True       0.37      0.20      0.26       756\n",
      "\n",
      "avg / total       0.69      0.74      0.71      3278\n",
      "\n"
     ]
    }
   ],
   "source": [
    "# Create training and test sets\n",
    "X_train, X_test, y_train, y_test = train_test_split(X, y, test_size = 0.4, random_state=42)\n",
    "\n",
    "\n",
    "# Create the classifier: tree\n",
    "forest = RandomForestClassifier(n_estimators=1000, max_features='log2', class_weight=\"balanced\", n_jobs= -1)\n",
    "\n",
    "# Fit the classifier to the training data\n",
    "forest.fit(X_train,y_train)\n",
    "\n",
    "# Predict the labels of the test set: y_pred\n",
    "y_pred = forest.predict(X_test)\n",
    "\n",
    "\n",
    "print(confusion_matrix(y_test, y_pred))\n",
    "print(classification_report(y_test, y_pred))"
   ]
  },
  {
   "cell_type": "code",
   "execution_count": null,
   "metadata": {
    "collapsed": true
   },
   "outputs": [],
   "source": []
  },
  {
   "cell_type": "code",
   "execution_count": null,
   "metadata": {
    "collapsed": true
   },
   "outputs": [],
   "source": []
  },
  {
   "cell_type": "code",
   "execution_count": null,
   "metadata": {
    "collapsed": true
   },
   "outputs": [],
   "source": []
  },
  {
   "cell_type": "code",
   "execution_count": null,
   "metadata": {
    "collapsed": true
   },
   "outputs": [],
   "source": []
  },
  {
   "cell_type": "code",
   "execution_count": null,
   "metadata": {
    "collapsed": true
   },
   "outputs": [],
   "source": []
  },
  {
   "cell_type": "code",
   "execution_count": null,
   "metadata": {
    "collapsed": true
   },
   "outputs": [],
   "source": []
  },
  {
   "cell_type": "code",
   "execution_count": null,
   "metadata": {
    "collapsed": true
   },
   "outputs": [],
   "source": []
  },
  {
   "cell_type": "code",
   "execution_count": null,
   "metadata": {
    "collapsed": true
   },
   "outputs": [],
   "source": []
  },
  {
   "cell_type": "code",
   "execution_count": null,
   "metadata": {
    "collapsed": true
   },
   "outputs": [],
   "source": []
  },
  {
   "cell_type": "code",
   "execution_count": null,
   "metadata": {
    "collapsed": true
   },
   "outputs": [],
   "source": []
  },
  {
   "cell_type": "code",
   "execution_count": null,
   "metadata": {
    "collapsed": true
   },
   "outputs": [],
   "source": []
  },
  {
   "cell_type": "code",
   "execution_count": null,
   "metadata": {
    "collapsed": true
   },
   "outputs": [],
   "source": []
  },
  {
   "cell_type": "code",
   "execution_count": 8,
   "metadata": {},
   "outputs": [
    {
     "name": "stdout",
     "output_type": "stream",
     "text": [
      "regression score:\n",
      "0.7609903991915109\n",
      "sqrt mean squared error:\n",
      "0.48888608162688485\n",
      "standard deviation between predicted and test:\n",
      "0.42647861790464464\n",
      "intercept:\n",
      "[ 0.43149793]\n",
      "coeficient:\n",
      "[[-0.02493372 -0.05080185  0.11319756 -0.01255302  0.03816151 -0.31220943\n",
      "   0.         -1.15843405 -0.64652992 -0.45989147  0.11136223  0.23134687\n",
      "  -0.02072864 -0.15564507 -0.35402545 -0.26082667 -0.09285972 -0.49028057\n",
      "  -0.46860501 -0.48543456 -0.81637557 -0.131937   -0.4043737  -0.25247481\n",
      "  -0.8044695  -0.70258579 -0.47579441  0.14147333 -0.4400523  -0.26872919\n",
      "  -0.34069848 -0.66647594  0.51084196  0.30498244  0.215202    0.4158395\n",
      "   0.46254677  0.66665776  0.55875354  0.56225845  0.40799347 -0.62231252\n",
      "  -0.14234815 -0.39321318 -0.12365041 -0.38806477 -0.35339201 -0.62875287\n",
      "  -1.71774314 -1.13486059 -1.63313624]]\n"
     ]
    },
    {
     "name": "stderr",
     "output_type": "stream",
     "text": [
      "/usr/local/lib/python3.6/site-packages/sklearn/metrics/regression.py:232: DeprecationWarning: numpy boolean subtract, the `-` operator, is deprecated, use the bitwise_xor, the `^` operator, or the logical_xor function instead.\n",
      "  output_errors = np.average((y_true - y_pred) ** 2, axis=0,\n",
      "/usr/local/lib/python3.6/site-packages/pandas/core/computation/expressions.py:183: UserWarning: evaluating in Python space because the '-' operator is not supported by numexpr for the bool dtype, use '^' instead\n",
      "  unsupported[op_str]))\n"
     ]
    }
   ],
   "source": [
    "# This looks to be like the best model when it comes to prediction\n",
    "# can't use mse for classification \n",
    "# metrics for classification would usually be accuracy precision and recall\n",
    "# need to look at the metrics submodule in scikit learn to see what to use for classification\n",
    "\n",
    "mse = sklearn.metrics.mean_squared_error(y_test, y_predtrain)\n",
    "print('classification score:\\n{}'\n",
    "     .format(log.score(X_test,y_test)))\n",
    "\n",
    "print('standard deviation between predicted and test:\\n{}'\n",
    "     .format(np.std(y_predtrain - y_test)))\n",
    "print('intercept:\\n{}'\n",
    "     .format(log.intercept_))\n",
    "print('coeficient:\\n{}'\n",
    "     .format(log.coef_))"
   ]
  },
  {
   "cell_type": "code",
   "execution_count": 51,
   "metadata": {
    "collapsed": true
   },
   "outputs": [],
   "source": [
    "sgd = SGDRegressor(n_iter=100000, eta0=.001)\n",
    "sgd = sgd.fit(X_train,y_train)\n",
    "y_predtrain = sgd.predict(X_test)"
   ]
  },
  {
   "cell_type": "code",
   "execution_count": 52,
   "metadata": {},
   "outputs": [
    {
     "name": "stdout",
     "output_type": "stream",
     "text": [
      "regression score:\n",
      "0.08653183192333047\n",
      "sqrt mean squared error:\n",
      "0.39877807528040426\n",
      "standard deviation between predicted and test:\n",
      "0.3987677621748045\n",
      "intercept:\n",
      "[ 0.62027828]\n",
      "coeficient:\n",
      "[-0.00730749 -0.00502487  0.02371149 -0.00360362  0.00634413 -0.10157257\n",
      " -0.16819146 -0.20659486 -0.15704391 -0.2241356  -0.04989972  0.06506618\n",
      " -0.04421896 -0.0896196  -0.08797783  0.         -0.06213647 -0.12581416\n",
      " -0.13641663 -0.13987223 -0.16175407 -0.04049207 -0.0737324  -0.11118955\n",
      " -0.24208288 -0.18335178 -0.13228822 -0.01856615 -0.10298998 -0.08876873\n",
      " -0.0424064  -0.11430524  0.04046541  0.07996187 -0.0050805   0.01828288\n",
      "  0.02247721  0.120929    0.02924236  0.05375098  0.05466915 -0.10354552\n",
      " -0.08667022 -0.10054563 -0.03605202 -0.05537326 -0.03530105 -0.08436579\n",
      " -0.24452003 -0.26813433 -0.34442953]\n"
     ]
    }
   ],
   "source": [
    "# This looks to be like the best model when it comes to prediction\n",
    "mse = sklearn.metrics.mean_squared_error(y_test, y_predtrain)\n",
    "print('regression score:\\n{}'\n",
    "     .format(sgd.score(X_test,y_test)))\n",
    "print('sqrt mean squared error:\\n{}'\n",
    "     .format(np.sqrt((mse))))\n",
    "print('standard deviation between predicted and test:\\n{}'\n",
    "     .format(np.std(y_predtrain - y_test)))\n",
    "print('intercept:\\n{}'\n",
    "     .format(sgd.intercept_))\n",
    "print('coeficient:\\n{}'\n",
    "     .format(sgd.coef_))"
   ]
  },
  {
   "cell_type": "code",
   "execution_count": null,
   "metadata": {
    "collapsed": true
   },
   "outputs": [],
   "source": [
    "plt.scatter(X_test.call,y_predtrain)"
   ]
  },
  {
   "cell_type": "code",
   "execution_count": null,
   "metadata": {
    "collapsed": true
   },
   "outputs": [],
   "source": []
  },
  {
   "cell_type": "markdown",
   "metadata": {
    "collapsed": true
   },
   "source": [
    "###  Cross Validate the Models"
   ]
  },
  {
   "cell_type": "code",
   "execution_count": null,
   "metadata": {
    "collapsed": true
   },
   "outputs": [],
   "source": [
    "# a good score is close to 1\n",
    "cv = cross_val_score(SGDRegressor(n_iter=1000), X, y, cv=10)\n",
    "cv.mean()"
   ]
  },
  {
   "cell_type": "code",
   "execution_count": null,
   "metadata": {
    "collapsed": true,
    "scrolled": true
   },
   "outputs": [],
   "source": [
    "X1, X2, y1, y2 = train_test_split(X, y, test_size=0.5, random_state=0)\n",
    "\n",
    "# a good score is close to 1\n",
    "print(SGDRegressor(n_iter=1000).fit(X2, y2).score(X1, y1))\n",
    "print(SGDRegressor(n_iter=1000).fit(X1, y1).score(X2, y2))"
   ]
  },
  {
   "cell_type": "code",
   "execution_count": null,
   "metadata": {
    "collapsed": true
   },
   "outputs": [],
   "source": []
  },
  {
   "cell_type": "code",
   "execution_count": null,
   "metadata": {
    "collapsed": true
   },
   "outputs": [],
   "source": [
    "# a good score is close to 1\n",
    "cv = cross_val_score(sgd, X, y, cv=10)\n",
    "cv.mean()"
   ]
  },
  {
   "cell_type": "code",
   "execution_count": null,
   "metadata": {
    "collapsed": true,
    "scrolled": true
   },
   "outputs": [],
   "source": [
    "# Why is this score different than the one above????\n",
    "print(sgd.fit(X2, y2).score(X1, y1))\n",
    "print(sgd.fit(X1, y1).score(X2, y2))"
   ]
  },
  {
   "cell_type": "code",
   "execution_count": null,
   "metadata": {
    "collapsed": true
   },
   "outputs": [],
   "source": [
    "# look at regression by channel, tier\n",
    "# need to record data better, so like keep record of progression in analysis\n",
    "# for columns in column_lists\n",
    "# so you run through column combinations\n",
    "# append lists of lists \n",
    "# have two columns in list of lists. one member of inner list the other is string representation of model itself, and then two more columns of test and score\n"
   ]
  },
  {
   "cell_type": "code",
   "execution_count": null,
   "metadata": {
    "collapsed": true
   },
   "outputs": [],
   "source": []
  },
  {
   "cell_type": "code",
   "execution_count": 53,
   "metadata": {
    "collapsed": true
   },
   "outputs": [],
   "source": [
    "column_lists = [\n",
    "    list(X_train.columns),\n",
    "    [c for c in X_train.columns if c.startswith('region')],\n",
    "    [c for c in X_train.columns if c.startswith('tier')],\n",
    "    [c for c in X_train.columns if c.startswith('has')],\n",
    "    [c for c in X_train.columns if not c[:3] in ['reg','tie', 'has']]\n",
    "]\n",
    "hyperparams = []\n",
    "for cols in column_lists:\n",
    "    #training and scoring the model\n",
    "    #instantiate\n",
    "   \n",
    "    X_train_ = X_train[cols]\n",
    "    X_test_ = X_test[cols]\n",
    "    sgd = sgd.fit(X_train_,y_train)\n",
    "    y_predtrain = sgd.predict(X_test_)\n",
    "    hyperparams.append([cols, str(sgd), sgd.score(X_test_,y_test), sgd.score(X_train_,y_train)])\n",
    "\n",
    "hype = pd.DataFrame(hyperparams)\n",
    "hype.columns = ['columns', 'model', 'test_score', 'train_score']\n",
    "#hype.to_csv('hype.csv')"
   ]
  },
  {
   "cell_type": "code",
   "execution_count": 54,
   "metadata": {},
   "outputs": [
    {
     "data": {
      "text/html": [
       "<div>\n",
       "<style>\n",
       "    .dataframe thead tr:only-child th {\n",
       "        text-align: right;\n",
       "    }\n",
       "\n",
       "    .dataframe thead th {\n",
       "        text-align: left;\n",
       "    }\n",
       "\n",
       "    .dataframe tbody tr th {\n",
       "        vertical-align: top;\n",
       "    }\n",
       "</style>\n",
       "<table border=\"1\" class=\"dataframe\">\n",
       "  <thead>\n",
       "    <tr style=\"text-align: right;\">\n",
       "      <th></th>\n",
       "      <th>columns</th>\n",
       "      <th>model</th>\n",
       "      <th>test_score</th>\n",
       "      <th>train_score</th>\n",
       "    </tr>\n",
       "  </thead>\n",
       "  <tbody>\n",
       "    <tr>\n",
       "      <th>0</th>\n",
       "      <td>[call, call_connect, email, marketing_email, s...</td>\n",
       "      <td>SGDRegressor(alpha=0.0001, average=False, epsi...</td>\n",
       "      <td>0.086833</td>\n",
       "      <td>0.087838</td>\n",
       "    </tr>\n",
       "    <tr>\n",
       "      <th>1</th>\n",
       "      <td>[region_Africa, region_Australia, region_Austr...</td>\n",
       "      <td>SGDRegressor(alpha=0.0001, average=False, epsi...</td>\n",
       "      <td>0.024940</td>\n",
       "      <td>0.036787</td>\n",
       "    </tr>\n",
       "    <tr>\n",
       "      <th>2</th>\n",
       "      <td>[tier_1, tier_2, tier_3, tier_4, tier_5]</td>\n",
       "      <td>SGDRegressor(alpha=0.0001, average=False, epsi...</td>\n",
       "      <td>0.003444</td>\n",
       "      <td>0.003574</td>\n",
       "    </tr>\n",
       "    <tr>\n",
       "      <th>3</th>\n",
       "      <td>[has_inbound, has_outbound]</td>\n",
       "      <td>SGDRegressor(alpha=0.0001, average=False, epsi...</td>\n",
       "      <td>0.025238</td>\n",
       "      <td>0.020771</td>\n",
       "    </tr>\n",
       "    <tr>\n",
       "      <th>4</th>\n",
       "      <td>[call, call_connect, email, marketing_email, s...</td>\n",
       "      <td>SGDRegressor(alpha=0.0001, average=False, epsi...</td>\n",
       "      <td>0.047427</td>\n",
       "      <td>0.041817</td>\n",
       "    </tr>\n",
       "  </tbody>\n",
       "</table>\n",
       "</div>"
      ],
      "text/plain": [
       "                                             columns  \\\n",
       "0  [call, call_connect, email, marketing_email, s...   \n",
       "1  [region_Africa, region_Australia, region_Austr...   \n",
       "2           [tier_1, tier_2, tier_3, tier_4, tier_5]   \n",
       "3                        [has_inbound, has_outbound]   \n",
       "4  [call, call_connect, email, marketing_email, s...   \n",
       "\n",
       "                                               model  test_score  train_score  \n",
       "0  SGDRegressor(alpha=0.0001, average=False, epsi...    0.086833     0.087838  \n",
       "1  SGDRegressor(alpha=0.0001, average=False, epsi...    0.024940     0.036787  \n",
       "2  SGDRegressor(alpha=0.0001, average=False, epsi...    0.003444     0.003574  \n",
       "3  SGDRegressor(alpha=0.0001, average=False, epsi...    0.025238     0.020771  \n",
       "4  SGDRegressor(alpha=0.0001, average=False, epsi...    0.047427     0.041817  "
      ]
     },
     "execution_count": 54,
     "metadata": {},
     "output_type": "execute_result"
    }
   ],
   "source": [
    "hype"
   ]
  },
  {
   "cell_type": "code",
   "execution_count": null,
   "metadata": {
    "collapsed": true
   },
   "outputs": [],
   "source": [
    "#explore data and models. change the models, sgd.coef_ attributes of  "
   ]
  },
  {
   "cell_type": "code",
   "execution_count": null,
   "metadata": {
    "collapsed": true
   },
   "outputs": [],
   "source": [
    "sgd = sgd.fit(X_train,y_train)\n",
    "#confirm that this is a safe mapping\n",
    "col = pd.DataFrame(sgd.coef_,X_train.columns)"
   ]
  },
  {
   "cell_type": "code",
   "execution_count": null,
   "metadata": {
    "collapsed": true
   },
   "outputs": [],
   "source": [
    "#scatterplot normalized email and site_visits relative to cvr\n",
    "#are we doing anything continuos such as days to close\n",
    "#will be confounding because longer means more email\n",
    "#pair of overlaid histograms of site_visits and emails\n",
    "#bodyplot exercise\n",
    "#degree of separation between those 2 \n",
    "#two histograms for email. one is won, one is lost\n",
    "#bimodal distribution because it has two modes/peaks\n",
    "#separation between those modes/peaks should be reflexive of the slopes\n",
    "# subtraction of the means of difference\n",
    "col.sort_values(0,ascending=False)"
   ]
  },
  {
   "cell_type": "code",
   "execution_count": null,
   "metadata": {
    "collapsed": true
   },
   "outputs": [],
   "source": [
    "# only way to sus out inbound/outbound move back to one columns. it would show that slope being more meaningful\n",
    "# subtract inbound from outbound slope and try to anticipate what the model is going to find for this new combined single value\n",
    "# assuming outbound to 1\n",
    "# -0.07209099999999996 is what it should be after combining\n",
    "-0.394433 - -0.322342\n"
   ]
  },
  {
   "cell_type": "code",
   "execution_count": null,
   "metadata": {
    "collapsed": true
   },
   "outputs": [],
   "source": [
    "activity = X.loc[:,['marketing_email','email','call','call_connect','site_visit']]\n",
    "un = activity.unstack()\n",
    "un = pd.DataFrame(un)\n",
    "un = un.reset_index(level=1,drop=True)\n",
    "un['type'] = un.index\n",
    "un = un.rename(columns={0: 'coef'})\n",
    "un.head()\n",
    "print()"
   ]
  },
  {
   "cell_type": "code",
   "execution_count": null,
   "metadata": {
    "collapsed": true
   },
   "outputs": [],
   "source": [
    "_ = sns.boxplot(x='type',y='coef',data=un)\n",
    "_ = plt.xlabel('type')\n",
    "_ = plt.ylabel('coef')\n",
    "plt.show()"
   ]
  },
  {
   "cell_type": "code",
   "execution_count": null,
   "metadata": {
    "collapsed": true
   },
   "outputs": [],
   "source": []
  }
 ],
 "metadata": {
  "kernelspec": {
   "display_name": "Python 3",
   "language": "python",
   "name": "python3"
  },
  "language_info": {
   "codemirror_mode": {
    "name": "ipython",
    "version": 3
   },
   "file_extension": ".py",
   "mimetype": "text/x-python",
   "name": "python",
   "nbconvert_exporter": "python",
   "pygments_lexer": "ipython3",
   "version": "3.6.3"
  }
 },
 "nbformat": 4,
 "nbformat_minor": 2
}
