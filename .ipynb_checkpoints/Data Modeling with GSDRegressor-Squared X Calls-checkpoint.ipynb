{
 "cells": [
  {
   "cell_type": "code",
   "execution_count": 3,
   "metadata": {},
   "outputs": [
    {
     "name": "stderr",
     "output_type": "stream",
     "text": [
      "/usr/local/lib/python3.6/site-packages/sklearn/cross_validation.py:44: DeprecationWarning: This module was deprecated in version 0.18 in favor of the model_selection module into which all the refactored classes and functions are moved. Also note that the interface of the new CV iterators are different from that of this module. This module will be removed in 0.20.\n",
      "  \"This module will be removed in 0.20.\", DeprecationWarning)\n",
      "/usr/local/lib/python3.6/site-packages/statsmodels/compat/pandas.py:56: FutureWarning: The pandas.core.datetools module is deprecated and will be removed in a future version. Please use the pandas.tseries module instead.\n",
      "  from pandas.core import datetools\n"
     ]
    }
   ],
   "source": [
    "import sys, os\n",
    "sys.path.append(os.environ['minotaur'])\n",
    "\n",
    "import datetime\n",
    "import seaborn; seaborn.set()\n",
    "import sklearn\n",
    "from sklearn.cross_validation import cross_val_score\n",
    "\n",
    "\n",
    "import yaml\n",
    "\n",
    "%matplotlib inline\n",
    "from matplotlib import pyplot as plt\n",
    "\n",
    "import pandas as pd\n",
    "import numpy as np\n",
    "import patsy\n",
    "import statsmodels.api as sm\n",
    "\n",
    "from pylab import rcParams\n",
    "rcParams['figure.figsize'] = 14,3\n",
    "rcParams['font.family'] = 'Open Sans'\n",
    "\n",
    "from dbs import redshift\n",
    "redshift.connect()\n",
    "\n",
    "from __future__ import division\n",
    "\n",
    "from sklearn.linear_model import SGDRegressor, LinearRegression"
   ]
  },
  {
   "cell_type": "code",
   "execution_count": 18,
   "metadata": {
    "collapsed": true
   },
   "outputs": [],
   "source": [
    "X = pd.read_csv('final.csv',header=0,index_col=0).copy()\n",
    "y = X['is_won'].copy()\n",
    "del X['is_won']\n",
    "\n",
    "Y = y.copy()"
   ]
  },
  {
   "cell_type": "code",
   "execution_count": 19,
   "metadata": {},
   "outputs": [
    {
     "data": {
      "text/plain": [
       "Index(['call', 'call_connect', 'email', 'marketing_email', 'site_visit'], dtype='object')"
      ]
     },
     "execution_count": 19,
     "metadata": {},
     "output_type": "execute_result"
    }
   ],
   "source": [
    "squarer = lambda x: x**2\n",
    "X.dtypes.index"
   ]
  },
  {
   "cell_type": "code",
   "execution_count": 20,
   "metadata": {},
   "outputs": [],
   "source": [
    "X['call_s'] = X['call'].apply(squarer)\n",
    "X['call_connect_s'] = X['call_connect'].apply(squarer)\n",
    "X['email_s'] = X['email'].apply(squarer)\n",
    "X['marketing_email_s'] = X['marketing_email'].apply(squarer)\n",
    "X['site_visit_s'] = X['site_visit'].apply(squarer)\n"
   ]
  },
  {
   "cell_type": "code",
   "execution_count": 21,
   "metadata": {},
   "outputs": [
    {
     "data": {
      "text/plain": [
       "array([ -1.21414496e+12,  -1.21414496e+12,  -2.53186815e+12,\n",
       "        -5.53064877e+11,  -1.14517967e+13,  -2.61151621e+13,\n",
       "        -8.27647383e+11,   8.40900093e+09,  -4.77880536e+11,\n",
       "        -1.99562873e+12])"
      ]
     },
     "execution_count": 21,
     "metadata": {},
     "output_type": "execute_result"
    }
   ],
   "source": [
    "sgd = SGDRegressor(n_iter=1000)\n",
    "sgdfit = sgd.fit(X,y)\n",
    "y_pred = sgdfit.predict(X)\n",
    "y_pred[:10]"
   ]
  },
  {
   "cell_type": "code",
   "execution_count": 22,
   "metadata": {
    "collapsed": true,
    "scrolled": true
   },
   "outputs": [],
   "source": [
    "#calculate statistics on below \n",
    "# this is where error lies, further y is from y_pred. look into calculating error\n",
    "# abs(y_pred - y).mean()\n",
    "\n",
    "# calculating maximum absolute difference\n",
    "# mean abs dif is .32 and max is 1.24. on average we are 30% away from the truth\n",
    "# this is quite a bad model. need to train. a good model is closer to .1 std. 60% of answer will be in 40% of correct answer\n",
    "# cross validation score. going to matter to us the most. its going to tell us whether there was a stasitcally sig differenece between email, call\n"
   ]
  },
  {
   "cell_type": "code",
   "execution_count": 23,
   "metadata": {},
   "outputs": [
    {
     "name": "stdout",
     "output_type": "stream",
     "text": [
      "1.459494691e+27\n",
      "3.80246248675e+13\n",
      "[ -7.02138222e+10  -2.66713330e+10  -6.28826157e+10  -1.28781124e+11\n",
      "   3.34515147e+11   1.45947866e+10  -4.12257915e+09  -5.18077189e+10\n",
      "   2.85965855e+10  -1.03202756e+11]\n",
      "[ -1.02897083e+11]\n",
      "-8.25396139459e+27\n"
     ]
    }
   ],
   "source": [
    "\n",
    "#coef for each additional email it would increase the likihood of the sales by .08%. This is what the model is saying not necessarily the truth. need to get accuracy up\n",
    "#intercept with no actions at all there is .17%. any change will move the dial .17%\n",
    "\n",
    "mse = sklearn.metrics.mean_squared_error(y, y_pred)\n",
    "print(mse)\n",
    "print(np.std(y_pred - y))\n",
    "print(sgdfit.coef_)\n",
    "print(sgdfit.intercept_)\n",
    "print(sgdfit.score(X, y))"
   ]
  },
  {
   "cell_type": "code",
   "execution_count": 24,
   "metadata": {},
   "outputs": [
    {
     "data": {
      "text/plain": [
       "<matplotlib.collections.PathCollection at 0x10e7d3fd0>"
      ]
     },
     "execution_count": 24,
     "metadata": {},
     "output_type": "execute_result"
    },
    {
     "name": "stderr",
     "output_type": "stream",
     "text": [
      "/usr/local/lib/python3.6/site-packages/matplotlib/font_manager.py:1297: UserWarning: findfont: Font family ['Open Sans'] not found. Falling back to DejaVu Sans\n",
      "  (prop.get_family(), self.defaultFamily[fontext]))\n"
     ]
    },
    {
     "data": {
      "image/png": "[encoded data removed]",
      "text/plain": [
       "<matplotlib.figure.Figure at 0x107c67ef0>"
      ]
     },
     "metadata": {},
     "output_type": "display_data"
    }
   ],
   "source": [
    "plt.scatter(X.call,y_pred)"
   ]
  },
  {
   "cell_type": "code",
   "execution_count": null,
   "metadata": {
    "collapsed": true
   },
   "outputs": [],
   "source": []
  },
  {
   "cell_type": "markdown",
   "metadata": {
    "collapsed": true
   },
   "source": [
    "###  Validate the Model"
   ]
  },
  {
   "cell_type": "code",
   "execution_count": 25,
   "metadata": {},
   "outputs": [
    {
     "data": {
      "text/plain": [
       "((5000, 10), (1667, 10))"
      ]
     },
     "execution_count": 25,
     "metadata": {},
     "output_type": "execute_result"
    }
   ],
   "source": [
    "from sklearn.cross_validation import train_test_split\n",
    "X_train, X_test, y_train, y_test = train_test_split(X, y)\n",
    "\n",
    "sgd = SGDRegressor(n_iter=1000)\n",
    "sgdtrain = sgd.fit(X_train,y_train)\n",
    "y_predtrain = sgdtrain.predict(X_test)\n",
    "\n",
    "X_train.shape, X_test.shape"
   ]
  },
  {
   "cell_type": "code",
   "execution_count": null,
   "metadata": {
    "collapsed": true
   },
   "outputs": [],
   "source": []
  },
  {
   "cell_type": "code",
   "execution_count": 26,
   "metadata": {},
   "outputs": [
    {
     "name": "stdout",
     "output_type": "stream",
     "text": [
      "2.03164625461e+28\n",
      "1.38689712236e+14\n",
      "[ -3.94790061e+10  -3.06863196e+10  -1.78485971e+10  -4.10518849e+11\n",
      "  -1.17675556e+11  -6.93058226e+10  -6.10990179e+10  -7.89343331e+10\n",
      "   2.64066551e+12   3.34338421e+10]\n",
      "[ -4.66399538e+10]\n",
      "-1.12959572405e+29\n"
     ]
    }
   ],
   "source": [
    "# This looks to be like the best model when it comes to prediction\n",
    "mse = sklearn.metrics.mean_squared_error(y_test, y_predtrain)\n",
    "print(mse)\n",
    "print(np.std(y_predtrain - y_test))\n",
    "print(sgdtrain.coef_)\n",
    "print(sgdtrain.intercept_)\n",
    "print(sgdtrain.score(X_test, y_test))"
   ]
  },
  {
   "cell_type": "code",
   "execution_count": 27,
   "metadata": {},
   "outputs": [
    {
     "data": {
      "text/plain": [
       "<matplotlib.collections.PathCollection at 0x10eac5ba8>"
      ]
     },
     "execution_count": 27,
     "metadata": {},
     "output_type": "execute_result"
    },
    {
     "name": "stderr",
     "output_type": "stream",
     "text": [
      "/usr/local/lib/python3.6/site-packages/matplotlib/font_manager.py:1297: UserWarning: findfont: Font family ['Open Sans'] not found. Falling back to DejaVu Sans\n",
      "  (prop.get_family(), self.defaultFamily[fontext]))\n"
     ]
    },
    {
     "data": {
      "image/png": "[encoded data removed]",
      "text/plain": [
       "<matplotlib.figure.Figure at 0x10e8a5cf8>"
      ]
     },
     "metadata": {},
     "output_type": "display_data"
    }
   ],
   "source": [
    "plt.scatter(X_test.call,y_predtrain)"
   ]
  },
  {
   "cell_type": "code",
   "execution_count": null,
   "metadata": {
    "collapsed": true
   },
   "outputs": [],
   "source": []
  },
  {
   "cell_type": "code",
   "execution_count": null,
   "metadata": {
    "collapsed": true
   },
   "outputs": [],
   "source": []
  },
  {
   "cell_type": "code",
   "execution_count": null,
   "metadata": {
    "collapsed": true
   },
   "outputs": [],
   "source": []
  },
  {
   "cell_type": "markdown",
   "metadata": {},
   "source": [
    "### Normalize Fields as a Tuning Method"
   ]
  },
  {
   "cell_type": "code",
   "execution_count": null,
   "metadata": {
    "collapsed": true
   },
   "outputs": [],
   "source": []
  },
  {
   "cell_type": "code",
   "execution_count": 190,
   "metadata": {
    "collapsed": true
   },
   "outputs": [],
   "source": [
    "# Normalize the data attributes for the dataset.\n",
    "from sklearn import preprocessing\n",
    "normalized_X = preprocessing.normalize(X)\n"
   ]
  },
  {
   "cell_type": "code",
   "execution_count": 191,
   "metadata": {
    "scrolled": true
   },
   "outputs": [
    {
     "name": "stdout",
     "output_type": "stream",
     "text": [
      "0.170433435326\n",
      "0.41283557312\n",
      "[-0.02810063 -0.04179853  0.09137353 -0.02502906  0.23596379]\n",
      "[ 0.14973821]\n",
      "-16.2879557337\n"
     ]
    }
   ],
   "source": [
    "sgd = SGDRegressor(n_iter=1000)\n",
    "sgdnorm = sgd.fit(normalized_X,y)\n",
    "y_normpred = sgdnorm.predict(normalized_X)\n",
    "mse_norm = sklearn.metrics.mean_squared_error(y, y_normpred)\n",
    "\n",
    "print(mse_norm)\n",
    "print(np.std(y_normpred - y))\n",
    "print(sgdnorm.coef_)\n",
    "print(sgdnorm.intercept_)\n",
    "print(sgdnorm.score(X_test, y_test))"
   ]
  },
  {
   "cell_type": "code",
   "execution_count": null,
   "metadata": {
    "collapsed": true
   },
   "outputs": [],
   "source": []
  },
  {
   "cell_type": "markdown",
   "metadata": {},
   "source": [
    "### Normalize Trained (Validated) Data"
   ]
  },
  {
   "cell_type": "code",
   "execution_count": 214,
   "metadata": {},
   "outputs": [
    {
     "name": "stdout",
     "output_type": "stream",
     "text": [
      "(1667,)\n",
      "(5000, 5)\n",
      "(1667,)\n"
     ]
    }
   ],
   "source": [
    "sgd = SGDRegressor(n_iter=1000)\n",
    "X_normtrain = preprocessing.normalize(X_train)\n",
    "X_normtest = preprocessing.normalize(X_test)\n",
    "\n",
    "sgdtrainnorm = sgdtrain.fit(X_normtrain,y_train)\n",
    "y_normtrainpred = sgdtrainnorm.predict(X_normtest)\n",
    "print(y_normtrainpred.shape)\n",
    "print(X_normtrain.shape)\n",
    "print(y_test.shape)"
   ]
  },
  {
   "cell_type": "code",
   "execution_count": 193,
   "metadata": {},
   "outputs": [
    {
     "name": "stdout",
     "output_type": "stream",
     "text": [
      "0.176722161135\n",
      "0.420333186279\n",
      "[-0.02950562 -0.05917203  0.07444579 -0.04861723  0.23940189]\n",
      "[ 0.16584806]\n",
      "-16.1134179403\n"
     ]
    }
   ],
   "source": [
    "#looks like this actually has a lower mse and std score than when the data was not normalized\n",
    "mse = sklearn.metrics.mean_squared_error(y_test, y_normtrainpred)\n",
    "print(mse)\n",
    "print(np.std(y_normtrainpred - y_test))\n",
    "print(sgdtrainnorm.coef_)\n",
    "print(sgdtrainnorm.intercept_)\n",
    "print(sgdtrainnorm.score(X_test, y_test))"
   ]
  },
  {
   "cell_type": "code",
   "execution_count": null,
   "metadata": {
    "collapsed": true
   },
   "outputs": [],
   "source": []
  },
  {
   "cell_type": "markdown",
   "metadata": {},
   "source": [
    "### Scale Trained (Validated) Data"
   ]
  },
  {
   "cell_type": "code",
   "execution_count": 194,
   "metadata": {},
   "outputs": [
    {
     "name": "stdout",
     "output_type": "stream",
     "text": [
      "(1667,)\n",
      "(5000, 5)\n",
      "(1667,)\n"
     ]
    }
   ],
   "source": [
    "X_scaletrain = preprocessing.scale(X_train)\n",
    "X_scaletest = preprocessing.scale(X_test)\n",
    "\n",
    "sgdtrainscale = sgdtrain.fit(X_scaletrain,y_train)\n",
    "y_scaletrainpred = sgdtrainscale.predict(X_scaletest)\n",
    "print(y_scaletrainpred.shape)\n",
    "print(X_train.shape)\n",
    "print(y_test.shape)"
   ]
  },
  {
   "cell_type": "code",
   "execution_count": 195,
   "metadata": {},
   "outputs": [
    {
     "name": "stdout",
     "output_type": "stream",
     "text": [
      "0.174361588602\n",
      "0.417494503819\n",
      "[-0.00750414 -0.01395489  0.0568261  -0.02152805  0.05743671]\n",
      "[ 0.22801154]\n",
      "-0.915417873391\n"
     ]
    }
   ],
   "source": [
    "#looks like this actually has a lower mse and std score than when the data was not scaled\n",
    "mse = sklearn.metrics.mean_squared_error(y_test, y_scaletrainpred)\n",
    "print(mse)\n",
    "print(np.std(y_scaletrainpred - y_test))\n",
    "print(sgdtrainscale.coef_)\n",
    "print(sgdtrainscale.intercept_)\n",
    "print(sgdtrainscale.score(X_test, y_test))"
   ]
  },
  {
   "cell_type": "code",
   "execution_count": null,
   "metadata": {
    "collapsed": true
   },
   "outputs": [],
   "source": []
  },
  {
   "cell_type": "code",
   "execution_count": null,
   "metadata": {
    "collapsed": true
   },
   "outputs": [],
   "source": []
  },
  {
   "cell_type": "code",
   "execution_count": null,
   "metadata": {
    "collapsed": true
   },
   "outputs": [],
   "source": []
  },
  {
   "cell_type": "markdown",
   "metadata": {
    "collapsed": true
   },
   "source": [
    "###  Cross Validate the Models"
   ]
  },
  {
   "cell_type": "code",
   "execution_count": 196,
   "metadata": {},
   "outputs": [
    {
     "data": {
      "text/plain": [
       "0.02669424512408286"
      ]
     },
     "execution_count": 196,
     "metadata": {},
     "output_type": "execute_result"
    }
   ],
   "source": [
    "# a good score is close to 1\n",
    "cv = cross_val_score(SGDRegressor(n_iter=1000), X, y, cv=10)\n",
    "cv.mean()"
   ]
  },
  {
   "cell_type": "code",
   "execution_count": 197,
   "metadata": {
    "scrolled": true
   },
   "outputs": [
    {
     "name": "stdout",
     "output_type": "stream",
     "text": [
      "0.0312170914298\n",
      "-0.000364536510816\n"
     ]
    }
   ],
   "source": [
    "X1, X2, y1, y2 = train_test_split(X, y, test_size=0.5, random_state=0)\n",
    "\n",
    "# a good score is close to 1\n",
    "print(SGDRegressor(n_iter=1000).fit(X2, y2).score(X1, y1))\n",
    "print(SGDRegressor(n_iter=1000).fit(X1, y1).score(X2, y2))"
   ]
  },
  {
   "cell_type": "code",
   "execution_count": null,
   "metadata": {
    "collapsed": true
   },
   "outputs": [],
   "source": []
  },
  {
   "cell_type": "code",
   "execution_count": 198,
   "metadata": {},
   "outputs": [
    {
     "data": {
      "text/plain": [
       "-0.0076036465991745515"
      ]
     },
     "execution_count": 198,
     "metadata": {},
     "output_type": "execute_result"
    }
   ],
   "source": [
    "# a good score is close to 1\n",
    "cv = cross_val_score(sgd, X, y, cv=10)\n",
    "cv.mean()"
   ]
  },
  {
   "cell_type": "code",
   "execution_count": 199,
   "metadata": {
    "scrolled": true
   },
   "outputs": [
    {
     "name": "stdout",
     "output_type": "stream",
     "text": [
      "0.0271076950337\n",
      "0.0336692414738\n"
     ]
    }
   ],
   "source": [
    "# Why is this score different than the one above????\n",
    "print(sgd.fit(X2, y2).score(X1, y1))\n",
    "print(sgd.fit(X1, y1).score(X2, y2))"
   ]
  },
  {
   "cell_type": "code",
   "execution_count": 200,
   "metadata": {
    "collapsed": true
   },
   "outputs": [],
   "source": [
    "#Trained"
   ]
  },
  {
   "cell_type": "code",
   "execution_count": 201,
   "metadata": {},
   "outputs": [
    {
     "data": {
      "text/plain": [
       "0.0015337761235242775"
      ]
     },
     "execution_count": 201,
     "metadata": {},
     "output_type": "execute_result"
    }
   ],
   "source": [
    "# a good score is close to 1\n",
    "cv = cross_val_score(sgdtrain, X, y, cv=10)\n",
    "cv.mean()"
   ]
  },
  {
   "cell_type": "code",
   "execution_count": 202,
   "metadata": {},
   "outputs": [
    {
     "name": "stdout",
     "output_type": "stream",
     "text": [
      "0.0367125610096\n",
      "0.0350364063597\n"
     ]
    }
   ],
   "source": [
    "# a good score is close to 1\n",
    "print(sgdtrain.fit(X2, y2).score(X1, y1))\n",
    "print(sgdtrain.fit(X1, y1).score(X2, y2))"
   ]
  },
  {
   "cell_type": "code",
   "execution_count": 203,
   "metadata": {
    "collapsed": true
   },
   "outputs": [],
   "source": [
    "#Scaled"
   ]
  },
  {
   "cell_type": "code",
   "execution_count": 204,
   "metadata": {},
   "outputs": [
    {
     "data": {
      "text/plain": [
       "0.021807212826125542"
      ]
     },
     "execution_count": 204,
     "metadata": {},
     "output_type": "execute_result"
    }
   ],
   "source": [
    "# a good score is close to 1\n",
    "cv = cross_val_score(sgdscale, X, y, cv=10)\n",
    "cv.mean()"
   ]
  },
  {
   "cell_type": "code",
   "execution_count": 205,
   "metadata": {
    "scrolled": true
   },
   "outputs": [
    {
     "name": "stdout",
     "output_type": "stream",
     "text": [
      "0.0267337175452\n",
      "0.035542862764\n"
     ]
    }
   ],
   "source": [
    "# a good score is close to 1\n",
    "print(sgdtrainscale.fit(X2, y2).score(X1, y1))\n",
    "print(sgdtrainscale.fit(X1, y1).score(X2, y2))"
   ]
  },
  {
   "cell_type": "code",
   "execution_count": 206,
   "metadata": {
    "collapsed": true
   },
   "outputs": [],
   "source": [
    "#Normalized"
   ]
  },
  {
   "cell_type": "code",
   "execution_count": 207,
   "metadata": {},
   "outputs": [
    {
     "data": {
      "text/plain": [
       "0.022859914667558334"
      ]
     },
     "execution_count": 207,
     "metadata": {},
     "output_type": "execute_result"
    }
   ],
   "source": [
    "# a good score is close to 1\n",
    "cv = cross_val_score(sgdnorm, X, y, cv=10)\n",
    "cv.mean()"
   ]
  },
  {
   "cell_type": "code",
   "execution_count": 208,
   "metadata": {},
   "outputs": [
    {
     "name": "stdout",
     "output_type": "stream",
     "text": [
      "0.0300937478217\n",
      "0.0269731075967\n"
     ]
    }
   ],
   "source": [
    "# a good score is close to 1\n",
    "print(sgdtrainnorm.fit(X2, y2).score(X1, y1))\n",
    "print(sgdtrainnorm.fit(X1, y1).score(X2, y2))"
   ]
  },
  {
   "cell_type": "code",
   "execution_count": null,
   "metadata": {
    "collapsed": true
   },
   "outputs": [],
   "source": []
  },
  {
   "cell_type": "code",
   "execution_count": 209,
   "metadata": {
    "collapsed": true
   },
   "outputs": [],
   "source": [
    "# Why am I getting a different score everytime I run this"
   ]
  }
 ],
 "metadata": {
  "kernelspec": {
   "display_name": "Python 3",
   "language": "python",
   "name": "python3"
  },
  "language_info": {
   "codemirror_mode": {
    "name": "ipython",
    "version": 3
   },
   "file_extension": ".py",
   "mimetype": "text/x-python",
   "name": "python",
   "nbconvert_exporter": "python",
   "pygments_lexer": "ipython3",
   "version": "3.6.2"
  }
 },
 "nbformat": 4,
 "nbformat_minor": 2
}
