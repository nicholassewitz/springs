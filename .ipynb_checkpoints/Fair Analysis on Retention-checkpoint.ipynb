{
 "cells": [
  {
   "cell_type": "markdown",
   "metadata": {},
   "source": [
    "## Fair Analysis 7/2017\n",
    "\n",
    "**author: @nicholassewitz\n",
    "tags: gallery partnerships, salesforce, activity, opportunities, fairs\n",
    "summary: The goal of this analysis is to dive into how fair participation affects retention**\n",
    "\n",
    "Still to be determind: \n",
    "    - Does fair participation lead to higher retention?  IE Do they upload artworks\n",
    "    - Does engaging with Artsy during a fair matter to retention. IE Do they respond to inquiries"
   ]
  },
  {
   "cell_type": "code",
   "execution_count": 12,
   "metadata": {},
   "outputs": [],
   "source": [
    "import sys, os\n",
    "sys.path.append(os.environ['minotaur'])\n",
    "\n",
    "import datetime as dt\n",
    "\n",
    "import yaml\n",
    "\n",
    "%matplotlib inline\n",
    "from matplotlib import pyplot as plt\n",
    "plt.style.use('seaborn-notebook')\n",
    "\n",
    "\n",
    "import pandas as pd\n",
    "pd.set_option('display.max_columns', 30)\n",
    "import numpy as np\n",
    "import patsy\n",
    "import statsmodels.api as sm\n",
    "\n",
    "from pylab import rcParams\n",
    "rcParams['figure.figsize'] = 14,3\n",
    "rcParams['font.family'] = 'Open Sans'\n",
    "\n",
    "from dbs import redshift\n",
    "redshift.connect()\n",
    "\n",
    "from __future__ import division"
   ]
  },
  {
   "cell_type": "code",
   "execution_count": 13,
   "metadata": {},
   "outputs": [],
   "source": [
    "q = redshift.execute(\n",
    "\"\"\"\n",
    "WITH first_fair AS\n",
    "(\n",
    "  SELECT partner_id,\n",
    "         MIN(start_at) AS first_fair,\n",
    "         COUNT(*) AS count_of_fairs\n",
    "  FROM (SELECT * FROM gravity.partner_shows WHERE fair_id IS NOT NULL AND eligible_artworks_count > 0)\n",
    "  GROUP BY 1\n",
    "),\n",
    "first_sub AS\n",
    "(\n",
    "  SELECT partner_id,\n",
    "         MIN(start_at) AS first_sub\n",
    "  FROM (SELECT * FROM gravity.partner_subscriptions)\n",
    "  GROUP BY 1\n",
    "),\n",
    "months_on_platform AS\n",
    "(\n",
    "  SELECT partner_id,\n",
    "         partner_slug,\n",
    "         SUM(months) AS active_months_on_platform,\n",
    "         COUNT(*) AS count_of_subs,\n",
    "         COUNT(CASE WHEN churned_at IS NOT NULL THEN 1 ELSE NULL END) AS count_of_churn\n",
    "  FROM (SELECT partner_id,\n",
    "               partner_slug,\n",
    "               churned_at,\n",
    "               DATE_DIFF('months',start_at,end_at) AS months\n",
    "        FROM analytics.partner_subscriptions\n",
    "        WHERE start_at IS NOT NULL)\n",
    "  GROUP BY 1,\n",
    "           2\n",
    ")\n",
    "SELECT p.id,\n",
    "             p.slug,\n",
    "             p.contract_type,\n",
    "             fs.first_sub,\n",
    "             ff.first_fair,\n",
    "             ff.count_of_fairs,\n",
    "             mop.active_months_on_platform,\n",
    "             mop.count_of_subs,\n",
    "             mop.count_of_churn,\n",
    "             CASE\n",
    "               WHEN ff.first_fair < fs.first_sub THEN TRUE\n",
    "               ELSE FALSE\n",
    "             END AS fair_before_partner\n",
    "      FROM gravity.partners p\n",
    "        LEFT JOIN first_sub fs ON p.id = fs.partner_id\n",
    "        LEFT JOIN first_fair ff ON p.id = ff.partner_id\n",
    "        LEFT JOIN months_on_platform mop ON p.id = mop.partner_id\n",
    "\n",
    "\n",
    "\"\"\")"
   ]
  },
  {
   "cell_type": "code",
   "execution_count": 14,
   "metadata": {
    "collapsed": true
   },
   "outputs": [],
   "source": [
    "def won(first_sub):\n",
    "    if first_sub != None:\n",
    "        return True\n",
    "    return False\n",
    "\n",
    "q['is_won'] = q.first_sub.apply(won)\n"
   ]
  },
  {
   "cell_type": "code",
   "execution_count": 15,
   "metadata": {
    "collapsed": true
   },
   "outputs": [],
   "source": [
    "def renewed(count_of_subs):\n",
    "    if count_of_subs > 1:\n",
    "        return True\n",
    "    return False\n",
    "\n",
    "q['renewed'] = q.count_of_subs.apply(renewed)\n"
   ]
  },
  {
   "cell_type": "code",
   "execution_count": 16,
   "metadata": {
    "collapsed": true
   },
   "outputs": [],
   "source": [
    "def churned(count_of_churn):\n",
    "    if count_of_churn > 0:\n",
    "        return True\n",
    "    return False\n",
    "\n",
    "q['churned'] = q.count_of_churn.apply(churned)\n"
   ]
  },
  {
   "cell_type": "code",
   "execution_count": 17,
   "metadata": {
    "collapsed": true
   },
   "outputs": [],
   "source": [
    "q['active_quarters_on_platform'] = q.active_months_on_platform / 3"
   ]
  },
  {
   "cell_type": "code",
   "execution_count": 18,
   "metadata": {
    "scrolled": true
   },
   "outputs": [
    {
     "data": {
      "text/html": [
       "<div>\n",
       "<style>\n",
       "    .dataframe thead tr:only-child th {\n",
       "        text-align: right;\n",
       "    }\n",
       "\n",
       "    .dataframe thead th {\n",
       "        text-align: left;\n",
       "    }\n",
       "\n",
       "    .dataframe tbody tr th {\n",
       "        vertical-align: top;\n",
       "    }\n",
       "</style>\n",
       "<table border=\"1\" class=\"dataframe\">\n",
       "  <thead>\n",
       "    <tr style=\"text-align: right;\">\n",
       "      <th></th>\n",
       "      <th>id</th>\n",
       "      <th>slug</th>\n",
       "      <th>contract_type</th>\n",
       "      <th>first_sub</th>\n",
       "      <th>first_fair</th>\n",
       "      <th>count_of_fairs</th>\n",
       "      <th>active_months_on_platform</th>\n",
       "      <th>count_of_subs</th>\n",
       "      <th>count_of_churn</th>\n",
       "      <th>fair_before_partner</th>\n",
       "      <th>is_won</th>\n",
       "      <th>renewed</th>\n",
       "      <th>churned</th>\n",
       "      <th>active_quarters_on_platform</th>\n",
       "    </tr>\n",
       "  </thead>\n",
       "  <tbody>\n",
       "    <tr>\n",
       "      <th>0</th>\n",
       "      <td>55ef4b57776f723f3a00012e</td>\n",
       "      <td>daniel-liebsohn</td>\n",
       "      <td>Fair</td>\n",
       "      <td>None</td>\n",
       "      <td>2016-09-21 17:00:00</td>\n",
       "      <td>1.0</td>\n",
       "      <td>NaN</td>\n",
       "      <td>NaN</td>\n",
       "      <td>NaN</td>\n",
       "      <td>False</td>\n",
       "      <td>False</td>\n",
       "      <td>False</td>\n",
       "      <td>False</td>\n",
       "      <td>NaN</td>\n",
       "    </tr>\n",
       "    <tr>\n",
       "      <th>1</th>\n",
       "      <td>5537eb6e776f7272c73e0000</td>\n",
       "      <td>casemore-kirkeby</td>\n",
       "      <td>Subscription</td>\n",
       "      <td>2016-04-14</td>\n",
       "      <td>2017-01-13 11:00:00</td>\n",
       "      <td>2.0</td>\n",
       "      <td>24.0</td>\n",
       "      <td>2.0</td>\n",
       "      <td>0.0</td>\n",
       "      <td>False</td>\n",
       "      <td>True</td>\n",
       "      <td>True</td>\n",
       "      <td>False</td>\n",
       "      <td>8.0</td>\n",
       "    </tr>\n",
       "    <tr>\n",
       "      <th>2</th>\n",
       "      <td>4df4191781d91d00010009b8</td>\n",
       "      <td>bose-pacia</td>\n",
       "      <td>General</td>\n",
       "      <td>None</td>\n",
       "      <td>NaT</td>\n",
       "      <td>NaN</td>\n",
       "      <td>NaN</td>\n",
       "      <td>NaN</td>\n",
       "      <td>NaN</td>\n",
       "      <td>False</td>\n",
       "      <td>False</td>\n",
       "      <td>False</td>\n",
       "      <td>False</td>\n",
       "      <td>NaN</td>\n",
       "    </tr>\n",
       "    <tr>\n",
       "      <th>3</th>\n",
       "      <td>55df65e6776f72360b0004ed</td>\n",
       "      <td>picasso-gallery</td>\n",
       "      <td>Fair</td>\n",
       "      <td>None</td>\n",
       "      <td>2015-10-07 08:00:00</td>\n",
       "      <td>2.0</td>\n",
       "      <td>NaN</td>\n",
       "      <td>NaN</td>\n",
       "      <td>NaN</td>\n",
       "      <td>False</td>\n",
       "      <td>False</td>\n",
       "      <td>False</td>\n",
       "      <td>False</td>\n",
       "      <td>NaN</td>\n",
       "    </tr>\n",
       "    <tr>\n",
       "      <th>4</th>\n",
       "      <td>5626b94a72616918d0000022</td>\n",
       "      <td>stadel-museum</td>\n",
       "      <td>Custom</td>\n",
       "      <td>None</td>\n",
       "      <td>NaT</td>\n",
       "      <td>NaN</td>\n",
       "      <td>NaN</td>\n",
       "      <td>NaN</td>\n",
       "      <td>NaN</td>\n",
       "      <td>False</td>\n",
       "      <td>False</td>\n",
       "      <td>False</td>\n",
       "      <td>False</td>\n",
       "      <td>NaN</td>\n",
       "    </tr>\n",
       "  </tbody>\n",
       "</table>\n",
       "</div>"
      ],
      "text/plain": [
       "                         id              slug contract_type   first_sub  \\\n",
       "0  55ef4b57776f723f3a00012e   daniel-liebsohn          Fair        None   \n",
       "1  5537eb6e776f7272c73e0000  casemore-kirkeby  Subscription  2016-04-14   \n",
       "2  4df4191781d91d00010009b8        bose-pacia       General        None   \n",
       "3  55df65e6776f72360b0004ed   picasso-gallery          Fair        None   \n",
       "4  5626b94a72616918d0000022     stadel-museum        Custom        None   \n",
       "\n",
       "           first_fair  count_of_fairs  active_months_on_platform  \\\n",
       "0 2016-09-21 17:00:00             1.0                        NaN   \n",
       "1 2017-01-13 11:00:00             2.0                       24.0   \n",
       "2                 NaT             NaN                        NaN   \n",
       "3 2015-10-07 08:00:00             2.0                        NaN   \n",
       "4                 NaT             NaN                        NaN   \n",
       "\n",
       "   count_of_subs  count_of_churn  fair_before_partner  is_won  renewed  \\\n",
       "0            NaN             NaN                False   False    False   \n",
       "1            2.0             0.0                False    True     True   \n",
       "2            NaN             NaN                False   False    False   \n",
       "3            NaN             NaN                False   False    False   \n",
       "4            NaN             NaN                False   False    False   \n",
       "\n",
       "   churned  active_quarters_on_platform  \n",
       "0    False                          NaN  \n",
       "1    False                          8.0  \n",
       "2    False                          NaN  \n",
       "3    False                          NaN  \n",
       "4    False                          NaN  "
      ]
     },
     "execution_count": 18,
     "metadata": {},
     "output_type": "execute_result"
    }
   ],
   "source": [
    "q.head()"
   ]
  },
  {
   "cell_type": "code",
   "execution_count": 19,
   "metadata": {},
   "outputs": [
    {
     "data": {
      "text/plain": [
       "0.31391054575297495"
      ]
     },
     "execution_count": 19,
     "metadata": {},
     "output_type": "execute_result"
    }
   ],
   "source": [
    "q[q.fair_before_partner == True].id.size / q[q.is_won == True].id.size"
   ]
  },
  {
   "cell_type": "code",
   "execution_count": 20,
   "metadata": {
    "collapsed": true
   },
   "outputs": [],
   "source": [
    "# Percent Partners Had Fair Before First Sub\n",
    "a1 = q[(q.fair_before_partner == True) & (q.count_of_subs == 1)].id.size / q[q.count_of_subs == 1].id.size\n",
    "b1 = q[(q.fair_before_partner == True) & (q.count_of_subs == 2)].id.size / q[q.count_of_subs == 2].id.size\n",
    "c1 = q[(q.fair_before_partner == True) & (q.count_of_subs == 3)].id.size / q[q.count_of_subs == 3].id.size\n",
    "d1 = q[(q.fair_before_partner == True) & (q.count_of_subs == 4)].id.size / q[q.count_of_subs == 4].id.size\n",
    "e1 = q[(q.fair_before_partner == True) & (q.count_of_subs > 4)].id.size / q[q.count_of_subs > 4].id.size"
   ]
  },
  {
   "cell_type": "code",
   "execution_count": 21,
   "metadata": {
    "collapsed": true
   },
   "outputs": [],
   "source": [
    "# Count of Partners\n",
    "a = q[q.count_of_subs == 1].id.size\n",
    "b = q[q.count_of_subs == 2].id.size\n",
    "c = q[q.count_of_subs == 3].id.size\n",
    "d = q[q.count_of_subs == 4].id.size\n",
    "e = q[q.count_of_subs > 4].id.size"
   ]
  },
  {
   "cell_type": "code",
   "execution_count": 22,
   "metadata": {},
   "outputs": [],
   "source": [
    "\n",
    "f1 = pd.Series([a1,b1,c1,d1,e1], index=[1,2,3,4,'>4'], name='Percent Partners Had Fair Before First Sub')\n",
    "f = pd.Series([a,b,c,d,e], index=[1,2,3,4,'>4'], name='Size of Partners')\n"
   ]
  },
  {
   "cell_type": "code",
   "execution_count": 23,
   "metadata": {
    "scrolled": true
   },
   "outputs": [
    {
     "data": {
      "text/html": [
       "<div>\n",
       "<style>\n",
       "    .dataframe thead tr:only-child th {\n",
       "        text-align: right;\n",
       "    }\n",
       "\n",
       "    .dataframe thead th {\n",
       "        text-align: left;\n",
       "    }\n",
       "\n",
       "    .dataframe tbody tr th {\n",
       "        vertical-align: top;\n",
       "    }\n",
       "</style>\n",
       "<table border=\"1\" class=\"dataframe\">\n",
       "  <thead>\n",
       "    <tr style=\"text-align: right;\">\n",
       "      <th></th>\n",
       "      <th>Size of Partners</th>\n",
       "      <th>Percent Partners Had Fair Before First Sub</th>\n",
       "    </tr>\n",
       "    <tr>\n",
       "      <th>Count of Subscriptions</th>\n",
       "      <th></th>\n",
       "      <th></th>\n",
       "    </tr>\n",
       "  </thead>\n",
       "  <tbody>\n",
       "    <tr>\n",
       "      <th>1</th>\n",
       "      <td>1156</td>\n",
       "      <td>0.234429</td>\n",
       "    </tr>\n",
       "    <tr>\n",
       "      <th>2</th>\n",
       "      <td>618</td>\n",
       "      <td>0.339806</td>\n",
       "    </tr>\n",
       "    <tr>\n",
       "      <th>3</th>\n",
       "      <td>366</td>\n",
       "      <td>0.459016</td>\n",
       "    </tr>\n",
       "    <tr>\n",
       "      <th>4</th>\n",
       "      <td>232</td>\n",
       "      <td>0.405172</td>\n",
       "    </tr>\n",
       "    <tr>\n",
       "      <th>&gt;4</th>\n",
       "      <td>65</td>\n",
       "      <td>0.338462</td>\n",
       "    </tr>\n",
       "  </tbody>\n",
       "</table>\n",
       "</div>"
      ],
      "text/plain": [
       "                        Size of Partners  \\\n",
       "Count of Subscriptions                     \n",
       "1                                   1156   \n",
       "2                                    618   \n",
       "3                                    366   \n",
       "4                                    232   \n",
       ">4                                    65   \n",
       "\n",
       "                        Percent Partners Had Fair Before First Sub  \n",
       "Count of Subscriptions                                              \n",
       "1                                                         0.234429  \n",
       "2                                                         0.339806  \n",
       "3                                                         0.459016  \n",
       "4                                                         0.405172  \n",
       ">4                                                        0.338462  "
      ]
     },
     "execution_count": 23,
     "metadata": {},
     "output_type": "execute_result"
    }
   ],
   "source": [
    "df = pd.concat([f,f1],axis=1)\n",
    "df = df.reindex(df.index.rename('Count of Subscriptions'))\n",
    "df"
   ]
  },
  {
   "cell_type": "code",
   "execution_count": 45,
   "metadata": {},
   "outputs": [
    {
     "data": {
      "text/plain": [
       "<matplotlib.axes._subplots.AxesSubplot at 0x10d300208>"
      ]
     },
     "execution_count": 45,
     "metadata": {},
     "output_type": "execute_result"
    },
    {
     "name": "stderr",
     "output_type": "stream",
     "text": [
      "/usr/local/lib/python3.6/site-packages/matplotlib/font_manager.py:1297: UserWarning: findfont: Font family ['Open Sans'] not found. Falling back to DejaVu Sans\n",
      "  (prop.get_family(), self.defaultFamily[fontext]))\n"
     ]
    },
    {
     "data": {
      "image/png": "[encoded data removed]",
      "text/plain": [
       "<matplotlib.figure.Figure at 0x10d5610b8>"
      ]
     },
     "metadata": {},
     "output_type": "display_data"
    }
   ],
   "source": [
    "\n",
    "df['Percent Partners Had Fair Before First Sub'].plot(marker='o')"
   ]
  },
  {
   "cell_type": "code",
   "execution_count": null,
   "metadata": {
    "collapsed": true
   },
   "outputs": [],
   "source": []
  },
  {
   "cell_type": "code",
   "execution_count": null,
   "metadata": {
    "collapsed": true
   },
   "outputs": [],
   "source": []
  },
  {
   "cell_type": "code",
   "execution_count": 29,
   "metadata": {},
   "outputs": [
    {
     "data": {
      "text/plain": [
       "0.03286384976525822"
      ]
     },
     "execution_count": 29,
     "metadata": {},
     "output_type": "execute_result"
    }
   ],
   "source": [
    "# percent of churned partners that participated in a fair before joining Artsy\n",
    "q[(q.fair_before_partner == True) & (q.churned == True)].id.size /q[q.churned == True].id.size"
   ]
  },
  {
   "cell_type": "code",
   "execution_count": 30,
   "metadata": {},
   "outputs": [
    {
     "data": {
      "text/plain": [
       "7"
      ]
     },
     "execution_count": 30,
     "metadata": {},
     "output_type": "execute_result"
    }
   ],
   "source": [
    "# size of churned partners that participated in a fair before joining Artsy\n",
    "q[(q.fair_before_partner == True) & (q.churned == True)].id.size"
   ]
  },
  {
   "cell_type": "code",
   "execution_count": null,
   "metadata": {
    "collapsed": true
   },
   "outputs": [],
   "source": []
  },
  {
   "cell_type": "markdown",
   "metadata": {},
   "source": [
    "#### Look at only Subscribers"
   ]
  },
  {
   "cell_type": "code",
   "execution_count": 31,
   "metadata": {
    "collapsed": true
   },
   "outputs": [],
   "source": [
    "won = q[q.is_won == True]"
   ]
  },
  {
   "cell_type": "code",
   "execution_count": 32,
   "metadata": {},
   "outputs": [
    {
     "data": {
      "text/plain": [
       "[<matplotlib.lines.Line2D at 0x106246a90>]"
      ]
     },
     "execution_count": 32,
     "metadata": {},
     "output_type": "execute_result"
    },
    {
     "name": "stderr",
     "output_type": "stream",
     "text": [
      "/usr/local/lib/python3.6/site-packages/matplotlib/font_manager.py:1297: UserWarning: findfont: Font family ['Open Sans'] not found. Falling back to DejaVu Sans\n",
      "  (prop.get_family(), self.defaultFamily[fontext]))\n"
     ]
    },
    {
     "data": {
      "image/png": "[encoded data removed]",
      "text/plain": [
       "<matplotlib.figure.Figure at 0x10c7dd710>"
      ]
     },
     "metadata": {},
     "output_type": "display_data"
    }
   ],
   "source": [
    "plt.plot(won.count_of_fairs,won.active_quarters_on_platform, \"o\")"
   ]
  },
  {
   "cell_type": "code",
   "execution_count": 33,
   "metadata": {},
   "outputs": [
    {
     "data": {
      "text/html": [
       "<div>\n",
       "<style>\n",
       "    .dataframe thead tr:only-child th {\n",
       "        text-align: right;\n",
       "    }\n",
       "\n",
       "    .dataframe thead th {\n",
       "        text-align: left;\n",
       "    }\n",
       "\n",
       "    .dataframe tbody tr th {\n",
       "        vertical-align: top;\n",
       "    }\n",
       "</style>\n",
       "<table border=\"1\" class=\"dataframe\">\n",
       "  <thead>\n",
       "    <tr style=\"text-align: right;\">\n",
       "      <th></th>\n",
       "      <th>count_of_fairs</th>\n",
       "      <th>active_months_on_platform</th>\n",
       "      <th>count_of_subs</th>\n",
       "      <th>count_of_churn</th>\n",
       "      <th>fair_before_partner</th>\n",
       "      <th>is_won</th>\n",
       "      <th>renewed</th>\n",
       "      <th>churned</th>\n",
       "      <th>active_quarters_on_platform</th>\n",
       "    </tr>\n",
       "  </thead>\n",
       "  <tbody>\n",
       "    <tr>\n",
       "      <th>count_of_fairs</th>\n",
       "      <td>1.000000</td>\n",
       "      <td>0.361546</td>\n",
       "      <td>0.348980</td>\n",
       "      <td>-0.059467</td>\n",
       "      <td>0.338207</td>\n",
       "      <td>NaN</td>\n",
       "      <td>0.301995</td>\n",
       "      <td>-0.059467</td>\n",
       "      <td>0.361546</td>\n",
       "    </tr>\n",
       "    <tr>\n",
       "      <th>active_months_on_platform</th>\n",
       "      <td>0.361546</td>\n",
       "      <td>1.000000</td>\n",
       "      <td>0.904188</td>\n",
       "      <td>-0.244672</td>\n",
       "      <td>0.211691</td>\n",
       "      <td>NaN</td>\n",
       "      <td>0.773369</td>\n",
       "      <td>-0.245601</td>\n",
       "      <td>1.000000</td>\n",
       "    </tr>\n",
       "    <tr>\n",
       "      <th>count_of_subs</th>\n",
       "      <td>0.348980</td>\n",
       "      <td>0.904188</td>\n",
       "      <td>1.000000</td>\n",
       "      <td>-0.080967</td>\n",
       "      <td>0.149489</td>\n",
       "      <td>NaN</td>\n",
       "      <td>0.789124</td>\n",
       "      <td>-0.081609</td>\n",
       "      <td>0.904188</td>\n",
       "    </tr>\n",
       "    <tr>\n",
       "      <th>count_of_churn</th>\n",
       "      <td>-0.059467</td>\n",
       "      <td>-0.244672</td>\n",
       "      <td>-0.080967</td>\n",
       "      <td>1.000000</td>\n",
       "      <td>-0.187045</td>\n",
       "      <td>NaN</td>\n",
       "      <td>-0.067852</td>\n",
       "      <td>0.997473</td>\n",
       "      <td>-0.244672</td>\n",
       "    </tr>\n",
       "    <tr>\n",
       "      <th>fair_before_partner</th>\n",
       "      <td>0.338207</td>\n",
       "      <td>0.211691</td>\n",
       "      <td>0.149489</td>\n",
       "      <td>-0.187045</td>\n",
       "      <td>1.000000</td>\n",
       "      <td>NaN</td>\n",
       "      <td>0.162696</td>\n",
       "      <td>-0.187416</td>\n",
       "      <td>0.211691</td>\n",
       "    </tr>\n",
       "    <tr>\n",
       "      <th>is_won</th>\n",
       "      <td>NaN</td>\n",
       "      <td>NaN</td>\n",
       "      <td>NaN</td>\n",
       "      <td>NaN</td>\n",
       "      <td>NaN</td>\n",
       "      <td>NaN</td>\n",
       "      <td>NaN</td>\n",
       "      <td>NaN</td>\n",
       "      <td>NaN</td>\n",
       "    </tr>\n",
       "    <tr>\n",
       "      <th>renewed</th>\n",
       "      <td>0.301995</td>\n",
       "      <td>0.773369</td>\n",
       "      <td>0.789124</td>\n",
       "      <td>-0.067852</td>\n",
       "      <td>0.162696</td>\n",
       "      <td>NaN</td>\n",
       "      <td>1.000000</td>\n",
       "      <td>-0.069724</td>\n",
       "      <td>0.773369</td>\n",
       "    </tr>\n",
       "    <tr>\n",
       "      <th>churned</th>\n",
       "      <td>-0.059467</td>\n",
       "      <td>-0.245601</td>\n",
       "      <td>-0.081609</td>\n",
       "      <td>0.997473</td>\n",
       "      <td>-0.187416</td>\n",
       "      <td>NaN</td>\n",
       "      <td>-0.069724</td>\n",
       "      <td>1.000000</td>\n",
       "      <td>-0.245601</td>\n",
       "    </tr>\n",
       "    <tr>\n",
       "      <th>active_quarters_on_platform</th>\n",
       "      <td>0.361546</td>\n",
       "      <td>1.000000</td>\n",
       "      <td>0.904188</td>\n",
       "      <td>-0.244672</td>\n",
       "      <td>0.211691</td>\n",
       "      <td>NaN</td>\n",
       "      <td>0.773369</td>\n",
       "      <td>-0.245601</td>\n",
       "      <td>1.000000</td>\n",
       "    </tr>\n",
       "  </tbody>\n",
       "</table>\n",
       "</div>"
      ],
      "text/plain": [
       "                             count_of_fairs  active_months_on_platform  \\\n",
       "count_of_fairs                     1.000000                   0.361546   \n",
       "active_months_on_platform          0.361546                   1.000000   \n",
       "count_of_subs                      0.348980                   0.904188   \n",
       "count_of_churn                    -0.059467                  -0.244672   \n",
       "fair_before_partner                0.338207                   0.211691   \n",
       "is_won                                  NaN                        NaN   \n",
       "renewed                            0.301995                   0.773369   \n",
       "churned                           -0.059467                  -0.245601   \n",
       "active_quarters_on_platform        0.361546                   1.000000   \n",
       "\n",
       "                             count_of_subs  count_of_churn  \\\n",
       "count_of_fairs                    0.348980       -0.059467   \n",
       "active_months_on_platform         0.904188       -0.244672   \n",
       "count_of_subs                     1.000000       -0.080967   \n",
       "count_of_churn                   -0.080967        1.000000   \n",
       "fair_before_partner               0.149489       -0.187045   \n",
       "is_won                                 NaN             NaN   \n",
       "renewed                           0.789124       -0.067852   \n",
       "churned                          -0.081609        0.997473   \n",
       "active_quarters_on_platform       0.904188       -0.244672   \n",
       "\n",
       "                             fair_before_partner  is_won   renewed   churned  \\\n",
       "count_of_fairs                          0.338207     NaN  0.301995 -0.059467   \n",
       "active_months_on_platform               0.211691     NaN  0.773369 -0.245601   \n",
       "count_of_subs                           0.149489     NaN  0.789124 -0.081609   \n",
       "count_of_churn                         -0.187045     NaN -0.067852  0.997473   \n",
       "fair_before_partner                     1.000000     NaN  0.162696 -0.187416   \n",
       "is_won                                       NaN     NaN       NaN       NaN   \n",
       "renewed                                 0.162696     NaN  1.000000 -0.069724   \n",
       "churned                                -0.187416     NaN -0.069724  1.000000   \n",
       "active_quarters_on_platform             0.211691     NaN  0.773369 -0.245601   \n",
       "\n",
       "                             active_quarters_on_platform  \n",
       "count_of_fairs                                  0.361546  \n",
       "active_months_on_platform                       1.000000  \n",
       "count_of_subs                                   0.904188  \n",
       "count_of_churn                                 -0.244672  \n",
       "fair_before_partner                             0.211691  \n",
       "is_won                                               NaN  \n",
       "renewed                                         0.773369  \n",
       "churned                                        -0.245601  \n",
       "active_quarters_on_platform                     1.000000  "
      ]
     },
     "execution_count": 33,
     "metadata": {},
     "output_type": "execute_result"
    }
   ],
   "source": [
    "# very low correlation between time on platform and number of fairs\n",
    "won.corr()"
   ]
  },
  {
   "cell_type": "code",
   "execution_count": null,
   "metadata": {
    "collapsed": true
   },
   "outputs": [],
   "source": []
  },
  {
   "cell_type": "code",
   "execution_count": null,
   "metadata": {
    "collapsed": true
   },
   "outputs": [],
   "source": []
  },
  {
   "cell_type": "code",
   "execution_count": null,
   "metadata": {
    "collapsed": true
   },
   "outputs": [],
   "source": []
  },
  {
   "cell_type": "code",
   "execution_count": null,
   "metadata": {
    "collapsed": true
   },
   "outputs": [],
   "source": []
  },
  {
   "cell_type": "code",
   "execution_count": null,
   "metadata": {
    "collapsed": true
   },
   "outputs": [],
   "source": []
  },
  {
   "cell_type": "code",
   "execution_count": null,
   "metadata": {
    "collapsed": true
   },
   "outputs": [],
   "source": []
  },
  {
   "cell_type": "code",
   "execution_count": null,
   "metadata": {
    "collapsed": true
   },
   "outputs": [],
   "source": []
  },
  {
   "cell_type": "code",
   "execution_count": null,
   "metadata": {
    "collapsed": true
   },
   "outputs": [],
   "source": []
  },
  {
   "cell_type": "code",
   "execution_count": null,
   "metadata": {
    "collapsed": true
   },
   "outputs": [],
   "source": []
  },
  {
   "cell_type": "code",
   "execution_count": null,
   "metadata": {
    "collapsed": true
   },
   "outputs": [],
   "source": []
  }
 ],
 "metadata": {
  "kernelspec": {
   "display_name": "Python 3",
   "language": "python",
   "name": "python3"
  },
  "language_info": {
   "codemirror_mode": {
    "name": "ipython",
    "version": 3
   },
   "file_extension": ".py",
   "mimetype": "text/x-python",
   "name": "python",
   "nbconvert_exporter": "python",
   "pygments_lexer": "ipython3",
   "version": "3.6.1"
  }
 },
 "nbformat": 4,
 "nbformat_minor": 2
}
