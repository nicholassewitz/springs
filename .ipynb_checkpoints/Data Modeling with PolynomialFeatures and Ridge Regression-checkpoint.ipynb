{
 "cells": [
  {
   "cell_type": "code",
   "execution_count": 12,
   "metadata": {
    "collapsed": true,
    "scrolled": true
   },
   "outputs": [],
   "source": [
    "import sys, os\n",
    "sys.path.append(os.environ['minotaur'])\n",
    "\n",
    "import datetime\n",
    "import seaborn; seaborn.set()\n",
    "\n",
    "\n",
    "import yaml\n",
    "\n",
    "%matplotlib inline\n",
    "from matplotlib import pyplot as plt\n",
    "\n",
    "import pandas as pd\n",
    "import numpy as np\n",
    "import patsy\n",
    "import statsmodels.api as sm\n",
    "\n",
    "from pylab import rcParams\n",
    "rcParams['figure.figsize'] = 14,3\n",
    "rcParams['font.family'] = 'Open Sans'\n",
    "\n",
    "from dbs import redshift\n",
    "redshift.connect()\n",
    "\n",
    "from __future__ import division\n",
    "\n",
    "from sklearn.linear_model import Lasso, Ridge, LinearRegression\n",
    "from sklearn.preprocessing import PolynomialFeatures, MinMaxScaler\n",
    "from sklearn.model_selection import train_test_split\n",
    "\n",
    "scaler = MinMaxScaler()\n",
    "poly = PolynomialFeatures(degree=2)"
   ]
  },
  {
   "cell_type": "code",
   "execution_count": 18,
   "metadata": {
    "collapsed": true
   },
   "outputs": [],
   "source": [
    "#during cleaning and data wrangling process things should be scaled\n",
    "\n",
    "X = pd.read_csv('final.csv',header=0,index_col=0).copy()\n",
    "y = X['is_won'].copy()\n",
    "del X['is_won']\n",
    "\n"
   ]
  },
  {
   "cell_type": "code",
   "execution_count": 26,
   "metadata": {},
   "outputs": [
    {
     "name": "stdout",
     "output_type": "stream",
     "text": [
      "\n",
      "Addition of many polynomial features often leads to\n",
      "overfitting, so we use polynomial featues in combination\n",
      "with regression that has a regularization penalty, like ridge\n",
      "regression.\n",
      "\n"
     ]
    },
    {
     "data": {
      "text/html": [
       "<div>\n",
       "<style>\n",
       "    .dataframe thead tr:only-child th {\n",
       "        text-align: right;\n",
       "    }\n",
       "\n",
       "    .dataframe thead th {\n",
       "        text-align: left;\n",
       "    }\n",
       "\n",
       "    .dataframe tbody tr th {\n",
       "        vertical-align: top;\n",
       "    }\n",
       "</style>\n",
       "<table border=\"1\" class=\"dataframe\">\n",
       "  <thead>\n",
       "    <tr style=\"text-align: right;\">\n",
       "      <th></th>\n",
       "      <th>columns</th>\n",
       "      <th>model</th>\n",
       "      <th>test_score</th>\n",
       "      <th>train_score</th>\n",
       "    </tr>\n",
       "  </thead>\n",
       "  <tbody>\n",
       "    <tr>\n",
       "      <th>0</th>\n",
       "      <td>[call, call_connect, email, marketing_email, s...</td>\n",
       "      <td>Ridge(alpha=15, copy_X=True, fit_intercept=Tru...</td>\n",
       "      <td>0.065529</td>\n",
       "      <td>0.114800</td>\n",
       "    </tr>\n",
       "    <tr>\n",
       "      <th>1</th>\n",
       "      <td>[region_Africa, region_Australia, region_Austr...</td>\n",
       "      <td>Ridge(alpha=15, copy_X=True, fit_intercept=Tru...</td>\n",
       "      <td>0.023516</td>\n",
       "      <td>0.036598</td>\n",
       "    </tr>\n",
       "    <tr>\n",
       "      <th>2</th>\n",
       "      <td>[tier_1, tier_2, tier_3, tier_4, tier_5]</td>\n",
       "      <td>Ridge(alpha=15, copy_X=True, fit_intercept=Tru...</td>\n",
       "      <td>0.000354</td>\n",
       "      <td>0.003029</td>\n",
       "    </tr>\n",
       "    <tr>\n",
       "      <th>3</th>\n",
       "      <td>[has_inbound, has_outbound]</td>\n",
       "      <td>Ridge(alpha=15, copy_X=True, fit_intercept=Tru...</td>\n",
       "      <td>0.017056</td>\n",
       "      <td>0.023180</td>\n",
       "    </tr>\n",
       "    <tr>\n",
       "      <th>4</th>\n",
       "      <td>[call, call_connect, email, marketing_email, s...</td>\n",
       "      <td>Ridge(alpha=15, copy_X=True, fit_intercept=Tru...</td>\n",
       "      <td>0.036819</td>\n",
       "      <td>0.034355</td>\n",
       "    </tr>\n",
       "  </tbody>\n",
       "</table>\n",
       "</div>"
      ],
      "text/plain": [
       "                                             columns  \\\n",
       "0  [call, call_connect, email, marketing_email, s...   \n",
       "1  [region_Africa, region_Australia, region_Austr...   \n",
       "2           [tier_1, tier_2, tier_3, tier_4, tier_5]   \n",
       "3                        [has_inbound, has_outbound]   \n",
       "4  [call, call_connect, email, marketing_email, s...   \n",
       "\n",
       "                                               model  test_score  train_score  \n",
       "0  Ridge(alpha=15, copy_X=True, fit_intercept=Tru...    0.065529     0.114800  \n",
       "1  Ridge(alpha=15, copy_X=True, fit_intercept=Tru...    0.023516     0.036598  \n",
       "2  Ridge(alpha=15, copy_X=True, fit_intercept=Tru...    0.000354     0.003029  \n",
       "3  Ridge(alpha=15, copy_X=True, fit_intercept=Tru...    0.017056     0.023180  \n",
       "4  Ridge(alpha=15, copy_X=True, fit_intercept=Tru...    0.036819     0.034355  "
      ]
     },
     "execution_count": 26,
     "metadata": {},
     "output_type": "execute_result"
    }
   ],
   "source": [
    "\n",
    "column_lists = [\n",
    "    list(X.columns),\n",
    "    [c for c in X.columns if c.startswith('region')],\n",
    "    [c for c in X.columns if c.startswith('tier')],\n",
    "    [c for c in X.columns if c.startswith('has')],\n",
    "    [c for c in X.columns if not c[:3] in ['reg','tie', 'has']]\n",
    "]\n",
    "hyperparams = []\n",
    "for columns in column_lists:\n",
    "    #training and scoring the model\n",
    "    #instantiate\n",
    "    X_subset = X[columns]\n",
    "    X_subset = pd.DataFrame(poly.fit_transform(X_subset), index=X_subset.index)\n",
    "\n",
    "    X_train, X_test, y_train, y_test = train_test_split(X_subset, y, random_state = 0)\n",
    "    \n",
    "\n",
    "    ridge = Ridge(alpha=15).fit(X_train, y_train)\n",
    "    y_predtrain = ridge.predict(X_test)\n",
    "    hyperparams.append([columns, str(ridge), ridge.score(X_test,y_test), ridge.score(X_train,y_train)])\n",
    "\n",
    "ridge_reg = pd.DataFrame(hyperparams)\n",
    "ridge_reg.columns = ['columns', 'model', 'test_score', 'train_score']\n",
    "\n",
    "\n",
    "print('\\nAddition of many polynomial features often leads to\\n\\\n",
    "overfitting, so we use polynomial featues in combination\\n\\\n",
    "with regression that has a regularization penalty, like ridge\\n\\\n",
    "regression.\\n')\n",
    "ridge_reg\n"
   ]
  },
  {
   "cell_type": "code",
   "execution_count": null,
   "metadata": {
    "collapsed": true
   },
   "outputs": [],
   "source": [
    "#chi2 test from sklearn to see which features are overfitting\n",
    "#checks correlation coef between output variable and train\n",
    "#won't improve test score\n",
    "#add loop to run through parameters such as alpha in ridge\n",
    "#6.5% cvr rate boost"
   ]
  },
  {
   "cell_type": "code",
   "execution_count": null,
   "metadata": {
    "collapsed": true
   },
   "outputs": [],
   "source": []
  },
  {
   "cell_type": "markdown",
   "metadata": {},
   "source": [
    "### Lasso Regression"
   ]
  },
  {
   "cell_type": "code",
   "execution_count": null,
   "metadata": {
    "collapsed": true
   },
   "outputs": [],
   "source": []
  },
  {
   "cell_type": "code",
   "execution_count": 7,
   "metadata": {},
   "outputs": [
    {
     "name": "stdout",
     "output_type": "stream",
     "text": [
      "lasso regression linear model intercept: 0.22910850549041503\n",
      "lasso regression linear model coeff:\n",
      "[ 0. -0. -0. ...,  0.  0.  0.]\n",
      "non zero features: 0\n",
      "R-squared score (training): 0.000\n",
      "R-squared score (test): -0.001\n",
      "Features with non-zero weight (sorted by abs magnitude):\n"
     ]
    }
   ],
   "source": [
    "# change tuning param\n",
    "\n",
    "linlasso = Lasso(alpha=2.0, max_iter = 100000).fit(X_train,y_train)\n",
    "\n",
    "print('lasso regression linear model intercept: {}'\n",
    "     .format(linlasso.intercept_))\n",
    "print('lasso regression linear model coeff:\\n{}'\n",
    "     .format(linlasso.coef_))\n",
    "print('non zero features: {}'\n",
    "     .format(np.sum(linlasso.coef_ != 0)))\n",
    "print('R-squared score (training): {:.3f}'\n",
    "      .format(linlasso.score(X_train, y_train)))\n",
    "print('R-squared score (test): {:.3f}'\n",
    "      .format(linlasso.score(X_test, y_test)))\n",
    "print('Features with non-zero weight (sorted by abs magnitude):')\n",
    "\n",
    "for e in sorted (list(zip(list(X), linlasso.coef_ )),\n",
    "                key = lambda e: -abs(e[1])):\n",
    "    if e[1] != 0:\n",
    "        print('\\t{}, {:.3f}'.format(e[0], e[1]))"
   ]
  },
  {
   "cell_type": "code",
   "execution_count": null,
   "metadata": {
    "collapsed": true
   },
   "outputs": [],
   "source": []
  },
  {
   "cell_type": "code",
   "execution_count": 8,
   "metadata": {},
   "outputs": [
    {
     "data": {
      "text/plain": [
       "(7164, 1378)"
      ]
     },
     "execution_count": 8,
     "metadata": {},
     "output_type": "execute_result"
    }
   ],
   "source": [
    "#21 because of \"biased\" intercept\n",
    "#as the 5 grows the 21 will grow exp so want to be careful of ratio rows to columns\n",
    "X_poly.shape"
   ]
  },
  {
   "cell_type": "code",
   "execution_count": 9,
   "metadata": {},
   "outputs": [
    {
     "data": {
      "text/plain": [
       "Index(['call', 'call_connect', 'email', 'marketing_email', 'site_visit',\n",
       "       '_Africa', '_Australia', '_Australia/New Zealand', '_Belgium',\n",
       "       '_Benelux', '_Canada', '_Central America', '_Central Europe', '_China',\n",
       "       '_Eastern Europe', '_Florida', '_France', '_Germany',\n",
       "       '_Iberian Peninsula', '_India', '_Italy', '_Japan', '_Mexico',\n",
       "       '_Middle East', '_Northern Europe', '_Russia', '_SE Asia',\n",
       "       '_Scandinavia', '_South America', '_South Korea',\n",
       "       '_Southern Europe (Portugal, Spain, Italy, etc)', '_The Netherlands',\n",
       "       '_US (California)', '_US (Florida)', '_US (Midwest)',\n",
       "       '_US (New England)', '_US (New York)', '_US (Northwest)', '_US (South)',\n",
       "       '_US (Southwest)', '_US (Tri-State & Mid-Atlantic)',\n",
       "       '_US (West Coast & Southwest)', '_United Kingdom',\n",
       "       '_Western Europe (France and Germany)', '_1', '_2', '_3', '_4', '_5',\n",
       "       'has_inbound', 'has_outbound'],\n",
       "      dtype='object')"
      ]
     },
     "execution_count": 9,
     "metadata": {},
     "output_type": "execute_result"
    }
   ],
   "source": [
    "X.columns"
   ]
  },
  {
   "cell_type": "code",
   "execution_count": null,
   "metadata": {
    "collapsed": true
   },
   "outputs": [],
   "source": []
  },
  {
   "cell_type": "code",
   "execution_count": null,
   "metadata": {
    "collapsed": true
   },
   "outputs": [],
   "source": [
    "#pipeline class from sklearn\n",
    "#polynomial"
   ]
  }
 ],
 "metadata": {
  "kernelspec": {
   "display_name": "Python 3",
   "language": "python",
   "name": "python3"
  },
  "language_info": {
   "codemirror_mode": {
    "name": "ipython",
    "version": 3
   },
   "file_extension": ".py",
   "mimetype": "text/x-python",
   "name": "python",
   "nbconvert_exporter": "python",
   "pygments_lexer": "ipython3",
   "version": "3.6.2"
  }
 },
 "nbformat": 4,
 "nbformat_minor": 2
}
