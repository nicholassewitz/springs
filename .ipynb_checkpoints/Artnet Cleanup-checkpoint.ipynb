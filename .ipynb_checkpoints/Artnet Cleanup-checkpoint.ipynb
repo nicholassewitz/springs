{
 "cells": [
  {
   "cell_type": "code",
   "execution_count": 146,
   "metadata": {},
   "outputs": [],
   "source": [
    "import sys, os\n",
    "sys.path.append(os.environ['minotaur'])\n",
    "\n",
    "import datetime as dt\n",
    "import re\n",
    "import sys\n",
    "\n",
    "import yaml\n",
    "from urllib.parse import urlparse\n",
    "\n",
    "\n",
    "%matplotlib inline\n",
    "from matplotlib import pyplot as plt\n",
    "plt.style.use('seaborn-notebook')\n",
    "\n",
    "\n",
    "import pandas as pd\n",
    "pd.set_option('display.max_columns', 30)\n",
    "import numpy as np\n",
    "import patsy\n",
    "import statsmodels.api as sm\n",
    "\n",
    "from pylab import rcParams\n",
    "rcParams['figure.figsize'] = 14,3\n",
    "rcParams['font.family'] = 'Open Sans'\n",
    "\n",
    "from dbs import redshift\n",
    "redshift.connect()\n",
    "\n",
    "from __future__ import division"
   ]
  },
  {
   "cell_type": "code",
   "execution_count": 147,
   "metadata": {},
   "outputs": [],
   "source": [
    "q1 = redshift.execute( \"\"\"\n",
    "with emails as \n",
    "(\n",
    "select *, ROW_NUMBER() OVER (PARTITION BY content ORDER BY email_address_verifications_count DESC) AS row_num\n",
    "from burden_api.email_addresses\n",
    "),\n",
    "orgs as \n",
    "(SELECT organizations.name as \"burden_name\",\n",
    "       websites_count,\n",
    "       websites.content AS \"website\",\n",
    "       'source' AS \"source\",\n",
    "       organizations.id as \"burden_id\",\n",
    "       city as \"billing_city\",\n",
    "       country as \"billing_country\",\n",
    "       address as \"billing_street\",\n",
    "       emails.content as \"email\",\n",
    "       ROW_NUMBER() OVER (PARTITION BY organizations.name ORDER BY organizations.service_identifiers_count Desc) AS row_num\n",
    "FROM burden_api.organizations\n",
    "  LEFT JOIN burden_api.sourcings ON sourcings.sourced_id = organizations.id\n",
    "  LEFT JOIN burden_api.sources ON sourcings.source_id = sources.id\n",
    "  LEFT JOIN burden_api.websites ON organizations.id = websites.organization_id\n",
    "  LEFT JOIN burden_api.locations ON organizations.id = locations.organization_id\n",
    "  left join emails ON organizations.id = emails.organization_id and emails.row_num = 1\n",
    "WHERE sources.name = 'Artnet (All Galleries)'\n",
    "AND   websites.content IS NOT NULL\n",
    ")\n",
    "select * from orgs where row_num = 1 and website is not null\n",
    "\"\"\")"
   ]
  },
  {
   "cell_type": "code",
   "execution_count": 148,
   "metadata": {
    "collapsed": true
   },
   "outputs": [],
   "source": [
    "a = redshift.execute(\"\"\"\n",
    "select id,website,billing_city,billing_country,billing_street from segment_salesforce.accounts where not is_deleted and partner_type_c IN ('Gallery','Design Gallery') and website is not null\"\"\")"
   ]
  },
  {
   "cell_type": "code",
   "execution_count": 149,
   "metadata": {},
   "outputs": [],
   "source": [
    "a = a.fillna(np.nan)\n",
    "q1 = q1.fillna(np.nan)"
   ]
  },
  {
   "cell_type": "code",
   "execution_count": 150,
   "metadata": {},
   "outputs": [
    {
     "data": {
      "text/plain": [
       "0       soloimpression.com\n",
       "1     totalartsgallery.com\n",
       "2           jdcfineart.com\n",
       "3       varnishfineart.com\n",
       "4    whitesp-cegallery.com\n",
       "Name: website, dtype: object"
      ]
     },
     "execution_count": 150,
     "metadata": {},
     "output_type": "execute_result"
    }
   ],
   "source": [
    "a.website = a.website.astype(str)\n",
    "a.website.head()"
   ]
  },
  {
   "cell_type": "code",
   "execution_count": 151,
   "metadata": {
    "scrolled": true
   },
   "outputs": [
    {
     "data": {
      "text/plain": [
       "ParseResult(scheme='http', netloc='www.artnet.com', path='/galleries/donna-leatherman', params='', query='', fragment='')"
      ]
     },
     "execution_count": 151,
     "metadata": {},
     "output_type": "execute_result"
    }
   ],
   "source": [
    "urlparse('http://www.artnet.com/galleries/donna-leatherman')"
   ]
  },
  {
   "cell_type": "code",
   "execution_count": 152,
   "metadata": {},
   "outputs": [],
   "source": [
    "def strip(website):\n",
    "    website = website.replace(\"http://\",\"\")\n",
    "    website = website.replace(\"http:\",\"\")    \n",
    "    website = website.replace(\"https://\",\"\") \n",
    "    website = website.replace(\"http:\",\"\")    \n",
    "    website = re.sub(r'(www.)(?!com)',r'',website)\n",
    "    urls = website.split('/')[0]\n",
    "#     urls = urls.replace(\"]\",\"\")\n",
    "#     urls = urls.replace(\"[\",\"\")    \n",
    "    return urls\n",
    "a.website = a.website.apply(strip)\n",
    "q1.website = q1.website.apply(strip)"
   ]
  },
  {
   "cell_type": "code",
   "execution_count": 153,
   "metadata": {
    "collapsed": true
   },
   "outputs": [],
   "source": [
    "a1 = a.set_index(['website'])\n",
    "q2 = q1.set_index(['website'])"
   ]
  },
  {
   "cell_type": "code",
   "execution_count": 154,
   "metadata": {},
   "outputs": [],
   "source": [
    "a2 = a1.drop_duplicates()\n",
    "q3 = q2.drop_duplicates()"
   ]
  },
  {
   "cell_type": "code",
   "execution_count": 155,
   "metadata": {},
   "outputs": [
    {
     "name": "stdout",
     "output_type": "stream",
     "text": [
      "13705\n",
      "13705\n"
     ]
    }
   ],
   "source": [
    "print(a1.index.size)\n",
    "print(a2.index.size)"
   ]
  },
  {
   "cell_type": "code",
   "execution_count": 156,
   "metadata": {},
   "outputs": [
    {
     "name": "stdout",
     "output_type": "stream",
     "text": [
      "5596\n",
      "5596\n"
     ]
    }
   ],
   "source": [
    "print(q2.index.size)\n",
    "print(q3.index.size)"
   ]
  },
  {
   "cell_type": "code",
   "execution_count": 168,
   "metadata": {},
   "outputs": [
    {
     "data": {
      "text/html": [
       "<div>\n",
       "<style>\n",
       "    .dataframe thead tr:only-child th {\n",
       "        text-align: right;\n",
       "    }\n",
       "\n",
       "    .dataframe thead th {\n",
       "        text-align: left;\n",
       "    }\n",
       "\n",
       "    .dataframe tbody tr th {\n",
       "        vertical-align: top;\n",
       "    }\n",
       "</style>\n",
       "<table border=\"1\" class=\"dataframe\">\n",
       "  <thead>\n",
       "    <tr style=\"text-align: right;\">\n",
       "      <th></th>\n",
       "      <th>billing_city</th>\n",
       "      <th>billing_country</th>\n",
       "      <th>billing_street</th>\n",
       "      <th>burden_id</th>\n",
       "      <th>burden_name</th>\n",
       "      <th>email</th>\n",
       "      <th>id</th>\n",
       "      <th>row_num</th>\n",
       "      <th>source</th>\n",
       "      <th>websites_count</th>\n",
       "    </tr>\n",
       "    <tr>\n",
       "      <th>website</th>\n",
       "      <th></th>\n",
       "      <th></th>\n",
       "      <th></th>\n",
       "      <th></th>\n",
       "      <th></th>\n",
       "      <th></th>\n",
       "      <th></th>\n",
       "      <th></th>\n",
       "      <th></th>\n",
       "      <th></th>\n",
       "    </tr>\n",
       "  </thead>\n",
       "  <tbody>\n",
       "    <tr>\n",
       "      <th></th>\n",
       "      <td>Coral Springs</td>\n",
       "      <td>United States</td>\n",
       "      <td>NaN</td>\n",
       "      <td>NaN</td>\n",
       "      <td>NaN</td>\n",
       "      <td>NaN</td>\n",
       "      <td>001C000001bcwDOIAY</td>\n",
       "      <td>NaN</td>\n",
       "      <td>NaN</td>\n",
       "      <td>NaN</td>\n",
       "    </tr>\n",
       "    <tr>\n",
       "      <th>+32 (0)475 34 01 11</th>\n",
       "      <td>NaN</td>\n",
       "      <td>NaN</td>\n",
       "      <td>NaN</td>\n",
       "      <td>NaN</td>\n",
       "      <td>NaN</td>\n",
       "      <td>NaN</td>\n",
       "      <td>001C000001bchgTIAQ</td>\n",
       "      <td>NaN</td>\n",
       "      <td>NaN</td>\n",
       "      <td>NaN</td>\n",
       "    </tr>\n",
       "    <tr>\n",
       "      <th>+33 6 09 02 05 35</th>\n",
       "      <td>NaN</td>\n",
       "      <td>NaN</td>\n",
       "      <td>NaN</td>\n",
       "      <td>NaN</td>\n",
       "      <td>NaN</td>\n",
       "      <td>NaN</td>\n",
       "      <td>001C000001bcymXIAQ</td>\n",
       "      <td>NaN</td>\n",
       "      <td>NaN</td>\n",
       "      <td>NaN</td>\n",
       "    </tr>\n",
       "    <tr>\n",
       "      <th>-</th>\n",
       "      <td>Monte Carlo</td>\n",
       "      <td>Monaco</td>\n",
       "      <td>NaN</td>\n",
       "      <td>NaN</td>\n",
       "      <td>NaN</td>\n",
       "      <td>NaN</td>\n",
       "      <td>001C000001QmZpGIAV</td>\n",
       "      <td>NaN</td>\n",
       "      <td>NaN</td>\n",
       "      <td>NaN</td>\n",
       "    </tr>\n",
       "    <tr>\n",
       "      <th>.foundrygallery.org</th>\n",
       "      <td>Washington, DC</td>\n",
       "      <td>United States</td>\n",
       "      <td>1314 18th St., N.W.</td>\n",
       "      <td>NaN</td>\n",
       "      <td>NaN</td>\n",
       "      <td>NaN</td>\n",
       "      <td>001C000001ZdSkqIAF</td>\n",
       "      <td>NaN</td>\n",
       "      <td>NaN</td>\n",
       "      <td>NaN</td>\n",
       "    </tr>\n",
       "  </tbody>\n",
       "</table>\n",
       "</div>"
      ],
      "text/plain": [
       "                       billing_city billing_country       billing_street  \\\n",
       "website                                                                    \n",
       "                      Coral Springs   United States                  NaN   \n",
       "+32 (0)475 34 01 11             NaN             NaN                  NaN   \n",
       "+33 6 09 02 05 35               NaN             NaN                  NaN   \n",
       "-                       Monte Carlo          Monaco                  NaN   \n",
       ".foundrygallery.org  Washington, DC   United States  1314 18th St., N.W.   \n",
       "\n",
       "                     burden_id burden_name email                  id  row_num  \\\n",
       "website                                                                         \n",
       "                           NaN         NaN   NaN  001C000001bcwDOIAY      NaN   \n",
       "+32 (0)475 34 01 11        NaN         NaN   NaN  001C000001bchgTIAQ      NaN   \n",
       "+33 6 09 02 05 35          NaN         NaN   NaN  001C000001bcymXIAQ      NaN   \n",
       "-                          NaN         NaN   NaN  001C000001QmZpGIAV      NaN   \n",
       ".foundrygallery.org        NaN         NaN   NaN  001C000001ZdSkqIAF      NaN   \n",
       "\n",
       "                    source  websites_count  \n",
       "website                                     \n",
       "                       NaN             NaN  \n",
       "+32 (0)475 34 01 11    NaN             NaN  \n",
       "+33 6 09 02 05 35      NaN             NaN  \n",
       "-                      NaN             NaN  \n",
       ".foundrygallery.org    NaN             NaN  "
      ]
     },
     "execution_count": 168,
     "metadata": {},
     "output_type": "execute_result"
    }
   ],
   "source": [
    "new = a2.combine_first(q3)\n",
    "new.head()"
   ]
  },
  {
   "cell_type": "code",
   "execution_count": 174,
   "metadata": {},
   "outputs": [
    {
     "data": {
      "text/plain": [
       "billing_city       4861\n",
       "billing_country    4964\n",
       "billing_street     4948\n",
       "burden_id          5606\n",
       "burden_name        5606\n",
       "email              4291\n",
       "id                 1148\n",
       "row_num            5606\n",
       "source             5606\n",
       "websites_count     5606\n",
       "dtype: int64"
      ]
     },
     "execution_count": 174,
     "metadata": {},
     "output_type": "execute_result"
    }
   ],
   "source": [
    "new[new.burden_id.notnull()].count()"
   ]
  },
  {
   "cell_type": "code",
   "execution_count": null,
   "metadata": {
    "collapsed": true
   },
   "outputs": [],
   "source": []
  },
  {
   "cell_type": "code",
   "execution_count": null,
   "metadata": {
    "collapsed": true
   },
   "outputs": [],
   "source": []
  },
  {
   "cell_type": "code",
   "execution_count": null,
   "metadata": {
    "collapsed": true
   },
   "outputs": [],
   "source": []
  }
 ],
 "metadata": {
  "kernelspec": {
   "display_name": "Python 3",
   "language": "python",
   "name": "python3"
  },
  "language_info": {
   "codemirror_mode": {
    "name": "ipython",
    "version": 3
   },
   "file_extension": ".py",
   "mimetype": "text/x-python",
   "name": "python",
   "nbconvert_exporter": "python",
   "pygments_lexer": "ipython3",
   "version": "3.6.2"
  }
 },
 "nbformat": 4,
 "nbformat_minor": 2
}
