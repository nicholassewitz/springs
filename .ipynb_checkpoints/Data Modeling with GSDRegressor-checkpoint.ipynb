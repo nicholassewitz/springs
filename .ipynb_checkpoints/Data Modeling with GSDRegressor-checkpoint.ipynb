{
 "cells": [
  {
   "cell_type": "code",
   "execution_count": 235,
   "metadata": {
    "collapsed": true
   },
   "outputs": [],
   "source": [
    "import sys, os\n",
    "sys.path.append(os.environ['minotaur'])\n",
    "\n",
    "import datetime\n",
    "import seaborn; seaborn.set()\n",
    "import sklearn\n",
    "from sklearn.cross_validation import cross_val_score\n",
    "\n",
    "\n",
    "import yaml\n",
    "\n",
    "%matplotlib inline\n",
    "from matplotlib import pyplot as plt\n",
    "\n",
    "import pandas as pd\n",
    "import numpy as np\n",
    "import patsy\n",
    "import statsmodels.api as sm\n",
    "\n",
    "from pylab import rcParams\n",
    "rcParams['figure.figsize'] = 14,3\n",
    "rcParams['font.family'] = 'Open Sans'\n",
    "\n",
    "from dbs import redshift\n",
    "redshift.connect()\n",
    "\n",
    "from __future__ import division\n",
    "\n",
    "from sklearn.linear_model import SGDRegressor, LinearRegression\n",
    "from sklearn.preprocessing import MinMaxScaler\n"
   ]
  },
  {
   "cell_type": "markdown",
   "metadata": {},
   "source": [
    "### Found that using SGDRegressor for this problem is not a good dataset"
   ]
  },
  {
   "cell_type": "code",
   "execution_count": 182,
   "metadata": {
    "collapsed": true
   },
   "outputs": [],
   "source": [
    "#sets Min and Max and setting to 0 and 1\n",
    "#preprocessing with polynomial feature generator. don't go more than 2nd order\n",
    "#PolynomialFeatureGenerator\n",
    "scaler = MinMaxScaler()\n",
    "X = pd.read_csv('final.csv',header=0,index_col=0).copy()\n",
    "X = scaler.fit_transform(X)\n",
    "y = X['is_won'].copy()\n",
    "del X['is_won']\n",
    "\n",
    "\n"
   ]
  },
  {
   "cell_type": "code",
   "execution_count": 183,
   "metadata": {},
   "outputs": [
    {
     "data": {
      "text/plain": [
       "array([ 0.29514424,  0.29514424,  0.35181754,  0.20010267,  0.57065412,\n",
       "        0.63338858,  0.2568763 ,  0.19654251,  0.18574113,  0.26316101])"
      ]
     },
     "execution_count": 183,
     "metadata": {},
     "output_type": "execute_result"
    }
   ],
   "source": [
    "sgd = SGDRegressor(n_iter=1000)\n",
    "sgd = sgd.fit(X,y)\n",
    "y_pred = sgd.predict(X)\n",
    "y_pred[:10]"
   ]
  },
  {
   "cell_type": "code",
   "execution_count": 184,
   "metadata": {
    "collapsed": true,
    "scrolled": true
   },
   "outputs": [],
   "source": [
    "#calculate statistics on below \n",
    "# this is where error lies, further y is from y_pred. look into calculating error\n",
    "# abs(y_pred - y).mean()\n",
    "\n",
    "# calculating maximum absolute difference\n",
    "# mean abs dif is .32 and max is 1.24. on average we are 30% away from the truth\n",
    "# this is quite a bad model. need to train. a good model is closer to .1 std. 60% of answer will be in 40% of correct answer\n",
    "# cross validation score. going to matter to us the most. its going to tell us whether there was a stasitcally sig differenece between email, call\n"
   ]
  },
  {
   "cell_type": "code",
   "execution_count": 213,
   "metadata": {},
   "outputs": [
    {
     "name": "stdout",
     "output_type": "stream",
     "text": [
      "0.171233309597\n",
      "0.412980594738\n",
      "[-0.00625701 -0.00652236  0.03174558 -0.00056083  0.01162931]\n",
      "[ 0.17468428]\n",
      "0.0217755534893\n"
     ]
    }
   ],
   "source": [
    "\n",
    "#coef for each additional email it would increase the likihood of the sales by .08%. This is what the model is saying not necessarily the truth. need to get accuracy up\n",
    "#intercept with no actions at all there is .17%. any change will move the dial .17%\n",
    "\n",
    "mse = sklearn.metrics.mean_squared_error(y, y_pred)\n",
    "print(mse)\n",
    "print(np.std(y_pred - y))\n",
    "print(sgd.coef_)\n",
    "print(sgd.intercept_)\n",
    "print(sgd.score(X_test, y_test))"
   ]
  },
  {
   "cell_type": "code",
   "execution_count": 186,
   "metadata": {},
   "outputs": [
    {
     "data": {
      "text/plain": [
       "<matplotlib.collections.PathCollection at 0x114fb6ba8>"
      ]
     },
     "execution_count": 186,
     "metadata": {},
     "output_type": "execute_result"
    },
    {
     "name": "stderr",
     "output_type": "stream",
     "text": [
      "/usr/local/lib/python3.6/site-packages/matplotlib/font_manager.py:1297: UserWarning: findfont: Font family ['Open Sans'] not found. Falling back to DejaVu Sans\n",
      "  (prop.get_family(), self.defaultFamily[fontext]))\n"
     ]
    },
    {
     "data": {
      "image/png": "[encoded data removed]",
      "text/plain": [
       "<matplotlib.figure.Figure at 0x115d1aac8>"
      ]
     },
     "metadata": {},
     "output_type": "display_data"
    }
   ],
   "source": [
    "plt.scatter(X.call,y_pred)"
   ]
  },
  {
   "cell_type": "code",
   "execution_count": null,
   "metadata": {
    "collapsed": true
   },
   "outputs": [],
   "source": []
  },
  {
   "cell_type": "markdown",
   "metadata": {
    "collapsed": true
   },
   "source": [
    "###  Validate the Model"
   ]
  },
  {
   "cell_type": "code",
   "execution_count": 230,
   "metadata": {},
   "outputs": [
    {
     "name": "stdout",
     "output_type": "stream",
     "text": [
      "(5000, 5)\n",
      "(1667, 5)\n",
      "(1667,)\n",
      "(1667,)\n",
      "(5000,)\n",
      "SGDRegressor(alpha=0.0001, average=False, epsilon=0.1, eta0=0.01,\n",
      "       fit_intercept=True, l1_ratio=0.15, learning_rate='invscaling',\n",
      "       loss='squared_loss', n_iter=1000, penalty='l2', power_t=0.25,\n",
      "       random_state=None, shuffle=True, verbose=0, warm_start=False)\n"
     ]
    }
   ],
   "source": [
    "from sklearn.cross_validation import train_test_split\n",
    "X_train, X_test, y_train, y_test = train_test_split(X, y)\n",
    "\n",
    "sgd = SGDRegressor(n_iter=100000, eta0=.001)\n",
    "sgd = sgd.fit(X_train,y_train)\n",
    "y_predtrain = sgd.predict(X_test)\n",
    "\n",
    "print(X_train.shape)\n",
    "print(X_test.shape)\n",
    "print(y_predtrain.shape)\n",
    "print(y_test.shape)\n",
    "print(y_train.shape)\n",
    "print(sgd)"
   ]
  },
  {
   "cell_type": "code",
   "execution_count": 231,
   "metadata": {},
   "outputs": [
    {
     "name": "stdout",
     "output_type": "stream",
     "text": [
      "0.164764990753\n",
      "0.405661772123\n",
      "[-0.00732445 -0.01123608  0.02498314 -0.00493372  0.00929605]\n",
      "[ 0.18378204]\n",
      "0.0477363058032\n"
     ]
    }
   ],
   "source": [
    "# This looks to be like the best model when it comes to prediction\n",
    "mse = sklearn.metrics.mean_squared_error(y_test, y_predtrain)\n",
    "print(mse)\n",
    "print(np.std(y_predtrain - y_test))\n",
    "print(sgd.coef_)\n",
    "print(sgd.intercept_)\n",
    "print(sgd.score(X_test, y_test))"
   ]
  },
  {
   "cell_type": "code",
   "execution_count": 211,
   "metadata": {},
   "outputs": [
    {
     "data": {
      "text/plain": [
       "<matplotlib.collections.PathCollection at 0x10d335080>"
      ]
     },
     "execution_count": 211,
     "metadata": {},
     "output_type": "execute_result"
    },
    {
     "name": "stderr",
     "output_type": "stream",
     "text": [
      "/usr/local/lib/python3.6/site-packages/matplotlib/font_manager.py:1297: UserWarning: findfont: Font family ['Open Sans'] not found. Falling back to DejaVu Sans\n",
      "  (prop.get_family(), self.defaultFamily[fontext]))\n"
     ]
    },
    {
     "data": {
      "image/png": "[encoded data removed]",
      "text/plain": [
       "<matplotlib.figure.Figure at 0x11573cb38>"
      ]
     },
     "metadata": {},
     "output_type": "display_data"
    }
   ],
   "source": [
    "plt.scatter(X_test.call,y_predtrain)"
   ]
  },
  {
   "cell_type": "code",
   "execution_count": null,
   "metadata": {
    "collapsed": true
   },
   "outputs": [],
   "source": []
  },
  {
   "cell_type": "code",
   "execution_count": null,
   "metadata": {
    "collapsed": true
   },
   "outputs": [],
   "source": []
  },
  {
   "cell_type": "code",
   "execution_count": null,
   "metadata": {
    "collapsed": true
   },
   "outputs": [],
   "source": []
  },
  {
   "cell_type": "code",
   "execution_count": null,
   "metadata": {
    "collapsed": true
   },
   "outputs": [],
   "source": []
  },
  {
   "cell_type": "markdown",
   "metadata": {
    "collapsed": true
   },
   "source": [
    "###  Cross Validate the Models"
   ]
  },
  {
   "cell_type": "code",
   "execution_count": 196,
   "metadata": {},
   "outputs": [
    {
     "data": {
      "text/plain": [
       "0.02669424512408286"
      ]
     },
     "execution_count": 196,
     "metadata": {},
     "output_type": "execute_result"
    }
   ],
   "source": [
    "# a good score is close to 1\n",
    "cv = cross_val_score(SGDRegressor(n_iter=1000), X, y, cv=10)\n",
    "cv.mean()"
   ]
  },
  {
   "cell_type": "code",
   "execution_count": 197,
   "metadata": {
    "scrolled": true
   },
   "outputs": [
    {
     "name": "stdout",
     "output_type": "stream",
     "text": [
      "0.0312170914298\n",
      "-0.000364536510816\n"
     ]
    }
   ],
   "source": [
    "X1, X2, y1, y2 = train_test_split(X, y, test_size=0.5, random_state=0)\n",
    "\n",
    "# a good score is close to 1\n",
    "print(SGDRegressor(n_iter=1000).fit(X2, y2).score(X1, y1))\n",
    "print(SGDRegressor(n_iter=1000).fit(X1, y1).score(X2, y2))"
   ]
  },
  {
   "cell_type": "code",
   "execution_count": null,
   "metadata": {
    "collapsed": true
   },
   "outputs": [],
   "source": []
  },
  {
   "cell_type": "code",
   "execution_count": 198,
   "metadata": {},
   "outputs": [
    {
     "data": {
      "text/plain": [
       "-0.0076036465991745515"
      ]
     },
     "execution_count": 198,
     "metadata": {},
     "output_type": "execute_result"
    }
   ],
   "source": [
    "# a good score is close to 1\n",
    "cv = cross_val_score(sgd, X, y, cv=10)\n",
    "cv.mean()"
   ]
  },
  {
   "cell_type": "code",
   "execution_count": 199,
   "metadata": {
    "scrolled": true
   },
   "outputs": [
    {
     "name": "stdout",
     "output_type": "stream",
     "text": [
      "0.0271076950337\n",
      "0.0336692414738\n"
     ]
    }
   ],
   "source": [
    "# Why is this score different than the one above????\n",
    "print(sgd.fit(X2, y2).score(X1, y1))\n",
    "print(sgd.fit(X1, y1).score(X2, y2))"
   ]
  },
  {
   "cell_type": "code",
   "execution_count": null,
   "metadata": {
    "collapsed": true
   },
   "outputs": [],
   "source": []
  }
 ],
 "metadata": {
  "kernelspec": {
   "display_name": "Python 3",
   "language": "python",
   "name": "python3"
  },
  "language_info": {
   "codemirror_mode": {
    "name": "ipython",
    "version": 3
   },
   "file_extension": ".py",
   "mimetype": "text/x-python",
   "name": "python",
   "nbconvert_exporter": "python",
   "pygments_lexer": "ipython3",
   "version": "3.6.2"
  }
 },
 "nbformat": 4,
 "nbformat_minor": 2
}
