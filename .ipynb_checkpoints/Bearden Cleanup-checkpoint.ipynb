{
 "cells": [
  {
   "cell_type": "code",
   "execution_count": 61,
   "metadata": {},
   "outputs": [],
   "source": [
    "import sys, os\n",
    "sys.path.append(os.environ['minotaur'])\n",
    "\n",
    "import datetime as dt\n",
    "import re\n",
    "import sys\n",
    "\n",
    "import yaml\n",
    "from urllib.parse import urlparse\n",
    "\n",
    "\n",
    "%matplotlib inline\n",
    "from matplotlib import pyplot as plt\n",
    "plt.style.use('seaborn-notebook')\n",
    "\n",
    "\n",
    "import pandas as pd\n",
    "pd.set_option('display.max_columns', 30)\n",
    "import numpy as np\n",
    "import patsy\n",
    "import statsmodels.api as sm\n",
    "\n",
    "from pylab import rcParams\n",
    "rcParams['figure.figsize'] = 14,3\n",
    "rcParams['font.family'] = 'Open Sans'\n",
    "\n",
    "from dbs import redshift\n",
    "redshift.connect()\n",
    "\n",
    "from __future__ import division"
   ]
  },
  {
   "cell_type": "code",
   "execution_count": 62,
   "metadata": {
    "collapsed": true
   },
   "outputs": [],
   "source": [
    "b = redshift.execute( \"\"\"\n",
    "select * from bearden_exports.organizations where in_business != 'closed' and organization_type IN ('gallery','dealer')\n",
    "\"\"\")"
   ]
  },
  {
   "cell_type": "code",
   "execution_count": 63,
   "metadata": {},
   "outputs": [],
   "source": [
    "a = redshift.execute(\"\"\"\n",
    "select id,website,billing_city as \"city\",billing_country as \"country\",billing_street as \"street\" from segment_salesforce.accounts where not is_deleted and website is not null\"\"\")\n",
    "lweb = redshift.execute(\"\"\"\n",
    "select id as \"lead_id\",website,email,city,country,street from segment_salesforce.leads where not is_deleted and converted_date is NULL and website is not null\"\"\")\n",
    "p = redshift.execute(\"\"\"\n",
    "select email_c as \"email\",lead_c as \"lead_id\",contact_c as \"contact_id\",account_c as \"account_id\" from segment_salesforce.patrons where not is_deleted\"\"\")"
   ]
  },
  {
   "cell_type": "code",
   "execution_count": 64,
   "metadata": {
    "collapsed": true
   },
   "outputs": [],
   "source": [
    "a = a.fillna(np.nan)\n",
    "lweb = lweb.fillna(np.nan)\n",
    "p = p.fillna(np.nan)\n",
    "b = b.fillna(np.nan)"
   ]
  },
  {
   "cell_type": "code",
   "execution_count": 65,
   "metadata": {},
   "outputs": [],
   "source": [
    "a.website = a.website.astype(str)\n",
    "lweb.website = lweb.website.astype(str)"
   ]
  },
  {
   "cell_type": "code",
   "execution_count": 66,
   "metadata": {
    "collapsed": true
   },
   "outputs": [],
   "source": [
    "def strip(website):\n",
    "    website = website.replace(\"http://\",\"\")\n",
    "    website = website.replace(\"http:\",\"\")    \n",
    "    website = website.replace(\"https://\",\"\") \n",
    "    website = website.replace(\"http:\",\"\")    \n",
    "    website = re.sub(r'(www.)(?!com)',r'',website)\n",
    "    urls = website.split('/')[0]\n",
    "#     urls = urls.replace(\"]\",\"\")\n",
    "#     urls = urls.replace(\"[\",\"\")    \n",
    "    return urls\n",
    "a.website = a.website.apply(strip)\n",
    "b.website = b.website.apply(strip)\n",
    "lweb.website = lweb.website.apply(strip)"
   ]
  },
  {
   "cell_type": "code",
   "execution_count": 67,
   "metadata": {},
   "outputs": [
    {
     "name": "stdout",
     "output_type": "stream",
     "text": [
      "(17308, 4)\n",
      "(32318, 13)\n",
      "(63197, 5)\n"
     ]
    }
   ],
   "source": [
    "a1 = a.set_index(['website'])\n",
    "b1 = b.set_index(['website'])\n",
    "lweb1 = lweb.set_index(['website'])\n",
    "print(a1.shape)\n",
    "print(b1.shape)\n",
    "print(lweb1.shape)"
   ]
  },
  {
   "cell_type": "code",
   "execution_count": 68,
   "metadata": {
    "collapsed": true
   },
   "outputs": [],
   "source": [
    "a2 = a1[~a1.index.duplicated(keep='first')]\n",
    "b2 = b1[~b1.index.duplicated(keep='first')]\n",
    "lweb2 = lweb1[~lweb1.index.duplicated(keep='first')]"
   ]
  },
  {
   "cell_type": "code",
   "execution_count": 69,
   "metadata": {},
   "outputs": [
    {
     "name": "stdout",
     "output_type": "stream",
     "text": [
      "17308\n",
      "16710\n",
      "32318\n",
      "29279\n"
     ]
    }
   ],
   "source": [
    "print(a1.index.size)\n",
    "print(a2.index.size)\n",
    "print(b1.index.size)\n",
    "print(b2.index.size)\n"
   ]
  },
  {
   "cell_type": "code",
   "execution_count": 70,
   "metadata": {},
   "outputs": [
    {
     "name": "stdout",
     "output_type": "stream",
     "text": [
      "37079\n"
     ]
    },
    {
     "data": {
      "text/html": [
       "<div>\n",
       "<style>\n",
       "    .dataframe thead tr:only-child th {\n",
       "        text-align: right;\n",
       "    }\n",
       "\n",
       "    .dataframe thead th {\n",
       "        text-align: left;\n",
       "    }\n",
       "\n",
       "    .dataframe tbody tr th {\n",
       "        vertical-align: top;\n",
       "    }\n",
       "</style>\n",
       "<table border=\"1\" class=\"dataframe\">\n",
       "  <thead>\n",
       "    <tr style=\"text-align: right;\">\n",
       "      <th></th>\n",
       "      <th>bearden_id</th>\n",
       "      <th>city</th>\n",
       "      <th>country</th>\n",
       "      <th>email</th>\n",
       "      <th>id</th>\n",
       "      <th>in_business</th>\n",
       "      <th>latitude</th>\n",
       "      <th>location</th>\n",
       "      <th>longitude</th>\n",
       "      <th>organization_name</th>\n",
       "      <th>organization_type</th>\n",
       "      <th>phone_number</th>\n",
       "      <th>sources</th>\n",
       "      <th>street</th>\n",
       "      <th>tag_names</th>\n",
       "    </tr>\n",
       "    <tr>\n",
       "      <th>website</th>\n",
       "      <th></th>\n",
       "      <th></th>\n",
       "      <th></th>\n",
       "      <th></th>\n",
       "      <th></th>\n",
       "      <th></th>\n",
       "      <th></th>\n",
       "      <th></th>\n",
       "      <th></th>\n",
       "      <th></th>\n",
       "      <th></th>\n",
       "      <th></th>\n",
       "      <th></th>\n",
       "      <th></th>\n",
       "      <th></th>\n",
       "    </tr>\n",
       "  </thead>\n",
       "  <tbody>\n",
       "    <tr>\n",
       "      <th></th>\n",
       "      <td>NaN</td>\n",
       "      <td>NaN</td>\n",
       "      <td>NaN</td>\n",
       "      <td>NaN</td>\n",
       "      <td>001C000001dBi7qIAC</td>\n",
       "      <td>NaN</td>\n",
       "      <td>NaN</td>\n",
       "      <td>NaN</td>\n",
       "      <td>NaN</td>\n",
       "      <td>NaN</td>\n",
       "      <td>NaN</td>\n",
       "      <td>NaN</td>\n",
       "      <td>NaN</td>\n",
       "      <td>NaN</td>\n",
       "      <td>NaN</td>\n",
       "    </tr>\n",
       "    <tr>\n",
       "      <th>+32 (0)475 34 01 11</th>\n",
       "      <td>NaN</td>\n",
       "      <td>NaN</td>\n",
       "      <td>NaN</td>\n",
       "      <td>NaN</td>\n",
       "      <td>001C000001bchgTIAQ</td>\n",
       "      <td>NaN</td>\n",
       "      <td>NaN</td>\n",
       "      <td>NaN</td>\n",
       "      <td>NaN</td>\n",
       "      <td>NaN</td>\n",
       "      <td>NaN</td>\n",
       "      <td>NaN</td>\n",
       "      <td>NaN</td>\n",
       "      <td>NaN</td>\n",
       "      <td>NaN</td>\n",
       "    </tr>\n",
       "    <tr>\n",
       "      <th>+33 6 09 02 05 35</th>\n",
       "      <td>NaN</td>\n",
       "      <td>NaN</td>\n",
       "      <td>NaN</td>\n",
       "      <td>NaN</td>\n",
       "      <td>001C000001bcymXIAQ</td>\n",
       "      <td>NaN</td>\n",
       "      <td>NaN</td>\n",
       "      <td>NaN</td>\n",
       "      <td>NaN</td>\n",
       "      <td>NaN</td>\n",
       "      <td>NaN</td>\n",
       "      <td>NaN</td>\n",
       "      <td>NaN</td>\n",
       "      <td>NaN</td>\n",
       "      <td>NaN</td>\n",
       "    </tr>\n",
       "    <tr>\n",
       "      <th>-</th>\n",
       "      <td>NaN</td>\n",
       "      <td>Monte Carlo</td>\n",
       "      <td>Monaco</td>\n",
       "      <td>NaN</td>\n",
       "      <td>001C000001QmZpGIAV</td>\n",
       "      <td>NaN</td>\n",
       "      <td>NaN</td>\n",
       "      <td>NaN</td>\n",
       "      <td>NaN</td>\n",
       "      <td>NaN</td>\n",
       "      <td>NaN</td>\n",
       "      <td>NaN</td>\n",
       "      <td>NaN</td>\n",
       "      <td>NaN</td>\n",
       "      <td>NaN</td>\n",
       "    </tr>\n",
       "    <tr>\n",
       "      <th>.arnes.si</th>\n",
       "      <td>21104.0</td>\n",
       "      <td>NaN</td>\n",
       "      <td>NaN</td>\n",
       "      <td>NaN</td>\n",
       "      <td>NaN</td>\n",
       "      <td>unknown</td>\n",
       "      <td>0.0</td>\n",
       "      <td>Stari trg 21 Ljubljana, Slovenia</td>\n",
       "      <td>0.0</td>\n",
       "      <td>Galerija Škuc</td>\n",
       "      <td>gallery</td>\n",
       "      <td>NaN</td>\n",
       "      <td>[\"Gallery Locator\"]</td>\n",
       "      <td>NaN</td>\n",
       "      <td>NaN</td>\n",
       "    </tr>\n",
       "  </tbody>\n",
       "</table>\n",
       "</div>"
      ],
      "text/plain": [
       "                     bearden_id         city country email  \\\n",
       "website                                                      \n",
       "                            NaN          NaN     NaN   NaN   \n",
       "+32 (0)475 34 01 11         NaN          NaN     NaN   NaN   \n",
       "+33 6 09 02 05 35           NaN          NaN     NaN   NaN   \n",
       "-                           NaN  Monte Carlo  Monaco   NaN   \n",
       ".arnes.si               21104.0          NaN     NaN   NaN   \n",
       "\n",
       "                                     id in_business  latitude  \\\n",
       "website                                                         \n",
       "                     001C000001dBi7qIAC         NaN       NaN   \n",
       "+32 (0)475 34 01 11  001C000001bchgTIAQ         NaN       NaN   \n",
       "+33 6 09 02 05 35    001C000001bcymXIAQ         NaN       NaN   \n",
       "-                    001C000001QmZpGIAV         NaN       NaN   \n",
       ".arnes.si                           NaN     unknown       0.0   \n",
       "\n",
       "                                             location  longitude  \\\n",
       "website                                                            \n",
       "                                                  NaN        NaN   \n",
       "+32 (0)475 34 01 11                               NaN        NaN   \n",
       "+33 6 09 02 05 35                                 NaN        NaN   \n",
       "-                                                 NaN        NaN   \n",
       ".arnes.si            Stari trg 21 Ljubljana, Slovenia        0.0   \n",
       "\n",
       "                    organization_name organization_type phone_number  \\\n",
       "website                                                                \n",
       "                                  NaN               NaN          NaN   \n",
       "+32 (0)475 34 01 11               NaN               NaN          NaN   \n",
       "+33 6 09 02 05 35                 NaN               NaN          NaN   \n",
       "-                                 NaN               NaN          NaN   \n",
       ".arnes.si               Galerija Škuc           gallery          NaN   \n",
       "\n",
       "                                 sources street tag_names  \n",
       "website                                                    \n",
       "                                     NaN    NaN       NaN  \n",
       "+32 (0)475 34 01 11                  NaN    NaN       NaN  \n",
       "+33 6 09 02 05 35                    NaN    NaN       NaN  \n",
       "-                                    NaN    NaN       NaN  \n",
       ".arnes.si            [\"Gallery Locator\"]    NaN       NaN  "
      ]
     },
     "execution_count": 70,
     "metadata": {},
     "output_type": "execute_result"
    }
   ],
   "source": [
    "ab = a2.combine_first(b2)\n",
    "print(ab.index.size)\n",
    "ab.head()"
   ]
  },
  {
   "cell_type": "code",
   "execution_count": 71,
   "metadata": {},
   "outputs": [
    {
     "data": {
      "text/plain": [
       "bearden_id           29279\n",
       "city                 15131\n",
       "country              15750\n",
       "email                19125\n",
       "id                    8910\n",
       "in_business          29279\n",
       "latitude             26193\n",
       "location             26259\n",
       "longitude            26193\n",
       "organization_name    27079\n",
       "organization_type    29279\n",
       "phone_number         18604\n",
       "sources              29279\n",
       "street                6671\n",
       "tag_names            14688\n",
       "dtype: int64"
      ]
     },
     "execution_count": 71,
     "metadata": {},
     "output_type": "execute_result"
    }
   ],
   "source": [
    "ab = ab[~ab.index.duplicated(keep=False)]\n",
    "ab[ab.bearden_id.notnull()].count()"
   ]
  },
  {
   "cell_type": "code",
   "execution_count": 72,
   "metadata": {},
   "outputs": [
    {
     "data": {
      "text/plain": [
       "bearden_id           20369\n",
       "city                  6901\n",
       "country               7447\n",
       "email                12027\n",
       "id                       0\n",
       "in_business          20369\n",
       "latitude             17672\n",
       "location             17682\n",
       "longitude            17672\n",
       "organization_name    18409\n",
       "organization_type    20369\n",
       "phone_number         11752\n",
       "sources              20369\n",
       "street                   0\n",
       "tag_names             8909\n",
       "dtype: int64"
      ]
     },
     "execution_count": 72,
     "metadata": {},
     "output_type": "execute_result"
    }
   ],
   "source": [
    "not_matched = ab[ab.id.isnull()]\n",
    "not_matched.count()"
   ]
  },
  {
   "cell_type": "code",
   "execution_count": 73,
   "metadata": {
    "scrolled": true
   },
   "outputs": [
    {
     "name": "stdout",
     "output_type": "stream",
     "text": [
      "bearden_id           11889\n",
      "city                  4022\n",
      "country               4357\n",
      "email                 5924\n",
      "id                       0\n",
      "in_business          11889\n",
      "latitude             10375\n",
      "lead_id                  0\n",
      "location             10381\n",
      "longitude            10375\n",
      "organization_name    10780\n",
      "organization_type    11889\n",
      "phone_number          7198\n",
      "sources              11889\n",
      "street                   0\n",
      "tag_names             5493\n",
      "dtype: int64\n"
     ]
    }
   ],
   "source": [
    "lead_matched = lweb2.combine_first(not_matched)\n",
    "lead_matched = lead_matched[~lead_matched.index.duplicated(keep=False)]\n",
    "not_matched = lead_matched[lead_matched.lead_id.isnull()]\n",
    "not_matched_without_email = not_matched[not_matched.email.isnull()]\n",
    "not_matched_with_email = not_matched[not_matched.email.notnull()]\n",
    "print(not_matched.count())"
   ]
  },
  {
   "cell_type": "code",
   "execution_count": 74,
   "metadata": {},
   "outputs": [
    {
     "name": "stdout",
     "output_type": "stream",
     "text": [
      "bearden_id           5965\n",
      "city                 2054\n",
      "country              2270\n",
      "email                   0\n",
      "id                      0\n",
      "in_business          5965\n",
      "latitude             4622\n",
      "lead_id                 0\n",
      "location             4625\n",
      "longitude            4622\n",
      "organization_name    4897\n",
      "organization_type    5965\n",
      "phone_number         2261\n",
      "sources              5965\n",
      "street                  0\n",
      "tag_names            1627\n",
      "dtype: int64\n"
     ]
    }
   ],
   "source": [
    "print(not_matched_without_email.count())"
   ]
  },
  {
   "cell_type": "code",
   "execution_count": 75,
   "metadata": {},
   "outputs": [
    {
     "name": "stdout",
     "output_type": "stream",
     "text": [
      "bearden_id           5924\n",
      "city                 1968\n",
      "country              2087\n",
      "email                5924\n",
      "id                      0\n",
      "in_business          5924\n",
      "latitude             5753\n",
      "lead_id                 0\n",
      "location             5756\n",
      "longitude            5753\n",
      "organization_name    5883\n",
      "organization_type    5924\n",
      "phone_number         4937\n",
      "sources              5924\n",
      "street                  0\n",
      "tag_names            3866\n",
      "dtype: int64\n"
     ]
    }
   ],
   "source": [
    "print(not_matched_with_email.count())"
   ]
  },
  {
   "cell_type": "code",
   "execution_count": 76,
   "metadata": {},
   "outputs": [
    {
     "name": "stderr",
     "output_type": "stream",
     "text": [
      "/usr/local/lib/python3.6/site-packages/ipykernel_launcher.py:1: SettingWithCopyWarning: \n",
      "A value is trying to be set on a copy of a slice from a DataFrame.\n",
      "Try using .loc[row_indexer,col_indexer] = value instead\n",
      "\n",
      "See the caveats in the documentation: http://pandas.pydata.org/pandas-docs/stable/indexing.html#indexing-view-versus-copy\n",
      "  \"\"\"Entry point for launching an IPython kernel.\n"
     ]
    }
   ],
   "source": [
    "not_matched_with_email['url'] = not_matched_with_email.index\n",
    "not_matched_with_email = not_matched_with_email.set_index(['email'])\n",
    "p = p.set_index(['email'])"
   ]
  },
  {
   "cell_type": "code",
   "execution_count": 77,
   "metadata": {},
   "outputs": [],
   "source": [
    "not_matched_with_email = not_matched_with_email[~not_matched_with_email.index.duplicated(keep=False)]\n",
    "p = p[~p.index.duplicated(keep=False)]\n",
    "email_matched = p.combine_first(not_matched_with_email)\n",
    "email_matched = email_matched[~email_matched.index.duplicated(keep=False)]"
   ]
  },
  {
   "cell_type": "code",
   "execution_count": 78,
   "metadata": {},
   "outputs": [],
   "source": [
    "not_matched = email_matched[(email_matched.bearden_id.notnull()) & email_matched.lead_id.isnull() & email_matched.contact_id.isnull()]\n",
    "email_matched = email_matched[(email_matched.bearden_id.notnull()) & (email_matched.lead_id.notnull() | email_matched.contact_id.notnull())]"
   ]
  },
  {
   "cell_type": "code",
   "execution_count": 79,
   "metadata": {},
   "outputs": [],
   "source": [
    "not_matched['website'] = not_matched.url\n",
    "not_matched['email'] = not_matched.index\n",
    "del not_matched['url']\n",
    "not_matched = not_matched.set_index('website')"
   ]
  },
  {
   "cell_type": "code",
   "execution_count": 80,
   "metadata": {},
   "outputs": [],
   "source": [
    "not_matched = pd.concat([not_matched,not_matched_without_email])\n",
    "not_matched = not_matched[~not_matched.index.duplicated(keep=False)]"
   ]
  },
  {
   "cell_type": "code",
   "execution_count": 81,
   "metadata": {},
   "outputs": [
    {
     "data": {
      "text/plain": [
       "account_id               0\n",
       "bearden_id           10283\n",
       "city                  3358\n",
       "contact_id               0\n",
       "country               3675\n",
       "email                 4318\n",
       "id                       0\n",
       "in_business          10283\n",
       "latitude              8831\n",
       "lead_id                  0\n",
       "location              8834\n",
       "longitude             8831\n",
       "organization_name     9182\n",
       "organization_type    10283\n",
       "phone_number          5970\n",
       "sources              10283\n",
       "street                   0\n",
       "tag_names             4534\n",
       "dtype: int64"
      ]
     },
     "execution_count": 81,
     "metadata": {},
     "output_type": "execute_result"
    }
   ],
   "source": [
    "not_matched.count()"
   ]
  },
  {
   "cell_type": "code",
   "execution_count": 83,
   "metadata": {
    "collapsed": true
   },
   "outputs": [],
   "source": [
    "not_matched.to_csv('new_leads.csv')"
   ]
  },
  {
   "cell_type": "code",
   "execution_count": null,
   "metadata": {
    "collapsed": true
   },
   "outputs": [],
   "source": []
  },
  {
   "cell_type": "code",
   "execution_count": null,
   "metadata": {
    "collapsed": true
   },
   "outputs": [],
   "source": []
  },
  {
   "cell_type": "code",
   "execution_count": null,
   "metadata": {
    "collapsed": true
   },
   "outputs": [],
   "source": []
  },
  {
   "cell_type": "code",
   "execution_count": null,
   "metadata": {
    "collapsed": true
   },
   "outputs": [],
   "source": []
  },
  {
   "cell_type": "code",
   "execution_count": null,
   "metadata": {
    "collapsed": true
   },
   "outputs": [],
   "source": []
  },
  {
   "cell_type": "code",
   "execution_count": null,
   "metadata": {
    "collapsed": true
   },
   "outputs": [],
   "source": []
  },
  {
   "cell_type": "code",
   "execution_count": null,
   "metadata": {
    "collapsed": true
   },
   "outputs": [],
   "source": []
  },
  {
   "cell_type": "code",
   "execution_count": null,
   "metadata": {
    "collapsed": true
   },
   "outputs": [],
   "source": []
  },
  {
   "cell_type": "code",
   "execution_count": null,
   "metadata": {
    "collapsed": true
   },
   "outputs": [],
   "source": []
  }
 ],
 "metadata": {
  "kernelspec": {
   "display_name": "Python 3",
   "language": "python",
   "name": "python3"
  },
  "language_info": {
   "codemirror_mode": {
    "name": "ipython",
    "version": 3
   },
   "file_extension": ".py",
   "mimetype": "text/x-python",
   "name": "python",
   "nbconvert_exporter": "python",
   "pygments_lexer": "ipython3",
   "version": "3.6.2"
  }
 },
 "nbformat": 4,
 "nbformat_minor": 2
}
