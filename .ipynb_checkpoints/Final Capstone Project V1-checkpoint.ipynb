{
 "cells": [
  {
   "cell_type": "markdown",
   "metadata": {},
   "source": [
    "## Capstone Data Wrangling with Sales Activity\n",
    "### by Nicholas Sewitz\n",
    "\n",
    "In this project I connect Artsy's redshift to pull in activity level data. We are pulling from tables, tasks (sales activity), site_landings, emails (marketing activity), and opportunities. The first 3 make up our features, and the last is where we get the output (and some demographic data). The goal of the analysis is to predict whether or not an opportunity will closed won, and what factors weigh most heavily in that decision. \n",
    "\n",
    "We have to do some wrangling to clean up and combine the features and outputs. For the activity features we create counts of the activities that happened before the opp closed. For the demographic features we create dummy variables.\n",
    "\n",
    "After we wrangle we do a correlation analysis and then dive into a few different classification models. By\n"
   ]
  },
  {
   "cell_type": "code",
   "execution_count": 19,
   "metadata": {},
   "outputs": [],
   "source": [
    "import sys, os\n",
    "sys.path.append(os.environ['minotaur'])\n",
    "\n",
    "import seaborn as sns\n",
    "import sklearn\n",
    "from sklearn.model_selection import cross_val_score\n",
    "\n",
    "\n",
    "import yaml\n",
    "\n",
    "%matplotlib inline\n",
    "from matplotlib import pyplot as plt\n",
    "\n",
    "import pandas as pd\n",
    "import numpy as np\n",
    "import patsy\n",
    "import statsmodels.api as sm\n",
    "\n",
    "from pylab import rcParams\n",
    "rcParams['figure.figsize'] = 14,3\n",
    "\n",
    "from dbs import redshift\n",
    "redshift.connect()\n",
    "\n",
    "from __future__ import division\n",
    "\n",
    "from sklearn.linear_model import LogisticRegression\n",
    "from sklearn.neighbors import KNeighborsClassifier\n",
    "from sklearn.ensemble import RandomForestClassifier\n",
    "from sklearn.preprocessing import MinMaxScaler, StandardScaler, scale\n",
    "from sklearn.model_selection import train_test_split, cross_val_score, GridSearchCV, RandomizedSearchCV\n",
    "from sklearn.metrics import classification_report, confusion_matrix, roc_curve, roc_auc_score\n",
    "from scipy.stats import randint\n",
    "from sklearn.tree import DecisionTreeClassifier\n",
    "from sklearn.pipeline import Pipeline\n",
    "\n"
   ]
  },
  {
   "cell_type": "code",
   "execution_count": 20,
   "metadata": {
    "collapsed": true
   },
   "outputs": [],
   "source": [
    "tasks = redshift.execute(\"\"\"\n",
    "SELECT t.activity_date,\n",
    "       COALESCE(c.email,l.email) AS email,\n",
    "       COALESCE(c.account_id,l.id) AS company_id,\n",
    "       'sales' as source_table,\n",
    "       t.type as activity_type,\n",
    "       t.call_c as call_type\n",
    "FROM segment_salesforce.tasks t\n",
    "  LEFT JOIN segment_salesforce.contacts c\n",
    "         ON t.who_id = c.id\n",
    "        AND NOT c.is_deleted\n",
    "  LEFT JOIN segment_salesforce.leads l\n",
    "         ON t.who_id = l.id\n",
    "        AND NOT l.is_deleted\n",
    "WHERE NOT t.is_deleted AND (t.type = 'Email' OR t.type = 'Call')\n",
    "\"\"\")\n",
    "emails = redshift.execute(\"\"\"\n",
    "SELECT e.activity_date,\n",
    "       p.email,\n",
    "       p.company_id,\n",
    "       'marketing' as source_table,\n",
    "       'marketing_email' as activity_type,\n",
    "       NULL as call_type\n",
    "FROM marketo.email_delivers e\n",
    "  INNER JOIN analytics.salesforce_patrons p ON e.lead_id = p.marketo_id\n",
    "\"\"\")\n",
    "opportunities = redshift.execute(\"\"\"\n",
    "SELECT o.id,\n",
    "       o.account_id,\n",
    "       o.stage_name,\n",
    "       o.amount,\n",
    "       o.created_date,\n",
    "       o.close_date,\n",
    "       o.abbreviated_channel_c,\n",
    "       a.gallery_tier_c,\n",
    "       a.sub_region_c\n",
    "       FROM segment_salesforce.opportunities o \n",
    "           LEFT JOIN segment_salesforce.accounts a on o.account_id = a.id and not a.is_deleted\n",
    "WHERE NOT o.is_deleted\n",
    "AND   o.type = 'Activation'\n",
    "AND (o.stage_name = 'Closed Won' OR o.stage_name = 'Closed Lost')\n",
    "\"\"\")\n",
    "site_landings = redshift.execute(\"\"\"\n",
    "SELECT sl.sent_at as activity_date,\n",
    "       meam.email,\n",
    "       sp.company_id,\n",
    "       'site' as source_table,\n",
    "       'site_visit' as activity_type,\n",
    "       NULL as call_type\n",
    "FROM analytics.site_landings sl\n",
    "  INNER JOIN analytics.marketo_email_alias_mapping meam ON sl.looker_visitor_id = meam.looker_visitor_id\n",
    "  INNER JOIN analytics.salesforce_patrons sp on meam.email = sp.email\"\"\")"
   ]
  },
  {
   "cell_type": "code",
   "execution_count": 21,
   "metadata": {
    "collapsed": true
   },
   "outputs": [],
   "source": [
    "# combine activity data into one dataframe\n",
    "\n",
    "con = pd.concat([tasks,emails,site_landings],axis=0)"
   ]
  },
  {
   "cell_type": "code",
   "execution_count": 22,
   "metadata": {
    "scrolled": true
   },
   "outputs": [
    {
     "data": {
      "text/plain": [
       "array(['email', 'call', 'marketing_email', 'site_visit'], dtype=object)"
      ]
     },
     "execution_count": 22,
     "metadata": {},
     "output_type": "execute_result"
    }
   ],
   "source": [
    "# clean up\n",
    "\n",
    "con.activity_type = con.activity_type.astype(str)\n",
    "con.activity_type = con['activity_type'].apply(str.lower)\n",
    "con.activity_type.unique()"
   ]
  },
  {
   "cell_type": "code",
   "execution_count": 23,
   "metadata": {},
   "outputs": [
    {
     "data": {
      "text/plain": [
       "array([None, 'No Answer', 'Connected', 'Left Voicemail', 'Busy',\n",
       "       'Wrong Number', 'Not in Service', 'Rejected'], dtype=object)"
      ]
     },
     "execution_count": 23,
     "metadata": {},
     "output_type": "execute_result"
    }
   ],
   "source": [
    "con.call_type.unique()"
   ]
  },
  {
   "cell_type": "code",
   "execution_count": 24,
   "metadata": {},
   "outputs": [
    {
     "data": {
      "text/plain": [
       "array(['email', 'call', 'call_connect', 'marketing_email', 'site_visit'], dtype=object)"
      ]
     },
     "execution_count": 24,
     "metadata": {},
     "output_type": "execute_result"
    }
   ],
   "source": [
    "# create call_connect column\n",
    "\n",
    "con.loc[con['call_type'] == 'Connected', 'activity_type'] = 'call_connect'\n",
    "con.activity_type.unique()        "
   ]
  },
  {
   "cell_type": "code",
   "execution_count": 25,
   "metadata": {
    "collapsed": true
   },
   "outputs": [],
   "source": [
    "opps = pd.merge(con,opportunities,left_on='company_id',right_on='account_id',how='left')"
   ]
  },
  {
   "cell_type": "code",
   "execution_count": 26,
   "metadata": {
    "collapsed": true
   },
   "outputs": [],
   "source": [
    "opps['activity_date'] = pd.to_datetime(opps['activity_date'])\n",
    "opps['created_date'] = pd.to_datetime(opps['created_date'])\n",
    "opps['close_date'] = pd.to_datetime(opps['close_date'])"
   ]
  },
  {
   "cell_type": "code",
   "execution_count": 27,
   "metadata": {
    "collapsed": true
   },
   "outputs": [],
   "source": [
    "# attach activity data to opportunities\n",
    "\n",
    "opps['days'] = (opps.created_date - opps.activity_date).astype('timedelta64[D]')\n",
    "opps['has_opp'] = ((opps.days <= 90) & (opps.days >= 0))\n",
    "opps['has_inbound'] = opps.abbreviated_channel_c == 'Inbound'\n",
    "opps['has_outbound'] = opps.abbreviated_channel_c == 'Outbound'\n",
    "opps['has_inbound'] = opps['has_inbound'].astype(int)\n",
    "opps['has_outbound'] = opps['has_outbound'].astype(int)"
   ]
  },
  {
   "cell_type": "code",
   "execution_count": 28,
   "metadata": {
    "scrolled": true
   },
   "outputs": [],
   "source": [
    "hops = opps[opps.has_opp == True].copy()\n",
    "hops['company_opp'] = hops.company_id.map(str) + hops.id.map(str)"
   ]
  },
  {
   "cell_type": "code",
   "execution_count": 29,
   "metadata": {
    "collapsed": true
   },
   "outputs": [],
   "source": [
    "# dummy variables for region\n",
    "\n",
    "sub = hops[['company_opp','sub_region_c']].copy()\n",
    "sub = sub.set_index('company_opp',drop=True)\n",
    "sub = sub[~sub.index.duplicated(keep='last')]\n",
    "sub = pd.get_dummies(sub,prefix='region')"
   ]
  },
  {
   "cell_type": "code",
   "execution_count": 30,
   "metadata": {
    "collapsed": true
   },
   "outputs": [],
   "source": [
    "# dummy variables for gallery tier\n",
    "\n",
    "tier = hops[['company_opp','gallery_tier_c']].copy()\n",
    "tier = tier.set_index('company_opp',drop=True)\n",
    "tier = tier[~tier.index.duplicated(keep='last')]\n",
    "tier = pd.get_dummies(tier,prefix='tier')"
   ]
  },
  {
   "cell_type": "code",
   "execution_count": 31,
   "metadata": {
    "collapsed": true
   },
   "outputs": [],
   "source": [
    "df = []\n",
    "for company_opp in company_opps:\n",
    "    d = dict(hops[hops.company_opp == company_opp].activity_type.value_counts())\n",
    "    d['id'] = company_opp\n",
    "    df += [d]\n",
    "df = pd.DataFrame(df)\n"
   ]
  },
  {
   "cell_type": "code",
   "execution_count": 32,
   "metadata": {},
   "outputs": [],
   "source": [
    "df = df.fillna(0)\n",
    "df = df.set_index(['id'],drop=True)"
   ]
  },
  {
   "cell_type": "code",
   "execution_count": 33,
   "metadata": {},
   "outputs": [],
   "source": [
    "# create boolean won/lost to predict on\n",
    "\n",
    "won = hops.set_index('company_opp',drop=True)\n",
    "won['is_won'] = won.stage_name == 'Closed Won'"
   ]
  },
  {
   "cell_type": "code",
   "execution_count": 34,
   "metadata": {},
   "outputs": [
    {
     "data": {
      "text/plain": [
       "8846"
      ]
     },
     "execution_count": 34,
     "metadata": {},
     "output_type": "execute_result"
    }
   ],
   "source": [
    "won = won[['is_won']].copy()\n",
    "won = won[~won.index.duplicated(keep='last')]\n",
    "won.index.size"
   ]
  },
  {
   "cell_type": "code",
   "execution_count": 35,
   "metadata": {
    "collapsed": true
   },
   "outputs": [],
   "source": [
    "chan = hops[['company_opp','has_inbound','has_outbound']].copy()\n",
    "chan = chan.set_index('company_opp',drop=True)"
   ]
  },
  {
   "cell_type": "code",
   "execution_count": 60,
   "metadata": {},
   "outputs": [
    {
     "name": "stdout",
     "output_type": "stream",
     "text": [
      "(8844, 52)\n"
     ]
    }
   ],
   "source": [
    "# create final dataframe\n",
    "\n",
    "final = df.join(won)\n",
    "final = final.join(sub)\n",
    "final = final.join(tier)\n",
    "final = final.join(chan)\n",
    "final = final[~final.index.duplicated(keep='last')]\n",
    "final = final[final.is_won.notnull()].fillna(0)\n",
    "print(final.shape)"
   ]
  },
  {
   "cell_type": "code",
   "execution_count": 61,
   "metadata": {},
   "outputs": [],
   "source": [
    "final.to_csv('final.csv')"
   ]
  },
  {
   "cell_type": "markdown",
   "metadata": {
    "collapsed": true
   },
   "source": [
    "### Begin Modeling"
   ]
  },
  {
   "cell_type": "code",
   "execution_count": 62,
   "metadata": {
    "collapsed": true
   },
   "outputs": [],
   "source": [
    "# final is not normalized.\n",
    "X = final.copy()\n",
    "X.head()\n",
    "\n",
    "y = X['is_won'].copy()\n",
    "del X['is_won']\n"
   ]
  },
  {
   "cell_type": "markdown",
   "metadata": {},
   "source": [
    "### Logistic Regression Exploration"
   ]
  },
  {
   "cell_type": "code",
   "execution_count": null,
   "metadata": {
    "collapsed": true
   },
   "outputs": [],
   "source": []
  },
  {
   "cell_type": "code",
   "execution_count": 64,
   "metadata": {},
   "outputs": [
    {
     "name": "stdout",
     "output_type": "stream",
     "text": [
      "Accuracy with Scaling: 0.7840994724943482\n",
      "Accuracy without Scaling: 0.7844762622456669\n"
     ]
    }
   ],
   "source": [
    "# Setup the pipeline\n",
    "steps = [('scaler', StandardScaler()),\n",
    "        ('dec', LogisticRegression())]\n",
    "        \n",
    "# Create the pipeline: pipeline\n",
    "pipeline = Pipeline(steps)\n",
    "\n",
    "# Create train and test sets\n",
    "X_train, X_test, y_train, y_test = train_test_split(X, y, test_size=0.3, random_state=42)\n",
    "\n",
    "# Fit the pipeline to the training set: knn_scaled\n",
    "log_scaled = pipeline.fit(X_train, y_train)\n",
    "\n",
    "# Instantiate and fit a Log classifier to the unscaled data\n",
    "log_unscaled = LogisticRegression().fit(X_train, y_train)\n",
    "\n",
    "# Compute and print metrics\n",
    "print('Accuracy with Scaling: {}'.format(log_scaled.score(X_test, y_test)))\n",
    "print('Accuracy without Scaling: {}'.format(log_unscaled.score(X_test, y_test)))"
   ]
  },
  {
   "cell_type": "code",
   "execution_count": 65,
   "metadata": {},
   "outputs": [
    {
     "name": "stdout",
     "output_type": "stream",
     "text": [
      "Tuned Logistic Regression Parameter: {'C': 8.4834289824407252e-05, 'penalty': 'l2'}\n",
      "Tuned Logistic Regression Accuracy: 0.7804523424878836\n"
     ]
    }
   ],
   "source": [
    "#Scale X\n",
    "scaler = StandardScaler()\n",
    "X_scaled = pd.DataFrame(scaler.fit_transform(X),columns = X.columns)\n",
    "\n",
    "# Create the hyperparameter grid\n",
    "c_space = np.logspace(-5, 8, 15)\n",
    "weights = {}\n",
    "param_grid = {'C': c_space, \n",
    "              'penalty': ['l1', 'l2']\n",
    "              #'class_weight': ['balanced']\n",
    "             }\n",
    "\n",
    "# Instantiate the logistic regression classifier: logreg\n",
    "logreg = LogisticRegression()\n",
    "\n",
    "# Create train and test sets\n",
    "X_train, X_test, y_train, y_test = train_test_split(X_scaled,y,test_size=.3,random_state=42)\n",
    "\n",
    "# Instantiate the GridSearchCV object: logreg_cv\n",
    "logreg_cv = GridSearchCV(logreg,param_grid,cv=5)\n",
    "\n",
    "# Fit it to the training data\n",
    "logreg_cv.fit(X_train,y_train)\n",
    "\n",
    "# Print the optimal parameters and best score\n",
    "print(\"Tuned Logistic Regression Parameter: {}\".format(logreg_cv.best_params_))\n",
    "print(\"Tuned Logistic Regression Accuracy: {}\".format(logreg_cv.best_score_))\n"
   ]
  },
  {
   "cell_type": "code",
   "execution_count": 66,
   "metadata": {},
   "outputs": [
    {
     "name": "stdout",
     "output_type": "stream",
     "text": [
      "[[2020   26]\n",
      " [ 544   64]]\n",
      "             precision    recall  f1-score   support\n",
      "\n",
      "      False       0.79      0.99      0.88      2046\n",
      "       True       0.71      0.11      0.18       608\n",
      "\n",
      "avg / total       0.77      0.79      0.72      2654\n",
      "\n"
     ]
    }
   ],
   "source": [
    "# looks like logistic regression is giving us the best accuracy and coverage across targets\n",
    "#\n",
    "\n",
    "# Create training and test sets\n",
    "X_train, X_test, y_train, y_test = train_test_split(X, y, test_size = 0.3, random_state=42)\n",
    "\n",
    "\n",
    "# Create the classifier: Logistic Regression\n",
    "logreg = LogisticRegression(C= 3.7275937203149381, penalty= 'l2')\n",
    "\n",
    "# Fit the classifier to the training data\n",
    "logreg.fit(X_train,y_train)\n",
    "\n",
    "# Predict the labels of the test set: y_pred\n",
    "y_pred = logreg.predict(X_test)\n",
    "\n",
    "\n",
    "print(confusion_matrix(y_test, y_pred))\n",
    "print(classification_report(y_test, y_pred))"
   ]
  },
  {
   "cell_type": "code",
   "execution_count": 91,
   "metadata": {},
   "outputs": [
    {
     "data": {
      "image/png": "[encoded data removed]",
      "text/plain": [
       "<matplotlib.figure.Figure at 0x118f569e8>"
      ]
     },
     "metadata": {},
     "output_type": "display_data"
    },
    {
     "data": {
      "text/plain": [
       "<matplotlib.figure.Figure at 0x12d616a58>"
      ]
     },
     "metadata": {},
     "output_type": "display_data"
    }
   ],
   "source": [
    "# Feature Importance,  how do I make the graph bigger???\n",
    "\n",
    "feature_importance = abs(logreg.coef_[0])\n",
    "feature_importance = 100.0 * (feature_importance / feature_importance.max())\n",
    "sorted_idx = np.argsort(feature_importance)\n",
    "pos = np.arange(sorted_idx.shape[0]) + .5\n",
    "\n",
    "\n",
    "featfig = plt.figure()\n",
    "featax = featfig.add_subplot(1, 1, 1)\n",
    "featax.barh(pos, feature_importance[sorted_idx], align='center')\n",
    "featax.set_yticks(pos)\n",
    "featax.set_yticklabels(np.array(X.columns)[sorted_idx], fontsize=8)\n",
    "featax.set_xlabel('Relative Feature Importance')\n",
    "\n",
    "plt.figure(figsize=(500,500))\n",
    "plt.show()"
   ]
  },
  {
   "cell_type": "code",
   "execution_count": null,
   "metadata": {
    "collapsed": true
   },
   "outputs": [],
   "source": []
  },
  {
   "cell_type": "markdown",
   "metadata": {},
   "source": [
    "#### Decision Tree Classifier"
   ]
  },
  {
   "cell_type": "code",
   "execution_count": null,
   "metadata": {
    "collapsed": true
   },
   "outputs": [],
   "source": []
  },
  {
   "cell_type": "code",
   "execution_count": 78,
   "metadata": {},
   "outputs": [
    {
     "name": "stdout",
     "output_type": "stream",
     "text": [
      "Accuracy with Scaling: 0.7136397889977393\n",
      "Accuracy without Scaling: 0.7143933685003768\n"
     ]
    }
   ],
   "source": [
    "# Setup the pipeline\n",
    "steps = [('scaler', StandardScaler()),\n",
    "        ('dec', DecisionTreeClassifier())]\n",
    "        \n",
    "# Create the pipeline: pipeline\n",
    "pipeline = Pipeline(steps)\n",
    "\n",
    "# Create train and test sets\n",
    "X_train, X_test, y_train, y_test = train_test_split(X, y, test_size=0.3, random_state=42)\n",
    "\n",
    "# Fit the pipeline to the training set: knn_scaled\n",
    "dec_scaled = pipeline.fit(X_train, y_train)\n",
    "\n",
    "# Instantiate and fit a k-NN classifier to the unscaled data\n",
    "dec_unscaled = DecisionTreeClassifier().fit(X_train, y_train)\n",
    "\n",
    "# Compute and print metrics\n",
    "print('Accuracy with Scaling: {}'.format(dec_scaled.score(X_test, y_test)))\n",
    "print('Accuracy without Scaling: {}'.format(dec_unscaled.score(X_test, y_test)))"
   ]
  },
  {
   "cell_type": "code",
   "execution_count": 83,
   "metadata": {},
   "outputs": [
    {
     "name": "stdout",
     "output_type": "stream",
     "text": [
      "Tuned Decision Tree Parameters: {'class_weight': 'balanced', 'criterion': 'gini', 'max_depth': 10, 'max_features': 13, 'min_samples_leaf': 13}\n",
      "Best score is 0.612053369516056\n"
     ]
    }
   ],
   "source": [
    "# Setup the hyperparameter grid\n",
    "param_dist = {\"max_depth\": [3,5,10,20,50],\n",
    "              \"max_features\": randint(1, 50),\n",
    "              \"min_samples_leaf\": randint(1, 50),\n",
    "              \"criterion\": [\"gini\", \"entropy\"],\n",
    "              \"class_weight\": ['balanced']}\n",
    "\n",
    "# Instantiate a Decision Tree classifier: tree\n",
    "tree = DecisionTreeClassifier()\n",
    "\n",
    "# Instantiate the RandomizedSearchCV object: tree_cv\n",
    "tree_cv = RandomizedSearchCV(tree, param_dist, cv=5)\n",
    "\n",
    "# Fit it to the data\n",
    "tree_cv.fit(X, y)\n",
    "\n",
    "# Print the tuned parameters and score\n",
    "print(\"Tuned Decision Tree Parameters: {}\".format(tree_cv.best_params_))\n",
    "print(\"Best score is {}\".format(tree_cv.best_score_))"
   ]
  },
  {
   "cell_type": "code",
   "execution_count": 85,
   "metadata": {},
   "outputs": [
    {
     "name": "stdout",
     "output_type": "stream",
     "text": [
      "[[1950  786]\n",
      " [ 408  394]]\n",
      "             precision    recall  f1-score   support\n",
      "\n",
      "      False       0.83      0.71      0.77      2736\n",
      "       True       0.33      0.49      0.40       802\n",
      "\n",
      "avg / total       0.72      0.66      0.68      3538\n",
      "\n"
     ]
    }
   ],
   "source": [
    "# Create training and test sets\n",
    "X_train, X_test, y_train, y_test = train_test_split(X, y, test_size = 0.4, random_state=42)\n",
    "\n",
    "\n",
    "# Create the classifier: tree\n",
    "tree = DecisionTreeClassifier(criterion= 'gini', max_depth= 10, max_features= 13, min_samples_leaf= 13, class_weight= 'balanced')\n",
    "\n",
    "# Fit the classifier to the training data\n",
    "tree.fit(X_train,y_train)\n",
    "\n",
    "# Predict the labels of the test set: y_pred\n",
    "y_pred = tree.predict(X_test)\n",
    "\n",
    "\n",
    "print(confusion_matrix(y_test, y_pred))\n",
    "print(classification_report(y_test, y_pred))"
   ]
  },
  {
   "cell_type": "code",
   "execution_count": null,
   "metadata": {
    "collapsed": true
   },
   "outputs": [],
   "source": []
  },
  {
   "cell_type": "markdown",
   "metadata": {},
   "source": [
    "#### Random Forest Classifier"
   ]
  },
  {
   "cell_type": "code",
   "execution_count": null,
   "metadata": {
    "collapsed": true
   },
   "outputs": [],
   "source": []
  },
  {
   "cell_type": "code",
   "execution_count": 87,
   "metadata": {},
   "outputs": [
    {
     "name": "stdout",
     "output_type": "stream",
     "text": [
      "Accuracy with Scaling: 0.7418990203466466\n",
      "Accuracy without Scaling: 0.7486812358703844\n"
     ]
    }
   ],
   "source": [
    "# Setup the pipeline\n",
    "steps = [('scaler', StandardScaler()),\n",
    "        ('dec', RandomForestClassifier())]\n",
    "        \n",
    "# Create the pipeline: pipeline\n",
    "pipeline = Pipeline(steps)\n",
    "\n",
    "# Create train and test sets\n",
    "X_train, X_test, y_train, y_test = train_test_split(X, y, test_size=0.3, random_state=42)\n",
    "\n",
    "# Fit the pipeline to the training set: knn_scaled\n",
    "dec_scaled = pipeline.fit(X_train, y_train)\n",
    "\n",
    "# Instantiate and fit a k-NN classifier to the unscaled data\n",
    "dec_unscaled = RandomForestClassifier().fit(X_train, y_train)\n",
    "\n",
    "# Compute and print metrics\n",
    "print('Accuracy with Scaling: {}'.format(dec_scaled.score(X_test, y_test)))\n",
    "print('Accuracy without Scaling: {}'.format(dec_unscaled.score(X_test, y_test)))"
   ]
  },
  {
   "cell_type": "code",
   "execution_count": null,
   "metadata": {},
   "outputs": [],
   "source": [
    "# Setup the hyperparameter grid\n",
    "param_dist = {\"n_estimators\": [100,200,500,700,1000],\n",
    "              \"max_features\": ['auto', 'sqrt', 'log2'],\n",
    "              \"n_jobs\": [-1,1,5,10],\n",
    "              \"class_weight\": ['balanced']}\n",
    "\n",
    "# Instantiate a Decision Tree classifier: tree\n",
    "forest = RandomForestClassifier()\n",
    "\n",
    "# Instantiate the RandomizedSearchCV object: tree_cv\n",
    "forest_cv = GridSearchCV(forest, param_dist, cv=5)\n",
    "\n",
    "# Fit it to the data\n",
    "forest_cv.fit(X, y)\n",
    "\n",
    "# Print the tuned parameters and score\n",
    "print(\"Tuned Decision Tree Parameters: {}\".format(forest_cv.best_params_))\n",
    "print(\"Best score is {}\".format(forest_cv.best_score_))"
   ]
  },
  {
   "cell_type": "code",
   "execution_count": 89,
   "metadata": {},
   "outputs": [
    {
     "name": "stdout",
     "output_type": "stream",
     "text": [
      "[[2437  299]\n",
      " [ 641  161]]\n",
      "             precision    recall  f1-score   support\n",
      "\n",
      "      False       0.79      0.89      0.84      2736\n",
      "       True       0.35      0.20      0.26       802\n",
      "\n",
      "avg / total       0.69      0.73      0.71      3538\n",
      "\n"
     ]
    }
   ],
   "source": [
    "# Create training and test sets\n",
    "X_train, X_test, y_train, y_test = train_test_split(X, y, test_size = 0.4, random_state=42)\n",
    "\n",
    "\n",
    "# Create the classifier: tree\n",
    "forest = RandomForestClassifier(n_estimators=1000, max_features='log2', class_weight=\"balanced\", n_jobs= -1)\n",
    "\n",
    "# Fit the classifier to the training data\n",
    "forest.fit(X_train,y_train)\n",
    "\n",
    "# Predict the labels of the test set: y_pred\n",
    "y_pred = forest.predict(X_test)\n",
    "\n",
    "\n",
    "print(confusion_matrix(y_test, y_pred))\n",
    "print(classification_report(y_test, y_pred))"
   ]
  },
  {
   "cell_type": "code",
   "execution_count": null,
   "metadata": {
    "collapsed": true
   },
   "outputs": [],
   "source": []
  },
  {
   "cell_type": "code",
   "execution_count": null,
   "metadata": {
    "collapsed": true
   },
   "outputs": [],
   "source": []
  },
  {
   "cell_type": "code",
   "execution_count": null,
   "metadata": {
    "collapsed": true
   },
   "outputs": [],
   "source": []
  },
  {
   "cell_type": "code",
   "execution_count": null,
   "metadata": {
    "collapsed": true
   },
   "outputs": [],
   "source": []
  },
  {
   "cell_type": "code",
   "execution_count": null,
   "metadata": {
    "collapsed": true
   },
   "outputs": [],
   "source": []
  },
  {
   "cell_type": "code",
   "execution_count": null,
   "metadata": {
    "collapsed": true
   },
   "outputs": [],
   "source": []
  }
 ],
 "metadata": {
  "kernelspec": {
   "display_name": "Python 3",
   "language": "python",
   "name": "python3"
  },
  "language_info": {
   "codemirror_mode": {
    "name": "ipython",
    "version": 3
   },
   "file_extension": ".py",
   "mimetype": "text/x-python",
   "name": "python",
   "nbconvert_exporter": "python",
   "pygments_lexer": "ipython3",
   "version": "3.6.3"
  }
 },
 "nbformat": 4,
 "nbformat_minor": 2
}
