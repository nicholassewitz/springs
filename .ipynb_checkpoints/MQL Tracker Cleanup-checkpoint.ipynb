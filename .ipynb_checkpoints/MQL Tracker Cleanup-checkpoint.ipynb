{
 "cells": [
  {
   "cell_type": "code",
   "execution_count": 16,
   "metadata": {},
   "outputs": [],
   "source": [
    "import csv\n",
    "import pandas\n",
    "\n",
    "csv1 = pandas.read_csv('mql-tracker.csv')\n"
   ]
  },
  {
   "cell_type": "code",
   "execution_count": 17,
   "metadata": {},
   "outputs": [
    {
     "data": {
      "text/html": [
       "<div>\n",
       "<style>\n",
       "    .dataframe thead tr:only-child th {\n",
       "        text-align: right;\n",
       "    }\n",
       "\n",
       "    .dataframe thead th {\n",
       "        text-align: left;\n",
       "    }\n",
       "\n",
       "    .dataframe tbody tr th {\n",
       "        vertical-align: top;\n",
       "    }\n",
       "</style>\n",
       "<table border=\"1\" class=\"dataframe\">\n",
       "  <thead>\n",
       "    <tr style=\"text-align: right;\">\n",
       "      <th></th>\n",
       "      <th>EMAIL</th>\n",
       "      <th>submit application date</th>\n",
       "      <th>downloaded standard content twice</th>\n",
       "      <th>visited partnerships page</th>\n",
       "      <th>downloaded bofu</th>\n",
       "      <th>attended webinar</th>\n",
       "      <th>sales accepted</th>\n",
       "    </tr>\n",
       "  </thead>\n",
       "  <tbody>\n",
       "    <tr>\n",
       "      <th>0</th>\n",
       "      <td>philippa.kn@gmail.com</td>\n",
       "      <td>NaN</td>\n",
       "      <td>NaN</td>\n",
       "      <td>2017-02-06T15:31:24Z</td>\n",
       "      <td>NaN</td>\n",
       "      <td>NaN</td>\n",
       "      <td>NaN</td>\n",
       "    </tr>\n",
       "    <tr>\n",
       "      <th>1</th>\n",
       "      <td>jennie@artsymail.com</td>\n",
       "      <td>NaN</td>\n",
       "      <td>NaN</td>\n",
       "      <td>2017-02-06T15:41:41Z</td>\n",
       "      <td>NaN</td>\n",
       "      <td>NaN</td>\n",
       "      <td>NaN</td>\n",
       "    </tr>\n",
       "    <tr>\n",
       "      <th>2</th>\n",
       "      <td>info@oliversearsgallery.com</td>\n",
       "      <td>NaN</td>\n",
       "      <td>NaN</td>\n",
       "      <td>2017-02-06T15:49:58Z</td>\n",
       "      <td>NaN</td>\n",
       "      <td>NaN</td>\n",
       "      <td>NaN</td>\n",
       "    </tr>\n",
       "    <tr>\n",
       "      <th>3</th>\n",
       "      <td>info@gormleys.ie</td>\n",
       "      <td>NaN</td>\n",
       "      <td>NaN</td>\n",
       "      <td>2017-02-06T15:54:20Z</td>\n",
       "      <td>NaN</td>\n",
       "      <td>NaN</td>\n",
       "      <td>NaN</td>\n",
       "    </tr>\n",
       "    <tr>\n",
       "      <th>4</th>\n",
       "      <td>info@galeriedutta.ch</td>\n",
       "      <td>2017-01-26T18:41:43Z</td>\n",
       "      <td>NaN</td>\n",
       "      <td>2017-02-06T16:05:47Z</td>\n",
       "      <td>NaN</td>\n",
       "      <td>NaN</td>\n",
       "      <td>NaN</td>\n",
       "    </tr>\n",
       "  </tbody>\n",
       "</table>\n",
       "</div>"
      ],
      "text/plain": [
       "                         EMAIL submit application date  \\\n",
       "0        philippa.kn@gmail.com                     NaN   \n",
       "1         jennie@artsymail.com                     NaN   \n",
       "2  info@oliversearsgallery.com                     NaN   \n",
       "3             info@gormleys.ie                     NaN   \n",
       "4         info@galeriedutta.ch    2017-01-26T18:41:43Z   \n",
       "\n",
       "  downloaded standard content twice visited partnerships page downloaded bofu  \\\n",
       "0                               NaN      2017-02-06T15:31:24Z             NaN   \n",
       "1                               NaN      2017-02-06T15:41:41Z             NaN   \n",
       "2                               NaN      2017-02-06T15:49:58Z             NaN   \n",
       "3                               NaN      2017-02-06T15:54:20Z             NaN   \n",
       "4                               NaN      2017-02-06T16:05:47Z             NaN   \n",
       "\n",
       "  attended webinar sales accepted  \n",
       "0              NaN            NaN  \n",
       "1              NaN            NaN  \n",
       "2              NaN            NaN  \n",
       "3              NaN            NaN  \n",
       "4              NaN            NaN  "
      ]
     },
     "execution_count": 17,
     "metadata": {},
     "output_type": "execute_result"
    }
   ],
   "source": [
    "csv1.head()"
   ]
  },
  {
   "cell_type": "code",
   "execution_count": 18,
   "metadata": {},
   "outputs": [
    {
     "data": {
      "text/plain": [
       "['EMAIL',\n",
       " 'submit application date',\n",
       " 'downloaded standard content twice',\n",
       " 'visited partnerships page',\n",
       " 'downloaded bofu',\n",
       " 'attended webinar',\n",
       " 'sales accepted']"
      ]
     },
     "execution_count": 18,
     "metadata": {},
     "output_type": "execute_result"
    }
   ],
   "source": [
    "list(csv1)"
   ]
  },
  {
   "cell_type": "code",
   "execution_count": 19,
   "metadata": {},
   "outputs": [
    {
     "data": {
      "text/plain": [
       "EMAIL                                object\n",
       "submit application date              object\n",
       "downloaded standard content twice    object\n",
       "visited partnerships page            object\n",
       "downloaded bofu                      object\n",
       "attended webinar                     object\n",
       "sales accepted                       object\n",
       "dtype: object"
      ]
     },
     "execution_count": 19,
     "metadata": {},
     "output_type": "execute_result"
    }
   ],
   "source": [
    "csv1.dtypes"
   ]
  },
  {
   "cell_type": "code",
   "execution_count": 20,
   "metadata": {},
   "outputs": [],
   "source": [
    "csv1['submit application date'] = pd.to_datetime(csv1['submit application date'])\n",
    "csv1['visited partnerships page'] = pd.to_datetime(csv1['visited partnerships page'])\n",
    "csv1['downloaded bofu'] = pd.to_datetime(csv1['downloaded bofu'])\n",
    "csv1['attended webinar'] = pd.to_datetime(csv1['attended webinar'])\n",
    "csv1['sales accepted'] = pd.to_datetime(csv1['sales accepted'])\n",
    "csv1['downloaded standard content twice'] = pd.to_datetime(csv1['downloaded standard content twice'])"
   ]
  },
  {
   "cell_type": "code",
   "execution_count": 22,
   "metadata": {},
   "outputs": [],
   "source": [
    "csv2 = csv1.set_index(['EMAIL'])"
   ]
  },
  {
   "cell_type": "code",
   "execution_count": null,
   "metadata": {
    "collapsed": true
   },
   "outputs": [],
   "source": []
  }
 ],
 "metadata": {
  "kernelspec": {
   "display_name": "Python 2",
   "language": "python",
   "name": "python2"
  },
  "language_info": {
   "codemirror_mode": {
    "name": "ipython",
    "version": 2
   },
   "file_extension": ".py",
   "mimetype": "text/x-python",
   "name": "python",
   "nbconvert_exporter": "python",
   "pygments_lexer": "ipython2",
   "version": "2.7.13"
  }
 },
 "nbformat": 4,
 "nbformat_minor": 2
}
